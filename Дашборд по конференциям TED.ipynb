{
 "cells": [
  {
   "cell_type": "markdown",
   "id": "845f7619",
   "metadata": {},
   "source": [
    "# Дашборд в Tableau на основе данных о конференциях TED"
   ]
  },
  {
   "cell_type": "markdown",
   "id": "ef251422",
   "metadata": {},
   "source": [
    "**TED (от англ. technology, education, design — «технологии, образование, дизайн») — некоммерческий фонд, который проводит популярные конференции. На них выступают специалисты из разных областей и читают лекции на актуальные социальные, культурные и научные темы.<br>\n",
    "В разное время на TED-конференциях выступали математик Бенуа Мандельброт, теоретик искусственного интеллекта Марвин Минский, спортсменка Дана Ньяд и основатель Google Ларри Пейдж. В истории TED также были неоднозначные и даже скандальные выступления. Например, в 2010 году на конференции выступил Рэнди Пауэлл с рассказом о псевдонаучной «вихревой математике», а в 2014 году в конференции TEDMED участвовала Элизабет Холмс — основательница печально известного стартапа Theranos.<br>\n",
    "В этом проекте мы исследуем историю TED-конференций с помощью Tableau.**"
   ]
  },
  {
   "cell_type": "markdown",
   "id": "ba9b0583",
   "metadata": {},
   "source": [
    "**Файлы tableau_project_data_1.csv, tableau_project_data_2.csv, tableau_project_data_3.csv хранят данные выступлений. У них одинаковая структура.<br>\n",
    "Файл tableau_project_event_dict.csv — справочник конференций.**"
   ]
  },
  {
   "cell_type": "markdown",
   "id": "9130088b",
   "metadata": {},
   "source": [
    "**Презентация в Tableau:** <https://public.tableau.com/views/_16867413511020/sheet20?:language=en-US&:display_count=n&:origin=viz_share_link>"
   ]
  }
 ],
 "metadata": {
  "kernelspec": {
   "display_name": "Python 3 (ipykernel)",
   "language": "python",
   "name": "python3"
  },
  "language_info": {
   "codemirror_mode": {
    "name": "ipython",
    "version": 3
   },
   "file_extension": ".py",
   "mimetype": "text/x-python",
   "name": "python",
   "nbconvert_exporter": "python",
   "pygments_lexer": "ipython3",
   "version": "3.11.4"
  },
  "toc": {
   "base_numbering": 1,
   "nav_menu": {},
   "number_sections": true,
   "sideBar": true,
   "skip_h1_title": true,
   "title_cell": "Table of Contents",
   "title_sidebar": "Contents",
   "toc_cell": false,
   "toc_position": {},
   "toc_section_display": true,
   "toc_window_display": false
  }
 },
 "nbformat": 4,
 "nbformat_minor": 5
}
