{
 "cells": [
  {
   "cell_type": "markdown",
   "id": "e899b8c6",
   "metadata": {},
   "source": [
    "# Исследование участия пользователей в голосованиях в Wikipedia"
   ]
  },
  {
   "cell_type": "markdown",
   "id": "fe3fafc6",
   "metadata": {},
   "source": [
    "**Нам предоставлены данные с информацией о результатах голосования пользователей Wikipedia. На их основе мы проведем анализ активности пользователей, выявим их предпочтения, сделаем сегментацию по различным критериям. Известно, что выборы проводятся каждые полгода. Побеждают кандидаты, которые набирают 2/3 голосов \"за\". Избирается комиссия (ареопаг), обладающая особыми правами в решении споров о банах/разбанах пользователей или статей.**"
   ]
  },
  {
   "cell_type": "markdown",
   "id": "81488ffe",
   "metadata": {},
   "source": [
    "**Цель проекта: изучить данные, привести их в пригодный для анализа вид, найти интересные закономерности и инсайты.**"
   ]
  },
  {
   "cell_type": "markdown",
   "id": "18373acd",
   "metadata": {},
   "source": [
    "**Нам предоставлен csv-файл 'stats' с информацией о пользователях и csv-файл 'votes' с информацией о голосовании.**"
   ]
  },
  {
   "cell_type": "code",
   "execution_count": 1,
   "id": "8c682541",
   "metadata": {},
   "outputs": [],
   "source": [
    "#импортируем необходимые библиотеки\n",
    "import pandas as pd\n",
    "import seaborn as sns\n",
    "import matplotlib.pyplot as plt\n",
    "from datetime import datetime\n",
    "import numpy as np\n",
    "import plotly.express as px"
   ]
  },
  {
   "cell_type": "markdown",
   "id": "e9e8fecd",
   "metadata": {},
   "source": [
    " ## Загрузка данных из датасета 'stats'"
   ]
  },
  {
   "cell_type": "code",
   "execution_count": 2,
   "id": "675a2518",
   "metadata": {},
   "outputs": [],
   "source": [
    "#читаем excel-файл stats\n",
    "file_path_1 = r'C:\\Users\\ekate\\OneDrive\\Документы\\Проекты по Анализу данных\\Исследование участия пользователей в голосованиях в Wikipedia\\stats.xlsx'\n",
    "stats = pd.read_excel(file_path_1)"
   ]
  },
  {
   "cell_type": "code",
   "execution_count": 3,
   "id": "bd77e75c",
   "metadata": {},
   "outputs": [
    {
     "data": {
      "text/html": [
       "<div>\n",
       "<style scoped>\n",
       "    .dataframe tbody tr th:only-of-type {\n",
       "        vertical-align: middle;\n",
       "    }\n",
       "\n",
       "    .dataframe tbody tr th {\n",
       "        vertical-align: top;\n",
       "    }\n",
       "\n",
       "    .dataframe thead th {\n",
       "        text-align: right;\n",
       "    }\n",
       "</style>\n",
       "<table border=\"1\" class=\"dataframe\">\n",
       "  <thead>\n",
       "    <tr style=\"text-align: right;\">\n",
       "      <th></th>\n",
       "      <th>Edits</th>\n",
       "      <th>Reverts</th>\n",
       "      <th>Log</th>\n",
       "      <th>Diff</th>\n",
       "      <th>Volume</th>\n",
       "      <th>Tot size</th>\n",
       "      <th>Time</th>\n",
       "      <th>Speed</th>\n",
       "      <th>User</th>\n",
       "      <th>txt</th>\n",
       "    </tr>\n",
       "  </thead>\n",
       "  <tbody>\n",
       "    <tr>\n",
       "      <th>0</th>\n",
       "      <td>1589</td>\n",
       "      <td>NaN</td>\n",
       "      <td>1621.0</td>\n",
       "      <td>262 k</td>\n",
       "      <td>1.1 M</td>\n",
       "      <td>39 M</td>\n",
       "      <td>95 h</td>\n",
       "      <td>34/h</td>\n",
       "      <td>Altes</td>\n",
       "      <td>200708</td>\n",
       "    </tr>\n",
       "    <tr>\n",
       "      <th>1</th>\n",
       "      <td>1809</td>\n",
       "      <td>NaN</td>\n",
       "      <td>1328.0</td>\n",
       "      <td>395 k</td>\n",
       "      <td>2.8 M</td>\n",
       "      <td>42 M</td>\n",
       "      <td>129 h</td>\n",
       "      <td>24/h</td>\n",
       "      <td>Obersachse</td>\n",
       "      <td>200708</td>\n",
       "    </tr>\n",
       "    <tr>\n",
       "      <th>2</th>\n",
       "      <td>2734</td>\n",
       "      <td>NaN</td>\n",
       "      <td>NaN</td>\n",
       "      <td>16 k</td>\n",
       "      <td>15 k</td>\n",
       "      <td>19 M</td>\n",
       "      <td>105 h</td>\n",
       "      <td>26/h</td>\n",
       "      <td>Monegasque~ruwiki</td>\n",
       "      <td>200708</td>\n",
       "    </tr>\n",
       "    <tr>\n",
       "      <th>3</th>\n",
       "      <td>2611</td>\n",
       "      <td>NaN</td>\n",
       "      <td>6.0</td>\n",
       "      <td>278 k</td>\n",
       "      <td>350 k</td>\n",
       "      <td>43 M</td>\n",
       "      <td>135 h</td>\n",
       "      <td>19/h</td>\n",
       "      <td>User№101</td>\n",
       "      <td>200708</td>\n",
       "    </tr>\n",
       "    <tr>\n",
       "      <th>4</th>\n",
       "      <td>917</td>\n",
       "      <td>6.0</td>\n",
       "      <td>1416.0</td>\n",
       "      <td>154 k</td>\n",
       "      <td>1.2 M</td>\n",
       "      <td>26 M</td>\n",
       "      <td>98 h</td>\n",
       "      <td>24/h</td>\n",
       "      <td>Kalan</td>\n",
       "      <td>200708</td>\n",
       "    </tr>\n",
       "  </tbody>\n",
       "</table>\n",
       "</div>"
      ],
      "text/plain": [
       "   Edits  Reverts     Log   Diff Volume Tot size   Time Speed  \\\n",
       "0   1589      NaN  1621.0  262 k  1.1 M     39 M   95 h  34/h   \n",
       "1   1809      NaN  1328.0  395 k  2.8 M     42 M  129 h  24/h   \n",
       "2   2734      NaN     NaN   16 k   15 k     19 M  105 h  26/h   \n",
       "3   2611      NaN     6.0  278 k  350 k     43 M  135 h  19/h   \n",
       "4    917      6.0  1416.0  154 k  1.2 M     26 M   98 h  24/h   \n",
       "\n",
       "                User     txt  \n",
       "0              Altes  200708  \n",
       "1         Obersachse  200708  \n",
       "2  Monegasque~ruwiki  200708  \n",
       "3           User№101  200708  \n",
       "4              Kalan  200708  "
      ]
     },
     "execution_count": 3,
     "metadata": {},
     "output_type": "execute_result"
    }
   ],
   "source": [
    "stats.head()"
   ]
  },
  {
   "cell_type": "code",
   "execution_count": 4,
   "id": "708dec78",
   "metadata": {},
   "outputs": [
    {
     "name": "stdout",
     "output_type": "stream",
     "text": [
      "<class 'pandas.core.frame.DataFrame'>\n",
      "RangeIndex: 28950 entries, 0 to 28949\n",
      "Data columns (total 10 columns):\n",
      " #   Column    Non-Null Count  Dtype  \n",
      "---  ------    --------------  -----  \n",
      " 0   Edits     28950 non-null  int64  \n",
      " 1   Reverts   10157 non-null  float64\n",
      " 2   Log       28306 non-null  float64\n",
      " 3   Diff      28945 non-null  object \n",
      " 4   Volume    28945 non-null  object \n",
      " 5   Tot size  28945 non-null  object \n",
      " 6   Time      28950 non-null  object \n",
      " 7   Speed     28950 non-null  object \n",
      " 8   User      28950 non-null  object \n",
      " 9   txt       28950 non-null  int64  \n",
      "dtypes: float64(2), int64(2), object(6)\n",
      "memory usage: 2.2+ MB\n"
     ]
    }
   ],
   "source": [
    "#выведем основную информацию о датафрейме\n",
    "stats.info()"
   ]
  },
  {
   "cell_type": "markdown",
   "id": "ac76d21f",
   "metadata": {},
   "source": [
    "**В изучаемом нами датафрейме 10 колонок и 28949 строк.**"
   ]
  },
  {
   "cell_type": "markdown",
   "id": "23db2511",
   "metadata": {},
   "source": [
    "## Предобработка данных датасета 'stats'"
   ]
  },
  {
   "cell_type": "code",
   "execution_count": 5,
   "id": "489b45ca",
   "metadata": {},
   "outputs": [],
   "source": [
    "# приведем названия столбцов к нижнему регистру\n",
    "new_stats_column_names = {\n",
    "    'Edits': 'edits',\n",
    "    'Reverts': 'reverts',\n",
    "    'Log': 'log',\n",
    "    'Diff': 'diff',\n",
    "    'Volume': 'volume',\n",
    "    'Tot size': 'tot_size',\n",
    "    'Time': 'time',\n",
    "    'Speed': 'speed',\n",
    "    'User': 'user',\n",
    "    'txt': 'text'\n",
    "}\n",
    "\n",
    "# используем метод rename для переименования столбцов\n",
    "stats.rename(columns=new_stats_column_names, inplace=True)"
   ]
  },
  {
   "cell_type": "code",
   "execution_count": 6,
   "id": "9dc8d3cd",
   "metadata": {
    "scrolled": true
   },
   "outputs": [
    {
     "data": {
      "text/html": [
       "<div>\n",
       "<style scoped>\n",
       "    .dataframe tbody tr th:only-of-type {\n",
       "        vertical-align: middle;\n",
       "    }\n",
       "\n",
       "    .dataframe tbody tr th {\n",
       "        vertical-align: top;\n",
       "    }\n",
       "\n",
       "    .dataframe thead th {\n",
       "        text-align: right;\n",
       "    }\n",
       "</style>\n",
       "<table border=\"1\" class=\"dataframe\">\n",
       "  <thead>\n",
       "    <tr style=\"text-align: right;\">\n",
       "      <th></th>\n",
       "      <th>edits</th>\n",
       "      <th>reverts</th>\n",
       "      <th>log</th>\n",
       "      <th>diff</th>\n",
       "      <th>volume</th>\n",
       "      <th>tot_size</th>\n",
       "      <th>time</th>\n",
       "      <th>speed</th>\n",
       "      <th>user</th>\n",
       "      <th>text</th>\n",
       "    </tr>\n",
       "  </thead>\n",
       "  <tbody>\n",
       "    <tr>\n",
       "      <th>0</th>\n",
       "      <td>1589</td>\n",
       "      <td>NaN</td>\n",
       "      <td>1621.0</td>\n",
       "      <td>262 k</td>\n",
       "      <td>1.1 M</td>\n",
       "      <td>39 M</td>\n",
       "      <td>95 h</td>\n",
       "      <td>34/h</td>\n",
       "      <td>Altes</td>\n",
       "      <td>200708</td>\n",
       "    </tr>\n",
       "    <tr>\n",
       "      <th>1</th>\n",
       "      <td>1809</td>\n",
       "      <td>NaN</td>\n",
       "      <td>1328.0</td>\n",
       "      <td>395 k</td>\n",
       "      <td>2.8 M</td>\n",
       "      <td>42 M</td>\n",
       "      <td>129 h</td>\n",
       "      <td>24/h</td>\n",
       "      <td>Obersachse</td>\n",
       "      <td>200708</td>\n",
       "    </tr>\n",
       "    <tr>\n",
       "      <th>2</th>\n",
       "      <td>2734</td>\n",
       "      <td>NaN</td>\n",
       "      <td>NaN</td>\n",
       "      <td>16 k</td>\n",
       "      <td>15 k</td>\n",
       "      <td>19 M</td>\n",
       "      <td>105 h</td>\n",
       "      <td>26/h</td>\n",
       "      <td>Monegasque~ruwiki</td>\n",
       "      <td>200708</td>\n",
       "    </tr>\n",
       "    <tr>\n",
       "      <th>3</th>\n",
       "      <td>2611</td>\n",
       "      <td>NaN</td>\n",
       "      <td>6.0</td>\n",
       "      <td>278 k</td>\n",
       "      <td>350 k</td>\n",
       "      <td>43 M</td>\n",
       "      <td>135 h</td>\n",
       "      <td>19/h</td>\n",
       "      <td>User№101</td>\n",
       "      <td>200708</td>\n",
       "    </tr>\n",
       "    <tr>\n",
       "      <th>4</th>\n",
       "      <td>917</td>\n",
       "      <td>6.0</td>\n",
       "      <td>1416.0</td>\n",
       "      <td>154 k</td>\n",
       "      <td>1.2 M</td>\n",
       "      <td>26 M</td>\n",
       "      <td>98 h</td>\n",
       "      <td>24/h</td>\n",
       "      <td>Kalan</td>\n",
       "      <td>200708</td>\n",
       "    </tr>\n",
       "  </tbody>\n",
       "</table>\n",
       "</div>"
      ],
      "text/plain": [
       "   edits  reverts     log   diff volume tot_size   time speed  \\\n",
       "0   1589      NaN  1621.0  262 k  1.1 M     39 M   95 h  34/h   \n",
       "1   1809      NaN  1328.0  395 k  2.8 M     42 M  129 h  24/h   \n",
       "2   2734      NaN     NaN   16 k   15 k     19 M  105 h  26/h   \n",
       "3   2611      NaN     6.0  278 k  350 k     43 M  135 h  19/h   \n",
       "4    917      6.0  1416.0  154 k  1.2 M     26 M   98 h  24/h   \n",
       "\n",
       "                user    text  \n",
       "0              Altes  200708  \n",
       "1         Obersachse  200708  \n",
       "2  Monegasque~ruwiki  200708  \n",
       "3           User№101  200708  \n",
       "4              Kalan  200708  "
      ]
     },
     "execution_count": 6,
     "metadata": {},
     "output_type": "execute_result"
    }
   ],
   "source": [
    "stats.head()"
   ]
  },
  {
   "cell_type": "code",
   "execution_count": 7,
   "id": "856e50ea",
   "metadata": {},
   "outputs": [],
   "source": [
    "#изменим тип данных в столбцах 'reverts' и 'log' на целочисленный для удобства\n",
    "stats['reverts'] = stats['reverts'].fillna(0).astype(int)\n",
    "stats['log'] = stats['log'].fillna(0).astype(int)"
   ]
  },
  {
   "cell_type": "code",
   "execution_count": 8,
   "id": "da373567",
   "metadata": {},
   "outputs": [],
   "source": [
    "#поменяем формат данных в столбце 'text'\n",
    "stats['text'] = pd.to_datetime(stats['text'], format='%d%m%y', errors='coerce')"
   ]
  },
  {
   "cell_type": "code",
   "execution_count": 9,
   "id": "bba57300",
   "metadata": {},
   "outputs": [],
   "source": [
    "#уберем из столбца 'time' обозначение 'h' и изменим тип данных\n",
    "stats['time'] = stats['time'].str.extract('(\\d+)').astype(float)"
   ]
  },
  {
   "cell_type": "code",
   "execution_count": 10,
   "id": "7ecab5c2",
   "metadata": {},
   "outputs": [
    {
     "data": {
      "text/plain": [
       "array(['34/h', '24/h', '26/h', '19/h', '18/h', '15/h', '22/h', '17/h',\n",
       "       '23/h', '32/h', '14/h', '28/h', '20/h', '16/h', '29/h', '13/h',\n",
       "       '21/h', '27/h', '12/h', '25/h', '11/h', '30/h', '39/h', '47/h',\n",
       "       '48/h', '38/h', '2/m', '46/h', '36/h', '35/h', '41/h', '1/m',\n",
       "       '59/h', '31/h', '33/h', '49/h', '42/h', '40/h', '7/m', '52/h',\n",
       "       '10/h', '53/h', '37/h', '45/h', '4/m', '43/h', '50/h', '44/h',\n",
       "       '58/h', '57/h', '54/h', '3/m', '56/h', '51/h', '55/h', '5/m',\n",
       "       '8/m', '10/m', '60/h', '12/m', '13/m', '18/m', '15/m', '9/m',\n",
       "       '9/h', '72/m', '295/m', '11/m', '6/m', '377/m', '16/m', '76/m'],\n",
       "      dtype=object)"
      ]
     },
     "execution_count": 10,
     "metadata": {},
     "output_type": "execute_result"
    }
   ],
   "source": [
    "#посмотрим на уникальные значения в столбце со скоростью внесения правок\n",
    "stats['speed'].unique()"
   ]
  },
  {
   "cell_type": "markdown",
   "id": "c791f87e",
   "metadata": {},
   "source": [
    "**Переведем все значения по скорости внесения правок в минуты.**"
   ]
  },
  {
   "cell_type": "code",
   "execution_count": 11,
   "id": "7b170f9e",
   "metadata": {},
   "outputs": [],
   "source": [
    "# Функция для извлечения числовых значений и конвертации в минуты с округлением до 2 знаков после запятой\n",
    "def convert_speed(speed):\n",
    "    if '/h' in speed:\n",
    "        # Извлекаем числовое значение, делим на 60 для преобразования часов в минуты и округляем до 2 знаков после запятой\n",
    "        return '{:.2f}/m'.format(float(speed.split('/')[0]) / 60)\n",
    "    elif '/m' in speed:\n",
    "        # Значение уже в минутах, оставляем как есть\n",
    "        return speed\n",
    "    else:\n",
    "        return None\n",
    "\n",
    "# Применяем функцию к столбцу 'speed' и изменяем его значения\n",
    "stats['speed'] = stats['speed'].apply(convert_speed)"
   ]
  },
  {
   "cell_type": "code",
   "execution_count": 12,
   "id": "4266c1ee",
   "metadata": {},
   "outputs": [
    {
     "data": {
      "text/plain": [
       "array(['0.57', '0.40', '0.43', '0.32', '0.30', '0.25', '0.37', '0.28',\n",
       "       '0.38', '0.53', '0.23', '0.47', '0.33', '0.27', '0.48', '0.22',\n",
       "       '0.35', '0.45', '0.20', '0.42', '0.18', '0.50', '0.65', '0.78',\n",
       "       '0.80', '0.63', '2.00', '0.77', '0.60', '0.58', '0.68', '1.00',\n",
       "       '0.98', '0.52', '0.55', '0.82', '0.70', '0.67', '7.00', '0.87',\n",
       "       '0.17', '0.88', '0.62', '0.75', '4.00', '0.72', '0.83', '0.73',\n",
       "       '0.97', '0.95', '0.90', '3.00', '0.93', '0.85', '0.92', '5.00',\n",
       "       '8.00', '10.00', '12.00', '13.00', '18.00', '15.00', '9.00',\n",
       "       '0.15', '72.00', '295.00', '11.00', '6.00', '377.00', '16.00',\n",
       "       '76.00'], dtype=object)"
      ]
     },
     "execution_count": 12,
     "metadata": {},
     "output_type": "execute_result"
    }
   ],
   "source": [
    "# Удаляем все символы кроме цифр и точки из столбца 'speed'\n",
    "stats['speed'] = stats['speed'].str.replace(r'[^\\d.]+', '', regex=True)\n",
    "# Преобразовываем столбец 'speed' в формат float\n",
    "stats['speed'] = pd.to_numeric(stats['speed'], errors='coerce')\n",
    "\n",
    "# Форматируем значения в столбце 'speed' с двумя знаками после запятой\n",
    "stats['speed'] = stats['speed'].apply(lambda x: '{:.2f}'.format(x) if not pd.isna(x) else x)\n",
    "stats['speed'].unique()"
   ]
  },
  {
   "cell_type": "code",
   "execution_count": 13,
   "id": "1e9191ec",
   "metadata": {},
   "outputs": [],
   "source": [
    "# Преобразовываем столбец 'speed' в формат float\n",
    "stats['speed'] = stats['speed'].astype(float)"
   ]
  },
  {
   "cell_type": "code",
   "execution_count": 14,
   "id": "e9090e37",
   "metadata": {},
   "outputs": [
    {
     "data": {
      "text/plain": [
       "array([5.70e-01, 4.00e-01, 4.30e-01, 3.20e-01, 3.00e-01, 2.50e-01,\n",
       "       3.70e-01, 2.80e-01, 3.80e-01, 5.30e-01, 2.30e-01, 4.70e-01,\n",
       "       3.30e-01, 2.70e-01, 4.80e-01, 2.20e-01, 3.50e-01, 4.50e-01,\n",
       "       2.00e-01, 4.20e-01, 1.80e-01, 5.00e-01, 6.50e-01, 7.80e-01,\n",
       "       8.00e-01, 6.30e-01, 2.00e+00, 7.70e-01, 6.00e-01, 5.80e-01,\n",
       "       6.80e-01, 1.00e+00, 9.80e-01, 5.20e-01, 5.50e-01, 8.20e-01,\n",
       "       7.00e-01, 6.70e-01, 7.00e+00, 8.70e-01, 1.70e-01, 8.80e-01,\n",
       "       6.20e-01, 7.50e-01, 4.00e+00, 7.20e-01, 8.30e-01, 7.30e-01,\n",
       "       9.70e-01, 9.50e-01, 9.00e-01, 3.00e+00, 9.30e-01, 8.50e-01,\n",
       "       9.20e-01, 5.00e+00, 8.00e+00, 1.00e+01, 1.20e+01, 1.30e+01,\n",
       "       1.80e+01, 1.50e+01, 9.00e+00, 1.50e-01, 7.20e+01, 2.95e+02,\n",
       "       1.10e+01, 6.00e+00, 3.77e+02, 1.60e+01, 7.60e+01])"
      ]
     },
     "execution_count": 14,
     "metadata": {},
     "output_type": "execute_result"
    }
   ],
   "source": [
    "stats['speed'].unique()"
   ]
  },
  {
   "cell_type": "markdown",
   "id": "35ae8d8a",
   "metadata": {},
   "source": [
    "**Теперь напишем функцию для преобразования столбцов 'diff', 'volume', 'tot_size' к типу float и переведем все данные в них в килобайты (k).**"
   ]
  },
  {
   "cell_type": "code",
   "execution_count": 15,
   "id": "a6f442d7",
   "metadata": {},
   "outputs": [],
   "source": [
    "# Функция для преобразования значения в числовой формат\n",
    "def convert_volume(value):\n",
    "    if isinstance(value, str):  # Проверяем, является ли значение строкой\n",
    "        # Удаление всех пробелов, включая неразрываемый пробел\n",
    "        value = value.replace(' ', '').replace('\\xa0', '')\n",
    "        \n",
    "        if 'M' in value:\n",
    "            return float(value.replace('M', '')) * 1000\n",
    "        elif 'k' in value:\n",
    "            return float(value.replace('k', ''))\n",
    "    return None  # Если значение не является строкой или не содержит 'M' или 'k', возвращаем None"
   ]
  },
  {
   "cell_type": "markdown",
   "id": "53f9c8a9",
   "metadata": {},
   "source": [
    "**Применим написанную функцию к столбцам.**"
   ]
  },
  {
   "cell_type": "code",
   "execution_count": 16,
   "id": "8fa0b4d7",
   "metadata": {},
   "outputs": [],
   "source": [
    "stats['diff'] = stats['diff'].apply(convert_volume)"
   ]
  },
  {
   "cell_type": "code",
   "execution_count": 17,
   "id": "12da35f9",
   "metadata": {},
   "outputs": [],
   "source": [
    "stats['volume'] = stats['volume'].apply(convert_volume)"
   ]
  },
  {
   "cell_type": "code",
   "execution_count": 18,
   "id": "e5a3c99f",
   "metadata": {},
   "outputs": [],
   "source": [
    "stats['tot_size'] = stats['tot_size'].apply(convert_volume)"
   ]
  },
  {
   "cell_type": "code",
   "execution_count": 19,
   "id": "d3110185",
   "metadata": {},
   "outputs": [
    {
     "data": {
      "text/html": [
       "<div>\n",
       "<style scoped>\n",
       "    .dataframe tbody tr th:only-of-type {\n",
       "        vertical-align: middle;\n",
       "    }\n",
       "\n",
       "    .dataframe tbody tr th {\n",
       "        vertical-align: top;\n",
       "    }\n",
       "\n",
       "    .dataframe thead th {\n",
       "        text-align: right;\n",
       "    }\n",
       "</style>\n",
       "<table border=\"1\" class=\"dataframe\">\n",
       "  <thead>\n",
       "    <tr style=\"text-align: right;\">\n",
       "      <th></th>\n",
       "      <th>edits</th>\n",
       "      <th>reverts</th>\n",
       "      <th>log</th>\n",
       "      <th>diff</th>\n",
       "      <th>volume</th>\n",
       "      <th>tot_size</th>\n",
       "      <th>time</th>\n",
       "      <th>speed</th>\n",
       "      <th>user</th>\n",
       "      <th>text</th>\n",
       "    </tr>\n",
       "  </thead>\n",
       "  <tbody>\n",
       "    <tr>\n",
       "      <th>0</th>\n",
       "      <td>1589</td>\n",
       "      <td>0</td>\n",
       "      <td>1621</td>\n",
       "      <td>262.0</td>\n",
       "      <td>1100.0</td>\n",
       "      <td>39000.0</td>\n",
       "      <td>95.0</td>\n",
       "      <td>0.57</td>\n",
       "      <td>Altes</td>\n",
       "      <td>2008-07-20</td>\n",
       "    </tr>\n",
       "    <tr>\n",
       "      <th>1</th>\n",
       "      <td>1809</td>\n",
       "      <td>0</td>\n",
       "      <td>1328</td>\n",
       "      <td>395.0</td>\n",
       "      <td>2800.0</td>\n",
       "      <td>42000.0</td>\n",
       "      <td>129.0</td>\n",
       "      <td>0.40</td>\n",
       "      <td>Obersachse</td>\n",
       "      <td>2008-07-20</td>\n",
       "    </tr>\n",
       "    <tr>\n",
       "      <th>2</th>\n",
       "      <td>2734</td>\n",
       "      <td>0</td>\n",
       "      <td>0</td>\n",
       "      <td>16.0</td>\n",
       "      <td>15.0</td>\n",
       "      <td>19000.0</td>\n",
       "      <td>105.0</td>\n",
       "      <td>0.43</td>\n",
       "      <td>Monegasque~ruwiki</td>\n",
       "      <td>2008-07-20</td>\n",
       "    </tr>\n",
       "    <tr>\n",
       "      <th>3</th>\n",
       "      <td>2611</td>\n",
       "      <td>0</td>\n",
       "      <td>6</td>\n",
       "      <td>278.0</td>\n",
       "      <td>350.0</td>\n",
       "      <td>43000.0</td>\n",
       "      <td>135.0</td>\n",
       "      <td>0.32</td>\n",
       "      <td>User№101</td>\n",
       "      <td>2008-07-20</td>\n",
       "    </tr>\n",
       "    <tr>\n",
       "      <th>4</th>\n",
       "      <td>917</td>\n",
       "      <td>6</td>\n",
       "      <td>1416</td>\n",
       "      <td>154.0</td>\n",
       "      <td>1200.0</td>\n",
       "      <td>26000.0</td>\n",
       "      <td>98.0</td>\n",
       "      <td>0.40</td>\n",
       "      <td>Kalan</td>\n",
       "      <td>2008-07-20</td>\n",
       "    </tr>\n",
       "    <tr>\n",
       "      <th>5</th>\n",
       "      <td>2000</td>\n",
       "      <td>0</td>\n",
       "      <td>259</td>\n",
       "      <td>443.0</td>\n",
       "      <td>614.0</td>\n",
       "      <td>36000.0</td>\n",
       "      <td>125.0</td>\n",
       "      <td>0.30</td>\n",
       "      <td>Vizu</td>\n",
       "      <td>2008-07-20</td>\n",
       "    </tr>\n",
       "    <tr>\n",
       "      <th>6</th>\n",
       "      <td>2100</td>\n",
       "      <td>0</td>\n",
       "      <td>5</td>\n",
       "      <td>377.0</td>\n",
       "      <td>564.0</td>\n",
       "      <td>45000.0</td>\n",
       "      <td>137.0</td>\n",
       "      <td>0.25</td>\n",
       "      <td>Michael Romanov</td>\n",
       "      <td>2008-07-20</td>\n",
       "    </tr>\n",
       "    <tr>\n",
       "      <th>7</th>\n",
       "      <td>2069</td>\n",
       "      <td>0</td>\n",
       "      <td>27</td>\n",
       "      <td>879.0</td>\n",
       "      <td>938.0</td>\n",
       "      <td>22000.0</td>\n",
       "      <td>79.0</td>\n",
       "      <td>0.43</td>\n",
       "      <td>Ekamaloff</td>\n",
       "      <td>2008-07-20</td>\n",
       "    </tr>\n",
       "    <tr>\n",
       "      <th>8</th>\n",
       "      <td>1884</td>\n",
       "      <td>7</td>\n",
       "      <td>18</td>\n",
       "      <td>318.0</td>\n",
       "      <td>1400.0</td>\n",
       "      <td>43000.0</td>\n",
       "      <td>84.0</td>\n",
       "      <td>0.37</td>\n",
       "      <td>The Wrong Man</td>\n",
       "      <td>2008-07-20</td>\n",
       "    </tr>\n",
       "    <tr>\n",
       "      <th>9</th>\n",
       "      <td>1800</td>\n",
       "      <td>0</td>\n",
       "      <td>32</td>\n",
       "      <td>545.0</td>\n",
       "      <td>873.0</td>\n",
       "      <td>20000.0</td>\n",
       "      <td>104.0</td>\n",
       "      <td>0.30</td>\n",
       "      <td>Zimin.V.G.</td>\n",
       "      <td>2008-07-20</td>\n",
       "    </tr>\n",
       "  </tbody>\n",
       "</table>\n",
       "</div>"
      ],
      "text/plain": [
       "   edits  reverts   log   diff  volume  tot_size   time  speed  \\\n",
       "0   1589        0  1621  262.0  1100.0   39000.0   95.0   0.57   \n",
       "1   1809        0  1328  395.0  2800.0   42000.0  129.0   0.40   \n",
       "2   2734        0     0   16.0    15.0   19000.0  105.0   0.43   \n",
       "3   2611        0     6  278.0   350.0   43000.0  135.0   0.32   \n",
       "4    917        6  1416  154.0  1200.0   26000.0   98.0   0.40   \n",
       "5   2000        0   259  443.0   614.0   36000.0  125.0   0.30   \n",
       "6   2100        0     5  377.0   564.0   45000.0  137.0   0.25   \n",
       "7   2069        0    27  879.0   938.0   22000.0   79.0   0.43   \n",
       "8   1884        7    18  318.0  1400.0   43000.0   84.0   0.37   \n",
       "9   1800        0    32  545.0   873.0   20000.0  104.0   0.30   \n",
       "\n",
       "                user       text  \n",
       "0              Altes 2008-07-20  \n",
       "1         Obersachse 2008-07-20  \n",
       "2  Monegasque~ruwiki 2008-07-20  \n",
       "3           User№101 2008-07-20  \n",
       "4              Kalan 2008-07-20  \n",
       "5               Vizu 2008-07-20  \n",
       "6    Michael Romanov 2008-07-20  \n",
       "7          Ekamaloff 2008-07-20  \n",
       "8      The Wrong Man 2008-07-20  \n",
       "9         Zimin.V.G. 2008-07-20  "
      ]
     },
     "execution_count": 19,
     "metadata": {},
     "output_type": "execute_result"
    }
   ],
   "source": [
    "#взглянем на полученную в результате предобработки таблицу\n",
    "stats.head(10)"
   ]
  },
  {
   "cell_type": "code",
   "execution_count": 20,
   "id": "2d9f1deb",
   "metadata": {
    "scrolled": true
   },
   "outputs": [
    {
     "name": "stdout",
     "output_type": "stream",
     "text": [
      "<class 'pandas.core.frame.DataFrame'>\n",
      "RangeIndex: 28950 entries, 0 to 28949\n",
      "Data columns (total 10 columns):\n",
      " #   Column    Non-Null Count  Dtype         \n",
      "---  ------    --------------  -----         \n",
      " 0   edits     28950 non-null  int64         \n",
      " 1   reverts   28950 non-null  int32         \n",
      " 2   log       28950 non-null  int32         \n",
      " 3   diff      28850 non-null  float64       \n",
      " 4   volume    28936 non-null  float64       \n",
      " 5   tot_size  28945 non-null  float64       \n",
      " 6   time      28950 non-null  float64       \n",
      " 7   speed     28950 non-null  float64       \n",
      " 8   user      28950 non-null  object        \n",
      " 9   text      9750 non-null   datetime64[ns]\n",
      "dtypes: datetime64[ns](1), float64(5), int32(2), int64(1), object(1)\n",
      "memory usage: 2.0+ MB\n"
     ]
    }
   ],
   "source": [
    "stats.info()"
   ]
  },
  {
   "cell_type": "code",
   "execution_count": 21,
   "id": "00e4b6f8",
   "metadata": {},
   "outputs": [
    {
     "data": {
      "text/plain": [
       "0"
      ]
     },
     "execution_count": 21,
     "metadata": {},
     "output_type": "execute_result"
    }
   ],
   "source": [
    "#проверим, нет ли явных дубликатов\n",
    "stats.duplicated().sum()"
   ]
  },
  {
   "cell_type": "markdown",
   "id": "7ca1ce95",
   "metadata": {},
   "source": [
    "## Загрузка данных из датасета 'votes'"
   ]
  },
  {
   "cell_type": "code",
   "execution_count": 22,
   "id": "3cdf0d80",
   "metadata": {},
   "outputs": [],
   "source": [
    "#читаем excel-файл votes\n",
    "file_path_2 = r'C:\\Users\\ekate\\OneDrive\\Документы\\Проекты по Анализу данных\\Исследование участия пользователей в голосованиях в Wikipedia\\votes.xlsx'\n",
    "votes = pd.read_excel(file_path_2)"
   ]
  },
  {
   "cell_type": "code",
   "execution_count": 23,
   "id": "6eca2c50",
   "metadata": {},
   "outputs": [
    {
     "data": {
      "text/html": [
       "<div>\n",
       "<style scoped>\n",
       "    .dataframe tbody tr th:only-of-type {\n",
       "        vertical-align: middle;\n",
       "    }\n",
       "\n",
       "    .dataframe tbody tr th {\n",
       "        vertical-align: top;\n",
       "    }\n",
       "\n",
       "    .dataframe thead th {\n",
       "        text-align: right;\n",
       "    }\n",
       "</style>\n",
       "<table border=\"1\" class=\"dataframe\">\n",
       "  <thead>\n",
       "    <tr style=\"text-align: right;\">\n",
       "      <th></th>\n",
       "      <th>voter</th>\n",
       "      <th>can_vote</th>\n",
       "      <th>time</th>\n",
       "      <th>candidate</th>\n",
       "      <th>n</th>\n",
       "      <th>vote</th>\n",
       "      <th>lt</th>\n",
       "    </tr>\n",
       "  </thead>\n",
       "  <tbody>\n",
       "    <tr>\n",
       "      <th>0</th>\n",
       "      <td>Kalan</td>\n",
       "      <td>True</td>\n",
       "      <td>2008-11-23 00:32:00</td>\n",
       "      <td>EvgenyGenkin</td>\n",
       "      <td>7.0</td>\n",
       "      <td>1</td>\n",
       "      <td>0.022222</td>\n",
       "    </tr>\n",
       "    <tr>\n",
       "      <th>1</th>\n",
       "      <td>Kalan</td>\n",
       "      <td>True</td>\n",
       "      <td>2008-11-23 00:32:00</td>\n",
       "      <td>Solon</td>\n",
       "      <td>7.0</td>\n",
       "      <td>-1</td>\n",
       "      <td>0.022222</td>\n",
       "    </tr>\n",
       "    <tr>\n",
       "      <th>2</th>\n",
       "      <td>Altes</td>\n",
       "      <td>True</td>\n",
       "      <td>2008-11-23 00:34:00</td>\n",
       "      <td>Agent001</td>\n",
       "      <td>7.0</td>\n",
       "      <td>-1</td>\n",
       "      <td>0.023611</td>\n",
       "    </tr>\n",
       "    <tr>\n",
       "      <th>3</th>\n",
       "      <td>Altes</td>\n",
       "      <td>True</td>\n",
       "      <td>2008-11-23 00:34:00</td>\n",
       "      <td>Chronicler</td>\n",
       "      <td>7.0</td>\n",
       "      <td>1</td>\n",
       "      <td>0.023611</td>\n",
       "    </tr>\n",
       "    <tr>\n",
       "      <th>4</th>\n",
       "      <td>Altes</td>\n",
       "      <td>True</td>\n",
       "      <td>2008-11-23 00:34:00</td>\n",
       "      <td>EvgenyGenkin</td>\n",
       "      <td>7.0</td>\n",
       "      <td>1</td>\n",
       "      <td>0.023611</td>\n",
       "    </tr>\n",
       "  </tbody>\n",
       "</table>\n",
       "</div>"
      ],
      "text/plain": [
       "   voter  can_vote                 time     candidate    n  vote        lt\n",
       "0  Kalan      True  2008-11-23 00:32:00  EvgenyGenkin  7.0     1  0.022222\n",
       "1  Kalan      True  2008-11-23 00:32:00         Solon  7.0    -1  0.022222\n",
       "2  Altes      True  2008-11-23 00:34:00      Agent001  7.0    -1  0.023611\n",
       "3  Altes      True  2008-11-23 00:34:00    Chronicler  7.0     1  0.023611\n",
       "4  Altes      True  2008-11-23 00:34:00  EvgenyGenkin  7.0     1  0.023611"
      ]
     },
     "execution_count": 23,
     "metadata": {},
     "output_type": "execute_result"
    }
   ],
   "source": [
    "votes.head()"
   ]
  },
  {
   "cell_type": "code",
   "execution_count": 24,
   "id": "06d91636",
   "metadata": {},
   "outputs": [
    {
     "name": "stdout",
     "output_type": "stream",
     "text": [
      "<class 'pandas.core.frame.DataFrame'>\n",
      "RangeIndex: 79074 entries, 0 to 79073\n",
      "Data columns (total 7 columns):\n",
      " #   Column     Non-Null Count  Dtype  \n",
      "---  ------     --------------  -----  \n",
      " 0   voter      79074 non-null  object \n",
      " 1   can_vote   79074 non-null  bool   \n",
      " 2   time       79074 non-null  object \n",
      " 3   candidate  79074 non-null  object \n",
      " 4   n          79074 non-null  float64\n",
      " 5   vote       79074 non-null  int64  \n",
      " 6   lt         79074 non-null  float64\n",
      "dtypes: bool(1), float64(2), int64(1), object(3)\n",
      "memory usage: 3.7+ MB\n"
     ]
    }
   ],
   "source": [
    "#выведем основную информацию о датафрейме\n",
    "votes.info()"
   ]
  },
  {
   "cell_type": "markdown",
   "id": "36660b64",
   "metadata": {},
   "source": [
    "**В изучаемом нами датафрейме 7 колонок и 79074 строки.**"
   ]
  },
  {
   "cell_type": "markdown",
   "id": "a6afb2c4",
   "metadata": {},
   "source": [
    "## Предобработка данных из датасета 'votes'"
   ]
  },
  {
   "cell_type": "code",
   "execution_count": 25,
   "id": "9f9e8de8",
   "metadata": {},
   "outputs": [],
   "source": [
    "# приведем названия столбцов к нижнему регистру\n",
    "new_votes_column_names = {\n",
    "    'voter': 'voter',\n",
    "    'can_vote': 'can_vote',\n",
    "    'time': 'time',\n",
    "    'candidate': 'candidate',\n",
    "    'n': 'n',\n",
    "    'vote': 'vote',\n",
    "    'lt': 'lt'\n",
    "}\n",
    "\n",
    "# используем метод rename для переименования столбцов\n",
    "votes.rename(columns=new_votes_column_names, inplace=True)"
   ]
  },
  {
   "cell_type": "code",
   "execution_count": 26,
   "id": "aeff4906",
   "metadata": {},
   "outputs": [
    {
     "data": {
      "text/html": [
       "<div>\n",
       "<style scoped>\n",
       "    .dataframe tbody tr th:only-of-type {\n",
       "        vertical-align: middle;\n",
       "    }\n",
       "\n",
       "    .dataframe tbody tr th {\n",
       "        vertical-align: top;\n",
       "    }\n",
       "\n",
       "    .dataframe thead th {\n",
       "        text-align: right;\n",
       "    }\n",
       "</style>\n",
       "<table border=\"1\" class=\"dataframe\">\n",
       "  <thead>\n",
       "    <tr style=\"text-align: right;\">\n",
       "      <th></th>\n",
       "      <th>voter</th>\n",
       "      <th>can_vote</th>\n",
       "      <th>time</th>\n",
       "      <th>candidate</th>\n",
       "      <th>n</th>\n",
       "      <th>vote</th>\n",
       "      <th>lt</th>\n",
       "    </tr>\n",
       "  </thead>\n",
       "  <tbody>\n",
       "    <tr>\n",
       "      <th>0</th>\n",
       "      <td>Kalan</td>\n",
       "      <td>True</td>\n",
       "      <td>2008-11-23 00:32:00</td>\n",
       "      <td>EvgenyGenkin</td>\n",
       "      <td>7.0</td>\n",
       "      <td>1</td>\n",
       "      <td>0.022222</td>\n",
       "    </tr>\n",
       "    <tr>\n",
       "      <th>1</th>\n",
       "      <td>Kalan</td>\n",
       "      <td>True</td>\n",
       "      <td>2008-11-23 00:32:00</td>\n",
       "      <td>Solon</td>\n",
       "      <td>7.0</td>\n",
       "      <td>-1</td>\n",
       "      <td>0.022222</td>\n",
       "    </tr>\n",
       "    <tr>\n",
       "      <th>2</th>\n",
       "      <td>Altes</td>\n",
       "      <td>True</td>\n",
       "      <td>2008-11-23 00:34:00</td>\n",
       "      <td>Agent001</td>\n",
       "      <td>7.0</td>\n",
       "      <td>-1</td>\n",
       "      <td>0.023611</td>\n",
       "    </tr>\n",
       "    <tr>\n",
       "      <th>3</th>\n",
       "      <td>Altes</td>\n",
       "      <td>True</td>\n",
       "      <td>2008-11-23 00:34:00</td>\n",
       "      <td>Chronicler</td>\n",
       "      <td>7.0</td>\n",
       "      <td>1</td>\n",
       "      <td>0.023611</td>\n",
       "    </tr>\n",
       "    <tr>\n",
       "      <th>4</th>\n",
       "      <td>Altes</td>\n",
       "      <td>True</td>\n",
       "      <td>2008-11-23 00:34:00</td>\n",
       "      <td>EvgenyGenkin</td>\n",
       "      <td>7.0</td>\n",
       "      <td>1</td>\n",
       "      <td>0.023611</td>\n",
       "    </tr>\n",
       "  </tbody>\n",
       "</table>\n",
       "</div>"
      ],
      "text/plain": [
       "   voter  can_vote                 time     candidate    n  vote        lt\n",
       "0  Kalan      True  2008-11-23 00:32:00  EvgenyGenkin  7.0     1  0.022222\n",
       "1  Kalan      True  2008-11-23 00:32:00         Solon  7.0    -1  0.022222\n",
       "2  Altes      True  2008-11-23 00:34:00      Agent001  7.0    -1  0.023611\n",
       "3  Altes      True  2008-11-23 00:34:00    Chronicler  7.0     1  0.023611\n",
       "4  Altes      True  2008-11-23 00:34:00  EvgenyGenkin  7.0     1  0.023611"
      ]
     },
     "execution_count": 26,
     "metadata": {},
     "output_type": "execute_result"
    }
   ],
   "source": [
    "votes.head()"
   ]
  },
  {
   "cell_type": "code",
   "execution_count": 27,
   "id": "013e073a",
   "metadata": {},
   "outputs": [],
   "source": [
    "#поменяем тип данных у столбца 'time'\n",
    "votes['time'] = pd.to_datetime(votes['time'])"
   ]
  },
  {
   "cell_type": "code",
   "execution_count": 28,
   "id": "7366c127",
   "metadata": {
    "scrolled": true
   },
   "outputs": [
    {
     "data": {
      "text/html": [
       "<div>\n",
       "<style scoped>\n",
       "    .dataframe tbody tr th:only-of-type {\n",
       "        vertical-align: middle;\n",
       "    }\n",
       "\n",
       "    .dataframe tbody tr th {\n",
       "        vertical-align: top;\n",
       "    }\n",
       "\n",
       "    .dataframe thead th {\n",
       "        text-align: right;\n",
       "    }\n",
       "</style>\n",
       "<table border=\"1\" class=\"dataframe\">\n",
       "  <thead>\n",
       "    <tr style=\"text-align: right;\">\n",
       "      <th></th>\n",
       "      <th>voter</th>\n",
       "      <th>can_vote</th>\n",
       "      <th>time</th>\n",
       "      <th>candidate</th>\n",
       "      <th>n</th>\n",
       "      <th>vote</th>\n",
       "      <th>lt</th>\n",
       "    </tr>\n",
       "  </thead>\n",
       "  <tbody>\n",
       "  </tbody>\n",
       "</table>\n",
       "</div>"
      ],
      "text/plain": [
       "Empty DataFrame\n",
       "Columns: [voter, can_vote, time, candidate, n, vote, lt]\n",
       "Index: []"
      ]
     },
     "execution_count": 28,
     "metadata": {},
     "output_type": "execute_result"
    }
   ],
   "source": [
    "#проверим, всё ли в порядке со столбцом 'vote', нет ли там каких-либо аномальных значений\n",
    "votes[(votes['vote'] != 1) & (votes['vote'] != -1)]"
   ]
  },
  {
   "cell_type": "code",
   "execution_count": 29,
   "id": "151c5e94",
   "metadata": {},
   "outputs": [
    {
     "data": {
      "text/plain": [
       "0"
      ]
     },
     "execution_count": 29,
     "metadata": {},
     "output_type": "execute_result"
    }
   ],
   "source": [
    "#проверим, нет ли явных дубликатов\n",
    "votes.duplicated().sum()"
   ]
  },
  {
   "cell_type": "markdown",
   "id": "5dbcd182",
   "metadata": {},
   "source": [
    "# Исследовательский анализ данных"
   ]
  },
  {
   "cell_type": "code",
   "execution_count": 30,
   "id": "f156f6ae",
   "metadata": {},
   "outputs": [
    {
     "data": {
      "image/png": "[encoded data removed]",
      "text/plain": [
       "<Figure size 1500x2000 with 9 Axes>"
      ]
     },
     "metadata": {},
     "output_type": "display_data"
    }
   ],
   "source": [
    "#Построим общую гистограмму для всех числовых столбцов таблицы stats\n",
    "stats.hist(figsize=(15, 20), bins=100);"
   ]
  },
  {
   "cell_type": "markdown",
   "id": "fa335f58",
   "metadata": {},
   "source": [
    "**Можем сделать вывод, что преобладающее большинство пользователей сделали более чем по 15 тыс. правок, отменили более 25 тыс. чужих правок. Также по гистограмме столбца 'volume' мы видим, что очень многие пользователи добавили себе порядка 17,5 тыс. килобайт информации, и они провели в сервисе порядка 50-ти часов.**"
   ]
  },
  {
   "cell_type": "code",
   "execution_count": 31,
   "id": "f133c832",
   "metadata": {},
   "outputs": [
    {
     "data": {
      "image/png": "[encoded data removed]",
      "text/plain": [
       "<Figure size 1500x2000 with 4 Axes>"
      ]
     },
     "metadata": {},
     "output_type": "display_data"
    }
   ],
   "source": [
    "#Построим общую гистограмму для всех числовых столбцов таблицы votes\n",
    "votes.hist(figsize=(15, 20), bins=100);"
   ]
  },
  {
   "cell_type": "markdown",
   "id": "16fd04eb",
   "metadata": {},
   "source": [
    "**По вышепредставленным гистограммам можно сделать вывод, что активнее всего голосовали в 2009-м и 2021-м годах; чаще голосующие голосовали \"за\" чем \"против\"; большинство избирателей предпочитали отдавать свой голос в первые сутки после начала выборов, в последние сутки количество голосующих немного увеличивалось, т.к. по-видимому некоторые люди пытались успеть проголосовать в последний момент.**"
   ]
  },
  {
   "cell_type": "markdown",
   "id": "a90df06a",
   "metadata": {},
   "source": [
    "**Для выполнения дальнейшего анализа нам необходимо объединить две таблицы в одну.**"
   ]
  },
  {
   "cell_type": "code",
   "execution_count": 32,
   "id": "43d28c9a",
   "metadata": {},
   "outputs": [],
   "source": [
    "#для этого сначала переименуем столбец 'voter' в таблице votes\n",
    "votes = votes.rename(columns={'voter': 'user'})"
   ]
  },
  {
   "cell_type": "code",
   "execution_count": 33,
   "id": "57497dc9",
   "metadata": {},
   "outputs": [],
   "source": [
    "# также изменим название столбца 'time' в таблицах, чтобы не было столбцов с одинаковыми названиями\n",
    "stats = stats.rename(columns ={'time': 'time_online'})\n",
    "votes = votes.rename(columns ={'time': 'vote_time'})"
   ]
  },
  {
   "cell_type": "code",
   "execution_count": 34,
   "id": "e8a64e92",
   "metadata": {},
   "outputs": [],
   "source": [
    "#объединим две таблицы с данными в одну\n",
    "df = pd.merge(stats, votes, on='user', how='inner')"
   ]
  },
  {
   "cell_type": "code",
   "execution_count": 35,
   "id": "5ab71622",
   "metadata": {
    "scrolled": true
   },
   "outputs": [
    {
     "data": {
      "text/html": [
       "<div>\n",
       "<style scoped>\n",
       "    .dataframe tbody tr th:only-of-type {\n",
       "        vertical-align: middle;\n",
       "    }\n",
       "\n",
       "    .dataframe tbody tr th {\n",
       "        vertical-align: top;\n",
       "    }\n",
       "\n",
       "    .dataframe thead th {\n",
       "        text-align: right;\n",
       "    }\n",
       "</style>\n",
       "<table border=\"1\" class=\"dataframe\">\n",
       "  <thead>\n",
       "    <tr style=\"text-align: right;\">\n",
       "      <th></th>\n",
       "      <th>edits</th>\n",
       "      <th>reverts</th>\n",
       "      <th>log</th>\n",
       "      <th>diff</th>\n",
       "      <th>volume</th>\n",
       "      <th>tot_size</th>\n",
       "      <th>time_online</th>\n",
       "      <th>speed</th>\n",
       "      <th>user</th>\n",
       "      <th>text</th>\n",
       "      <th>can_vote</th>\n",
       "      <th>vote_time</th>\n",
       "      <th>candidate</th>\n",
       "      <th>n</th>\n",
       "      <th>vote</th>\n",
       "      <th>lt</th>\n",
       "    </tr>\n",
       "  </thead>\n",
       "  <tbody>\n",
       "    <tr>\n",
       "      <th>0</th>\n",
       "      <td>1589</td>\n",
       "      <td>0</td>\n",
       "      <td>1621</td>\n",
       "      <td>262.0</td>\n",
       "      <td>1100.0</td>\n",
       "      <td>39000.0</td>\n",
       "      <td>95.0</td>\n",
       "      <td>0.57</td>\n",
       "      <td>Altes</td>\n",
       "      <td>2008-07-20</td>\n",
       "      <td>True</td>\n",
       "      <td>2008-11-23 00:34:00</td>\n",
       "      <td>Agent001</td>\n",
       "      <td>7.0</td>\n",
       "      <td>-1</td>\n",
       "      <td>0.023611</td>\n",
       "    </tr>\n",
       "    <tr>\n",
       "      <th>1</th>\n",
       "      <td>1589</td>\n",
       "      <td>0</td>\n",
       "      <td>1621</td>\n",
       "      <td>262.0</td>\n",
       "      <td>1100.0</td>\n",
       "      <td>39000.0</td>\n",
       "      <td>95.0</td>\n",
       "      <td>0.57</td>\n",
       "      <td>Altes</td>\n",
       "      <td>2008-07-20</td>\n",
       "      <td>True</td>\n",
       "      <td>2008-11-23 00:34:00</td>\n",
       "      <td>Chronicler</td>\n",
       "      <td>7.0</td>\n",
       "      <td>1</td>\n",
       "      <td>0.023611</td>\n",
       "    </tr>\n",
       "    <tr>\n",
       "      <th>2</th>\n",
       "      <td>1589</td>\n",
       "      <td>0</td>\n",
       "      <td>1621</td>\n",
       "      <td>262.0</td>\n",
       "      <td>1100.0</td>\n",
       "      <td>39000.0</td>\n",
       "      <td>95.0</td>\n",
       "      <td>0.57</td>\n",
       "      <td>Altes</td>\n",
       "      <td>2008-07-20</td>\n",
       "      <td>True</td>\n",
       "      <td>2008-11-23 00:34:00</td>\n",
       "      <td>EvgenyGenkin</td>\n",
       "      <td>7.0</td>\n",
       "      <td>1</td>\n",
       "      <td>0.023611</td>\n",
       "    </tr>\n",
       "    <tr>\n",
       "      <th>3</th>\n",
       "      <td>1589</td>\n",
       "      <td>0</td>\n",
       "      <td>1621</td>\n",
       "      <td>262.0</td>\n",
       "      <td>1100.0</td>\n",
       "      <td>39000.0</td>\n",
       "      <td>95.0</td>\n",
       "      <td>0.57</td>\n",
       "      <td>Altes</td>\n",
       "      <td>2008-07-20</td>\n",
       "      <td>True</td>\n",
       "      <td>2008-11-23 00:34:00</td>\n",
       "      <td>Ilya Voyager</td>\n",
       "      <td>7.0</td>\n",
       "      <td>1</td>\n",
       "      <td>0.023611</td>\n",
       "    </tr>\n",
       "    <tr>\n",
       "      <th>4</th>\n",
       "      <td>1589</td>\n",
       "      <td>0</td>\n",
       "      <td>1621</td>\n",
       "      <td>262.0</td>\n",
       "      <td>1100.0</td>\n",
       "      <td>39000.0</td>\n",
       "      <td>95.0</td>\n",
       "      <td>0.57</td>\n",
       "      <td>Altes</td>\n",
       "      <td>2008-07-20</td>\n",
       "      <td>True</td>\n",
       "      <td>2008-11-23 00:34:00</td>\n",
       "      <td>Kv75</td>\n",
       "      <td>7.0</td>\n",
       "      <td>1</td>\n",
       "      <td>0.023611</td>\n",
       "    </tr>\n",
       "  </tbody>\n",
       "</table>\n",
       "</div>"
      ],
      "text/plain": [
       "   edits  reverts   log   diff  volume  tot_size  time_online  speed   user  \\\n",
       "0   1589        0  1621  262.0  1100.0   39000.0         95.0   0.57  Altes   \n",
       "1   1589        0  1621  262.0  1100.0   39000.0         95.0   0.57  Altes   \n",
       "2   1589        0  1621  262.0  1100.0   39000.0         95.0   0.57  Altes   \n",
       "3   1589        0  1621  262.0  1100.0   39000.0         95.0   0.57  Altes   \n",
       "4   1589        0  1621  262.0  1100.0   39000.0         95.0   0.57  Altes   \n",
       "\n",
       "        text  can_vote           vote_time     candidate    n  vote        lt  \n",
       "0 2008-07-20      True 2008-11-23 00:34:00      Agent001  7.0    -1  0.023611  \n",
       "1 2008-07-20      True 2008-11-23 00:34:00    Chronicler  7.0     1  0.023611  \n",
       "2 2008-07-20      True 2008-11-23 00:34:00  EvgenyGenkin  7.0     1  0.023611  \n",
       "3 2008-07-20      True 2008-11-23 00:34:00  Ilya Voyager  7.0     1  0.023611  \n",
       "4 2008-07-20      True 2008-11-23 00:34:00          Kv75  7.0     1  0.023611  "
      ]
     },
     "execution_count": 35,
     "metadata": {},
     "output_type": "execute_result"
    }
   ],
   "source": [
    "#посмотрим, все ли в порядке\n",
    "df.head()"
   ]
  },
  {
   "cell_type": "code",
   "execution_count": 36,
   "id": "580f2e18",
   "metadata": {},
   "outputs": [
    {
     "name": "stdout",
     "output_type": "stream",
     "text": [
      "<class 'pandas.core.frame.DataFrame'>\n",
      "Int64Index: 1691595 entries, 0 to 1691594\n",
      "Data columns (total 16 columns):\n",
      " #   Column       Dtype         \n",
      "---  ------       -----         \n",
      " 0   edits        int64         \n",
      " 1   reverts      int32         \n",
      " 2   log          int32         \n",
      " 3   diff         float64       \n",
      " 4   volume       float64       \n",
      " 5   tot_size     float64       \n",
      " 6   time_online  float64       \n",
      " 7   speed        float64       \n",
      " 8   user         object        \n",
      " 9   text         datetime64[ns]\n",
      " 10  can_vote     bool          \n",
      " 11  vote_time    datetime64[ns]\n",
      " 12  candidate    object        \n",
      " 13  n            float64       \n",
      " 14  vote         int64         \n",
      " 15  lt           float64       \n",
      "dtypes: bool(1), datetime64[ns](2), float64(7), int32(2), int64(2), object(2)\n",
      "memory usage: 195.2+ MB\n"
     ]
    }
   ],
   "source": [
    "df.info()"
   ]
  },
  {
   "cell_type": "markdown",
   "id": "276d248a",
   "metadata": {},
   "source": [
    "**Выведем и визуализируем ТОП-20 голосующих по количеству отданных голосов.**"
   ]
  },
  {
   "cell_type": "code",
   "execution_count": 37,
   "id": "ad9b047c",
   "metadata": {},
   "outputs": [
    {
     "data": {
      "text/plain": [
       "user\n",
       "Vladimir Solovjev               46284\n",
       "NBS                             38150\n",
       "Schekinov Alexey Victorovich    34881\n",
       "Dmartyn80                       30488\n",
       "ShinePhantom                    30099\n",
       "MBH                             29459\n",
       "Bff                             27861\n",
       "Daphne mesereum                 27775\n",
       "Джекалоп                        26586\n",
       "Ghirlandajo                     25654\n",
       "Sigwald                         24408\n",
       "Deinocheirus                    24108\n",
       "Pessimist2006                   23976\n",
       "Андрей Романенко                21855\n",
       "Adavyd                          21294\n",
       "El-chupanebrej                  20237\n",
       "Tempus                          18762\n",
       "Ле Лой                          16590\n",
       "Wulfson                         16555\n",
       "Pavel Alikin                    15753\n",
       "Name: vote, dtype: int64"
      ]
     },
     "execution_count": 37,
     "metadata": {},
     "output_type": "execute_result"
    }
   ],
   "source": [
    "top_voters = df.groupby('user')['vote'].count().sort_values(ascending=False).head(20)\n",
    "top_voters"
   ]
  },
  {
   "cell_type": "code",
   "execution_count": 38,
   "id": "763c0a30",
   "metadata": {},
   "outputs": [
    {
     "data": {
      "image/png": "[encoded data removed]",
      "text/plain": [
       "<Figure size 1200x600 with 1 Axes>"
      ]
     },
     "metadata": {},
     "output_type": "display_data"
    }
   ],
   "source": [
    "# Создаем столбчатую диаграмму с Seaborn\n",
    "plt.figure(figsize=(12, 6))  # Размер графика\n",
    "sns.barplot(x=top_voters.index, y=top_voters.values, palette=\"viridis\")  # Создаем столбцы с данными и указываем палитру цветов\n",
    "plt.xlabel('Пользователи')  # Подпись оси x\n",
    "plt.ylabel('Количество голосов')  # Подпись оси y\n",
    "plt.title('Топ-20 пользователей по количеству отданных голосов')  # Заголовок графика\n",
    "plt.xticks(rotation=90)  # Поворачиваем подписи по оси x для лучшей читаемости\n",
    "sns.set(style=\"whitegrid\")  # Включаем сетку\n",
    "\n",
    "# Добавляем подписи с количеством голосов над каждым столбцом\n",
    "for index, value in enumerate(top_voters.values):\n",
    "    plt.text(index, value + 1, str(value), ha='center', va='bottom', fontsize=10)"
   ]
  },
  {
   "cell_type": "markdown",
   "id": "72f8fe21",
   "metadata": {},
   "source": [
    "**С помощью столбчатой диаграммы мы наглядно видим, что самыми голосующими пользователями были Vladimir Solovjev, NBS и Schekinov Alexey Victorovich.**"
   ]
  },
  {
   "cell_type": "markdown",
   "id": "fd34d4b3",
   "metadata": {},
   "source": [
    "**Теперь определим ТОП-10 лидеров по скорости внесения правок.**"
   ]
  },
  {
   "cell_type": "code",
   "execution_count": 39,
   "id": "904e94c5",
   "metadata": {
    "scrolled": true
   },
   "outputs": [
    {
     "data": {
      "text/plain": [
       "user\n",
       "TakingOver          76.0\n",
       "Vodolaz             16.0\n",
       "Putnik              11.0\n",
       "Jack Jackie Pomi    11.0\n",
       "Хинт                10.0\n",
       "Загребин Илья        9.0\n",
       "Vallastro            8.0\n",
       "Q-bit array          8.0\n",
       "Kalan                7.0\n",
       "Deltahead            6.0\n",
       "Name: speed, dtype: float64"
      ]
     },
     "execution_count": 39,
     "metadata": {},
     "output_type": "execute_result"
    }
   ],
   "source": [
    "top_edit_speed = df.groupby('user')['speed'].max().sort_values(ascending=False).head(10)\n",
    "top_edit_speed"
   ]
  },
  {
   "cell_type": "code",
   "execution_count": 40,
   "id": "284fe4bd",
   "metadata": {},
   "outputs": [
    {
     "data": {
      "image/png": "[encoded data removed]",
      "text/plain": [
       "<Figure size 1200x600 with 1 Axes>"
      ]
     },
     "metadata": {},
     "output_type": "display_data"
    }
   ],
   "source": [
    "# Создаем столбчатую диаграмму с Seaborn, настраивая цвета по значениям 'speed'\n",
    "plt.figure(figsize=(12, 6))  # Размер графика\n",
    "sns.barplot(x=top_edit_speed.index, y=top_edit_speed.values, palette=\"viridis\", hue=top_edit_speed.values)  # Создаем столбцы с данными и указываем палитру цветов\n",
    "plt.xlabel('Пользователи')  # Подпись оси x\n",
    "plt.ylabel('Максимальная скорость редактирования')  # Подпись оси y\n",
    "plt.title('Топ-10 пользователей по максимальной скорости редактирования')  # Заголовок графика\n",
    "plt.xticks(rotation=45)  # Поворачиваем подписи по оси x для лучшей читаемости\n",
    "sns.set(style=\"whitegrid\")  # Включаем сетку\n",
    "\n",
    "# Добавляем подписи с максимальными значениями над каждым столбцом\n",
    "for index, value in enumerate(top_edit_speed.values):\n",
    "    plt.text(index, value + 1, str(value), ha='center', va='bottom', fontsize=10)\n",
    "\n",
    "plt.legend(title='Скорость', loc='upper right', bbox_to_anchor=(1.2, 1.0))  # Добавляем легенду\n",
    "\n",
    "plt.show()  # Отображаем график"
   ]
  },
  {
   "cell_type": "markdown",
   "id": "5665c737",
   "metadata": {},
   "source": [
    "**По скорости внесения правок отличился пользователь с ником TakingOver (76 правок в час!)**"
   ]
  },
  {
   "cell_type": "markdown",
   "id": "1c8d2389",
   "metadata": {},
   "source": [
    "**Найдем ТОП-10 пользователей по сумме всех совершенных ими за всё время правок.**"
   ]
  },
  {
   "cell_type": "code",
   "execution_count": 41,
   "id": "5c41390e",
   "metadata": {},
   "outputs": [
    {
     "data": {
      "text/plain": [
       "user\n",
       "Q-bit array            56001\n",
       "MarchHare1977          35724\n",
       "Mitte27                14094\n",
       "Игорь Темиров          12981\n",
       "Tempus                 10044\n",
       "Lvova                   9041\n",
       "Glovacki                8923\n",
       "Bsivko                  8918\n",
       "Andrzej Downarowicz     8296\n",
       "Valdis72                8272\n",
       "Name: edits, dtype: int64"
      ]
     },
     "execution_count": 41,
     "metadata": {},
     "output_type": "execute_result"
    }
   ],
   "source": [
    "top_edits = df.groupby('user')['edits'].max().sort_values(ascending=False).head(10)\n",
    "top_edits"
   ]
  },
  {
   "cell_type": "code",
   "execution_count": 42,
   "id": "f691a9e7",
   "metadata": {
    "scrolled": true
   },
   "outputs": [
    {
     "data": {
      "image/png": "[encoded data removed]",
      "text/plain": [
       "<Figure size 1000x600 with 1 Axes>"
      ]
     },
     "metadata": {},
     "output_type": "display_data"
    }
   ],
   "source": [
    "# Создаем график\n",
    "plt.figure(figsize=(10, 6))\n",
    "plt.barh(top_edits.index, top_edits.values)\n",
    "plt.xlabel('Общее количество правок')\n",
    "plt.ylabel('Пользователь')\n",
    "plt.title('Топ-10 пользователей по количеству правок')\n",
    "plt.gca().invert_yaxis()  # Инвертируем ось Y, чтобы пользователи с наибольшими редакциями были наверху\n",
    "plt.show()"
   ]
  },
  {
   "cell_type": "markdown",
   "id": "47f5e2e8",
   "metadata": {},
   "source": [
    "**Итак, максимальное количество правок (56001 шт.) внес Q-bit array, замыкает Топ-10 Valdis72 с 8272 правками.**"
   ]
  },
  {
   "cell_type": "markdown",
   "id": "d21560e3",
   "metadata": {},
   "source": [
    "**Категоризируем пользователей по активности в голосованиях.**"
   ]
  },
  {
   "cell_type": "code",
   "execution_count": 43,
   "id": "0067f4a1",
   "metadata": {},
   "outputs": [],
   "source": [
    "def categorize_voter_activity(vote_count):\n",
    "    if vote_count <= 500:\n",
    "        return \"неактивный избиратель\"\n",
    "    elif 501 <= vote_count <= 5000:\n",
    "        return \"активный избиратель\"\n",
    "    else:\n",
    "        return \"очень активный избиратель\"\n",
    "\n",
    "df['voter_category'] = df.groupby('user')['vote'].transform('count').apply(categorize_voter_activity)"
   ]
  },
  {
   "cell_type": "code",
   "execution_count": 44,
   "id": "19419f2e",
   "metadata": {},
   "outputs": [
    {
     "data": {
      "text/plain": [
       "voter_category\n",
       "очень активный избиратель    101\n",
       "активный избиратель          253\n",
       "неактивный избиратель        718\n",
       "Name: user, dtype: int64"
      ]
     },
     "execution_count": 44,
     "metadata": {},
     "output_type": "execute_result"
    }
   ],
   "source": [
    "#посмотрим, какое количество юзеров у нас попало в каждую категорию\n",
    "unique_users_per_category = df.drop_duplicates('user').groupby('voter_category')['user'].count().sort_values()\n",
    "unique_users_per_category"
   ]
  },
  {
   "cell_type": "code",
   "execution_count": 45,
   "id": "00385cc8",
   "metadata": {},
   "outputs": [
    {
     "data": {
      "text/plain": [
       "1072"
      ]
     },
     "execution_count": 45,
     "metadata": {},
     "output_type": "execute_result"
    }
   ],
   "source": [
    "#проверим, сходится ли с общим количеством юзеров\n",
    "df['user'].nunique()"
   ]
  },
  {
   "cell_type": "markdown",
   "id": "b196068e",
   "metadata": {},
   "source": [
    "**Согласно нашим категориям выходит, что преобладают \"неактивные избиратели\" с количеством голосов до 500 (таких 718 человек), меньше всего людей попало в категорию \"очень активных избирателей\" - 101 человек. Построим визуализацию в виде круговой диаграммы.**"
   ]
  },
  {
   "cell_type": "code",
   "execution_count": 46,
   "id": "f3c01707",
   "metadata": {},
   "outputs": [
    {
     "data": {
      "image/png": "[encoded data removed]",
      "text/plain": [
       "<Figure size 600x600 with 1 Axes>"
      ]
     },
     "metadata": {},
     "output_type": "display_data"
    }
   ],
   "source": [
    "# Данные\n",
    "categories = unique_users_per_category.index\n",
    "counts = unique_users_per_category.values\n",
    "\n",
    "# Создание круговой диаграммы\n",
    "plt.figure(figsize=(6, 6))\n",
    "plt.pie(counts, labels=categories, autopct='%1.1f%%', startangle=140)\n",
    "plt.axis('equal')  # Сделать круговую диаграмму круглой\n",
    "plt.title('Распределение пользователей по категориям активности в участии в голосованиях')\n",
    "plt.show()"
   ]
  },
  {
   "cell_type": "markdown",
   "id": "ea4b4ba7",
   "metadata": {},
   "source": [
    "**Категоризируем пользователей по дате их последней активности.**"
   ]
  },
  {
   "cell_type": "code",
   "execution_count": 47,
   "id": "9a64f0a5",
   "metadata": {},
   "outputs": [
    {
     "data": {
      "text/plain": [
       "Timestamp('2012-12-20 00:00:00')"
      ]
     },
     "execution_count": 47,
     "metadata": {},
     "output_type": "execute_result"
    }
   ],
   "source": [
    "#сначала надо определиться с диапазоном дат в датасете\n",
    "df['text'].max()"
   ]
  },
  {
   "cell_type": "code",
   "execution_count": 48,
   "id": "773580ba",
   "metadata": {},
   "outputs": [
    {
     "data": {
      "text/plain": [
       "Timestamp('2001-08-20 00:00:00')"
      ]
     },
     "execution_count": 48,
     "metadata": {},
     "output_type": "execute_result"
    }
   ],
   "source": [
    "df['text'].min()"
   ]
  },
  {
   "cell_type": "code",
   "execution_count": 49,
   "id": "208f1480",
   "metadata": {},
   "outputs": [],
   "source": [
    "def categorize_user_lifetime(text):\n",
    "    try:\n",
    "        text = pd.to_datetime(text)\n",
    "        if text < pd.to_datetime('2005-01-01'):\n",
    "            return 'бывшие пользователи'\n",
    "        elif text < pd.to_datetime('2009-01-01'):\n",
    "            return 'старые пользователи'\n",
    "        else:\n",
    "            return 'активные пользователи'\n",
    "    except:\n",
    "        return None\n",
    "\n",
    "# Применяем функцию categorize_user_lifetime и сохраняем результат в 'recency_category'\n",
    "df['recency_category'] = df.groupby('user')['text'].transform('max').apply(categorize_user_lifetime)\n"
   ]
  },
  {
   "cell_type": "code",
   "execution_count": 50,
   "id": "eccdb3c0",
   "metadata": {
    "scrolled": true
   },
   "outputs": [
    {
     "data": {
      "text/html": [
       "<div>\n",
       "<style scoped>\n",
       "    .dataframe tbody tr th:only-of-type {\n",
       "        vertical-align: middle;\n",
       "    }\n",
       "\n",
       "    .dataframe tbody tr th {\n",
       "        vertical-align: top;\n",
       "    }\n",
       "\n",
       "    .dataframe thead th {\n",
       "        text-align: right;\n",
       "    }\n",
       "</style>\n",
       "<table border=\"1\" class=\"dataframe\">\n",
       "  <thead>\n",
       "    <tr style=\"text-align: right;\">\n",
       "      <th></th>\n",
       "      <th>edits</th>\n",
       "      <th>reverts</th>\n",
       "      <th>log</th>\n",
       "      <th>diff</th>\n",
       "      <th>volume</th>\n",
       "      <th>tot_size</th>\n",
       "      <th>time_online</th>\n",
       "      <th>speed</th>\n",
       "      <th>user</th>\n",
       "      <th>text</th>\n",
       "      <th>can_vote</th>\n",
       "      <th>vote_time</th>\n",
       "      <th>candidate</th>\n",
       "      <th>n</th>\n",
       "      <th>vote</th>\n",
       "      <th>lt</th>\n",
       "      <th>voter_category</th>\n",
       "      <th>recency_category</th>\n",
       "    </tr>\n",
       "  </thead>\n",
       "  <tbody>\n",
       "    <tr>\n",
       "      <th>0</th>\n",
       "      <td>1589</td>\n",
       "      <td>0</td>\n",
       "      <td>1621</td>\n",
       "      <td>262.0</td>\n",
       "      <td>1100.0</td>\n",
       "      <td>39000.0</td>\n",
       "      <td>95.0</td>\n",
       "      <td>0.57</td>\n",
       "      <td>Altes</td>\n",
       "      <td>2008-07-20</td>\n",
       "      <td>True</td>\n",
       "      <td>2008-11-23 00:34:00</td>\n",
       "      <td>Agent001</td>\n",
       "      <td>7.0</td>\n",
       "      <td>-1</td>\n",
       "      <td>0.023611</td>\n",
       "      <td>активный избиратель</td>\n",
       "      <td>активные пользователи</td>\n",
       "    </tr>\n",
       "    <tr>\n",
       "      <th>1</th>\n",
       "      <td>1589</td>\n",
       "      <td>0</td>\n",
       "      <td>1621</td>\n",
       "      <td>262.0</td>\n",
       "      <td>1100.0</td>\n",
       "      <td>39000.0</td>\n",
       "      <td>95.0</td>\n",
       "      <td>0.57</td>\n",
       "      <td>Altes</td>\n",
       "      <td>2008-07-20</td>\n",
       "      <td>True</td>\n",
       "      <td>2008-11-23 00:34:00</td>\n",
       "      <td>Chronicler</td>\n",
       "      <td>7.0</td>\n",
       "      <td>1</td>\n",
       "      <td>0.023611</td>\n",
       "      <td>активный избиратель</td>\n",
       "      <td>активные пользователи</td>\n",
       "    </tr>\n",
       "    <tr>\n",
       "      <th>2</th>\n",
       "      <td>1589</td>\n",
       "      <td>0</td>\n",
       "      <td>1621</td>\n",
       "      <td>262.0</td>\n",
       "      <td>1100.0</td>\n",
       "      <td>39000.0</td>\n",
       "      <td>95.0</td>\n",
       "      <td>0.57</td>\n",
       "      <td>Altes</td>\n",
       "      <td>2008-07-20</td>\n",
       "      <td>True</td>\n",
       "      <td>2008-11-23 00:34:00</td>\n",
       "      <td>EvgenyGenkin</td>\n",
       "      <td>7.0</td>\n",
       "      <td>1</td>\n",
       "      <td>0.023611</td>\n",
       "      <td>активный избиратель</td>\n",
       "      <td>активные пользователи</td>\n",
       "    </tr>\n",
       "    <tr>\n",
       "      <th>3</th>\n",
       "      <td>1589</td>\n",
       "      <td>0</td>\n",
       "      <td>1621</td>\n",
       "      <td>262.0</td>\n",
       "      <td>1100.0</td>\n",
       "      <td>39000.0</td>\n",
       "      <td>95.0</td>\n",
       "      <td>0.57</td>\n",
       "      <td>Altes</td>\n",
       "      <td>2008-07-20</td>\n",
       "      <td>True</td>\n",
       "      <td>2008-11-23 00:34:00</td>\n",
       "      <td>Ilya Voyager</td>\n",
       "      <td>7.0</td>\n",
       "      <td>1</td>\n",
       "      <td>0.023611</td>\n",
       "      <td>активный избиратель</td>\n",
       "      <td>активные пользователи</td>\n",
       "    </tr>\n",
       "    <tr>\n",
       "      <th>4</th>\n",
       "      <td>1589</td>\n",
       "      <td>0</td>\n",
       "      <td>1621</td>\n",
       "      <td>262.0</td>\n",
       "      <td>1100.0</td>\n",
       "      <td>39000.0</td>\n",
       "      <td>95.0</td>\n",
       "      <td>0.57</td>\n",
       "      <td>Altes</td>\n",
       "      <td>2008-07-20</td>\n",
       "      <td>True</td>\n",
       "      <td>2008-11-23 00:34:00</td>\n",
       "      <td>Kv75</td>\n",
       "      <td>7.0</td>\n",
       "      <td>1</td>\n",
       "      <td>0.023611</td>\n",
       "      <td>активный избиратель</td>\n",
       "      <td>активные пользователи</td>\n",
       "    </tr>\n",
       "    <tr>\n",
       "      <th>...</th>\n",
       "      <td>...</td>\n",
       "      <td>...</td>\n",
       "      <td>...</td>\n",
       "      <td>...</td>\n",
       "      <td>...</td>\n",
       "      <td>...</td>\n",
       "      <td>...</td>\n",
       "      <td>...</td>\n",
       "      <td>...</td>\n",
       "      <td>...</td>\n",
       "      <td>...</td>\n",
       "      <td>...</td>\n",
       "      <td>...</td>\n",
       "      <td>...</td>\n",
       "      <td>...</td>\n",
       "      <td>...</td>\n",
       "      <td>...</td>\n",
       "      <td>...</td>\n",
       "    </tr>\n",
       "    <tr>\n",
       "      <th>2823</th>\n",
       "      <td>402</td>\n",
       "      <td>0</td>\n",
       "      <td>770</td>\n",
       "      <td>53.0</td>\n",
       "      <td>330.0</td>\n",
       "      <td>37000.0</td>\n",
       "      <td>37.0</td>\n",
       "      <td>0.53</td>\n",
       "      <td>Altes</td>\n",
       "      <td>NaT</td>\n",
       "      <td>True</td>\n",
       "      <td>2023-02-05 14:18:00</td>\n",
       "      <td>Arsenal.UC</td>\n",
       "      <td>35.0</td>\n",
       "      <td>-1</td>\n",
       "      <td>6.595833</td>\n",
       "      <td>активный избиратель</td>\n",
       "      <td>активные пользователи</td>\n",
       "    </tr>\n",
       "    <tr>\n",
       "      <th>2824</th>\n",
       "      <td>402</td>\n",
       "      <td>0</td>\n",
       "      <td>770</td>\n",
       "      <td>53.0</td>\n",
       "      <td>330.0</td>\n",
       "      <td>37000.0</td>\n",
       "      <td>37.0</td>\n",
       "      <td>0.53</td>\n",
       "      <td>Altes</td>\n",
       "      <td>NaT</td>\n",
       "      <td>True</td>\n",
       "      <td>2023-02-05 14:18:00</td>\n",
       "      <td>Draa kul</td>\n",
       "      <td>35.0</td>\n",
       "      <td>1</td>\n",
       "      <td>6.595833</td>\n",
       "      <td>активный избиратель</td>\n",
       "      <td>активные пользователи</td>\n",
       "    </tr>\n",
       "    <tr>\n",
       "      <th>2825</th>\n",
       "      <td>402</td>\n",
       "      <td>0</td>\n",
       "      <td>770</td>\n",
       "      <td>53.0</td>\n",
       "      <td>330.0</td>\n",
       "      <td>37000.0</td>\n",
       "      <td>37.0</td>\n",
       "      <td>0.53</td>\n",
       "      <td>Altes</td>\n",
       "      <td>NaT</td>\n",
       "      <td>True</td>\n",
       "      <td>2023-02-05 14:18:00</td>\n",
       "      <td>Vyacheslav84</td>\n",
       "      <td>35.0</td>\n",
       "      <td>-1</td>\n",
       "      <td>6.595833</td>\n",
       "      <td>активный избиратель</td>\n",
       "      <td>активные пользователи</td>\n",
       "    </tr>\n",
       "    <tr>\n",
       "      <th>2826</th>\n",
       "      <td>402</td>\n",
       "      <td>0</td>\n",
       "      <td>770</td>\n",
       "      <td>53.0</td>\n",
       "      <td>330.0</td>\n",
       "      <td>37000.0</td>\n",
       "      <td>37.0</td>\n",
       "      <td>0.53</td>\n",
       "      <td>Altes</td>\n",
       "      <td>NaT</td>\n",
       "      <td>True</td>\n",
       "      <td>2023-08-05 21:35:00</td>\n",
       "      <td>Rampion</td>\n",
       "      <td>36.0</td>\n",
       "      <td>1</td>\n",
       "      <td>6.899306</td>\n",
       "      <td>активный избиратель</td>\n",
       "      <td>активные пользователи</td>\n",
       "    </tr>\n",
       "    <tr>\n",
       "      <th>2827</th>\n",
       "      <td>402</td>\n",
       "      <td>0</td>\n",
       "      <td>770</td>\n",
       "      <td>53.0</td>\n",
       "      <td>330.0</td>\n",
       "      <td>37000.0</td>\n",
       "      <td>37.0</td>\n",
       "      <td>0.53</td>\n",
       "      <td>Altes</td>\n",
       "      <td>NaT</td>\n",
       "      <td>True</td>\n",
       "      <td>2023-08-05 21:35:00</td>\n",
       "      <td>Ле Лой</td>\n",
       "      <td>36.0</td>\n",
       "      <td>1</td>\n",
       "      <td>6.899306</td>\n",
       "      <td>активный избиратель</td>\n",
       "      <td>активные пользователи</td>\n",
       "    </tr>\n",
       "  </tbody>\n",
       "</table>\n",
       "<p>2828 rows × 18 columns</p>\n",
       "</div>"
      ],
      "text/plain": [
       "      edits  reverts   log   diff  volume  tot_size  time_online  speed  \\\n",
       "0      1589        0  1621  262.0  1100.0   39000.0         95.0   0.57   \n",
       "1      1589        0  1621  262.0  1100.0   39000.0         95.0   0.57   \n",
       "2      1589        0  1621  262.0  1100.0   39000.0         95.0   0.57   \n",
       "3      1589        0  1621  262.0  1100.0   39000.0         95.0   0.57   \n",
       "4      1589        0  1621  262.0  1100.0   39000.0         95.0   0.57   \n",
       "...     ...      ...   ...    ...     ...       ...          ...    ...   \n",
       "2823    402        0   770   53.0   330.0   37000.0         37.0   0.53   \n",
       "2824    402        0   770   53.0   330.0   37000.0         37.0   0.53   \n",
       "2825    402        0   770   53.0   330.0   37000.0         37.0   0.53   \n",
       "2826    402        0   770   53.0   330.0   37000.0         37.0   0.53   \n",
       "2827    402        0   770   53.0   330.0   37000.0         37.0   0.53   \n",
       "\n",
       "       user       text  can_vote           vote_time     candidate     n  \\\n",
       "0     Altes 2008-07-20      True 2008-11-23 00:34:00      Agent001   7.0   \n",
       "1     Altes 2008-07-20      True 2008-11-23 00:34:00    Chronicler   7.0   \n",
       "2     Altes 2008-07-20      True 2008-11-23 00:34:00  EvgenyGenkin   7.0   \n",
       "3     Altes 2008-07-20      True 2008-11-23 00:34:00  Ilya Voyager   7.0   \n",
       "4     Altes 2008-07-20      True 2008-11-23 00:34:00          Kv75   7.0   \n",
       "...     ...        ...       ...                 ...           ...   ...   \n",
       "2823  Altes        NaT      True 2023-02-05 14:18:00    Arsenal.UC  35.0   \n",
       "2824  Altes        NaT      True 2023-02-05 14:18:00      Draa kul  35.0   \n",
       "2825  Altes        NaT      True 2023-02-05 14:18:00  Vyacheslav84  35.0   \n",
       "2826  Altes        NaT      True 2023-08-05 21:35:00       Rampion  36.0   \n",
       "2827  Altes        NaT      True 2023-08-05 21:35:00        Ле Лой  36.0   \n",
       "\n",
       "      vote        lt       voter_category       recency_category  \n",
       "0       -1  0.023611  активный избиратель  активные пользователи  \n",
       "1        1  0.023611  активный избиратель  активные пользователи  \n",
       "2        1  0.023611  активный избиратель  активные пользователи  \n",
       "3        1  0.023611  активный избиратель  активные пользователи  \n",
       "4        1  0.023611  активный избиратель  активные пользователи  \n",
       "...    ...       ...                  ...                    ...  \n",
       "2823    -1  6.595833  активный избиратель  активные пользователи  \n",
       "2824     1  6.595833  активный избиратель  активные пользователи  \n",
       "2825    -1  6.595833  активный избиратель  активные пользователи  \n",
       "2826     1  6.899306  активный избиратель  активные пользователи  \n",
       "2827     1  6.899306  активный избиратель  активные пользователи  \n",
       "\n",
       "[2828 rows x 18 columns]"
      ]
     },
     "execution_count": 50,
     "metadata": {},
     "output_type": "execute_result"
    }
   ],
   "source": [
    "#проверим, что сработало как задумано\n",
    "df[df['user'] == 'Altes']"
   ]
  },
  {
   "cell_type": "code",
   "execution_count": 51,
   "id": "745cf910",
   "metadata": {},
   "outputs": [
    {
     "data": {
      "text/plain": [
       "Timestamp('2004-12-20 00:00:00')"
      ]
     },
     "execution_count": 51,
     "metadata": {},
     "output_type": "execute_result"
    }
   ],
   "source": [
    "df[df['recency_category'] == 'бывшие пользователи']['text'].max()"
   ]
  },
  {
   "cell_type": "code",
   "execution_count": 52,
   "id": "d9a488f0",
   "metadata": {},
   "outputs": [
    {
     "data": {
      "text/plain": [
       "recency_category\n",
       "активные пользователи    932\n",
       "старые пользователи       88\n",
       "бывшие пользователи       52\n",
       "Name: user, dtype: int64"
      ]
     },
     "execution_count": 52,
     "metadata": {},
     "output_type": "execute_result"
    }
   ],
   "source": [
    "#посмотрим, какое количество юзеров у нас попало в каждую категорию\n",
    "unique_users_per_recency_category = df.drop_duplicates('user').groupby('recency_category')['user'].count() \\\n",
    "                                     .sort_values(ascending=False)\n",
    "unique_users_per_recency_category"
   ]
  },
  {
   "cell_type": "markdown",
   "id": "e8e612ef",
   "metadata": {},
   "source": [
    "**Выходит, что большинство пользователей (932 человека) оставались активными на последние годы, но некоторые не проявляли активность с 2004 года (\"бывшие пользователи\" - 52 человека), а некоторые после 2008 года (\"старые пользователи\" - 88 человек). Также не стоит забывать, что мы смогли категоризировать лишь тех избирателей, по которым была информация о датах активности в столбце 'text'. Визуализируем полученные результаты с помощью круговой диаграммы для наглядности.**"
   ]
  },
  {
   "cell_type": "code",
   "execution_count": 53,
   "id": "14ca2cbc",
   "metadata": {},
   "outputs": [
    {
     "data": {
      "image/png": "[encoded data removed]",
      "text/plain": [
       "<Figure size 600x600 with 1 Axes>"
      ]
     },
     "metadata": {},
     "output_type": "display_data"
    }
   ],
   "source": [
    "# Данные\n",
    "categories = unique_users_per_recency_category.index\n",
    "counts = unique_users_per_recency_category.values\n",
    "\n",
    "# Создание круговой диаграммы\n",
    "plt.figure(figsize=(6, 6))\n",
    "plt.pie(counts, labels=categories, autopct='%1.1f%%', startangle=140)\n",
    "plt.axis('equal')  # Сделать круговую диаграмму круглой\n",
    "plt.title('Распределение пользователей по категориям давности периода активности')\n",
    "plt.show()"
   ]
  },
  {
   "cell_type": "markdown",
   "id": "a5c7f920",
   "metadata": {},
   "source": [
    "**Разобьем пользователей на сегменты по сумме внесенных правок.**"
   ]
  },
  {
   "cell_type": "code",
   "execution_count": 54,
   "id": "1ad4817c",
   "metadata": {},
   "outputs": [
    {
     "data": {
      "text/plain": [
       "count       1072.00\n",
       "mean     1619631.95\n",
       "std      5077431.39\n",
       "min           42.00\n",
       "25%        22758.00\n",
       "50%       122262.50\n",
       "75%       715585.25\n",
       "max     66060456.00\n",
       "Name: edits, dtype: float64"
      ]
     },
     "execution_count": 54,
     "metadata": {},
     "output_type": "execute_result"
    }
   ],
   "source": [
    "# сначала определимся с границами сегментов\n",
    "user_edits = df.groupby('user')['edits'].sum()\n",
    "pd.set_option('display.float_format', '{:.2f}'.format)\n",
    "user_edits.describe()"
   ]
  },
  {
   "cell_type": "code",
   "execution_count": 55,
   "id": "5b3b607c",
   "metadata": {},
   "outputs": [],
   "source": [
    "def categorize_edit(edit_sum):\n",
    "    if edit_sum <= 50000:\n",
    "        return \"малое количество правок\"\n",
    "    elif 50001 <= edit_sum <= 300000:\n",
    "        return \"среднее количество правок\"\n",
    "    else:\n",
    "        return \"большое количество правок\"\n",
    "\n",
    "df['edit_category'] = df.groupby('user')['edits'].transform('sum').apply(categorize_edit)"
   ]
  },
  {
   "cell_type": "code",
   "execution_count": 56,
   "id": "047340d1",
   "metadata": {},
   "outputs": [
    {
     "data": {
      "text/plain": [
       "count       1072.00\n",
       "mean     1619631.95\n",
       "std      5077431.39\n",
       "min           42.00\n",
       "25%        22758.00\n",
       "50%       122262.50\n",
       "75%       715585.25\n",
       "max     66060456.00\n",
       "Name: edits, dtype: float64"
      ]
     },
     "execution_count": 56,
     "metadata": {},
     "output_type": "execute_result"
    }
   ],
   "source": [
    "df.groupby('user')['edits'].sum().describe()"
   ]
  },
  {
   "cell_type": "code",
   "execution_count": 57,
   "id": "7957e40f",
   "metadata": {},
   "outputs": [
    {
     "data": {
      "text/html": [
       "<div>\n",
       "<style scoped>\n",
       "    .dataframe tbody tr th:only-of-type {\n",
       "        vertical-align: middle;\n",
       "    }\n",
       "\n",
       "    .dataframe tbody tr th {\n",
       "        vertical-align: top;\n",
       "    }\n",
       "\n",
       "    .dataframe thead th {\n",
       "        text-align: right;\n",
       "    }\n",
       "</style>\n",
       "<table border=\"1\" class=\"dataframe\">\n",
       "  <thead>\n",
       "    <tr style=\"text-align: right;\">\n",
       "      <th></th>\n",
       "      <th>edits</th>\n",
       "      <th>reverts</th>\n",
       "      <th>log</th>\n",
       "      <th>diff</th>\n",
       "      <th>volume</th>\n",
       "      <th>tot_size</th>\n",
       "      <th>time_online</th>\n",
       "      <th>speed</th>\n",
       "      <th>user</th>\n",
       "      <th>text</th>\n",
       "      <th>can_vote</th>\n",
       "      <th>vote_time</th>\n",
       "      <th>candidate</th>\n",
       "      <th>n</th>\n",
       "      <th>vote</th>\n",
       "      <th>lt</th>\n",
       "      <th>voter_category</th>\n",
       "      <th>recency_category</th>\n",
       "      <th>edit_category</th>\n",
       "    </tr>\n",
       "  </thead>\n",
       "  <tbody>\n",
       "    <tr>\n",
       "      <th>0</th>\n",
       "      <td>1589</td>\n",
       "      <td>0</td>\n",
       "      <td>1621</td>\n",
       "      <td>262.00</td>\n",
       "      <td>1100.00</td>\n",
       "      <td>39000.00</td>\n",
       "      <td>95.00</td>\n",
       "      <td>0.57</td>\n",
       "      <td>Altes</td>\n",
       "      <td>2008-07-20</td>\n",
       "      <td>True</td>\n",
       "      <td>2008-11-23 00:34:00</td>\n",
       "      <td>Agent001</td>\n",
       "      <td>7.00</td>\n",
       "      <td>-1</td>\n",
       "      <td>0.02</td>\n",
       "      <td>активный избиратель</td>\n",
       "      <td>активные пользователи</td>\n",
       "      <td>большое количество правок</td>\n",
       "    </tr>\n",
       "    <tr>\n",
       "      <th>1</th>\n",
       "      <td>1589</td>\n",
       "      <td>0</td>\n",
       "      <td>1621</td>\n",
       "      <td>262.00</td>\n",
       "      <td>1100.00</td>\n",
       "      <td>39000.00</td>\n",
       "      <td>95.00</td>\n",
       "      <td>0.57</td>\n",
       "      <td>Altes</td>\n",
       "      <td>2008-07-20</td>\n",
       "      <td>True</td>\n",
       "      <td>2008-11-23 00:34:00</td>\n",
       "      <td>Chronicler</td>\n",
       "      <td>7.00</td>\n",
       "      <td>1</td>\n",
       "      <td>0.02</td>\n",
       "      <td>активный избиратель</td>\n",
       "      <td>активные пользователи</td>\n",
       "      <td>большое количество правок</td>\n",
       "    </tr>\n",
       "    <tr>\n",
       "      <th>2</th>\n",
       "      <td>1589</td>\n",
       "      <td>0</td>\n",
       "      <td>1621</td>\n",
       "      <td>262.00</td>\n",
       "      <td>1100.00</td>\n",
       "      <td>39000.00</td>\n",
       "      <td>95.00</td>\n",
       "      <td>0.57</td>\n",
       "      <td>Altes</td>\n",
       "      <td>2008-07-20</td>\n",
       "      <td>True</td>\n",
       "      <td>2008-11-23 00:34:00</td>\n",
       "      <td>EvgenyGenkin</td>\n",
       "      <td>7.00</td>\n",
       "      <td>1</td>\n",
       "      <td>0.02</td>\n",
       "      <td>активный избиратель</td>\n",
       "      <td>активные пользователи</td>\n",
       "      <td>большое количество правок</td>\n",
       "    </tr>\n",
       "    <tr>\n",
       "      <th>3</th>\n",
       "      <td>1589</td>\n",
       "      <td>0</td>\n",
       "      <td>1621</td>\n",
       "      <td>262.00</td>\n",
       "      <td>1100.00</td>\n",
       "      <td>39000.00</td>\n",
       "      <td>95.00</td>\n",
       "      <td>0.57</td>\n",
       "      <td>Altes</td>\n",
       "      <td>2008-07-20</td>\n",
       "      <td>True</td>\n",
       "      <td>2008-11-23 00:34:00</td>\n",
       "      <td>Ilya Voyager</td>\n",
       "      <td>7.00</td>\n",
       "      <td>1</td>\n",
       "      <td>0.02</td>\n",
       "      <td>активный избиратель</td>\n",
       "      <td>активные пользователи</td>\n",
       "      <td>большое количество правок</td>\n",
       "    </tr>\n",
       "    <tr>\n",
       "      <th>4</th>\n",
       "      <td>1589</td>\n",
       "      <td>0</td>\n",
       "      <td>1621</td>\n",
       "      <td>262.00</td>\n",
       "      <td>1100.00</td>\n",
       "      <td>39000.00</td>\n",
       "      <td>95.00</td>\n",
       "      <td>0.57</td>\n",
       "      <td>Altes</td>\n",
       "      <td>2008-07-20</td>\n",
       "      <td>True</td>\n",
       "      <td>2008-11-23 00:34:00</td>\n",
       "      <td>Kv75</td>\n",
       "      <td>7.00</td>\n",
       "      <td>1</td>\n",
       "      <td>0.02</td>\n",
       "      <td>активный избиратель</td>\n",
       "      <td>активные пользователи</td>\n",
       "      <td>большое количество правок</td>\n",
       "    </tr>\n",
       "  </tbody>\n",
       "</table>\n",
       "</div>"
      ],
      "text/plain": [
       "   edits  reverts   log   diff  volume  tot_size  time_online  speed   user  \\\n",
       "0   1589        0  1621 262.00 1100.00  39000.00        95.00   0.57  Altes   \n",
       "1   1589        0  1621 262.00 1100.00  39000.00        95.00   0.57  Altes   \n",
       "2   1589        0  1621 262.00 1100.00  39000.00        95.00   0.57  Altes   \n",
       "3   1589        0  1621 262.00 1100.00  39000.00        95.00   0.57  Altes   \n",
       "4   1589        0  1621 262.00 1100.00  39000.00        95.00   0.57  Altes   \n",
       "\n",
       "        text  can_vote           vote_time     candidate    n  vote   lt  \\\n",
       "0 2008-07-20      True 2008-11-23 00:34:00      Agent001 7.00    -1 0.02   \n",
       "1 2008-07-20      True 2008-11-23 00:34:00    Chronicler 7.00     1 0.02   \n",
       "2 2008-07-20      True 2008-11-23 00:34:00  EvgenyGenkin 7.00     1 0.02   \n",
       "3 2008-07-20      True 2008-11-23 00:34:00  Ilya Voyager 7.00     1 0.02   \n",
       "4 2008-07-20      True 2008-11-23 00:34:00          Kv75 7.00     1 0.02   \n",
       "\n",
       "        voter_category       recency_category              edit_category  \n",
       "0  активный избиратель  активные пользователи  большое количество правок  \n",
       "1  активный избиратель  активные пользователи  большое количество правок  \n",
       "2  активный избиратель  активные пользователи  большое количество правок  \n",
       "3  активный избиратель  активные пользователи  большое количество правок  \n",
       "4  активный избиратель  активные пользователи  большое количество правок  "
      ]
     },
     "execution_count": 57,
     "metadata": {},
     "output_type": "execute_result"
    }
   ],
   "source": [
    "df.head()"
   ]
  },
  {
   "cell_type": "code",
   "execution_count": 58,
   "id": "833057aa",
   "metadata": {},
   "outputs": [
    {
     "data": {
      "text/plain": [
       "edit_category\n",
       "большое количество правок    399\n",
       "малое количество правок      384\n",
       "среднее количество правок    289\n",
       "Name: user, dtype: int64"
      ]
     },
     "execution_count": 58,
     "metadata": {},
     "output_type": "execute_result"
    }
   ],
   "source": [
    "#посмотрим, какое количество юзеров у нас попало в каждую категорию\n",
    "unique_users_per_edit_category = df.drop_duplicates('user').groupby('edit_category')['user'].count()\n",
    "unique_users_per_edit_category"
   ]
  },
  {
   "cell_type": "markdown",
   "id": "d634aab5",
   "metadata": {},
   "source": [
    "**У нас получилось 384 человека с общим количеством правок до 50000; 289 человек с количеством правок от 50001 до 300000 и 399 человек с большим количеством правок (от 300001 правки).**"
   ]
  },
  {
   "cell_type": "code",
   "execution_count": 59,
   "id": "3ed84608",
   "metadata": {
    "scrolled": false
   },
   "outputs": [
    {
     "data": {
      "image/png": "[encoded data removed]",
      "text/plain": [
       "<Figure size 1000x600 with 1 Axes>"
      ]
     },
     "metadata": {},
     "output_type": "display_data"
    }
   ],
   "source": [
    "# Данные\n",
    "categories = unique_users_per_edit_category.index\n",
    "counts = unique_users_per_edit_category.values\n",
    "\n",
    "# Создание столбчатой диаграммы с Seaborn и палитрой \"Set1\"\n",
    "plt.figure(figsize=(10, 6))\n",
    "sns.barplot(x=categories, y=counts, palette='Set1')  # Используем палитру \"Set1\"\n",
    "plt.xlabel('Категории количества правок')\n",
    "plt.ylabel('Количество уникальных пользователей')\n",
    "plt.title('Распределение уникальных пользователей по категориям количества правок')\n",
    "plt.xticks(rotation=45)  # Повернуть подписи по оси x, если необходимо\n",
    "\n",
    "# Добавление подписей над столбцами\n",
    "for i, count in enumerate(counts):\n",
    "    plt.text(i, count, str(count), ha='center', va='bottom', fontsize=10)\n",
    "\n",
    "plt.tight_layout()\n",
    "plt.show()\n"
   ]
  },
  {
   "cell_type": "markdown",
   "id": "8c56748d",
   "metadata": {},
   "source": [
    "**Определим частоту участия в голосованиях по избирателям.**"
   ]
  },
  {
   "cell_type": "code",
   "execution_count": 60,
   "id": "d62eb0c5",
   "metadata": {},
   "outputs": [],
   "source": [
    "# Группируем данные по пользователю и находим минимальное и максимальное время голосования\n",
    "user_activity = df.groupby('user')['vote_time'].agg(['min', 'max'])\n",
    "\n",
    "# Вычисляем разницу между максимальным и минимальным временем и переводим в месяцы\n",
    "user_activity['activity_duration_months'] = (user_activity['max'] - user_activity['min']).dt.days / 30\n",
    "\n",
    "# Объединяем результат с исходным DataFrame по столбцу 'user'\n",
    "df = df.merge(user_activity, on='user', how='left')"
   ]
  },
  {
   "cell_type": "code",
   "execution_count": 61,
   "id": "be5567de",
   "metadata": {},
   "outputs": [
    {
     "data": {
      "text/html": [
       "<div>\n",
       "<style scoped>\n",
       "    .dataframe tbody tr th:only-of-type {\n",
       "        vertical-align: middle;\n",
       "    }\n",
       "\n",
       "    .dataframe tbody tr th {\n",
       "        vertical-align: top;\n",
       "    }\n",
       "\n",
       "    .dataframe thead th {\n",
       "        text-align: right;\n",
       "    }\n",
       "</style>\n",
       "<table border=\"1\" class=\"dataframe\">\n",
       "  <thead>\n",
       "    <tr style=\"text-align: right;\">\n",
       "      <th></th>\n",
       "      <th>edits</th>\n",
       "      <th>reverts</th>\n",
       "      <th>log</th>\n",
       "      <th>diff</th>\n",
       "      <th>volume</th>\n",
       "      <th>tot_size</th>\n",
       "      <th>time_online</th>\n",
       "      <th>speed</th>\n",
       "      <th>user</th>\n",
       "      <th>text</th>\n",
       "      <th>...</th>\n",
       "      <th>candidate</th>\n",
       "      <th>n</th>\n",
       "      <th>vote</th>\n",
       "      <th>lt</th>\n",
       "      <th>voter_category</th>\n",
       "      <th>recency_category</th>\n",
       "      <th>edit_category</th>\n",
       "      <th>min</th>\n",
       "      <th>max</th>\n",
       "      <th>activity_duration_months</th>\n",
       "    </tr>\n",
       "  </thead>\n",
       "  <tbody>\n",
       "    <tr>\n",
       "      <th>547233</th>\n",
       "      <td>564</td>\n",
       "      <td>0</td>\n",
       "      <td>7</td>\n",
       "      <td>318.00</td>\n",
       "      <td>483.00</td>\n",
       "      <td>13000.00</td>\n",
       "      <td>37.00</td>\n",
       "      <td>0.25</td>\n",
       "      <td>Ququ</td>\n",
       "      <td>2005-08-20</td>\n",
       "      <td>...</td>\n",
       "      <td>Berserkerus</td>\n",
       "      <td>7.00</td>\n",
       "      <td>1</td>\n",
       "      <td>1.86</td>\n",
       "      <td>неактивный избиратель</td>\n",
       "      <td>активные пользователи</td>\n",
       "      <td>среднее количество правок</td>\n",
       "      <td>2008-11-24 20:43:00</td>\n",
       "      <td>2023-08-30 10:29:00</td>\n",
       "      <td>179.70</td>\n",
       "    </tr>\n",
       "  </tbody>\n",
       "</table>\n",
       "<p>1 rows × 22 columns</p>\n",
       "</div>"
      ],
      "text/plain": [
       "        edits  reverts  log   diff  volume  tot_size  time_online  speed  \\\n",
       "547233    564        0    7 318.00  483.00  13000.00        37.00   0.25   \n",
       "\n",
       "        user       text  ...    candidate    n vote   lt  \\\n",
       "547233  Ququ 2005-08-20  ...  Berserkerus 7.00    1 1.86   \n",
       "\n",
       "               voter_category       recency_category  \\\n",
       "547233  неактивный избиратель  активные пользователи   \n",
       "\n",
       "                    edit_category                 min                 max  \\\n",
       "547233  среднее количество правок 2008-11-24 20:43:00 2023-08-30 10:29:00   \n",
       "\n",
       "       activity_duration_months  \n",
       "547233                   179.70  \n",
       "\n",
       "[1 rows x 22 columns]"
      ]
     },
     "execution_count": 61,
     "metadata": {},
     "output_type": "execute_result"
    }
   ],
   "source": [
    "# выведем, сколько месяцев в сервисе присутствовал самый преданный пользователь\n",
    "df[df['activity_duration_months'] == df['activity_duration_months'].max()].head(1)"
   ]
  },
  {
   "cell_type": "markdown",
   "id": "c6dee3bd",
   "metadata": {},
   "source": [
    "**Пользователь с ником Ququ провел в сервисе уже почти 180 месяцев!**"
   ]
  },
  {
   "cell_type": "code",
   "execution_count": 62,
   "id": "1483fc9e",
   "metadata": {},
   "outputs": [],
   "source": [
    "# Рассчитываем среднее количество голосов в месяц для каждого пользователя и добавляем в DataFrame\n",
    "df['voting_frequency'] = df.groupby('user')['vote'].transform('count') / df['activity_duration_months']"
   ]
  },
  {
   "cell_type": "code",
   "execution_count": 63,
   "id": "1b172a3b",
   "metadata": {},
   "outputs": [
    {
     "data": {
      "text/plain": [
       "82.68496675959682"
      ]
     },
     "execution_count": 63,
     "metadata": {},
     "output_type": "execute_result"
    }
   ],
   "source": [
    "#посчитаем, сколько раз в месяц в среднем каждый пользователь принимал участие в голосованиях\n",
    "df['voting_frequency'].median()"
   ]
  },
  {
   "cell_type": "markdown",
   "id": "d5059995",
   "metadata": {},
   "source": [
    "**Получается, что в среднем каждый избиратель голосовал по 83 раза в месяц.**"
   ]
  },
  {
   "cell_type": "markdown",
   "id": "0f8d1d23",
   "metadata": {},
   "source": [
    "**Узнаем, сколько в среднем правок оставлял пользователь в месяц.**"
   ]
  },
  {
   "cell_type": "code",
   "execution_count": 64,
   "id": "c8725cbe",
   "metadata": {},
   "outputs": [],
   "source": [
    "# Рассчитываем среднее количество правок в месяц для каждого пользователя и добавляем в DataFrame\n",
    "df['edits_frequency'] = df.groupby('user')['edits'].transform('max') / df['activity_duration_months']"
   ]
  },
  {
   "cell_type": "code",
   "execution_count": 65,
   "id": "bcd38285",
   "metadata": {
    "scrolled": true
   },
   "outputs": [
    {
     "data": {
      "text/plain": [
       "18.14031180400891"
      ]
     },
     "execution_count": 65,
     "metadata": {},
     "output_type": "execute_result"
    }
   ],
   "source": [
    "#посчитаем, сколько раз в месяц в среднем каждый пользователь вносил правки\n",
    "df['edits_frequency'].median()"
   ]
  },
  {
   "cell_type": "markdown",
   "id": "58d58eee",
   "metadata": {},
   "source": [
    "**В среднем каждый пользователь вносил по 18 правок в месяц за изучаемый период.**"
   ]
  },
  {
   "cell_type": "code",
   "execution_count": 66,
   "id": "a5c1ac95",
   "metadata": {},
   "outputs": [
    {
     "data": {
      "text/plain": [
       "array([ 7.  ,  8.  ,  9.  , 10.  , 11.  , 12.  , 13.  , 14.  , 15.  ,\n",
       "       15.5 , 16.  , 17.  , 18.  , 18.5 , 19.  , 19.5 , 20.  , 21.  ,\n",
       "       22.  , 23.  , 23.5 , 24.  , 24.5 , 25.  , 26.5 , 27.  , 27.5 ,\n",
       "       27.75, 28.  , 28.5 , 29.5 , 30.  , 31.  , 32.  , 33.  , 34.  ,\n",
       "       35.  , 36.  , 22.5 , 26.  , 29.  , 26.75, 36.5 , 35.5 ])"
      ]
     },
     "execution_count": 66,
     "metadata": {},
     "output_type": "execute_result"
    }
   ],
   "source": [
    "#посчитаем, сколько всего было выборов за промежуток времени, представленный в датасете\n",
    "df['n'].unique()"
   ]
  },
  {
   "cell_type": "code",
   "execution_count": 67,
   "id": "47384350",
   "metadata": {},
   "outputs": [
    {
     "data": {
      "text/plain": [
       "44"
      ]
     },
     "execution_count": 67,
     "metadata": {},
     "output_type": "execute_result"
    }
   ],
   "source": [
    "df['n'].nunique()"
   ]
  },
  {
   "cell_type": "code",
   "execution_count": 68,
   "id": "d8d8f6f4",
   "metadata": {},
   "outputs": [],
   "source": [
    "#создадим столбец с номерами выборов без дробных частей (т.к. дробная часть означает довыборы)\n",
    "df['election_number'] = df['n'].apply(np.floor).astype(int)"
   ]
  },
  {
   "cell_type": "code",
   "execution_count": 69,
   "id": "3493ea4a",
   "metadata": {},
   "outputs": [
    {
     "data": {
      "text/plain": [
       "array([ 7,  8,  9, 10, 11, 12, 13, 14, 15, 16, 17, 18, 19, 20, 21, 22, 23,\n",
       "       24, 25, 26, 27, 28, 29, 30, 31, 32, 33, 34, 35, 36])"
      ]
     },
     "execution_count": 69,
     "metadata": {},
     "output_type": "execute_result"
    }
   ],
   "source": [
    "df['election_number'].unique()"
   ]
  },
  {
   "cell_type": "code",
   "execution_count": 70,
   "id": "7df17a9e",
   "metadata": {},
   "outputs": [
    {
     "data": {
      "text/plain": [
       "30"
      ]
     },
     "execution_count": 70,
     "metadata": {},
     "output_type": "execute_result"
    }
   ],
   "source": [
    "#сколько было выборов?\n",
    "df['election_number'].nunique()"
   ]
  },
  {
   "cell_type": "code",
   "execution_count": 71,
   "id": "144ce736",
   "metadata": {},
   "outputs": [
    {
     "data": {
      "text/plain": [
       "Timestamp('2008-11-23 00:32:00')"
      ]
     },
     "execution_count": 71,
     "metadata": {},
     "output_type": "execute_result"
    }
   ],
   "source": [
    "df['vote_time'].min()"
   ]
  },
  {
   "cell_type": "code",
   "execution_count": 72,
   "id": "0d03b2a1",
   "metadata": {},
   "outputs": [
    {
     "data": {
      "text/plain": [
       "Timestamp('2023-08-30 20:38:00')"
      ]
     },
     "execution_count": 72,
     "metadata": {},
     "output_type": "execute_result"
    }
   ],
   "source": [
    "df['vote_time'].max()"
   ]
  },
  {
   "cell_type": "markdown",
   "id": "a2301ce4",
   "metadata": {},
   "source": [
    "**Итак, мы установили, что в нашем датасете представлена информация по 30-ти выборам, которые проходили в промежуток между ноябрем 2008 года и августом 2023 года.**"
   ]
  },
  {
   "cell_type": "code",
   "execution_count": 73,
   "id": "c6009cad",
   "metadata": {},
   "outputs": [
    {
     "data": {
      "text/plain": [
       "227"
      ]
     },
     "execution_count": 73,
     "metadata": {},
     "output_type": "execute_result"
    }
   ],
   "source": [
    "df['candidate'].nunique()"
   ]
  },
  {
   "cell_type": "markdown",
   "id": "eec0b96f",
   "metadata": {},
   "source": [
    "**За весь изучаемый период в качестве кандидатов выступало 227 человек.**"
   ]
  },
  {
   "cell_type": "markdown",
   "id": "0f599128",
   "metadata": {},
   "source": [
    "**Создадим новый столбец 'election_result' с информацией о победе или поражении каждого кандидата.**"
   ]
  },
  {
   "cell_type": "code",
   "execution_count": 74,
   "id": "8ae11dab",
   "metadata": {},
   "outputs": [],
   "source": [
    "# Создаем пустой столбец 'election_result' в исходном DataFrame\n",
    "df['election_result'] = ''\n",
    "\n",
    "# Группируем данные по столбцу 'election_number'\n",
    "for election_number, group in df.groupby('election_number'):\n",
    "    # Группируем данные по кандидату и считаем количество голосов равных 1 и -1\n",
    "    candidate_votes = group.groupby('candidate')['vote'].value_counts().unstack(fill_value=0)\n",
    "    \n",
    "    # Определяем условие для победы\n",
    "    win_condition = candidate_votes[1] / (candidate_votes[1] + candidate_votes[-1]) >= 2/3\n",
    "    \n",
    "    # Обновляем столбец 'election_result' для текущей выборной кампании\n",
    "    df.loc[df['election_number'] == election_number, 'election_result'] = df[df['election_number'] == election_number]['candidate'].apply(lambda x: 'выиграл' if win_condition.get(x, False) else 'проиграл')"
   ]
  },
  {
   "cell_type": "code",
   "execution_count": 75,
   "id": "2ea82170",
   "metadata": {},
   "outputs": [
    {
     "data": {
      "text/plain": [
       "election_number\n",
       "7      6\n",
       "8     11\n",
       "9      8\n",
       "10     8\n",
       "11     8\n",
       "12     7\n",
       "13     6\n",
       "14     8\n",
       "15    10\n",
       "16     6\n",
       "17     6\n",
       "18     8\n",
       "19     6\n",
       "20     6\n",
       "21     8\n",
       "22     5\n",
       "23     5\n",
       "24     7\n",
       "25     7\n",
       "26     5\n",
       "27     4\n",
       "28     6\n",
       "29     6\n",
       "30     6\n",
       "31     7\n",
       "32     6\n",
       "33     6\n",
       "34     5\n",
       "35     5\n",
       "36     7\n",
       "Name: candidate, dtype: int64"
      ]
     },
     "execution_count": 75,
     "metadata": {},
     "output_type": "execute_result"
    }
   ],
   "source": [
    "# посмотрим, сколько победителей было в каждой выборной кампании\n",
    "df[df['election_result'] == 'выиграл'].groupby('election_number')['candidate'].nunique()"
   ]
  },
  {
   "cell_type": "code",
   "execution_count": 76,
   "id": "c67bdba2",
   "metadata": {},
   "outputs": [
    {
     "data": {
      "text/plain": [
       "election_number\n",
       "7      8\n",
       "8      5\n",
       "9     11\n",
       "10    11\n",
       "11    12\n",
       "12    10\n",
       "13     8\n",
       "14     5\n",
       "15    12\n",
       "16     5\n",
       "17     8\n",
       "18    10\n",
       "19     8\n",
       "20     5\n",
       "21     7\n",
       "22    12\n",
       "23    16\n",
       "24     9\n",
       "25     7\n",
       "26    13\n",
       "27    11\n",
       "28    10\n",
       "29    10\n",
       "30     8\n",
       "31     6\n",
       "32    22\n",
       "33    11\n",
       "34    10\n",
       "35     7\n",
       "36     5\n",
       "Name: candidate, dtype: int64"
      ]
     },
     "execution_count": 76,
     "metadata": {},
     "output_type": "execute_result"
    }
   ],
   "source": [
    "# посмотрим, сколько проигравших было в каждой выборной кампании\n",
    "df[df['election_result'] == 'проиграл'].groupby('election_number')['candidate'].nunique()"
   ]
  },
  {
   "cell_type": "markdown",
   "id": "5adef796",
   "metadata": {},
   "source": [
    "**Выведем информацию о том, на каких выборах какой кандидат одерживал победу.**"
   ]
  },
  {
   "cell_type": "code",
   "execution_count": 77,
   "id": "99002831",
   "metadata": {},
   "outputs": [
    {
     "data": {
      "text/plain": [
       "candidate\n",
       "A.Vajrapani                             [17, 20, 15, 24]\n",
       "Abiyoyo                                             [11]\n",
       "Adamant.pwn                                     [30, 35]\n",
       "Akim Dubrow                                         [20]\n",
       "Alexander Roumega                                   [27]\n",
       "Alexei Kopylov                                      [29]\n",
       "Altes                                           [11, 15]\n",
       "AndyVolykhov                                        [30]\n",
       "Artem Korzhimanov                               [12, 10]\n",
       "Bapak Alex                                          [32]\n",
       "Be nt all                                       [16, 22]\n",
       "Bezik                                               [21]\n",
       "Biathlon                    [15, 18, 21, 23, 24, 32, 14]\n",
       "Blacklake                                    [11, 13, 9]\n",
       "Carn                                         [33, 8, 30]\n",
       "Chronicler                                           [7]\n",
       "Claymore                                             [9]\n",
       "Colt browning                                   [30, 35]\n",
       "D.bratchuk                              [12, 13, 18, 19]\n",
       "DR                                               [8, 14]\n",
       "DZ                                                  [21]\n",
       "Daryona                                             [10]\n",
       "David.s.kats                                    [10, 36]\n",
       "Deinocheirus                            [16, 18, 23, 34]\n",
       "Deltahead                                           [32]\n",
       "Dima st bk                                      [25, 27]\n",
       "Dmitry Rozhkov                                   [11, 9]\n",
       "Dodonov                                             [11]\n",
       "Draa kul                                    [21, 33, 35]\n",
       "El-chupanebrej                              [17, 21, 33]\n",
       "EvgenyGenkin                                         [7]\n",
       "Excellence                                      [34, 35]\n",
       "Fedor Babkin                                        [19]\n",
       "GAndy                                               [23]\n",
       "Generous                                            [14]\n",
       "Ghuron                                              [22]\n",
       "Good Will Hunting                               [25, 26]\n",
       "INSAR                                               [13]\n",
       "Ilya Voyager                                  [7, 9, 15]\n",
       "Kaganer                                      [28, 29, 7]\n",
       "Khinkali                                            [34]\n",
       "Klip game                                           [29]\n",
       "Krassotkin                                          [17]\n",
       "Kv75                                                 [7]\n",
       "LEMeZza                                              [9]\n",
       "Lazyhawk                                            [15]\n",
       "Lesless                                     [30, 22, 36]\n",
       "Levg                                         [13, 11, 8]\n",
       "Loyna                                                [8]\n",
       "Luterr                                              [25]\n",
       "Maxinvestigator                                     [27]\n",
       "Meiræ                                               [36]\n",
       "Melirius                                [16, 21, 23, 15]\n",
       "Michgrig                                [14, 20, 21, 26]\n",
       "Mihail Lavrov                                       [22]\n",
       "NBS                                              [12, 9]\n",
       "Oleg Yunakov                                        [33]\n",
       "Ouaf-ouaf2010                                       [31]\n",
       "Pessimist2006                                       [15]\n",
       "Petrov Victor                                   [18, 19]\n",
       "Pi novikov                                          [36]\n",
       "Putnik                                              [28]\n",
       "Rampion                                             [36]\n",
       "Rubin16                                             [16]\n",
       "ShinePhantom                                        [13]\n",
       "Sir Shurf               [18, 19, 21, 24, 26, 28, 31, 33]\n",
       "Tatewaki                                            [34]\n",
       "TenBaseT                            [18, 20, 23, 15, 26]\n",
       "Testus                                           [8, 10]\n",
       "Track13                                             [10]\n",
       "VasilievVV                                  [12, 13, 14]\n",
       "Venzz                                   [31, 32, 35, 36]\n",
       "Victoria                                         [8, 14]\n",
       "Vladimir Solovjev       [10, 12, 28, 29, 14, 17, 19, 18]\n",
       "Vlsergey                                    [11, 14, 16]\n",
       "Vyacheslav Bukharov                                 [31]\n",
       "W2                                                  [17]\n",
       "Wanderer                                    [17, 25, 15]\n",
       "Wind                                             [8, 15]\n",
       "Wulfson                                       [8, 9, 11]\n",
       "Yaroslav Blanter                                 [8, 10]\n",
       "Zanka                                   [24, 25, 28, 29]\n",
       "Акутагава                                           [24]\n",
       "Александр Сигачёв                                    [7]\n",
       "Андрей Романенко                                    [27]\n",
       "Всеслав Чародей                                     [33]\n",
       "Джекалоп                                [16, 20, 25, 31]\n",
       "Котик полосатый                                      [8]\n",
       "Ле Лой                                      [32, 34, 36]\n",
       "Рулин                                               [26]\n",
       "Сайга                                        [8, 12, 31]\n",
       "Томасина                                    [22, 28, 29]\n",
       "Фил Вечеровский                          [9, 12, 18, 10]\n",
       "Юлия 70                                     [19, 31, 32]\n",
       "Юрий Владимирович Л.                        [25, 30, 20]\n",
       "‎Alexei Kopylov                                     [24]\n",
       "‎AndyVolykhov                                       [24]\n",
       "Name: election_number, dtype: object"
      ]
     },
     "execution_count": 77,
     "metadata": {},
     "output_type": "execute_result"
    }
   ],
   "source": [
    "# Отфильтруем строки, где 'election_result' равно 'выиграл'\n",
    "filtered_df = df[df['election_result'] == 'выиграл']\n",
    "\n",
    "# Сгруппируем по 'candidate' и получим уникальные значения 'election_number'\n",
    "unique_election_numbers = filtered_df.groupby('candidate')['election_number'].unique()\n",
    "pd.set_option('display.max_rows', None)\n",
    "unique_election_numbers"
   ]
  },
  {
   "cell_type": "markdown",
   "id": "38c52d27",
   "metadata": {},
   "source": [
    "**А теперь посмотрим, на скольких выборах максимум один и тот же кандидат одерживал победу.**"
   ]
  },
  {
   "cell_type": "code",
   "execution_count": 78,
   "id": "f866bb8f",
   "metadata": {},
   "outputs": [
    {
     "data": {
      "text/html": [
       "<div>\n",
       "<style scoped>\n",
       "    .dataframe tbody tr th:only-of-type {\n",
       "        vertical-align: middle;\n",
       "    }\n",
       "\n",
       "    .dataframe tbody tr th {\n",
       "        vertical-align: top;\n",
       "    }\n",
       "\n",
       "    .dataframe thead th {\n",
       "        text-align: right;\n",
       "    }\n",
       "</style>\n",
       "<table border=\"1\" class=\"dataframe\">\n",
       "  <thead>\n",
       "    <tr style=\"text-align: right;\">\n",
       "      <th></th>\n",
       "      <th>candidate</th>\n",
       "      <th>election_number</th>\n",
       "    </tr>\n",
       "  </thead>\n",
       "  <tbody>\n",
       "    <tr>\n",
       "      <th>65</th>\n",
       "      <td>Sir Shurf</td>\n",
       "      <td>8</td>\n",
       "    </tr>\n",
       "    <tr>\n",
       "      <th>73</th>\n",
       "      <td>Vladimir Solovjev</td>\n",
       "      <td>8</td>\n",
       "    </tr>\n",
       "    <tr>\n",
       "      <th>12</th>\n",
       "      <td>Biathlon</td>\n",
       "      <td>7</td>\n",
       "    </tr>\n",
       "    <tr>\n",
       "      <th>67</th>\n",
       "      <td>TenBaseT</td>\n",
       "      <td>5</td>\n",
       "    </tr>\n",
       "    <tr>\n",
       "      <th>0</th>\n",
       "      <td>A.Vajrapani</td>\n",
       "      <td>4</td>\n",
       "    </tr>\n",
       "  </tbody>\n",
       "</table>\n",
       "</div>"
      ],
      "text/plain": [
       "            candidate  election_number\n",
       "65          Sir Shurf                8\n",
       "73  Vladimir Solovjev                8\n",
       "12           Biathlon                7\n",
       "67           TenBaseT                5\n",
       "0         A.Vajrapani                4"
      ]
     },
     "execution_count": 78,
     "metadata": {},
     "output_type": "execute_result"
    }
   ],
   "source": [
    "# Создадим сводную таблицу, чтобы подсчитать количество уникальных выборов, в которых каждый кандидат победил\n",
    "pivot_table = filtered_df.groupby('candidate')['election_number'].nunique().reset_index()\n",
    "\n",
    "# Отсортируем сводную таблицу по убыванию количества выборов\n",
    "sorted_table = pivot_table.sort_values(by='election_number', ascending=False)\n",
    "sorted_table.head()"
   ]
  },
  {
   "cell_type": "markdown",
   "id": "ad78ffe1",
   "metadata": {},
   "source": [
    "**Итак, первое место по частоте избрания поделили между собой Sir Shurf и Vladimir Solovjev, их избирали в качестве членов комисии целых 8 раз! Также несильно отстал от них и пользователь Biathlon с семью избраниями.**"
   ]
  },
  {
   "cell_type": "markdown",
   "id": "b528ce43",
   "metadata": {},
   "source": [
    "**На примере седьмой выборной кампании построим таймлайн, в котором можно будет посмотреть соотношение голосов \"за\"/\"против\" каждого кандидата в каждые сутки с начала выборов. При двойном нажатии на любого из кандидатов в легенде диаграммы можно вывести информацию конкретно по нему. Если кандидат имеет ratio>0, значит в этот день за него отдавали больше голосов \"за\", а если ratio<0, значит в этот день большинство избирателей голосовали против него.**"
   ]
  },
  {
   "cell_type": "code",
   "execution_count": 85,
   "id": "6d08549d",
   "metadata": {
    "scrolled": false
   },
   "outputs": [
    {
     "data": {
      "application/vnd.plotly.v1+json": {
       "config": {
        "plotlyServerURL": "https://plot.ly"
       },
       "data": [
        {
         "alignmentgroup": "True",
         "hovertemplate": "candidate=Agent001<br>lt=%{x}<br>ratio=%{y}<extra></extra>",
         "legendgroup": "Agent001",
         "marker": {
          "color": "rgb(141,211,199)",
          "pattern": {
           "shape": ""
          }
         },
         "name": "Agent001",
         "offsetgroup": "Agent001",
         "orientation": "v",
         "showlegend": true,
         "textposition": "auto",
         "type": "bar",
         "x": [
          0,
          1,
          2,
          3,
          4,
          5,
          6
         ],
         "xaxis": "x",
         "y": [
          -0.0035816618911174787,
          -0.09230769230769231,
          0,
          0,
          0,
          0,
          0
         ],
         "yaxis": "y"
        },
        {
         "alignmentgroup": "True",
         "hovertemplate": "candidate=Alexandrov<br>lt=%{x}<br>ratio=%{y}<extra></extra>",
         "legendgroup": "Alexandrov",
         "marker": {
          "color": "rgb(255,255,179)",
          "pattern": {
           "shape": ""
          }
         },
         "name": "Alexandrov",
         "offsetgroup": "Alexandrov",
         "orientation": "v",
         "showlegend": true,
         "textposition": "auto",
         "type": "bar",
         "x": [
          0,
          1,
          2,
          3,
          4,
          5,
          6
         ],
         "xaxis": "x",
         "y": [
          -0.23966065747614,
          -0.29411764705882354,
          -0.09550561797752809,
          -0.6666666666666666,
          1,
          -0.02531645569620253,
          -1.1428571428571428
         ],
         "yaxis": "y"
        },
        {
         "alignmentgroup": "True",
         "hovertemplate": "candidate=Berserkerus<br>lt=%{x}<br>ratio=%{y}<extra></extra>",
         "legendgroup": "Berserkerus",
         "marker": {
          "color": "rgb(190,186,218)",
          "pattern": {
           "shape": ""
          }
         },
         "name": "Berserkerus",
         "offsetgroup": "Berserkerus",
         "orientation": "v",
         "showlegend": true,
         "textposition": "auto",
         "type": "bar",
         "x": [
          0,
          1,
          2,
          3,
          4,
          5,
          6
         ],
         "xaxis": "x",
         "y": [
          -2.7,
          1.1391304347826088,
          -0.0036101083032490976,
          -0.2,
          1,
          -0.05333333333333334,
          0
         ],
         "yaxis": "y"
        },
        {
         "alignmentgroup": "True",
         "hovertemplate": "candidate=Chronicler<br>lt=%{x}<br>ratio=%{y}<extra></extra>",
         "legendgroup": "Chronicler",
         "marker": {
          "color": "rgb(251,128,114)",
          "pattern": {
           "shape": ""
          }
         },
         "name": "Chronicler",
         "offsetgroup": "Chronicler",
         "orientation": "v",
         "showlegend": true,
         "textposition": "auto",
         "type": "bar",
         "x": [
          0,
          1,
          2,
          3,
          4,
          5,
          6
         ],
         "xaxis": "x",
         "y": [
          1.2407602956705386,
          1.1306818181818181,
          -1.2317073170731707,
          -1.1111111111111112,
          1,
          0,
          1.1203703703703705
         ],
         "yaxis": "y"
        },
        {
         "alignmentgroup": "True",
         "hovertemplate": "candidate=EvgenyGenkin<br>lt=%{x}<br>ratio=%{y}<extra></extra>",
         "legendgroup": "EvgenyGenkin",
         "marker": {
          "color": "rgb(128,177,211)",
          "pattern": {
           "shape": ""
          }
         },
         "name": "EvgenyGenkin",
         "offsetgroup": "EvgenyGenkin",
         "orientation": "v",
         "showlegend": true,
         "textposition": "auto",
         "type": "bar",
         "x": [
          0,
          1,
          2,
          3,
          4,
          5,
          6
         ],
         "xaxis": "x",
         "y": [
          1.1766381766381766,
          1.0850340136054422,
          1.5612244897959184,
          -1.4583333333333333,
          1,
          1.024390243902439,
          1.103448275862069
         ],
         "yaxis": "y"
        },
        {
         "alignmentgroup": "True",
         "hovertemplate": "candidate=Ilya Voyager<br>lt=%{x}<br>ratio=%{y}<extra></extra>",
         "legendgroup": "Ilya Voyager",
         "marker": {
          "color": "rgb(253,180,98)",
          "pattern": {
           "shape": ""
          }
         },
         "name": "Ilya Voyager",
         "offsetgroup": "Ilya Voyager",
         "orientation": "v",
         "showlegend": true,
         "textposition": "auto",
         "type": "bar",
         "x": [
          0,
          1,
          2,
          3,
          4,
          5,
          6
         ],
         "xaxis": "x",
         "y": [
          1.1496881496881497,
          1.0301724137931034,
          1.2301255230125523,
          -8.2,
          1,
          1,
          1.1587301587301588
         ],
         "yaxis": "y"
        },
        {
         "alignmentgroup": "True",
         "hovertemplate": "candidate=Kaganer<br>lt=%{x}<br>ratio=%{y}<extra></extra>",
         "legendgroup": "Kaganer",
         "marker": {
          "color": "rgb(179,222,105)",
          "pattern": {
           "shape": ""
          }
         },
         "name": "Kaganer",
         "offsetgroup": "Kaganer",
         "orientation": "v",
         "showlegend": true,
         "textposition": "auto",
         "type": "bar",
         "x": [
          0,
          1,
          2,
          3,
          4,
          5,
          6
         ],
         "xaxis": "x",
         "y": [
          1.1225045372050817,
          1.0683229813664596,
          1.2444444444444445,
          1.3333333333333333,
          -1,
          1,
          1.002710027100271
         ],
         "yaxis": "y"
        },
        {
         "alignmentgroup": "True",
         "hovertemplate": "candidate=Kv75<br>lt=%{x}<br>ratio=%{y}<extra></extra>",
         "legendgroup": "Kv75",
         "marker": {
          "color": "rgb(252,205,229)",
          "pattern": {
           "shape": ""
          }
         },
         "name": "Kv75",
         "offsetgroup": "Kv75",
         "orientation": "v",
         "showlegend": true,
         "textposition": "auto",
         "type": "bar",
         "x": [
          0,
          1,
          2,
          3,
          4,
          5,
          6
         ],
         "xaxis": "x",
         "y": [
          1.1004626569729015,
          1.057057057057057,
          1.4910714285714286,
          -5.571428571428571,
          1,
          1,
          1
         ],
         "yaxis": "y"
        },
        {
         "alignmentgroup": "True",
         "hovertemplate": "candidate=Pauk<br>lt=%{x}<br>ratio=%{y}<extra></extra>",
         "legendgroup": "Pauk",
         "marker": {
          "color": "rgb(217,217,217)",
          "pattern": {
           "shape": ""
          }
         },
         "name": "Pauk",
         "offsetgroup": "Pauk",
         "orientation": "v",
         "showlegend": true,
         "textposition": "auto",
         "type": "bar",
         "x": [
          0,
          1,
          2,
          3,
          4,
          5,
          6
         ],
         "xaxis": "x",
         "y": [
          -1.1556291390728477,
          1.0857908847184987,
          1.0392156862745099,
          -0.014285714285714285,
          1,
          -0.05333333333333334,
          -0.0945945945945946
         ],
         "yaxis": "y"
        },
        {
         "alignmentgroup": "True",
         "hovertemplate": "candidate=Solon<br>lt=%{x}<br>ratio=%{y}<extra></extra>",
         "legendgroup": "Solon",
         "marker": {
          "color": "rgb(188,128,189)",
          "pattern": {
           "shape": ""
          }
         },
         "name": "Solon",
         "offsetgroup": "Solon",
         "orientation": "v",
         "showlegend": true,
         "textposition": "auto",
         "type": "bar",
         "x": [
          0,
          1,
          2,
          3,
          4,
          5,
          6
         ],
         "xaxis": "x",
         "y": [
          -0.2052980132450331,
          -1,
          -0.10526315789473684,
          -0.04838709677419355,
          1,
          0,
          -0.044444444444444446
         ],
         "yaxis": "y"
        },
        {
         "alignmentgroup": "True",
         "hovertemplate": "candidate=Ukkon<br>lt=%{x}<br>ratio=%{y}<extra></extra>",
         "legendgroup": "Ukkon",
         "marker": {
          "color": "rgb(204,235,197)",
          "pattern": {
           "shape": ""
          }
         },
         "name": "Ukkon",
         "offsetgroup": "Ukkon",
         "orientation": "v",
         "showlegend": true,
         "textposition": "auto",
         "type": "bar",
         "x": [
          0,
          1,
          2,
          3,
          5,
          6
         ],
         "xaxis": "x",
         "y": [
          -0.09725400457665904,
          -0.03875968992248062,
          0,
          -0.12,
          0,
          0
         ],
         "yaxis": "y"
        },
        {
         "alignmentgroup": "True",
         "hovertemplate": "candidate=VasilievVV<br>lt=%{x}<br>ratio=%{y}<extra></extra>",
         "legendgroup": "VasilievVV",
         "marker": {
          "color": "rgb(255,237,111)",
          "pattern": {
           "shape": ""
          }
         },
         "name": "VasilievVV",
         "offsetgroup": "VasilievVV",
         "orientation": "v",
         "showlegend": true,
         "textposition": "auto",
         "type": "bar",
         "x": [
          0,
          1,
          2,
          3,
          4,
          5,
          6
         ],
         "xaxis": "x",
         "y": [
          -0.12105263157894737,
          -6.5,
          1.6774193548387097,
          -0.375,
          0,
          0,
          -0.0125
         ],
         "yaxis": "y"
        },
        {
         "alignmentgroup": "True",
         "hovertemplate": "candidate=Wulfson<br>lt=%{x}<br>ratio=%{y}<extra></extra>",
         "legendgroup": "Wulfson",
         "marker": {
          "color": "rgb(141,211,199)",
          "pattern": {
           "shape": ""
          }
         },
         "name": "Wulfson",
         "offsetgroup": "Wulfson",
         "orientation": "v",
         "showlegend": true,
         "textposition": "auto",
         "type": "bar",
         "x": [
          0,
          1,
          2,
          3,
          4,
          5,
          6
         ],
         "xaxis": "x",
         "y": [
          5.091463414634147,
          1.2,
          1.6395348837209303,
          -0.896551724137931,
          -0.02857142857142857,
          1.03125,
          1.0941176470588236
         ],
         "yaxis": "y"
        },
        {
         "alignmentgroup": "True",
         "hovertemplate": "candidate=Александр Сигачёв<br>lt=%{x}<br>ratio=%{y}<extra></extra>",
         "legendgroup": "Александр Сигачёв",
         "marker": {
          "color": "rgb(255,255,179)",
          "pattern": {
           "shape": ""
          }
         },
         "name": "Александр Сигачёв",
         "offsetgroup": "Александр Сигачёв",
         "orientation": "v",
         "showlegend": true,
         "textposition": "auto",
         "type": "bar",
         "x": [
          0,
          1,
          2,
          3,
          4,
          5,
          6
         ],
         "xaxis": "x",
         "y": [
          1.0931871574001566,
          1.0489296636085628,
          1.4745762711864407,
          -1.391304347826087,
          1,
          1,
          1.011111111111111
         ],
         "yaxis": "y"
        }
       ],
       "layout": {
        "barmode": "relative",
        "legend": {
         "title": {
          "text": "candidate"
         },
         "tracegroupgap": 0
        },
        "shapes": [
         {
          "line": {
           "color": "black",
           "dash": "dash"
          },
          "type": "line",
          "x0": 0,
          "x1": 1,
          "xref": "x domain",
          "y0": 0,
          "y1": 0,
          "yref": "y"
         }
        ],
        "template": {
         "data": {
          "bar": [
           {
            "error_x": {
             "color": "#2a3f5f"
            },
            "error_y": {
             "color": "#2a3f5f"
            },
            "marker": {
             "line": {
              "color": "#E5ECF6",
              "width": 0.5
             },
             "pattern": {
              "fillmode": "overlay",
              "size": 10,
              "solidity": 0.2
             }
            },
            "type": "bar"
           }
          ],
          "barpolar": [
           {
            "marker": {
             "line": {
              "color": "#E5ECF6",
              "width": 0.5
             },
             "pattern": {
              "fillmode": "overlay",
              "size": 10,
              "solidity": 0.2
             }
            },
            "type": "barpolar"
           }
          ],
          "carpet": [
           {
            "aaxis": {
             "endlinecolor": "#2a3f5f",
             "gridcolor": "white",
             "linecolor": "white",
             "minorgridcolor": "white",
             "startlinecolor": "#2a3f5f"
            },
            "baxis": {
             "endlinecolor": "#2a3f5f",
             "gridcolor": "white",
             "linecolor": "white",
             "minorgridcolor": "white",
             "startlinecolor": "#2a3f5f"
            },
            "type": "carpet"
           }
          ],
          "choropleth": [
           {
            "colorbar": {
             "outlinewidth": 0,
             "ticks": ""
            },
            "type": "choropleth"
           }
          ],
          "contour": [
           {
            "colorbar": {
             "outlinewidth": 0,
             "ticks": ""
            },
            "colorscale": [
             [
              0,
              "#0d0887"
             ],
             [
              0.1111111111111111,
              "#46039f"
             ],
             [
              0.2222222222222222,
              "#7201a8"
             ],
             [
              0.3333333333333333,
              "#9c179e"
             ],
             [
              0.4444444444444444,
              "#bd3786"
             ],
             [
              0.5555555555555556,
              "#d8576b"
             ],
             [
              0.6666666666666666,
              "#ed7953"
             ],
             [
              0.7777777777777778,
              "#fb9f3a"
             ],
             [
              0.8888888888888888,
              "#fdca26"
             ],
             [
              1,
              "#f0f921"
             ]
            ],
            "type": "contour"
           }
          ],
          "contourcarpet": [
           {
            "colorbar": {
             "outlinewidth": 0,
             "ticks": ""
            },
            "type": "contourcarpet"
           }
          ],
          "heatmap": [
           {
            "colorbar": {
             "outlinewidth": 0,
             "ticks": ""
            },
            "colorscale": [
             [
              0,
              "#0d0887"
             ],
             [
              0.1111111111111111,
              "#46039f"
             ],
             [
              0.2222222222222222,
              "#7201a8"
             ],
             [
              0.3333333333333333,
              "#9c179e"
             ],
             [
              0.4444444444444444,
              "#bd3786"
             ],
             [
              0.5555555555555556,
              "#d8576b"
             ],
             [
              0.6666666666666666,
              "#ed7953"
             ],
             [
              0.7777777777777778,
              "#fb9f3a"
             ],
             [
              0.8888888888888888,
              "#fdca26"
             ],
             [
              1,
              "#f0f921"
             ]
            ],
            "type": "heatmap"
           }
          ],
          "heatmapgl": [
           {
            "colorbar": {
             "outlinewidth": 0,
             "ticks": ""
            },
            "colorscale": [
             [
              0,
              "#0d0887"
             ],
             [
              0.1111111111111111,
              "#46039f"
             ],
             [
              0.2222222222222222,
              "#7201a8"
             ],
             [
              0.3333333333333333,
              "#9c179e"
             ],
             [
              0.4444444444444444,
              "#bd3786"
             ],
             [
              0.5555555555555556,
              "#d8576b"
             ],
             [
              0.6666666666666666,
              "#ed7953"
             ],
             [
              0.7777777777777778,
              "#fb9f3a"
             ],
             [
              0.8888888888888888,
              "#fdca26"
             ],
             [
              1,
              "#f0f921"
             ]
            ],
            "type": "heatmapgl"
           }
          ],
          "histogram": [
           {
            "marker": {
             "pattern": {
              "fillmode": "overlay",
              "size": 10,
              "solidity": 0.2
             }
            },
            "type": "histogram"
           }
          ],
          "histogram2d": [
           {
            "colorbar": {
             "outlinewidth": 0,
             "ticks": ""
            },
            "colorscale": [
             [
              0,
              "#0d0887"
             ],
             [
              0.1111111111111111,
              "#46039f"
             ],
             [
              0.2222222222222222,
              "#7201a8"
             ],
             [
              0.3333333333333333,
              "#9c179e"
             ],
             [
              0.4444444444444444,
              "#bd3786"
             ],
             [
              0.5555555555555556,
              "#d8576b"
             ],
             [
              0.6666666666666666,
              "#ed7953"
             ],
             [
              0.7777777777777778,
              "#fb9f3a"
             ],
             [
              0.8888888888888888,
              "#fdca26"
             ],
             [
              1,
              "#f0f921"
             ]
            ],
            "type": "histogram2d"
           }
          ],
          "histogram2dcontour": [
           {
            "colorbar": {
             "outlinewidth": 0,
             "ticks": ""
            },
            "colorscale": [
             [
              0,
              "#0d0887"
             ],
             [
              0.1111111111111111,
              "#46039f"
             ],
             [
              0.2222222222222222,
              "#7201a8"
             ],
             [
              0.3333333333333333,
              "#9c179e"
             ],
             [
              0.4444444444444444,
              "#bd3786"
             ],
             [
              0.5555555555555556,
              "#d8576b"
             ],
             [
              0.6666666666666666,
              "#ed7953"
             ],
             [
              0.7777777777777778,
              "#fb9f3a"
             ],
             [
              0.8888888888888888,
              "#fdca26"
             ],
             [
              1,
              "#f0f921"
             ]
            ],
            "type": "histogram2dcontour"
           }
          ],
          "mesh3d": [
           {
            "colorbar": {
             "outlinewidth": 0,
             "ticks": ""
            },
            "type": "mesh3d"
           }
          ],
          "parcoords": [
           {
            "line": {
             "colorbar": {
              "outlinewidth": 0,
              "ticks": ""
             }
            },
            "type": "parcoords"
           }
          ],
          "pie": [
           {
            "automargin": true,
            "type": "pie"
           }
          ],
          "scatter": [
           {
            "fillpattern": {
             "fillmode": "overlay",
             "size": 10,
             "solidity": 0.2
            },
            "type": "scatter"
           }
          ],
          "scatter3d": [
           {
            "line": {
             "colorbar": {
              "outlinewidth": 0,
              "ticks": ""
             }
            },
            "marker": {
             "colorbar": {
              "outlinewidth": 0,
              "ticks": ""
             }
            },
            "type": "scatter3d"
           }
          ],
          "scattercarpet": [
           {
            "marker": {
             "colorbar": {
              "outlinewidth": 0,
              "ticks": ""
             }
            },
            "type": "scattercarpet"
           }
          ],
          "scattergeo": [
           {
            "marker": {
             "colorbar": {
              "outlinewidth": 0,
              "ticks": ""
             }
            },
            "type": "scattergeo"
           }
          ],
          "scattergl": [
           {
            "marker": {
             "colorbar": {
              "outlinewidth": 0,
              "ticks": ""
             }
            },
            "type": "scattergl"
           }
          ],
          "scattermapbox": [
           {
            "marker": {
             "colorbar": {
              "outlinewidth": 0,
              "ticks": ""
             }
            },
            "type": "scattermapbox"
           }
          ],
          "scatterpolar": [
           {
            "marker": {
             "colorbar": {
              "outlinewidth": 0,
              "ticks": ""
             }
            },
            "type": "scatterpolar"
           }
          ],
          "scatterpolargl": [
           {
            "marker": {
             "colorbar": {
              "outlinewidth": 0,
              "ticks": ""
             }
            },
            "type": "scatterpolargl"
           }
          ],
          "scatterternary": [
           {
            "marker": {
             "colorbar": {
              "outlinewidth": 0,
              "ticks": ""
             }
            },
            "type": "scatterternary"
           }
          ],
          "surface": [
           {
            "colorbar": {
             "outlinewidth": 0,
             "ticks": ""
            },
            "colorscale": [
             [
              0,
              "#0d0887"
             ],
             [
              0.1111111111111111,
              "#46039f"
             ],
             [
              0.2222222222222222,
              "#7201a8"
             ],
             [
              0.3333333333333333,
              "#9c179e"
             ],
             [
              0.4444444444444444,
              "#bd3786"
             ],
             [
              0.5555555555555556,
              "#d8576b"
             ],
             [
              0.6666666666666666,
              "#ed7953"
             ],
             [
              0.7777777777777778,
              "#fb9f3a"
             ],
             [
              0.8888888888888888,
              "#fdca26"
             ],
             [
              1,
              "#f0f921"
             ]
            ],
            "type": "surface"
           }
          ],
          "table": [
           {
            "cells": {
             "fill": {
              "color": "#EBF0F8"
             },
             "line": {
              "color": "white"
             }
            },
            "header": {
             "fill": {
              "color": "#C8D4E3"
             },
             "line": {
              "color": "white"
             }
            },
            "type": "table"
           }
          ]
         },
         "layout": {
          "annotationdefaults": {
           "arrowcolor": "#2a3f5f",
           "arrowhead": 0,
           "arrowwidth": 1
          },
          "autotypenumbers": "strict",
          "coloraxis": {
           "colorbar": {
            "outlinewidth": 0,
            "ticks": ""
           }
          },
          "colorscale": {
           "diverging": [
            [
             0,
             "#8e0152"
            ],
            [
             0.1,
             "#c51b7d"
            ],
            [
             0.2,
             "#de77ae"
            ],
            [
             0.3,
             "#f1b6da"
            ],
            [
             0.4,
             "#fde0ef"
            ],
            [
             0.5,
             "#f7f7f7"
            ],
            [
             0.6,
             "#e6f5d0"
            ],
            [
             0.7,
             "#b8e186"
            ],
            [
             0.8,
             "#7fbc41"
            ],
            [
             0.9,
             "#4d9221"
            ],
            [
             1,
             "#276419"
            ]
           ],
           "sequential": [
            [
             0,
             "#0d0887"
            ],
            [
             0.1111111111111111,
             "#46039f"
            ],
            [
             0.2222222222222222,
             "#7201a8"
            ],
            [
             0.3333333333333333,
             "#9c179e"
            ],
            [
             0.4444444444444444,
             "#bd3786"
            ],
            [
             0.5555555555555556,
             "#d8576b"
            ],
            [
             0.6666666666666666,
             "#ed7953"
            ],
            [
             0.7777777777777778,
             "#fb9f3a"
            ],
            [
             0.8888888888888888,
             "#fdca26"
            ],
            [
             1,
             "#f0f921"
            ]
           ],
           "sequentialminus": [
            [
             0,
             "#0d0887"
            ],
            [
             0.1111111111111111,
             "#46039f"
            ],
            [
             0.2222222222222222,
             "#7201a8"
            ],
            [
             0.3333333333333333,
             "#9c179e"
            ],
            [
             0.4444444444444444,
             "#bd3786"
            ],
            [
             0.5555555555555556,
             "#d8576b"
            ],
            [
             0.6666666666666666,
             "#ed7953"
            ],
            [
             0.7777777777777778,
             "#fb9f3a"
            ],
            [
             0.8888888888888888,
             "#fdca26"
            ],
            [
             1,
             "#f0f921"
            ]
           ]
          },
          "colorway": [
           "#636efa",
           "#EF553B",
           "#00cc96",
           "#ab63fa",
           "#FFA15A",
           "#19d3f3",
           "#FF6692",
           "#B6E880",
           "#FF97FF",
           "#FECB52"
          ],
          "font": {
           "color": "#2a3f5f"
          },
          "geo": {
           "bgcolor": "white",
           "lakecolor": "white",
           "landcolor": "#E5ECF6",
           "showlakes": true,
           "showland": true,
           "subunitcolor": "white"
          },
          "hoverlabel": {
           "align": "left"
          },
          "hovermode": "closest",
          "mapbox": {
           "style": "light"
          },
          "paper_bgcolor": "white",
          "plot_bgcolor": "#E5ECF6",
          "polar": {
           "angularaxis": {
            "gridcolor": "white",
            "linecolor": "white",
            "ticks": ""
           },
           "bgcolor": "#E5ECF6",
           "radialaxis": {
            "gridcolor": "white",
            "linecolor": "white",
            "ticks": ""
           }
          },
          "scene": {
           "xaxis": {
            "backgroundcolor": "#E5ECF6",
            "gridcolor": "white",
            "gridwidth": 2,
            "linecolor": "white",
            "showbackground": true,
            "ticks": "",
            "zerolinecolor": "white"
           },
           "yaxis": {
            "backgroundcolor": "#E5ECF6",
            "gridcolor": "white",
            "gridwidth": 2,
            "linecolor": "white",
            "showbackground": true,
            "ticks": "",
            "zerolinecolor": "white"
           },
           "zaxis": {
            "backgroundcolor": "#E5ECF6",
            "gridcolor": "white",
            "gridwidth": 2,
            "linecolor": "white",
            "showbackground": true,
            "ticks": "",
            "zerolinecolor": "white"
           }
          },
          "shapedefaults": {
           "line": {
            "color": "#2a3f5f"
           }
          },
          "ternary": {
           "aaxis": {
            "gridcolor": "white",
            "linecolor": "white",
            "ticks": ""
           },
           "baxis": {
            "gridcolor": "white",
            "linecolor": "white",
            "ticks": ""
           },
           "bgcolor": "#E5ECF6",
           "caxis": {
            "gridcolor": "white",
            "linecolor": "white",
            "ticks": ""
           }
          },
          "title": {
           "x": 0.05
          },
          "xaxis": {
           "automargin": true,
           "gridcolor": "white",
           "linecolor": "white",
           "ticks": "",
           "title": {
            "standoff": 15
           },
           "zerolinecolor": "white",
           "zerolinewidth": 2
          },
          "yaxis": {
           "automargin": true,
           "gridcolor": "white",
           "linecolor": "white",
           "ticks": "",
           "title": {
            "standoff": 15
           },
           "zerolinecolor": "white",
           "zerolinewidth": 2
          }
         }
        },
        "title": {
         "text": "Изменение соотношения \"За\" / \"Против\" по каждому кандидату в каждый день выборов"
        },
        "xaxis": {
         "anchor": "y",
         "domain": [
          0,
          1
         ],
         "title": {
          "text": "Дни с начала выборов"
         }
        },
        "yaxis": {
         "anchor": "x",
         "domain": [
          0,
          1
         ],
         "title": {
          "text": "Соотношение \"За\" / \"Против\""
         }
        }
       }
      },
      "text/html": [
       "<div>                            <div id=\"2c134bfc-7af3-4400-99f3-ad581c84b561\" class=\"plotly-graph-div\" style=\"height:525px; width:100%;\"></div>            <script type=\"text/javascript\">                require([\"plotly\"], function(Plotly) {                    window.PLOTLYENV=window.PLOTLYENV || {};                                    if (document.getElementById(\"2c134bfc-7af3-4400-99f3-ad581c84b561\")) {                    Plotly.newPlot(                        \"2c134bfc-7af3-4400-99f3-ad581c84b561\",                        [{\"alignmentgroup\":\"True\",\"hovertemplate\":\"candidate=Agent001<br>lt=%{x}<br>ratio=%{y}<extra></extra>\",\"legendgroup\":\"Agent001\",\"marker\":{\"color\":\"rgb(141,211,199)\",\"pattern\":{\"shape\":\"\"}},\"name\":\"Agent001\",\"offsetgroup\":\"Agent001\",\"orientation\":\"v\",\"showlegend\":true,\"textposition\":\"auto\",\"x\":[0.0,1.0,2.0,3.0,4.0,5.0,6.0],\"xaxis\":\"x\",\"y\":[-0.0035816618911174787,-0.09230769230769231,-0.0,-0.0,-0.0,-0.0,-0.0],\"yaxis\":\"y\",\"type\":\"bar\"},{\"alignmentgroup\":\"True\",\"hovertemplate\":\"candidate=Alexandrov<br>lt=%{x}<br>ratio=%{y}<extra></extra>\",\"legendgroup\":\"Alexandrov\",\"marker\":{\"color\":\"rgb(255,255,179)\",\"pattern\":{\"shape\":\"\"}},\"name\":\"Alexandrov\",\"offsetgroup\":\"Alexandrov\",\"orientation\":\"v\",\"showlegend\":true,\"textposition\":\"auto\",\"x\":[0.0,1.0,2.0,3.0,4.0,5.0,6.0],\"xaxis\":\"x\",\"y\":[-0.23966065747614,-0.29411764705882354,-0.09550561797752809,-0.6666666666666666,1.0,-0.02531645569620253,-1.1428571428571428],\"yaxis\":\"y\",\"type\":\"bar\"},{\"alignmentgroup\":\"True\",\"hovertemplate\":\"candidate=Berserkerus<br>lt=%{x}<br>ratio=%{y}<extra></extra>\",\"legendgroup\":\"Berserkerus\",\"marker\":{\"color\":\"rgb(190,186,218)\",\"pattern\":{\"shape\":\"\"}},\"name\":\"Berserkerus\",\"offsetgroup\":\"Berserkerus\",\"orientation\":\"v\",\"showlegend\":true,\"textposition\":\"auto\",\"x\":[0.0,1.0,2.0,3.0,4.0,5.0,6.0],\"xaxis\":\"x\",\"y\":[-2.7,1.1391304347826088,-0.0036101083032490976,-0.2,1.0,-0.05333333333333334,-0.0],\"yaxis\":\"y\",\"type\":\"bar\"},{\"alignmentgroup\":\"True\",\"hovertemplate\":\"candidate=Chronicler<br>lt=%{x}<br>ratio=%{y}<extra></extra>\",\"legendgroup\":\"Chronicler\",\"marker\":{\"color\":\"rgb(251,128,114)\",\"pattern\":{\"shape\":\"\"}},\"name\":\"Chronicler\",\"offsetgroup\":\"Chronicler\",\"orientation\":\"v\",\"showlegend\":true,\"textposition\":\"auto\",\"x\":[0.0,1.0,2.0,3.0,4.0,5.0,6.0],\"xaxis\":\"x\",\"y\":[1.2407602956705386,1.1306818181818181,-1.2317073170731707,-1.1111111111111112,1.0,-0.0,1.1203703703703705],\"yaxis\":\"y\",\"type\":\"bar\"},{\"alignmentgroup\":\"True\",\"hovertemplate\":\"candidate=EvgenyGenkin<br>lt=%{x}<br>ratio=%{y}<extra></extra>\",\"legendgroup\":\"EvgenyGenkin\",\"marker\":{\"color\":\"rgb(128,177,211)\",\"pattern\":{\"shape\":\"\"}},\"name\":\"EvgenyGenkin\",\"offsetgroup\":\"EvgenyGenkin\",\"orientation\":\"v\",\"showlegend\":true,\"textposition\":\"auto\",\"x\":[0.0,1.0,2.0,3.0,4.0,5.0,6.0],\"xaxis\":\"x\",\"y\":[1.1766381766381766,1.0850340136054422,1.5612244897959184,-1.4583333333333333,1.0,1.024390243902439,1.103448275862069],\"yaxis\":\"y\",\"type\":\"bar\"},{\"alignmentgroup\":\"True\",\"hovertemplate\":\"candidate=Ilya Voyager<br>lt=%{x}<br>ratio=%{y}<extra></extra>\",\"legendgroup\":\"Ilya Voyager\",\"marker\":{\"color\":\"rgb(253,180,98)\",\"pattern\":{\"shape\":\"\"}},\"name\":\"Ilya Voyager\",\"offsetgroup\":\"Ilya Voyager\",\"orientation\":\"v\",\"showlegend\":true,\"textposition\":\"auto\",\"x\":[0.0,1.0,2.0,3.0,4.0,5.0,6.0],\"xaxis\":\"x\",\"y\":[1.1496881496881497,1.0301724137931034,1.2301255230125523,-8.2,1.0,1.0,1.1587301587301588],\"yaxis\":\"y\",\"type\":\"bar\"},{\"alignmentgroup\":\"True\",\"hovertemplate\":\"candidate=Kaganer<br>lt=%{x}<br>ratio=%{y}<extra></extra>\",\"legendgroup\":\"Kaganer\",\"marker\":{\"color\":\"rgb(179,222,105)\",\"pattern\":{\"shape\":\"\"}},\"name\":\"Kaganer\",\"offsetgroup\":\"Kaganer\",\"orientation\":\"v\",\"showlegend\":true,\"textposition\":\"auto\",\"x\":[0.0,1.0,2.0,3.0,4.0,5.0,6.0],\"xaxis\":\"x\",\"y\":[1.1225045372050817,1.0683229813664596,1.2444444444444445,1.3333333333333333,-1.0,1.0,1.002710027100271],\"yaxis\":\"y\",\"type\":\"bar\"},{\"alignmentgroup\":\"True\",\"hovertemplate\":\"candidate=Kv75<br>lt=%{x}<br>ratio=%{y}<extra></extra>\",\"legendgroup\":\"Kv75\",\"marker\":{\"color\":\"rgb(252,205,229)\",\"pattern\":{\"shape\":\"\"}},\"name\":\"Kv75\",\"offsetgroup\":\"Kv75\",\"orientation\":\"v\",\"showlegend\":true,\"textposition\":\"auto\",\"x\":[0.0,1.0,2.0,3.0,4.0,5.0,6.0],\"xaxis\":\"x\",\"y\":[1.1004626569729015,1.057057057057057,1.4910714285714286,-5.571428571428571,1.0,1.0,1.0],\"yaxis\":\"y\",\"type\":\"bar\"},{\"alignmentgroup\":\"True\",\"hovertemplate\":\"candidate=Pauk<br>lt=%{x}<br>ratio=%{y}<extra></extra>\",\"legendgroup\":\"Pauk\",\"marker\":{\"color\":\"rgb(217,217,217)\",\"pattern\":{\"shape\":\"\"}},\"name\":\"Pauk\",\"offsetgroup\":\"Pauk\",\"orientation\":\"v\",\"showlegend\":true,\"textposition\":\"auto\",\"x\":[0.0,1.0,2.0,3.0,4.0,5.0,6.0],\"xaxis\":\"x\",\"y\":[-1.1556291390728477,1.0857908847184987,1.0392156862745099,-0.014285714285714285,1.0,-0.05333333333333334,-0.0945945945945946],\"yaxis\":\"y\",\"type\":\"bar\"},{\"alignmentgroup\":\"True\",\"hovertemplate\":\"candidate=Solon<br>lt=%{x}<br>ratio=%{y}<extra></extra>\",\"legendgroup\":\"Solon\",\"marker\":{\"color\":\"rgb(188,128,189)\",\"pattern\":{\"shape\":\"\"}},\"name\":\"Solon\",\"offsetgroup\":\"Solon\",\"orientation\":\"v\",\"showlegend\":true,\"textposition\":\"auto\",\"x\":[0.0,1.0,2.0,3.0,4.0,5.0,6.0],\"xaxis\":\"x\",\"y\":[-0.2052980132450331,-1.0,-0.10526315789473684,-0.04838709677419355,1.0,-0.0,-0.044444444444444446],\"yaxis\":\"y\",\"type\":\"bar\"},{\"alignmentgroup\":\"True\",\"hovertemplate\":\"candidate=Ukkon<br>lt=%{x}<br>ratio=%{y}<extra></extra>\",\"legendgroup\":\"Ukkon\",\"marker\":{\"color\":\"rgb(204,235,197)\",\"pattern\":{\"shape\":\"\"}},\"name\":\"Ukkon\",\"offsetgroup\":\"Ukkon\",\"orientation\":\"v\",\"showlegend\":true,\"textposition\":\"auto\",\"x\":[0.0,1.0,2.0,3.0,5.0,6.0],\"xaxis\":\"x\",\"y\":[-0.09725400457665904,-0.03875968992248062,-0.0,-0.12,-0.0,-0.0],\"yaxis\":\"y\",\"type\":\"bar\"},{\"alignmentgroup\":\"True\",\"hovertemplate\":\"candidate=VasilievVV<br>lt=%{x}<br>ratio=%{y}<extra></extra>\",\"legendgroup\":\"VasilievVV\",\"marker\":{\"color\":\"rgb(255,237,111)\",\"pattern\":{\"shape\":\"\"}},\"name\":\"VasilievVV\",\"offsetgroup\":\"VasilievVV\",\"orientation\":\"v\",\"showlegend\":true,\"textposition\":\"auto\",\"x\":[0.0,1.0,2.0,3.0,4.0,5.0,6.0],\"xaxis\":\"x\",\"y\":[-0.12105263157894737,-6.5,1.6774193548387097,-0.375,-0.0,-0.0,-0.0125],\"yaxis\":\"y\",\"type\":\"bar\"},{\"alignmentgroup\":\"True\",\"hovertemplate\":\"candidate=Wulfson<br>lt=%{x}<br>ratio=%{y}<extra></extra>\",\"legendgroup\":\"Wulfson\",\"marker\":{\"color\":\"rgb(141,211,199)\",\"pattern\":{\"shape\":\"\"}},\"name\":\"Wulfson\",\"offsetgroup\":\"Wulfson\",\"orientation\":\"v\",\"showlegend\":true,\"textposition\":\"auto\",\"x\":[0.0,1.0,2.0,3.0,4.0,5.0,6.0],\"xaxis\":\"x\",\"y\":[5.091463414634147,1.2,1.6395348837209303,-0.896551724137931,-0.02857142857142857,1.03125,1.0941176470588236],\"yaxis\":\"y\",\"type\":\"bar\"},{\"alignmentgroup\":\"True\",\"hovertemplate\":\"candidate=\\u0410\\u043b\\u0435\\u043a\\u0441\\u0430\\u043d\\u0434\\u0440 \\u0421\\u0438\\u0433\\u0430\\u0447\\u0451\\u0432<br>lt=%{x}<br>ratio=%{y}<extra></extra>\",\"legendgroup\":\"\\u0410\\u043b\\u0435\\u043a\\u0441\\u0430\\u043d\\u0434\\u0440 \\u0421\\u0438\\u0433\\u0430\\u0447\\u0451\\u0432\",\"marker\":{\"color\":\"rgb(255,255,179)\",\"pattern\":{\"shape\":\"\"}},\"name\":\"\\u0410\\u043b\\u0435\\u043a\\u0441\\u0430\\u043d\\u0434\\u0440 \\u0421\\u0438\\u0433\\u0430\\u0447\\u0451\\u0432\",\"offsetgroup\":\"\\u0410\\u043b\\u0435\\u043a\\u0441\\u0430\\u043d\\u0434\\u0440 \\u0421\\u0438\\u0433\\u0430\\u0447\\u0451\\u0432\",\"orientation\":\"v\",\"showlegend\":true,\"textposition\":\"auto\",\"x\":[0.0,1.0,2.0,3.0,4.0,5.0,6.0],\"xaxis\":\"x\",\"y\":[1.0931871574001566,1.0489296636085628,1.4745762711864407,-1.391304347826087,1.0,1.0,1.011111111111111],\"yaxis\":\"y\",\"type\":\"bar\"}],                        {\"template\":{\"data\":{\"histogram2dcontour\":[{\"type\":\"histogram2dcontour\",\"colorbar\":{\"outlinewidth\":0,\"ticks\":\"\"},\"colorscale\":[[0.0,\"#0d0887\"],[0.1111111111111111,\"#46039f\"],[0.2222222222222222,\"#7201a8\"],[0.3333333333333333,\"#9c179e\"],[0.4444444444444444,\"#bd3786\"],[0.5555555555555556,\"#d8576b\"],[0.6666666666666666,\"#ed7953\"],[0.7777777777777778,\"#fb9f3a\"],[0.8888888888888888,\"#fdca26\"],[1.0,\"#f0f921\"]]}],\"choropleth\":[{\"type\":\"choropleth\",\"colorbar\":{\"outlinewidth\":0,\"ticks\":\"\"}}],\"histogram2d\":[{\"type\":\"histogram2d\",\"colorbar\":{\"outlinewidth\":0,\"ticks\":\"\"},\"colorscale\":[[0.0,\"#0d0887\"],[0.1111111111111111,\"#46039f\"],[0.2222222222222222,\"#7201a8\"],[0.3333333333333333,\"#9c179e\"],[0.4444444444444444,\"#bd3786\"],[0.5555555555555556,\"#d8576b\"],[0.6666666666666666,\"#ed7953\"],[0.7777777777777778,\"#fb9f3a\"],[0.8888888888888888,\"#fdca26\"],[1.0,\"#f0f921\"]]}],\"heatmap\":[{\"type\":\"heatmap\",\"colorbar\":{\"outlinewidth\":0,\"ticks\":\"\"},\"colorscale\":[[0.0,\"#0d0887\"],[0.1111111111111111,\"#46039f\"],[0.2222222222222222,\"#7201a8\"],[0.3333333333333333,\"#9c179e\"],[0.4444444444444444,\"#bd3786\"],[0.5555555555555556,\"#d8576b\"],[0.6666666666666666,\"#ed7953\"],[0.7777777777777778,\"#fb9f3a\"],[0.8888888888888888,\"#fdca26\"],[1.0,\"#f0f921\"]]}],\"heatmapgl\":[{\"type\":\"heatmapgl\",\"colorbar\":{\"outlinewidth\":0,\"ticks\":\"\"},\"colorscale\":[[0.0,\"#0d0887\"],[0.1111111111111111,\"#46039f\"],[0.2222222222222222,\"#7201a8\"],[0.3333333333333333,\"#9c179e\"],[0.4444444444444444,\"#bd3786\"],[0.5555555555555556,\"#d8576b\"],[0.6666666666666666,\"#ed7953\"],[0.7777777777777778,\"#fb9f3a\"],[0.8888888888888888,\"#fdca26\"],[1.0,\"#f0f921\"]]}],\"contourcarpet\":[{\"type\":\"contourcarpet\",\"colorbar\":{\"outlinewidth\":0,\"ticks\":\"\"}}],\"contour\":[{\"type\":\"contour\",\"colorbar\":{\"outlinewidth\":0,\"ticks\":\"\"},\"colorscale\":[[0.0,\"#0d0887\"],[0.1111111111111111,\"#46039f\"],[0.2222222222222222,\"#7201a8\"],[0.3333333333333333,\"#9c179e\"],[0.4444444444444444,\"#bd3786\"],[0.5555555555555556,\"#d8576b\"],[0.6666666666666666,\"#ed7953\"],[0.7777777777777778,\"#fb9f3a\"],[0.8888888888888888,\"#fdca26\"],[1.0,\"#f0f921\"]]}],\"surface\":[{\"type\":\"surface\",\"colorbar\":{\"outlinewidth\":0,\"ticks\":\"\"},\"colorscale\":[[0.0,\"#0d0887\"],[0.1111111111111111,\"#46039f\"],[0.2222222222222222,\"#7201a8\"],[0.3333333333333333,\"#9c179e\"],[0.4444444444444444,\"#bd3786\"],[0.5555555555555556,\"#d8576b\"],[0.6666666666666666,\"#ed7953\"],[0.7777777777777778,\"#fb9f3a\"],[0.8888888888888888,\"#fdca26\"],[1.0,\"#f0f921\"]]}],\"mesh3d\":[{\"type\":\"mesh3d\",\"colorbar\":{\"outlinewidth\":0,\"ticks\":\"\"}}],\"scatter\":[{\"fillpattern\":{\"fillmode\":\"overlay\",\"size\":10,\"solidity\":0.2},\"type\":\"scatter\"}],\"parcoords\":[{\"type\":\"parcoords\",\"line\":{\"colorbar\":{\"outlinewidth\":0,\"ticks\":\"\"}}}],\"scatterpolargl\":[{\"type\":\"scatterpolargl\",\"marker\":{\"colorbar\":{\"outlinewidth\":0,\"ticks\":\"\"}}}],\"bar\":[{\"error_x\":{\"color\":\"#2a3f5f\"},\"error_y\":{\"color\":\"#2a3f5f\"},\"marker\":{\"line\":{\"color\":\"#E5ECF6\",\"width\":0.5},\"pattern\":{\"fillmode\":\"overlay\",\"size\":10,\"solidity\":0.2}},\"type\":\"bar\"}],\"scattergeo\":[{\"type\":\"scattergeo\",\"marker\":{\"colorbar\":{\"outlinewidth\":0,\"ticks\":\"\"}}}],\"scatterpolar\":[{\"type\":\"scatterpolar\",\"marker\":{\"colorbar\":{\"outlinewidth\":0,\"ticks\":\"\"}}}],\"histogram\":[{\"marker\":{\"pattern\":{\"fillmode\":\"overlay\",\"size\":10,\"solidity\":0.2}},\"type\":\"histogram\"}],\"scattergl\":[{\"type\":\"scattergl\",\"marker\":{\"colorbar\":{\"outlinewidth\":0,\"ticks\":\"\"}}}],\"scatter3d\":[{\"type\":\"scatter3d\",\"line\":{\"colorbar\":{\"outlinewidth\":0,\"ticks\":\"\"}},\"marker\":{\"colorbar\":{\"outlinewidth\":0,\"ticks\":\"\"}}}],\"scattermapbox\":[{\"type\":\"scattermapbox\",\"marker\":{\"colorbar\":{\"outlinewidth\":0,\"ticks\":\"\"}}}],\"scatterternary\":[{\"type\":\"scatterternary\",\"marker\":{\"colorbar\":{\"outlinewidth\":0,\"ticks\":\"\"}}}],\"scattercarpet\":[{\"type\":\"scattercarpet\",\"marker\":{\"colorbar\":{\"outlinewidth\":0,\"ticks\":\"\"}}}],\"carpet\":[{\"aaxis\":{\"endlinecolor\":\"#2a3f5f\",\"gridcolor\":\"white\",\"linecolor\":\"white\",\"minorgridcolor\":\"white\",\"startlinecolor\":\"#2a3f5f\"},\"baxis\":{\"endlinecolor\":\"#2a3f5f\",\"gridcolor\":\"white\",\"linecolor\":\"white\",\"minorgridcolor\":\"white\",\"startlinecolor\":\"#2a3f5f\"},\"type\":\"carpet\"}],\"table\":[{\"cells\":{\"fill\":{\"color\":\"#EBF0F8\"},\"line\":{\"color\":\"white\"}},\"header\":{\"fill\":{\"color\":\"#C8D4E3\"},\"line\":{\"color\":\"white\"}},\"type\":\"table\"}],\"barpolar\":[{\"marker\":{\"line\":{\"color\":\"#E5ECF6\",\"width\":0.5},\"pattern\":{\"fillmode\":\"overlay\",\"size\":10,\"solidity\":0.2}},\"type\":\"barpolar\"}],\"pie\":[{\"automargin\":true,\"type\":\"pie\"}]},\"layout\":{\"autotypenumbers\":\"strict\",\"colorway\":[\"#636efa\",\"#EF553B\",\"#00cc96\",\"#ab63fa\",\"#FFA15A\",\"#19d3f3\",\"#FF6692\",\"#B6E880\",\"#FF97FF\",\"#FECB52\"],\"font\":{\"color\":\"#2a3f5f\"},\"hovermode\":\"closest\",\"hoverlabel\":{\"align\":\"left\"},\"paper_bgcolor\":\"white\",\"plot_bgcolor\":\"#E5ECF6\",\"polar\":{\"bgcolor\":\"#E5ECF6\",\"angularaxis\":{\"gridcolor\":\"white\",\"linecolor\":\"white\",\"ticks\":\"\"},\"radialaxis\":{\"gridcolor\":\"white\",\"linecolor\":\"white\",\"ticks\":\"\"}},\"ternary\":{\"bgcolor\":\"#E5ECF6\",\"aaxis\":{\"gridcolor\":\"white\",\"linecolor\":\"white\",\"ticks\":\"\"},\"baxis\":{\"gridcolor\":\"white\",\"linecolor\":\"white\",\"ticks\":\"\"},\"caxis\":{\"gridcolor\":\"white\",\"linecolor\":\"white\",\"ticks\":\"\"}},\"coloraxis\":{\"colorbar\":{\"outlinewidth\":0,\"ticks\":\"\"}},\"colorscale\":{\"sequential\":[[0.0,\"#0d0887\"],[0.1111111111111111,\"#46039f\"],[0.2222222222222222,\"#7201a8\"],[0.3333333333333333,\"#9c179e\"],[0.4444444444444444,\"#bd3786\"],[0.5555555555555556,\"#d8576b\"],[0.6666666666666666,\"#ed7953\"],[0.7777777777777778,\"#fb9f3a\"],[0.8888888888888888,\"#fdca26\"],[1.0,\"#f0f921\"]],\"sequentialminus\":[[0.0,\"#0d0887\"],[0.1111111111111111,\"#46039f\"],[0.2222222222222222,\"#7201a8\"],[0.3333333333333333,\"#9c179e\"],[0.4444444444444444,\"#bd3786\"],[0.5555555555555556,\"#d8576b\"],[0.6666666666666666,\"#ed7953\"],[0.7777777777777778,\"#fb9f3a\"],[0.8888888888888888,\"#fdca26\"],[1.0,\"#f0f921\"]],\"diverging\":[[0,\"#8e0152\"],[0.1,\"#c51b7d\"],[0.2,\"#de77ae\"],[0.3,\"#f1b6da\"],[0.4,\"#fde0ef\"],[0.5,\"#f7f7f7\"],[0.6,\"#e6f5d0\"],[0.7,\"#b8e186\"],[0.8,\"#7fbc41\"],[0.9,\"#4d9221\"],[1,\"#276419\"]]},\"xaxis\":{\"gridcolor\":\"white\",\"linecolor\":\"white\",\"ticks\":\"\",\"title\":{\"standoff\":15},\"zerolinecolor\":\"white\",\"automargin\":true,\"zerolinewidth\":2},\"yaxis\":{\"gridcolor\":\"white\",\"linecolor\":\"white\",\"ticks\":\"\",\"title\":{\"standoff\":15},\"zerolinecolor\":\"white\",\"automargin\":true,\"zerolinewidth\":2},\"scene\":{\"xaxis\":{\"backgroundcolor\":\"#E5ECF6\",\"gridcolor\":\"white\",\"linecolor\":\"white\",\"showbackground\":true,\"ticks\":\"\",\"zerolinecolor\":\"white\",\"gridwidth\":2},\"yaxis\":{\"backgroundcolor\":\"#E5ECF6\",\"gridcolor\":\"white\",\"linecolor\":\"white\",\"showbackground\":true,\"ticks\":\"\",\"zerolinecolor\":\"white\",\"gridwidth\":2},\"zaxis\":{\"backgroundcolor\":\"#E5ECF6\",\"gridcolor\":\"white\",\"linecolor\":\"white\",\"showbackground\":true,\"ticks\":\"\",\"zerolinecolor\":\"white\",\"gridwidth\":2}},\"shapedefaults\":{\"line\":{\"color\":\"#2a3f5f\"}},\"annotationdefaults\":{\"arrowcolor\":\"#2a3f5f\",\"arrowhead\":0,\"arrowwidth\":1},\"geo\":{\"bgcolor\":\"white\",\"landcolor\":\"#E5ECF6\",\"subunitcolor\":\"white\",\"showland\":true,\"showlakes\":true,\"lakecolor\":\"white\"},\"title\":{\"x\":0.05},\"mapbox\":{\"style\":\"light\"}}},\"xaxis\":{\"anchor\":\"y\",\"domain\":[0.0,1.0],\"title\":{\"text\":\"\\u0414\\u043d\\u0438 \\u0441 \\u043d\\u0430\\u0447\\u0430\\u043b\\u0430 \\u0432\\u044b\\u0431\\u043e\\u0440\\u043e\\u0432\"}},\"yaxis\":{\"anchor\":\"x\",\"domain\":[0.0,1.0],\"title\":{\"text\":\"\\u0421\\u043e\\u043e\\u0442\\u043d\\u043e\\u0448\\u0435\\u043d\\u0438\\u0435 \\\"\\u0417\\u0430\\\" / \\\"\\u041f\\u0440\\u043e\\u0442\\u0438\\u0432\\\"\"}},\"legend\":{\"title\":{\"text\":\"candidate\"},\"tracegroupgap\":0},\"title\":{\"text\":\"\\u0418\\u0437\\u043c\\u0435\\u043d\\u0435\\u043d\\u0438\\u0435 \\u0441\\u043e\\u043e\\u0442\\u043d\\u043e\\u0448\\u0435\\u043d\\u0438\\u044f \\\"\\u0417\\u0430\\\" / \\\"\\u041f\\u0440\\u043e\\u0442\\u0438\\u0432\\\" \\u043f\\u043e \\u043a\\u0430\\u0436\\u0434\\u043e\\u043c\\u0443 \\u043a\\u0430\\u043d\\u0434\\u0438\\u0434\\u0430\\u0442\\u0443 \\u0432 \\u043a\\u0430\\u0436\\u0434\\u044b\\u0439 \\u0434\\u0435\\u043d\\u044c \\u0432\\u044b\\u0431\\u043e\\u0440\\u043e\\u0432\"},\"barmode\":\"relative\",\"shapes\":[{\"line\":{\"color\":\"black\",\"dash\":\"dash\"},\"type\":\"line\",\"x0\":0,\"x1\":1,\"xref\":\"x domain\",\"y0\":0,\"y1\":0,\"yref\":\"y\"}]},                        {\"responsive\": true}                    ).then(function(){\n",
       "                            \n",
       "var gd = document.getElementById('2c134bfc-7af3-4400-99f3-ad581c84b561');\n",
       "var x = new MutationObserver(function (mutations, observer) {{\n",
       "        var display = window.getComputedStyle(gd).display;\n",
       "        if (!display || display === 'none') {{\n",
       "            console.log([gd, 'removed!']);\n",
       "            Plotly.purge(gd);\n",
       "            observer.disconnect();\n",
       "        }}\n",
       "}});\n",
       "\n",
       "// Listen for the removal of the full notebook cells\n",
       "var notebookContainer = gd.closest('#notebook-container');\n",
       "if (notebookContainer) {{\n",
       "    x.observe(notebookContainer, {childList: true});\n",
       "}}\n",
       "\n",
       "// Listen for the clearing of the current output cell\n",
       "var outputEl = gd.closest('.output');\n",
       "if (outputEl) {{\n",
       "    x.observe(outputEl, {childList: true});\n",
       "}}\n",
       "\n",
       "                        })                };                });            </script>        </div>"
      ]
     },
     "metadata": {},
     "output_type": "display_data"
    }
   ],
   "source": [
    "# Фильтруем данные для седьмой выборной кампании\n",
    "df_election_7 = df[df['election_number'] == 7]\n",
    "\n",
    "# Группируем данные по 'candidate', 'lt' и 'vote' и считаем количество голосов\n",
    "timeline = df_election_7.groupby(['candidate', 'lt', 'vote'])['vote'].count().unstack(fill_value=0)\n",
    "\n",
    "# Считаем количество голосов \"за\" и \"против\" для каждого дня\n",
    "timeline['votes_for'] = timeline[1]\n",
    "timeline['votes_against'] = -timeline[-1]\n",
    "\n",
    "# Вычисляем соотношение \"за\" и \"против\" для каждого дня\n",
    "timeline['ratio'] = timeline['votes_for'] / (timeline['votes_for'] + timeline['votes_against'])\n",
    "\n",
    "# Сбрасываем индекс, чтобы 'candidate' и 'lt' стали обычными столбцами\n",
    "timeline = timeline.reset_index()\n",
    "\n",
    "# Создаем пользовательскую цветовую палитру\n",
    "custom_palette = px.colors.qualitative.Set3  # Пример цветовой палитры\n",
    "\n",
    "# Создаем интерактивную столбчатую диаграмму с пользовательской цветовой палитрой\n",
    "fig = px.bar(timeline, x='lt', y='ratio', color='candidate',\n",
    "             color_discrete_sequence=custom_palette,\n",
    "             title='Изменение соотношения \"За\" / \"Против\" по каждому кандидату в каждый день выборов')\n",
    "fig.update_xaxes(title='Дни с начала выборов')\n",
    "fig.update_yaxes(title='Соотношение \"За\" / \"Против\"')\n",
    "\n",
    "# Добавляем горизонтальную линию на уровне 0\n",
    "fig.add_hline(y=0, line_dash=\"dash\", line_color=\"black\")\n",
    "\n",
    "fig.show()"
   ]
  },
  {
   "cell_type": "markdown",
   "id": "2eb15eb8",
   "metadata": {},
   "source": [
    "**В седьмой выборной кампании мы можем увидеть необычную динамику в третьи сутки с начала голосования - для большинства кандидатов, за которых обычно было больше голосов \"за\", в эти сутки преобладали голоса \"против\". И вообще в эти сутки избиратели больше голосовали против кандидатов, нежели за них.**"
   ]
  },
  {
   "cell_type": "markdown",
   "id": "2d71061c",
   "metadata": {},
   "source": [
    "**Также еще построим тепловую карту, где цвета строк напротив имени каждого кандидата будут отображать соотношение голосов \"за\" к общему количеству голосов в конкретные сутки, чтобы можно было выделить кандидатов, которых поддерживают многие избиратели.**"
   ]
  },
  {
   "cell_type": "code",
   "execution_count": 86,
   "id": "4770a1f8",
   "metadata": {},
   "outputs": [
    {
     "data": {
      "application/vnd.plotly.v1+json": {
       "config": {
        "plotlyServerURL": "https://plot.ly"
       },
       "data": [
        {
         "coloraxis": "coloraxis",
         "hovertemplate": "lt: %{x}<br>candidate: %{y}<br>color: %{z}<extra></extra>",
         "name": "0",
         "type": "heatmap",
         "x": [
          0,
          1,
          2,
          3,
          4,
          5,
          6
         ],
         "xaxis": "x",
         "y": [
          "Agent001",
          "Alexandrov",
          "Berserkerus",
          "Chronicler",
          "EvgenyGenkin",
          "Ilya Voyager",
          "Kaganer",
          "Kv75",
          "Pauk",
          "Solon",
          "Ukkon",
          "VasilievVV",
          "Wulfson",
          "Александр Сигачёв"
         ],
         "yaxis": "y",
         "z": [
          [
           0.0035561877667140826,
           0.07792207792207792,
           0,
           0,
           0,
           0,
           0
          ],
          [
           0.16200716845878135,
           0.18518518518518517,
           0.08018867924528301,
           0.2857142857142857,
           1,
           0.024096385542168676,
           0.34782608695652173
          ],
          [
           0.421875,
           0.891156462585034,
           0.0035842293906810036,
           0.14285714285714285,
           1,
           0.04819277108433735,
           0
          ],
          [
           0.8374910905203136,
           0.8963963963963963,
           0.35563380281690143,
           0.3448275862068966,
           1,
           0,
           0.9029850746268657
          ],
          [
           0.8694736842105263,
           0.9273255813953488,
           0.7355769230769231,
           0.3723404255319149,
           1,
           0.9767441860465116,
           0.9142857142857143
          ],
          [
           0.8848,
           0.9715447154471545,
           0.8424068767908309,
           0.47126436781609193,
           1,
           1,
           0.8795180722891566
          ],
          [
           0.9016034985422741,
           0.9398907103825137,
           0.835820895522388,
           0.8,
           0.3333333333333333,
           1,
           0.9973045822102425
          ],
          [
           0.9163456246560264,
           0.9487870619946092,
           0.7522522522522522,
           0.4588235294117647,
           1,
           1,
           1
          ],
          [
           0.349,
           0.9267734553775744,
           0.9636363636363636,
           0.013888888888888888,
           1,
           0.04819277108433735,
           0.07954545454545454
          ],
          [
           0.14553990610328638,
           0.3333333333333333,
           0.08695652173913043,
           0.04411764705882353,
           1,
           0,
           0.04081632653061224
          ],
          [
           0.08141762452107279,
           0.03597122302158273,
           0,
           0.0967741935483871,
           null,
           0,
           0
          ],
          [
           0.09745762711864407,
           0.4642857142857143,
           0.7123287671232876,
           0.21428571428571427,
           0,
           0,
           0.012195121951219513
          ],
          [
           0.5544488711819389,
           0.8571428571428571,
           0.7193877551020408,
           0.32098765432098764,
           0.02702702702702703,
           0.9705882352941176,
           0.9207920792079208
          ],
          [
           0.9214521452145215,
           0.9554317548746518,
           0.7565217391304347,
           0.367816091954023,
           1,
           1,
           0.9891304347826086
          ]
         ]
        }
       ],
       "layout": {
        "coloraxis": {
         "colorscale": [
          [
           0,
           "rgb(165,0,38)"
          ],
          [
           0.1,
           "rgb(215,48,39)"
          ],
          [
           0.2,
           "rgb(244,109,67)"
          ],
          [
           0.3,
           "rgb(253,174,97)"
          ],
          [
           0.4,
           "rgb(254,224,139)"
          ],
          [
           0.5,
           "rgb(255,255,191)"
          ],
          [
           0.6,
           "rgb(217,239,139)"
          ],
          [
           0.7,
           "rgb(166,217,106)"
          ],
          [
           0.8,
           "rgb(102,189,99)"
          ],
          [
           0.9,
           "rgb(26,152,80)"
          ],
          [
           1,
           "rgb(0,104,55)"
          ]
         ]
        },
        "template": {
         "data": {
          "bar": [
           {
            "error_x": {
             "color": "#2a3f5f"
            },
            "error_y": {
             "color": "#2a3f5f"
            },
            "marker": {
             "line": {
              "color": "#E5ECF6",
              "width": 0.5
             },
             "pattern": {
              "fillmode": "overlay",
              "size": 10,
              "solidity": 0.2
             }
            },
            "type": "bar"
           }
          ],
          "barpolar": [
           {
            "marker": {
             "line": {
              "color": "#E5ECF6",
              "width": 0.5
             },
             "pattern": {
              "fillmode": "overlay",
              "size": 10,
              "solidity": 0.2
             }
            },
            "type": "barpolar"
           }
          ],
          "carpet": [
           {
            "aaxis": {
             "endlinecolor": "#2a3f5f",
             "gridcolor": "white",
             "linecolor": "white",
             "minorgridcolor": "white",
             "startlinecolor": "#2a3f5f"
            },
            "baxis": {
             "endlinecolor": "#2a3f5f",
             "gridcolor": "white",
             "linecolor": "white",
             "minorgridcolor": "white",
             "startlinecolor": "#2a3f5f"
            },
            "type": "carpet"
           }
          ],
          "choropleth": [
           {
            "colorbar": {
             "outlinewidth": 0,
             "ticks": ""
            },
            "type": "choropleth"
           }
          ],
          "contour": [
           {
            "colorbar": {
             "outlinewidth": 0,
             "ticks": ""
            },
            "colorscale": [
             [
              0,
              "#0d0887"
             ],
             [
              0.1111111111111111,
              "#46039f"
             ],
             [
              0.2222222222222222,
              "#7201a8"
             ],
             [
              0.3333333333333333,
              "#9c179e"
             ],
             [
              0.4444444444444444,
              "#bd3786"
             ],
             [
              0.5555555555555556,
              "#d8576b"
             ],
             [
              0.6666666666666666,
              "#ed7953"
             ],
             [
              0.7777777777777778,
              "#fb9f3a"
             ],
             [
              0.8888888888888888,
              "#fdca26"
             ],
             [
              1,
              "#f0f921"
             ]
            ],
            "type": "contour"
           }
          ],
          "contourcarpet": [
           {
            "colorbar": {
             "outlinewidth": 0,
             "ticks": ""
            },
            "type": "contourcarpet"
           }
          ],
          "heatmap": [
           {
            "colorbar": {
             "outlinewidth": 0,
             "ticks": ""
            },
            "colorscale": [
             [
              0,
              "#0d0887"
             ],
             [
              0.1111111111111111,
              "#46039f"
             ],
             [
              0.2222222222222222,
              "#7201a8"
             ],
             [
              0.3333333333333333,
              "#9c179e"
             ],
             [
              0.4444444444444444,
              "#bd3786"
             ],
             [
              0.5555555555555556,
              "#d8576b"
             ],
             [
              0.6666666666666666,
              "#ed7953"
             ],
             [
              0.7777777777777778,
              "#fb9f3a"
             ],
             [
              0.8888888888888888,
              "#fdca26"
             ],
             [
              1,
              "#f0f921"
             ]
            ],
            "type": "heatmap"
           }
          ],
          "heatmapgl": [
           {
            "colorbar": {
             "outlinewidth": 0,
             "ticks": ""
            },
            "colorscale": [
             [
              0,
              "#0d0887"
             ],
             [
              0.1111111111111111,
              "#46039f"
             ],
             [
              0.2222222222222222,
              "#7201a8"
             ],
             [
              0.3333333333333333,
              "#9c179e"
             ],
             [
              0.4444444444444444,
              "#bd3786"
             ],
             [
              0.5555555555555556,
              "#d8576b"
             ],
             [
              0.6666666666666666,
              "#ed7953"
             ],
             [
              0.7777777777777778,
              "#fb9f3a"
             ],
             [
              0.8888888888888888,
              "#fdca26"
             ],
             [
              1,
              "#f0f921"
             ]
            ],
            "type": "heatmapgl"
           }
          ],
          "histogram": [
           {
            "marker": {
             "pattern": {
              "fillmode": "overlay",
              "size": 10,
              "solidity": 0.2
             }
            },
            "type": "histogram"
           }
          ],
          "histogram2d": [
           {
            "colorbar": {
             "outlinewidth": 0,
             "ticks": ""
            },
            "colorscale": [
             [
              0,
              "#0d0887"
             ],
             [
              0.1111111111111111,
              "#46039f"
             ],
             [
              0.2222222222222222,
              "#7201a8"
             ],
             [
              0.3333333333333333,
              "#9c179e"
             ],
             [
              0.4444444444444444,
              "#bd3786"
             ],
             [
              0.5555555555555556,
              "#d8576b"
             ],
             [
              0.6666666666666666,
              "#ed7953"
             ],
             [
              0.7777777777777778,
              "#fb9f3a"
             ],
             [
              0.8888888888888888,
              "#fdca26"
             ],
             [
              1,
              "#f0f921"
             ]
            ],
            "type": "histogram2d"
           }
          ],
          "histogram2dcontour": [
           {
            "colorbar": {
             "outlinewidth": 0,
             "ticks": ""
            },
            "colorscale": [
             [
              0,
              "#0d0887"
             ],
             [
              0.1111111111111111,
              "#46039f"
             ],
             [
              0.2222222222222222,
              "#7201a8"
             ],
             [
              0.3333333333333333,
              "#9c179e"
             ],
             [
              0.4444444444444444,
              "#bd3786"
             ],
             [
              0.5555555555555556,
              "#d8576b"
             ],
             [
              0.6666666666666666,
              "#ed7953"
             ],
             [
              0.7777777777777778,
              "#fb9f3a"
             ],
             [
              0.8888888888888888,
              "#fdca26"
             ],
             [
              1,
              "#f0f921"
             ]
            ],
            "type": "histogram2dcontour"
           }
          ],
          "mesh3d": [
           {
            "colorbar": {
             "outlinewidth": 0,
             "ticks": ""
            },
            "type": "mesh3d"
           }
          ],
          "parcoords": [
           {
            "line": {
             "colorbar": {
              "outlinewidth": 0,
              "ticks": ""
             }
            },
            "type": "parcoords"
           }
          ],
          "pie": [
           {
            "automargin": true,
            "type": "pie"
           }
          ],
          "scatter": [
           {
            "fillpattern": {
             "fillmode": "overlay",
             "size": 10,
             "solidity": 0.2
            },
            "type": "scatter"
           }
          ],
          "scatter3d": [
           {
            "line": {
             "colorbar": {
              "outlinewidth": 0,
              "ticks": ""
             }
            },
            "marker": {
             "colorbar": {
              "outlinewidth": 0,
              "ticks": ""
             }
            },
            "type": "scatter3d"
           }
          ],
          "scattercarpet": [
           {
            "marker": {
             "colorbar": {
              "outlinewidth": 0,
              "ticks": ""
             }
            },
            "type": "scattercarpet"
           }
          ],
          "scattergeo": [
           {
            "marker": {
             "colorbar": {
              "outlinewidth": 0,
              "ticks": ""
             }
            },
            "type": "scattergeo"
           }
          ],
          "scattergl": [
           {
            "marker": {
             "colorbar": {
              "outlinewidth": 0,
              "ticks": ""
             }
            },
            "type": "scattergl"
           }
          ],
          "scattermapbox": [
           {
            "marker": {
             "colorbar": {
              "outlinewidth": 0,
              "ticks": ""
             }
            },
            "type": "scattermapbox"
           }
          ],
          "scatterpolar": [
           {
            "marker": {
             "colorbar": {
              "outlinewidth": 0,
              "ticks": ""
             }
            },
            "type": "scatterpolar"
           }
          ],
          "scatterpolargl": [
           {
            "marker": {
             "colorbar": {
              "outlinewidth": 0,
              "ticks": ""
             }
            },
            "type": "scatterpolargl"
           }
          ],
          "scatterternary": [
           {
            "marker": {
             "colorbar": {
              "outlinewidth": 0,
              "ticks": ""
             }
            },
            "type": "scatterternary"
           }
          ],
          "surface": [
           {
            "colorbar": {
             "outlinewidth": 0,
             "ticks": ""
            },
            "colorscale": [
             [
              0,
              "#0d0887"
             ],
             [
              0.1111111111111111,
              "#46039f"
             ],
             [
              0.2222222222222222,
              "#7201a8"
             ],
             [
              0.3333333333333333,
              "#9c179e"
             ],
             [
              0.4444444444444444,
              "#bd3786"
             ],
             [
              0.5555555555555556,
              "#d8576b"
             ],
             [
              0.6666666666666666,
              "#ed7953"
             ],
             [
              0.7777777777777778,
              "#fb9f3a"
             ],
             [
              0.8888888888888888,
              "#fdca26"
             ],
             [
              1,
              "#f0f921"
             ]
            ],
            "type": "surface"
           }
          ],
          "table": [
           {
            "cells": {
             "fill": {
              "color": "#EBF0F8"
             },
             "line": {
              "color": "white"
             }
            },
            "header": {
             "fill": {
              "color": "#C8D4E3"
             },
             "line": {
              "color": "white"
             }
            },
            "type": "table"
           }
          ]
         },
         "layout": {
          "annotationdefaults": {
           "arrowcolor": "#2a3f5f",
           "arrowhead": 0,
           "arrowwidth": 1
          },
          "autotypenumbers": "strict",
          "coloraxis": {
           "colorbar": {
            "outlinewidth": 0,
            "ticks": ""
           }
          },
          "colorscale": {
           "diverging": [
            [
             0,
             "#8e0152"
            ],
            [
             0.1,
             "#c51b7d"
            ],
            [
             0.2,
             "#de77ae"
            ],
            [
             0.3,
             "#f1b6da"
            ],
            [
             0.4,
             "#fde0ef"
            ],
            [
             0.5,
             "#f7f7f7"
            ],
            [
             0.6,
             "#e6f5d0"
            ],
            [
             0.7,
             "#b8e186"
            ],
            [
             0.8,
             "#7fbc41"
            ],
            [
             0.9,
             "#4d9221"
            ],
            [
             1,
             "#276419"
            ]
           ],
           "sequential": [
            [
             0,
             "#0d0887"
            ],
            [
             0.1111111111111111,
             "#46039f"
            ],
            [
             0.2222222222222222,
             "#7201a8"
            ],
            [
             0.3333333333333333,
             "#9c179e"
            ],
            [
             0.4444444444444444,
             "#bd3786"
            ],
            [
             0.5555555555555556,
             "#d8576b"
            ],
            [
             0.6666666666666666,
             "#ed7953"
            ],
            [
             0.7777777777777778,
             "#fb9f3a"
            ],
            [
             0.8888888888888888,
             "#fdca26"
            ],
            [
             1,
             "#f0f921"
            ]
           ],
           "sequentialminus": [
            [
             0,
             "#0d0887"
            ],
            [
             0.1111111111111111,
             "#46039f"
            ],
            [
             0.2222222222222222,
             "#7201a8"
            ],
            [
             0.3333333333333333,
             "#9c179e"
            ],
            [
             0.4444444444444444,
             "#bd3786"
            ],
            [
             0.5555555555555556,
             "#d8576b"
            ],
            [
             0.6666666666666666,
             "#ed7953"
            ],
            [
             0.7777777777777778,
             "#fb9f3a"
            ],
            [
             0.8888888888888888,
             "#fdca26"
            ],
            [
             1,
             "#f0f921"
            ]
           ]
          },
          "colorway": [
           "#636efa",
           "#EF553B",
           "#00cc96",
           "#ab63fa",
           "#FFA15A",
           "#19d3f3",
           "#FF6692",
           "#B6E880",
           "#FF97FF",
           "#FECB52"
          ],
          "font": {
           "color": "#2a3f5f"
          },
          "geo": {
           "bgcolor": "white",
           "lakecolor": "white",
           "landcolor": "#E5ECF6",
           "showlakes": true,
           "showland": true,
           "subunitcolor": "white"
          },
          "hoverlabel": {
           "align": "left"
          },
          "hovermode": "closest",
          "mapbox": {
           "style": "light"
          },
          "paper_bgcolor": "white",
          "plot_bgcolor": "#E5ECF6",
          "polar": {
           "angularaxis": {
            "gridcolor": "white",
            "linecolor": "white",
            "ticks": ""
           },
           "bgcolor": "#E5ECF6",
           "radialaxis": {
            "gridcolor": "white",
            "linecolor": "white",
            "ticks": ""
           }
          },
          "scene": {
           "xaxis": {
            "backgroundcolor": "#E5ECF6",
            "gridcolor": "white",
            "gridwidth": 2,
            "linecolor": "white",
            "showbackground": true,
            "ticks": "",
            "zerolinecolor": "white"
           },
           "yaxis": {
            "backgroundcolor": "#E5ECF6",
            "gridcolor": "white",
            "gridwidth": 2,
            "linecolor": "white",
            "showbackground": true,
            "ticks": "",
            "zerolinecolor": "white"
           },
           "zaxis": {
            "backgroundcolor": "#E5ECF6",
            "gridcolor": "white",
            "gridwidth": 2,
            "linecolor": "white",
            "showbackground": true,
            "ticks": "",
            "zerolinecolor": "white"
           }
          },
          "shapedefaults": {
           "line": {
            "color": "#2a3f5f"
           }
          },
          "ternary": {
           "aaxis": {
            "gridcolor": "white",
            "linecolor": "white",
            "ticks": ""
           },
           "baxis": {
            "gridcolor": "white",
            "linecolor": "white",
            "ticks": ""
           },
           "bgcolor": "#E5ECF6",
           "caxis": {
            "gridcolor": "white",
            "linecolor": "white",
            "ticks": ""
           }
          },
          "title": {
           "x": 0.05
          },
          "xaxis": {
           "automargin": true,
           "gridcolor": "white",
           "linecolor": "white",
           "ticks": "",
           "title": {
            "standoff": 15
           },
           "zerolinecolor": "white",
           "zerolinewidth": 2
          },
          "yaxis": {
           "automargin": true,
           "gridcolor": "white",
           "linecolor": "white",
           "ticks": "",
           "title": {
            "standoff": 15
           },
           "zerolinecolor": "white",
           "zerolinewidth": 2
          }
         }
        },
        "title": {
         "text": "Изменение соотношения \"За\" / \"Против\" по каждому кандидату в каждый день выборов"
        },
        "xaxis": {
         "anchor": "y",
         "constrain": "domain",
         "domain": [
          0,
          1
         ],
         "scaleanchor": "y",
         "side": "top",
         "title": {
          "text": "lt"
         }
        },
        "yaxis": {
         "anchor": "x",
         "autorange": "reversed",
         "constrain": "domain",
         "domain": [
          0,
          1
         ],
         "title": {
          "text": "candidate"
         }
        }
       }
      },
      "text/html": [
       "<div>                            <div id=\"20263ba9-e966-406a-8963-d0c2806dd240\" class=\"plotly-graph-div\" style=\"height:525px; width:100%;\"></div>            <script type=\"text/javascript\">                require([\"plotly\"], function(Plotly) {                    window.PLOTLYENV=window.PLOTLYENV || {};                                    if (document.getElementById(\"20263ba9-e966-406a-8963-d0c2806dd240\")) {                    Plotly.newPlot(                        \"20263ba9-e966-406a-8963-d0c2806dd240\",                        [{\"coloraxis\":\"coloraxis\",\"name\":\"0\",\"x\":[0.0,1.0,2.0,3.0,4.0,5.0,6.0],\"y\":[\"Agent001\",\"Alexandrov\",\"Berserkerus\",\"Chronicler\",\"EvgenyGenkin\",\"Ilya Voyager\",\"Kaganer\",\"Kv75\",\"Pauk\",\"Solon\",\"Ukkon\",\"VasilievVV\",\"Wulfson\",\"\\u0410\\u043b\\u0435\\u043a\\u0441\\u0430\\u043d\\u0434\\u0440 \\u0421\\u0438\\u0433\\u0430\\u0447\\u0451\\u0432\"],\"z\":[[0.0035561877667140826,0.07792207792207792,0.0,0.0,0.0,0.0,0.0],[0.16200716845878135,0.18518518518518517,0.08018867924528301,0.2857142857142857,1.0,0.024096385542168676,0.34782608695652173],[0.421875,0.891156462585034,0.0035842293906810036,0.14285714285714285,1.0,0.04819277108433735,0.0],[0.8374910905203136,0.8963963963963963,0.35563380281690143,0.3448275862068966,1.0,0.0,0.9029850746268657],[0.8694736842105263,0.9273255813953488,0.7355769230769231,0.3723404255319149,1.0,0.9767441860465116,0.9142857142857143],[0.8848,0.9715447154471545,0.8424068767908309,0.47126436781609193,1.0,1.0,0.8795180722891566],[0.9016034985422741,0.9398907103825137,0.835820895522388,0.8,0.3333333333333333,1.0,0.9973045822102425],[0.9163456246560264,0.9487870619946092,0.7522522522522522,0.4588235294117647,1.0,1.0,1.0],[0.349,0.9267734553775744,0.9636363636363636,0.013888888888888888,1.0,0.04819277108433735,0.07954545454545454],[0.14553990610328638,0.3333333333333333,0.08695652173913043,0.04411764705882353,1.0,0.0,0.04081632653061224],[0.08141762452107279,0.03597122302158273,0.0,0.0967741935483871,null,0.0,0.0],[0.09745762711864407,0.4642857142857143,0.7123287671232876,0.21428571428571427,0.0,0.0,0.012195121951219513],[0.5544488711819389,0.8571428571428571,0.7193877551020408,0.32098765432098764,0.02702702702702703,0.9705882352941176,0.9207920792079208],[0.9214521452145215,0.9554317548746518,0.7565217391304347,0.367816091954023,1.0,1.0,0.9891304347826086]],\"type\":\"heatmap\",\"xaxis\":\"x\",\"yaxis\":\"y\",\"hovertemplate\":\"lt: %{x}<br>candidate: %{y}<br>color: %{z}<extra></extra>\"}],                        {\"template\":{\"data\":{\"histogram2dcontour\":[{\"type\":\"histogram2dcontour\",\"colorbar\":{\"outlinewidth\":0,\"ticks\":\"\"},\"colorscale\":[[0.0,\"#0d0887\"],[0.1111111111111111,\"#46039f\"],[0.2222222222222222,\"#7201a8\"],[0.3333333333333333,\"#9c179e\"],[0.4444444444444444,\"#bd3786\"],[0.5555555555555556,\"#d8576b\"],[0.6666666666666666,\"#ed7953\"],[0.7777777777777778,\"#fb9f3a\"],[0.8888888888888888,\"#fdca26\"],[1.0,\"#f0f921\"]]}],\"choropleth\":[{\"type\":\"choropleth\",\"colorbar\":{\"outlinewidth\":0,\"ticks\":\"\"}}],\"histogram2d\":[{\"type\":\"histogram2d\",\"colorbar\":{\"outlinewidth\":0,\"ticks\":\"\"},\"colorscale\":[[0.0,\"#0d0887\"],[0.1111111111111111,\"#46039f\"],[0.2222222222222222,\"#7201a8\"],[0.3333333333333333,\"#9c179e\"],[0.4444444444444444,\"#bd3786\"],[0.5555555555555556,\"#d8576b\"],[0.6666666666666666,\"#ed7953\"],[0.7777777777777778,\"#fb9f3a\"],[0.8888888888888888,\"#fdca26\"],[1.0,\"#f0f921\"]]}],\"heatmap\":[{\"type\":\"heatmap\",\"colorbar\":{\"outlinewidth\":0,\"ticks\":\"\"},\"colorscale\":[[0.0,\"#0d0887\"],[0.1111111111111111,\"#46039f\"],[0.2222222222222222,\"#7201a8\"],[0.3333333333333333,\"#9c179e\"],[0.4444444444444444,\"#bd3786\"],[0.5555555555555556,\"#d8576b\"],[0.6666666666666666,\"#ed7953\"],[0.7777777777777778,\"#fb9f3a\"],[0.8888888888888888,\"#fdca26\"],[1.0,\"#f0f921\"]]}],\"heatmapgl\":[{\"type\":\"heatmapgl\",\"colorbar\":{\"outlinewidth\":0,\"ticks\":\"\"},\"colorscale\":[[0.0,\"#0d0887\"],[0.1111111111111111,\"#46039f\"],[0.2222222222222222,\"#7201a8\"],[0.3333333333333333,\"#9c179e\"],[0.4444444444444444,\"#bd3786\"],[0.5555555555555556,\"#d8576b\"],[0.6666666666666666,\"#ed7953\"],[0.7777777777777778,\"#fb9f3a\"],[0.8888888888888888,\"#fdca26\"],[1.0,\"#f0f921\"]]}],\"contourcarpet\":[{\"type\":\"contourcarpet\",\"colorbar\":{\"outlinewidth\":0,\"ticks\":\"\"}}],\"contour\":[{\"type\":\"contour\",\"colorbar\":{\"outlinewidth\":0,\"ticks\":\"\"},\"colorscale\":[[0.0,\"#0d0887\"],[0.1111111111111111,\"#46039f\"],[0.2222222222222222,\"#7201a8\"],[0.3333333333333333,\"#9c179e\"],[0.4444444444444444,\"#bd3786\"],[0.5555555555555556,\"#d8576b\"],[0.6666666666666666,\"#ed7953\"],[0.7777777777777778,\"#fb9f3a\"],[0.8888888888888888,\"#fdca26\"],[1.0,\"#f0f921\"]]}],\"surface\":[{\"type\":\"surface\",\"colorbar\":{\"outlinewidth\":0,\"ticks\":\"\"},\"colorscale\":[[0.0,\"#0d0887\"],[0.1111111111111111,\"#46039f\"],[0.2222222222222222,\"#7201a8\"],[0.3333333333333333,\"#9c179e\"],[0.4444444444444444,\"#bd3786\"],[0.5555555555555556,\"#d8576b\"],[0.6666666666666666,\"#ed7953\"],[0.7777777777777778,\"#fb9f3a\"],[0.8888888888888888,\"#fdca26\"],[1.0,\"#f0f921\"]]}],\"mesh3d\":[{\"type\":\"mesh3d\",\"colorbar\":{\"outlinewidth\":0,\"ticks\":\"\"}}],\"scatter\":[{\"fillpattern\":{\"fillmode\":\"overlay\",\"size\":10,\"solidity\":0.2},\"type\":\"scatter\"}],\"parcoords\":[{\"type\":\"parcoords\",\"line\":{\"colorbar\":{\"outlinewidth\":0,\"ticks\":\"\"}}}],\"scatterpolargl\":[{\"type\":\"scatterpolargl\",\"marker\":{\"colorbar\":{\"outlinewidth\":0,\"ticks\":\"\"}}}],\"bar\":[{\"error_x\":{\"color\":\"#2a3f5f\"},\"error_y\":{\"color\":\"#2a3f5f\"},\"marker\":{\"line\":{\"color\":\"#E5ECF6\",\"width\":0.5},\"pattern\":{\"fillmode\":\"overlay\",\"size\":10,\"solidity\":0.2}},\"type\":\"bar\"}],\"scattergeo\":[{\"type\":\"scattergeo\",\"marker\":{\"colorbar\":{\"outlinewidth\":0,\"ticks\":\"\"}}}],\"scatterpolar\":[{\"type\":\"scatterpolar\",\"marker\":{\"colorbar\":{\"outlinewidth\":0,\"ticks\":\"\"}}}],\"histogram\":[{\"marker\":{\"pattern\":{\"fillmode\":\"overlay\",\"size\":10,\"solidity\":0.2}},\"type\":\"histogram\"}],\"scattergl\":[{\"type\":\"scattergl\",\"marker\":{\"colorbar\":{\"outlinewidth\":0,\"ticks\":\"\"}}}],\"scatter3d\":[{\"type\":\"scatter3d\",\"line\":{\"colorbar\":{\"outlinewidth\":0,\"ticks\":\"\"}},\"marker\":{\"colorbar\":{\"outlinewidth\":0,\"ticks\":\"\"}}}],\"scattermapbox\":[{\"type\":\"scattermapbox\",\"marker\":{\"colorbar\":{\"outlinewidth\":0,\"ticks\":\"\"}}}],\"scatterternary\":[{\"type\":\"scatterternary\",\"marker\":{\"colorbar\":{\"outlinewidth\":0,\"ticks\":\"\"}}}],\"scattercarpet\":[{\"type\":\"scattercarpet\",\"marker\":{\"colorbar\":{\"outlinewidth\":0,\"ticks\":\"\"}}}],\"carpet\":[{\"aaxis\":{\"endlinecolor\":\"#2a3f5f\",\"gridcolor\":\"white\",\"linecolor\":\"white\",\"minorgridcolor\":\"white\",\"startlinecolor\":\"#2a3f5f\"},\"baxis\":{\"endlinecolor\":\"#2a3f5f\",\"gridcolor\":\"white\",\"linecolor\":\"white\",\"minorgridcolor\":\"white\",\"startlinecolor\":\"#2a3f5f\"},\"type\":\"carpet\"}],\"table\":[{\"cells\":{\"fill\":{\"color\":\"#EBF0F8\"},\"line\":{\"color\":\"white\"}},\"header\":{\"fill\":{\"color\":\"#C8D4E3\"},\"line\":{\"color\":\"white\"}},\"type\":\"table\"}],\"barpolar\":[{\"marker\":{\"line\":{\"color\":\"#E5ECF6\",\"width\":0.5},\"pattern\":{\"fillmode\":\"overlay\",\"size\":10,\"solidity\":0.2}},\"type\":\"barpolar\"}],\"pie\":[{\"automargin\":true,\"type\":\"pie\"}]},\"layout\":{\"autotypenumbers\":\"strict\",\"colorway\":[\"#636efa\",\"#EF553B\",\"#00cc96\",\"#ab63fa\",\"#FFA15A\",\"#19d3f3\",\"#FF6692\",\"#B6E880\",\"#FF97FF\",\"#FECB52\"],\"font\":{\"color\":\"#2a3f5f\"},\"hovermode\":\"closest\",\"hoverlabel\":{\"align\":\"left\"},\"paper_bgcolor\":\"white\",\"plot_bgcolor\":\"#E5ECF6\",\"polar\":{\"bgcolor\":\"#E5ECF6\",\"angularaxis\":{\"gridcolor\":\"white\",\"linecolor\":\"white\",\"ticks\":\"\"},\"radialaxis\":{\"gridcolor\":\"white\",\"linecolor\":\"white\",\"ticks\":\"\"}},\"ternary\":{\"bgcolor\":\"#E5ECF6\",\"aaxis\":{\"gridcolor\":\"white\",\"linecolor\":\"white\",\"ticks\":\"\"},\"baxis\":{\"gridcolor\":\"white\",\"linecolor\":\"white\",\"ticks\":\"\"},\"caxis\":{\"gridcolor\":\"white\",\"linecolor\":\"white\",\"ticks\":\"\"}},\"coloraxis\":{\"colorbar\":{\"outlinewidth\":0,\"ticks\":\"\"}},\"colorscale\":{\"sequential\":[[0.0,\"#0d0887\"],[0.1111111111111111,\"#46039f\"],[0.2222222222222222,\"#7201a8\"],[0.3333333333333333,\"#9c179e\"],[0.4444444444444444,\"#bd3786\"],[0.5555555555555556,\"#d8576b\"],[0.6666666666666666,\"#ed7953\"],[0.7777777777777778,\"#fb9f3a\"],[0.8888888888888888,\"#fdca26\"],[1.0,\"#f0f921\"]],\"sequentialminus\":[[0.0,\"#0d0887\"],[0.1111111111111111,\"#46039f\"],[0.2222222222222222,\"#7201a8\"],[0.3333333333333333,\"#9c179e\"],[0.4444444444444444,\"#bd3786\"],[0.5555555555555556,\"#d8576b\"],[0.6666666666666666,\"#ed7953\"],[0.7777777777777778,\"#fb9f3a\"],[0.8888888888888888,\"#fdca26\"],[1.0,\"#f0f921\"]],\"diverging\":[[0,\"#8e0152\"],[0.1,\"#c51b7d\"],[0.2,\"#de77ae\"],[0.3,\"#f1b6da\"],[0.4,\"#fde0ef\"],[0.5,\"#f7f7f7\"],[0.6,\"#e6f5d0\"],[0.7,\"#b8e186\"],[0.8,\"#7fbc41\"],[0.9,\"#4d9221\"],[1,\"#276419\"]]},\"xaxis\":{\"gridcolor\":\"white\",\"linecolor\":\"white\",\"ticks\":\"\",\"title\":{\"standoff\":15},\"zerolinecolor\":\"white\",\"automargin\":true,\"zerolinewidth\":2},\"yaxis\":{\"gridcolor\":\"white\",\"linecolor\":\"white\",\"ticks\":\"\",\"title\":{\"standoff\":15},\"zerolinecolor\":\"white\",\"automargin\":true,\"zerolinewidth\":2},\"scene\":{\"xaxis\":{\"backgroundcolor\":\"#E5ECF6\",\"gridcolor\":\"white\",\"linecolor\":\"white\",\"showbackground\":true,\"ticks\":\"\",\"zerolinecolor\":\"white\",\"gridwidth\":2},\"yaxis\":{\"backgroundcolor\":\"#E5ECF6\",\"gridcolor\":\"white\",\"linecolor\":\"white\",\"showbackground\":true,\"ticks\":\"\",\"zerolinecolor\":\"white\",\"gridwidth\":2},\"zaxis\":{\"backgroundcolor\":\"#E5ECF6\",\"gridcolor\":\"white\",\"linecolor\":\"white\",\"showbackground\":true,\"ticks\":\"\",\"zerolinecolor\":\"white\",\"gridwidth\":2}},\"shapedefaults\":{\"line\":{\"color\":\"#2a3f5f\"}},\"annotationdefaults\":{\"arrowcolor\":\"#2a3f5f\",\"arrowhead\":0,\"arrowwidth\":1},\"geo\":{\"bgcolor\":\"white\",\"landcolor\":\"#E5ECF6\",\"subunitcolor\":\"white\",\"showland\":true,\"showlakes\":true,\"lakecolor\":\"white\"},\"title\":{\"x\":0.05},\"mapbox\":{\"style\":\"light\"}}},\"xaxis\":{\"anchor\":\"y\",\"domain\":[0.0,1.0],\"scaleanchor\":\"y\",\"constrain\":\"domain\",\"title\":{\"text\":\"lt\"},\"side\":\"top\"},\"yaxis\":{\"anchor\":\"x\",\"domain\":[0.0,1.0],\"autorange\":\"reversed\",\"constrain\":\"domain\",\"title\":{\"text\":\"candidate\"}},\"coloraxis\":{\"colorscale\":[[0.0,\"rgb(165,0,38)\"],[0.1,\"rgb(215,48,39)\"],[0.2,\"rgb(244,109,67)\"],[0.3,\"rgb(253,174,97)\"],[0.4,\"rgb(254,224,139)\"],[0.5,\"rgb(255,255,191)\"],[0.6,\"rgb(217,239,139)\"],[0.7,\"rgb(166,217,106)\"],[0.8,\"rgb(102,189,99)\"],[0.9,\"rgb(26,152,80)\"],[1.0,\"rgb(0,104,55)\"]]},\"title\":{\"text\":\"\\u0418\\u0437\\u043c\\u0435\\u043d\\u0435\\u043d\\u0438\\u0435 \\u0441\\u043e\\u043e\\u0442\\u043d\\u043e\\u0448\\u0435\\u043d\\u0438\\u044f \\\"\\u0417\\u0430\\\" / \\\"\\u041f\\u0440\\u043e\\u0442\\u0438\\u0432\\\" \\u043f\\u043e \\u043a\\u0430\\u0436\\u0434\\u043e\\u043c\\u0443 \\u043a\\u0430\\u043d\\u0434\\u0438\\u0434\\u0430\\u0442\\u0443 \\u0432 \\u043a\\u0430\\u0436\\u0434\\u044b\\u0439 \\u0434\\u0435\\u043d\\u044c \\u0432\\u044b\\u0431\\u043e\\u0440\\u043e\\u0432\"}},                        {\"responsive\": true}                    ).then(function(){\n",
       "                            \n",
       "var gd = document.getElementById('20263ba9-e966-406a-8963-d0c2806dd240');\n",
       "var x = new MutationObserver(function (mutations, observer) {{\n",
       "        var display = window.getComputedStyle(gd).display;\n",
       "        if (!display || display === 'none') {{\n",
       "            console.log([gd, 'removed!']);\n",
       "            Plotly.purge(gd);\n",
       "            observer.disconnect();\n",
       "        }}\n",
       "}});\n",
       "\n",
       "// Listen for the removal of the full notebook cells\n",
       "var notebookContainer = gd.closest('#notebook-container');\n",
       "if (notebookContainer) {{\n",
       "    x.observe(notebookContainer, {childList: true});\n",
       "}}\n",
       "\n",
       "// Listen for the clearing of the current output cell\n",
       "var outputEl = gd.closest('.output');\n",
       "if (outputEl) {{\n",
       "    x.observe(outputEl, {childList: true});\n",
       "}}\n",
       "\n",
       "                        })                };                });            </script>        </div>"
      ]
     },
     "metadata": {},
     "output_type": "display_data"
    }
   ],
   "source": [
    "# Фильтруем данные для седьмой выборной кампании\n",
    "df_election_7 = df[df['election_number'] == 7]\n",
    "\n",
    "# Группируем данные по 'candidate', 'lt' и 'vote' и считаем количество голосов\n",
    "timeline = df_election_7.groupby(['candidate', 'lt', 'vote'])['vote'].count().unstack(fill_value=0)\n",
    "\n",
    "# Вычисляем соотношение \"за\" и \"против\" для каждого дня\n",
    "timeline['ratio'] = timeline[1] / (timeline[1] + timeline[-1])\n",
    "\n",
    "# Сбрасываем индекс, чтобы 'candidate' и 'lt' стали обычными столбцами\n",
    "timeline = timeline.reset_index()\n",
    "\n",
    "# Создаем тепловую карту (heatmap) с Plotly\n",
    "fig = px.imshow(timeline.pivot(index='candidate', columns='lt', values='ratio'),\n",
    "                labels={'lt': 'Дни с начала выборов', 'candidate': 'Кандидат'},\n",
    "                color_continuous_scale='RdYlGn',  # Выбираем цветовую палитру\n",
    "                title='Изменение соотношения \"За\" / \"Против\" по каждому кандидату в каждый день выборов')\n",
    "\n",
    "fig.update_xaxes(side='top')  # Перемещаем ось X наверх\n",
    "fig.show()"
   ]
  },
  {
   "cell_type": "markdown",
   "id": "af1d3cb3",
   "metadata": {},
   "source": [
    "**По такому хитмэпу наглядно видно, что допустим \"за\" кандидата Agent001 почти не голосуют, а например за EvgenyGenkin, Ilya Voyager, Kaganer, Kv75 каждый день количество положительных голосов значительно превышает отрицательные.**"
   ]
  },
  {
   "cell_type": "markdown",
   "id": "d576e320",
   "metadata": {},
   "source": [
    "**Проверим гипотезу, что если кандидат уже приближается к победе (т.е. набрал уже 50% голосав \"за\"), то большая часть избирателей его поддержат.**"
   ]
  },
  {
   "cell_type": "code",
   "execution_count": 81,
   "id": "0ef8f4b2",
   "metadata": {
    "scrolled": false
   },
   "outputs": [
    {
     "data": {
      "text/html": [
       "<div>\n",
       "<style scoped>\n",
       "    .dataframe tbody tr th:only-of-type {\n",
       "        vertical-align: middle;\n",
       "    }\n",
       "\n",
       "    .dataframe tbody tr th {\n",
       "        vertical-align: top;\n",
       "    }\n",
       "\n",
       "    .dataframe thead th {\n",
       "        text-align: right;\n",
       "    }\n",
       "</style>\n",
       "<table border=\"1\" class=\"dataframe\">\n",
       "  <thead>\n",
       "    <tr style=\"text-align: right;\">\n",
       "      <th></th>\n",
       "      <th>election_number</th>\n",
       "      <th>candidate</th>\n",
       "      <th>support_percentage_after_50_percent</th>\n",
       "    </tr>\n",
       "  </thead>\n",
       "  <tbody>\n",
       "    <tr>\n",
       "      <th>0</th>\n",
       "      <td>7</td>\n",
       "      <td>Chronicler</td>\n",
       "      <td>0.77</td>\n",
       "    </tr>\n",
       "    <tr>\n",
       "      <th>1</th>\n",
       "      <td>7</td>\n",
       "      <td>EvgenyGenkin</td>\n",
       "      <td>0.85</td>\n",
       "    </tr>\n",
       "    <tr>\n",
       "      <th>2</th>\n",
       "      <td>7</td>\n",
       "      <td>Ilya Voyager</td>\n",
       "      <td>0.88</td>\n",
       "    </tr>\n",
       "    <tr>\n",
       "      <th>3</th>\n",
       "      <td>7</td>\n",
       "      <td>Kaganer</td>\n",
       "      <td>0.93</td>\n",
       "    </tr>\n",
       "    <tr>\n",
       "      <th>4</th>\n",
       "      <td>7</td>\n",
       "      <td>Kv75</td>\n",
       "      <td>0.90</td>\n",
       "    </tr>\n",
       "    <tr>\n",
       "      <th>5</th>\n",
       "      <td>7</td>\n",
       "      <td>Pauk</td>\n",
       "      <td>0.53</td>\n",
       "    </tr>\n",
       "    <tr>\n",
       "      <th>6</th>\n",
       "      <td>7</td>\n",
       "      <td>Wulfson</td>\n",
       "      <td>0.66</td>\n",
       "    </tr>\n",
       "    <tr>\n",
       "      <th>7</th>\n",
       "      <td>7</td>\n",
       "      <td>Александр Сигачёв</td>\n",
       "      <td>0.90</td>\n",
       "    </tr>\n",
       "    <tr>\n",
       "      <th>8</th>\n",
       "      <td>8</td>\n",
       "      <td>Wulfson</td>\n",
       "      <td>0.82</td>\n",
       "    </tr>\n",
       "    <tr>\n",
       "      <th>9</th>\n",
       "      <td>8</td>\n",
       "      <td>Carn</td>\n",
       "      <td>0.93</td>\n",
       "    </tr>\n",
       "  </tbody>\n",
       "</table>\n",
       "</div>"
      ],
      "text/plain": [
       "  election_number          candidate  support_percentage_after_50_percent\n",
       "0               7         Chronicler                                 0.77\n",
       "1               7       EvgenyGenkin                                 0.85\n",
       "2               7       Ilya Voyager                                 0.88\n",
       "3               7            Kaganer                                 0.93\n",
       "4               7               Kv75                                 0.90\n",
       "5               7               Pauk                                 0.53\n",
       "6               7            Wulfson                                 0.66\n",
       "7               7  Александр Сигачёв                                 0.90\n",
       "8               8            Wulfson                                 0.82\n",
       "9               8               Carn                                 0.93"
      ]
     },
     "execution_count": 81,
     "metadata": {},
     "output_type": "execute_result"
    }
   ],
   "source": [
    "import warnings\n",
    "# Отключить все предупреждения\n",
    "warnings.filterwarnings(\"ignore\")\n",
    "\n",
    "\n",
    "# Группируем данные по 'election_number' и 'candidate' и считаем количество голосов ЗА ('vote' == 1) и ПРОТИВ ('vote' == -1)\n",
    "votes_counts = df.groupby(['election_number', 'candidate'])['vote'].value_counts().unstack(fill_value=0)\n",
    "\n",
    "# Определяем, какие кандидаты набрали 50% или более голосов ЗА\n",
    "candidates_with_50_percent_or_more = votes_counts[(votes_counts[1] / (votes_counts[1] + votes_counts[-1])) >= 0.5].index.get_level_values('candidate').unique()\n",
    "\n",
    "# Создаем DataFrame для хранения результата\n",
    "result_df = pd.DataFrame(columns=['election_number', 'candidate', 'support_percentage_after_50_percent'])\n",
    "\n",
    "# Для каждой выборной кампании с кандидатом, который набрал 50% или более голосов ЗА\n",
    "for election_number in df['election_number'].unique():\n",
    "    election_data = df[df['election_number'] == election_number]\n",
    "    \n",
    "    # Для каждого кандидата\n",
    "    for candidate in candidates_with_50_percent_or_more:\n",
    "        candidate_data = election_data[election_data['candidate'] == candidate]\n",
    "        \n",
    "        # Находим момент, когда кандидат набрал 50% голосов ЗА по времени отдачи голоса\n",
    "        total_votes = len(candidate_data)\n",
    "        votes_for_candidate = len(candidate_data[candidate_data['vote'] == 1])\n",
    "        votes_against_candidate = len(candidate_data[candidate_data['vote'] == -1])\n",
    "        moment_of_50_percent = None\n",
    "        \n",
    "        for _, row in candidate_data.iterrows():\n",
    "            if (votes_for_candidate / total_votes) >= 0.5:\n",
    "                moment_of_50_percent = row['vote_time']\n",
    "                break\n",
    "            if row['vote'] == 1:\n",
    "                votes_for_candidate += 1\n",
    "            else:\n",
    "                votes_against_candidate += 1\n",
    "            total_votes += 1\n",
    "        \n",
    "        if moment_of_50_percent:\n",
    "            # Определяем, сколько пользователей голосовало ЗА и ПРОТИВ после момента 50%\n",
    "            votes_after_50_percent = candidate_data[candidate_data['vote_time'] >= moment_of_50_percent]\n",
    "            support_percentage_after_50_percent = len(votes_after_50_percent[votes_after_50_percent['vote'] == 1]) / len(votes_after_50_percent)\n",
    "            \n",
    "            # Добавляем данные в результат\n",
    "            result_df = result_df.append({'election_number': election_number, 'candidate': candidate, 'support_percentage_after_50_percent': support_percentage_after_50_percent}, ignore_index=True)\n",
    "result_df.head(10)\n",
    "# В result_df содержится информация о кандидатах, которые набрали 50% или более голосов ЗА, и проценте пользователей, голосовавших ЗА кандидата после этого момента по времени отдачи голоса."
   ]
  },
  {
   "cell_type": "markdown",
   "id": "0833965d",
   "metadata": {},
   "source": [
    "**Посмотрим, какая доля пользователей голосовала \"за\" кандидата, когда он уже набирал 50% голосов в свою пользу.**"
   ]
  },
  {
   "cell_type": "code",
   "execution_count": 82,
   "id": "704efa14",
   "metadata": {},
   "outputs": [
    {
     "data": {
      "text/plain": [
       "0.767479674796748"
      ]
     },
     "execution_count": 82,
     "metadata": {},
     "output_type": "execute_result"
    }
   ],
   "source": [
    "result_df['support_percentage_after_50_percent'].median()"
   ]
  },
  {
   "cell_type": "markdown",
   "id": "7ab0d052",
   "metadata": {},
   "source": [
    "**Итак, абсолютное большинство избирателей - 77% - относятся к конформистам - они поддерживали кандидата, когда видели, что он приближается к победе. Наша гипотеза подтвердилась.**"
   ]
  },
  {
   "cell_type": "markdown",
   "id": "bc1c84f4",
   "metadata": {},
   "source": [
    "**Также интересно узнать, в какие сутки с начала выборов предпочитает голосовать большая часть избирателей.**"
   ]
  },
  {
   "cell_type": "code",
   "execution_count": 83,
   "id": "9a25e3f1",
   "metadata": {},
   "outputs": [
    {
     "data": {
      "text/html": [
       "<div>\n",
       "<style scoped>\n",
       "    .dataframe tbody tr th:only-of-type {\n",
       "        vertical-align: middle;\n",
       "    }\n",
       "\n",
       "    .dataframe tbody tr th {\n",
       "        vertical-align: top;\n",
       "    }\n",
       "\n",
       "    .dataframe thead th {\n",
       "        text-align: right;\n",
       "    }\n",
       "</style>\n",
       "<table border=\"1\" class=\"dataframe\">\n",
       "  <thead>\n",
       "    <tr style=\"text-align: right;\">\n",
       "      <th></th>\n",
       "      <th>lt</th>\n",
       "      <th>user</th>\n",
       "    </tr>\n",
       "  </thead>\n",
       "  <tbody>\n",
       "    <tr>\n",
       "      <th>0</th>\n",
       "      <td>0.00</td>\n",
       "      <td>945265</td>\n",
       "    </tr>\n",
       "    <tr>\n",
       "      <th>1</th>\n",
       "      <td>1.00</td>\n",
       "      <td>247887</td>\n",
       "    </tr>\n",
       "    <tr>\n",
       "      <th>2</th>\n",
       "      <td>2.00</td>\n",
       "      <td>134397</td>\n",
       "    </tr>\n",
       "    <tr>\n",
       "      <th>3</th>\n",
       "      <td>3.00</td>\n",
       "      <td>92433</td>\n",
       "    </tr>\n",
       "    <tr>\n",
       "      <th>4</th>\n",
       "      <td>4.00</td>\n",
       "      <td>63254</td>\n",
       "    </tr>\n",
       "    <tr>\n",
       "      <th>5</th>\n",
       "      <td>5.00</td>\n",
       "      <td>90761</td>\n",
       "    </tr>\n",
       "    <tr>\n",
       "      <th>6</th>\n",
       "      <td>6.00</td>\n",
       "      <td>116626</td>\n",
       "    </tr>\n",
       "    <tr>\n",
       "      <th>7</th>\n",
       "      <td>7.00</td>\n",
       "      <td>972</td>\n",
       "    </tr>\n",
       "  </tbody>\n",
       "</table>\n",
       "</div>"
      ],
      "text/plain": [
       "    lt    user\n",
       "0 0.00  945265\n",
       "1 1.00  247887\n",
       "2 2.00  134397\n",
       "3 3.00   92433\n",
       "4 4.00   63254\n",
       "5 5.00   90761\n",
       "6 6.00  116626\n",
       "7 7.00     972"
      ]
     },
     "execution_count": 83,
     "metadata": {},
     "output_type": "execute_result"
    }
   ],
   "source": [
    "# Применяем округление (floor) к столбцу 'lt'\n",
    "df['lt'] = df['lt'].apply(np.floor)\n",
    "\n",
    "# Группируем данные по 'lt' и считаем количество избирателей ('user')\n",
    "voters_count_by_days = df.groupby('lt')['user'].count().reset_index()\n",
    "voters_count_by_days"
   ]
  },
  {
   "cell_type": "code",
   "execution_count": 84,
   "id": "6d93699a",
   "metadata": {},
   "outputs": [
    {
     "data": {
      "image/png": "[encoded data removed]",
      "text/plain": [
       "<Figure size 1200x600 with 1 Axes>"
      ]
     },
     "metadata": {},
     "output_type": "display_data"
    }
   ],
   "source": [
    "# Группируем данные и считаем количество голосовавших избирателей по дням\n",
    "voters_count_by_days = df.groupby('lt')['user'].count().reset_index()\n",
    "\n",
    "# Вычисляем общее количество избирателей\n",
    "total_voters = voters_count_by_days['user'].sum()\n",
    "\n",
    "# Вычисляем доли (проценты) избирателей по дням\n",
    "voters_count_by_days['percentage'] = (voters_count_by_days['user'] / total_voters) * 100\n",
    "\n",
    "# Создаем график линии с долями на оси Y\n",
    "plt.figure(figsize=(12, 6))  # Размер графика\n",
    "\n",
    "plt.plot(voters_count_by_days['lt'], voters_count_by_days['percentage'], marker='o', linestyle='-')\n",
    "plt.title('Доля голосовавших избирателей по дням')\n",
    "plt.xlabel('Дни с начала выборов')\n",
    "plt.ylabel('Доля избирателей (%)')\n",
    "plt.grid(True)  # Включаем сетку на графике\n",
    "\n",
    "plt.show()  # Отображаем график"
   ]
  },
  {
   "cell_type": "markdown",
   "id": "ab642d84",
   "metadata": {},
   "source": [
    "**Визуализация наглядно демонстрирует, что абсолютное большинство пользователей (примерно 55%) предпочитали отдавать свои голоса в первые сутки после начала голосования, потом на графике все достаточно стабильно, а вот ближе к окончанию выборов вновь видно увеличение активности пользователей (на 6-ые сутки), так как те, кто еще не успели проголосавать, стремились внести свой вклад в результаты голосования.**"
   ]
  },
  {
   "cell_type": "markdown",
   "id": "fbb8707d",
   "metadata": {},
   "source": [
    "# Общий вывод по проведенному исследованию"
   ]
  },
  {
   "cell_type": "markdown",
   "id": "8248f3b7",
   "metadata": {},
   "source": [
    "**Нами был исследован датасет с информацией по выборам в комиссию Википедии, обладающую правами бана/разбана спорных статей или некоторых пользователей. Сначала нами была проведена работа по предобработке данных и подготовке их к анализу (переименование столбцов, изменение типа данных по необходимости, удаление лишних символов, проверка на наличие дубликатов в данных). <br>Приступив непосредственно к исследовательскому анализу данных нами было установлено, что преобладающее большинство пользователей сделали более чем по 15 тыс. правок, отменили более 25 тыс. чужих правок. Также мы определили, что очень многие пользователи добавили себе порядка 17,5 тыс. килобайт информации, и они провели в сервисе порядка 50-ти часов. Активнее всего голосовали в 2009-м и 2021-м годах; чаще голосующие голосовали \"за\" чем \"против\"; большинство избирателей предпочитали отдавать свой голос в первые сутки после начала выборов, в последние сутки количество голосующих немного увеличивалось, т.к. по-видимому некоторые люди пытались успеть проголосовать в последний момент. <br>Самыми голосующими пользователями за весь исследуемый период были Vladimir Solovjev, NBS и Schekinov Alexey Victorovich. <br>По скорости внесения правок отличился пользователь с ником TakingOver (76 правок в час!), а несколько пользователей поделили между собой второе место (60 правок в час). <br>Максимальное количество правок (56001 шт.) внес Q-bit array, замыкает Топ-10 Valdis72 с 8272 правками. <br>Далее мы сегментировали пользователей по различным критериям. <br>Преобладают \"неактивные избиратели\" с количеством голосов до 500 (таких 718 человек), меньше всего людей попало в категорию \"очень активных избирателей\" - 101 человек. <br>Большинство пользователей (932 человека) оставались активными на последние годы, но некоторые не проявляли активность с 2004 года (\"бывшие пользователи\" - 52 человека), а некоторые после 2008 года (\"старые пользователи\" - 88 человек). <br>У нас получилось 384 человека с общим количеством правок до 50000; 289 человек с количеством правок от 50001 до 300000 и 399 человек с большим количеством правок (от 300001 правки). <br>Далее мы установили частоту участия в голосованиях по избирателям и установили, что в среднем каждый избиратель голосовал по 82 раза в месяц. <br>В среднем каждый пользователь вносил по 18 правок в месяц за изучаемый период. <br> Мы установили, что в нашем датасете представлена информация по 30-ти выборам, которые проходили в промежуток между ноябрем 2008 года и августом 2023 года. За весь изучаемый период в качестве кандидатов выступало 227 человек. <br> Первое место по частоте избрания поделили между собой Sir Shurf и Vladimir Solovjev, их избирали в качестве членов комисии целых 8 раз! Также несильно отстал от них и пользователь Biathlon с семью избраниями.<br> В седьмой выборной кампании мы можем увидеть необычную динамику в третьи сутки с начала голосования - для большинства кандидатов, за которых обычно было больше голосов \"за\", в эти сутки преобладали голоса \"против\". И вообще в эти сутки избиратели больше голосовали против кандидатов, нежели за них. <br>Абсолютное большинство избирателей - 77% - относятся к конформистам - они поддерживали кандидата, когда видели, что он приближается к победе. <br>Абсолютное большинство пользователей (примерно 55%) предпочитали отдавать свои голоса в первые сутки после начала голосования, а вот ближе к окончанию выборов вновь видно увеличение активности пользователей (на 6-ые сутки), так как те, кто еще не успели проголосавать, стремились внести свой вклад в результаты голосования.**"
   ]
  }
 ],
 "metadata": {
  "kernelspec": {
   "display_name": "Python 3 (ipykernel)",
   "language": "python",
   "name": "python3"
  },
  "language_info": {
   "codemirror_mode": {
    "name": "ipython",
    "version": 3
   },
   "file_extension": ".py",
   "mimetype": "text/x-python",
   "name": "python",
   "nbconvert_exporter": "python",
   "pygments_lexer": "ipython3",
   "version": "3.11.4"
  },
  "toc": {
   "base_numbering": 1,
   "nav_menu": {
    "height": "94.9896px",
    "width": "170.99px"
   },
   "number_sections": true,
   "sideBar": true,
   "skip_h1_title": false,
   "title_cell": "Table of Contents",
   "title_sidebar": "Contents",
   "toc_cell": false,
   "toc_position": {},
   "toc_section_display": true,
   "toc_window_display": false
  }
 },
 "nbformat": 4,
 "nbformat_minor": 5
}
