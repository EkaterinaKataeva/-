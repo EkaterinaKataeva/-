{
 "cells": [
  {
   "cell_type": "markdown",
   "id": "2a55aa92-10dd-4464-af8b-086e6fcab075",
   "metadata": {},
   "source": [
    "# Анализ базы данных сервиса для чтения книг"
   ]
  },
  {
   "cell_type": "markdown",
   "id": "01193447-d386-4a15-9771-81d323dc18da",
   "metadata": {},
   "source": [
    "**Коронавирус застал мир врасплох, изменив привычный порядок вещей. В свободное время жители городов больше не выходят на улицу, не посещают кафе и торговые центры. Зато стало больше времени для книг. Это заметили стартаперы — и бросились создавать приложения для тех, кто любит читать.<br> \n",
    "Наша компания решила быть на волне и купила крупный сервис для чтения книг по подписке. Наша первая задача как аналитика — проанализировать базу данных. <br> \n",
    "В ней — информация о книгах, издательствах, авторах, а также пользовательские обзоры книг. Эти книги помогут сформулировать ценностное предложение для нового продукта.**"
   ]
  },
  {
   "cell_type": "markdown",
   "id": "258ab851-9fa8-43c1-8332-70afd86af7f2",
   "metadata": {},
   "source": [
    "**Описание данных:**<br>\n",
    "*Таблица books*\n",
    "Содержит данные о книгах:\n",
    "- `book_id` — идентификатор книги;\n",
    "- `author_id` — идентификатор автора;\n",
    "- `title` — название книги;\n",
    "- `num_pages` — количество страниц;\n",
    "- `publication_date` — дата публикации книги;\n",
    "- `publisher_id` — идентификатор издателя.\n",
    "\n",
    "*Таблица authors*\n",
    "Содержит данные об авторах:\n",
    "- `author_id` — идентификатор автора;\n",
    "- `author` — имя автора.\n",
    "\n",
    "*Таблица publishers*\n",
    "Содержит данные об издательствах:\n",
    "- `publisher_id` — идентификатор издательства;\n",
    "- `publisher` — название издательства.\n",
    "\n",
    "*Таблица ratings*\n",
    "Содержит данные о пользовательских оценках книг:\n",
    "- `rating_id` — идентификатор оценки;\n",
    "- `book_id` — идентификатор книги;\n",
    "- `username` — имя пользователя, оставившего оценку;\n",
    "- `rating` — оценка книги.\n",
    "\n",
    "*Таблица reviews*\n",
    "Содержит данные о пользовательских обзорах на книги:\n",
    "- `review_id` — идентификатор обзора;\n",
    "- `book_id` — идентификатор книги;\n",
    "- `username` — имя пользователя, написавшего обзор;\n",
    "- `text` — текст обзора.\n"
   ]
  },
  {
   "cell_type": "markdown",
   "id": "ae924e6a-0bbb-4aa6-92ef-8d22561c6ad9",
   "metadata": {},
   "source": [
    "## Подключение к базе данных"
   ]
  },
  {
   "cell_type": "code",
   "execution_count": 1,
   "id": "d61bb4f1-5cc0-442a-8851-febddecd10a2",
   "metadata": {},
   "outputs": [],
   "source": [
    "# импортируем библиотеки\n",
    "import pandas as pd\n",
    "import sqlalchemy as sa\n",
    "\n",
    "# устанавливаем параметры\n",
    "db_config = {\n",
    "    'user': 'praktikum_student',  # имя пользователя\n",
    "    'pwd': 'Sdf4$2;d-d30pp',       # пароль\n",
    "    'host': 'rc1b-wcoijxj3yxfsf3fs.mdb.yandexcloud.net',\n",
    "    'port': 6432,                  # порт подключения\n",
    "    'db': 'data-analyst-final-project-db'  # название базы данных\n",
    "}\n",
    "\n",
    "connection_string = 'postgresql://{user}:{pwd}@{host}:{port}/{db}'.format(**db_config)\n",
    "\n",
    "# сохраняем коннектор\n",
    "engine = sa.create_engine(connection_string, connect_args={'sslmode': 'require'})\n",
    "\n",
    "# чтобы выполнить SQL-запрос, пишем функцию с использованием Pandas\n",
    "def get_sql_data(query: str, engine: sa.engine.base.Engine = engine) -> pd.DataFrame:\n",
    "    '''Открываем соединение, получаем данные из sql, закрываем соединение'''\n",
    "    with engine.connect() as con:\n",
    "        return pd.read_sql(sql=sa.text(query), con=con)"
   ]
  },
  {
   "cell_type": "markdown",
   "id": "837f1876-7691-4090-a725-4822046822ff",
   "metadata": {},
   "source": [
    "## Ознакомление с содержанием таблиц"
   ]
  },
  {
   "cell_type": "code",
   "execution_count": 2,
   "id": "0999547e-62a3-4cd1-8bad-33c40cea96db",
   "metadata": {},
   "outputs": [
    {
     "name": "stdout",
     "output_type": "stream",
     "text": [
      "\n",
      "Первые строки таблицы books:\n"
     ]
    },
    {
     "data": {
      "text/html": [
       "<div>\n",
       "<style scoped>\n",
       "    .dataframe tbody tr th:only-of-type {\n",
       "        vertical-align: middle;\n",
       "    }\n",
       "\n",
       "    .dataframe tbody tr th {\n",
       "        vertical-align: top;\n",
       "    }\n",
       "\n",
       "    .dataframe thead th {\n",
       "        text-align: right;\n",
       "    }\n",
       "</style>\n",
       "<table border=\"1\" class=\"dataframe\">\n",
       "  <thead>\n",
       "    <tr style=\"text-align: right;\">\n",
       "      <th></th>\n",
       "      <th>book_id</th>\n",
       "      <th>author_id</th>\n",
       "      <th>title</th>\n",
       "      <th>num_pages</th>\n",
       "      <th>publication_date</th>\n",
       "      <th>publisher_id</th>\n",
       "    </tr>\n",
       "  </thead>\n",
       "  <tbody>\n",
       "    <tr>\n",
       "      <th>0</th>\n",
       "      <td>1</td>\n",
       "      <td>546</td>\n",
       "      <td>'Salem's Lot</td>\n",
       "      <td>594</td>\n",
       "      <td>2005-11-01</td>\n",
       "      <td>93</td>\n",
       "    </tr>\n",
       "    <tr>\n",
       "      <th>1</th>\n",
       "      <td>2</td>\n",
       "      <td>465</td>\n",
       "      <td>1 000 Places to See Before You Die</td>\n",
       "      <td>992</td>\n",
       "      <td>2003-05-22</td>\n",
       "      <td>336</td>\n",
       "    </tr>\n",
       "    <tr>\n",
       "      <th>2</th>\n",
       "      <td>3</td>\n",
       "      <td>407</td>\n",
       "      <td>13 Little Blue Envelopes (Little Blue Envelope...</td>\n",
       "      <td>322</td>\n",
       "      <td>2010-12-21</td>\n",
       "      <td>135</td>\n",
       "    </tr>\n",
       "    <tr>\n",
       "      <th>3</th>\n",
       "      <td>4</td>\n",
       "      <td>82</td>\n",
       "      <td>1491: New Revelations of the Americas Before C...</td>\n",
       "      <td>541</td>\n",
       "      <td>2006-10-10</td>\n",
       "      <td>309</td>\n",
       "    </tr>\n",
       "    <tr>\n",
       "      <th>4</th>\n",
       "      <td>5</td>\n",
       "      <td>125</td>\n",
       "      <td>1776</td>\n",
       "      <td>386</td>\n",
       "      <td>2006-07-04</td>\n",
       "      <td>268</td>\n",
       "    </tr>\n",
       "  </tbody>\n",
       "</table>\n",
       "</div>"
      ],
      "text/plain": [
       "   book_id  author_id                                              title  \\\n",
       "0        1        546                                       'Salem's Lot   \n",
       "1        2        465                 1 000 Places to See Before You Die   \n",
       "2        3        407  13 Little Blue Envelopes (Little Blue Envelope...   \n",
       "3        4         82  1491: New Revelations of the Americas Before C...   \n",
       "4        5        125                                               1776   \n",
       "\n",
       "   num_pages publication_date  publisher_id  \n",
       "0        594       2005-11-01            93  \n",
       "1        992       2003-05-22           336  \n",
       "2        322       2010-12-21           135  \n",
       "3        541       2006-10-10           309  \n",
       "4        386       2006-07-04           268  "
      ]
     },
     "metadata": {},
     "output_type": "display_data"
    },
    {
     "name": "stdout",
     "output_type": "stream",
     "text": [
      "\n",
      "Количество строк в таблице books: 1000\n",
      "\n",
      "\n",
      "Первые строки таблицы authors:\n"
     ]
    },
    {
     "data": {
      "text/html": [
       "<div>\n",
       "<style scoped>\n",
       "    .dataframe tbody tr th:only-of-type {\n",
       "        vertical-align: middle;\n",
       "    }\n",
       "\n",
       "    .dataframe tbody tr th {\n",
       "        vertical-align: top;\n",
       "    }\n",
       "\n",
       "    .dataframe thead th {\n",
       "        text-align: right;\n",
       "    }\n",
       "</style>\n",
       "<table border=\"1\" class=\"dataframe\">\n",
       "  <thead>\n",
       "    <tr style=\"text-align: right;\">\n",
       "      <th></th>\n",
       "      <th>author_id</th>\n",
       "      <th>author</th>\n",
       "    </tr>\n",
       "  </thead>\n",
       "  <tbody>\n",
       "    <tr>\n",
       "      <th>0</th>\n",
       "      <td>1</td>\n",
       "      <td>A.S. Byatt</td>\n",
       "    </tr>\n",
       "    <tr>\n",
       "      <th>1</th>\n",
       "      <td>2</td>\n",
       "      <td>Aesop/Laura Harris/Laura Gibbs</td>\n",
       "    </tr>\n",
       "    <tr>\n",
       "      <th>2</th>\n",
       "      <td>3</td>\n",
       "      <td>Agatha Christie</td>\n",
       "    </tr>\n",
       "    <tr>\n",
       "      <th>3</th>\n",
       "      <td>4</td>\n",
       "      <td>Alan Brennert</td>\n",
       "    </tr>\n",
       "    <tr>\n",
       "      <th>4</th>\n",
       "      <td>5</td>\n",
       "      <td>Alan Moore/David   Lloyd</td>\n",
       "    </tr>\n",
       "  </tbody>\n",
       "</table>\n",
       "</div>"
      ],
      "text/plain": [
       "   author_id                          author\n",
       "0          1                      A.S. Byatt\n",
       "1          2  Aesop/Laura Harris/Laura Gibbs\n",
       "2          3                 Agatha Christie\n",
       "3          4                   Alan Brennert\n",
       "4          5        Alan Moore/David   Lloyd"
      ]
     },
     "metadata": {},
     "output_type": "display_data"
    },
    {
     "name": "stdout",
     "output_type": "stream",
     "text": [
      "\n",
      "Количество строк в таблице authors: 636\n",
      "\n",
      "\n",
      "Первые строки таблицы publishers:\n"
     ]
    },
    {
     "data": {
      "text/html": [
       "<div>\n",
       "<style scoped>\n",
       "    .dataframe tbody tr th:only-of-type {\n",
       "        vertical-align: middle;\n",
       "    }\n",
       "\n",
       "    .dataframe tbody tr th {\n",
       "        vertical-align: top;\n",
       "    }\n",
       "\n",
       "    .dataframe thead th {\n",
       "        text-align: right;\n",
       "    }\n",
       "</style>\n",
       "<table border=\"1\" class=\"dataframe\">\n",
       "  <thead>\n",
       "    <tr style=\"text-align: right;\">\n",
       "      <th></th>\n",
       "      <th>publisher_id</th>\n",
       "      <th>publisher</th>\n",
       "    </tr>\n",
       "  </thead>\n",
       "  <tbody>\n",
       "    <tr>\n",
       "      <th>0</th>\n",
       "      <td>1</td>\n",
       "      <td>Ace</td>\n",
       "    </tr>\n",
       "    <tr>\n",
       "      <th>1</th>\n",
       "      <td>2</td>\n",
       "      <td>Ace Book</td>\n",
       "    </tr>\n",
       "    <tr>\n",
       "      <th>2</th>\n",
       "      <td>3</td>\n",
       "      <td>Ace Books</td>\n",
       "    </tr>\n",
       "    <tr>\n",
       "      <th>3</th>\n",
       "      <td>4</td>\n",
       "      <td>Ace Hardcover</td>\n",
       "    </tr>\n",
       "    <tr>\n",
       "      <th>4</th>\n",
       "      <td>5</td>\n",
       "      <td>Addison Wesley Publishing Company</td>\n",
       "    </tr>\n",
       "  </tbody>\n",
       "</table>\n",
       "</div>"
      ],
      "text/plain": [
       "   publisher_id                          publisher\n",
       "0             1                                Ace\n",
       "1             2                           Ace Book\n",
       "2             3                          Ace Books\n",
       "3             4                      Ace Hardcover\n",
       "4             5  Addison Wesley Publishing Company"
      ]
     },
     "metadata": {},
     "output_type": "display_data"
    },
    {
     "name": "stdout",
     "output_type": "stream",
     "text": [
      "\n",
      "Количество строк в таблице publishers: 340\n",
      "\n",
      "\n",
      "Первые строки таблицы ratings:\n"
     ]
    },
    {
     "data": {
      "text/html": [
       "<div>\n",
       "<style scoped>\n",
       "    .dataframe tbody tr th:only-of-type {\n",
       "        vertical-align: middle;\n",
       "    }\n",
       "\n",
       "    .dataframe tbody tr th {\n",
       "        vertical-align: top;\n",
       "    }\n",
       "\n",
       "    .dataframe thead th {\n",
       "        text-align: right;\n",
       "    }\n",
       "</style>\n",
       "<table border=\"1\" class=\"dataframe\">\n",
       "  <thead>\n",
       "    <tr style=\"text-align: right;\">\n",
       "      <th></th>\n",
       "      <th>rating_id</th>\n",
       "      <th>book_id</th>\n",
       "      <th>username</th>\n",
       "      <th>rating</th>\n",
       "    </tr>\n",
       "  </thead>\n",
       "  <tbody>\n",
       "    <tr>\n",
       "      <th>0</th>\n",
       "      <td>1</td>\n",
       "      <td>1</td>\n",
       "      <td>ryanfranco</td>\n",
       "      <td>4</td>\n",
       "    </tr>\n",
       "    <tr>\n",
       "      <th>1</th>\n",
       "      <td>2</td>\n",
       "      <td>1</td>\n",
       "      <td>grantpatricia</td>\n",
       "      <td>2</td>\n",
       "    </tr>\n",
       "    <tr>\n",
       "      <th>2</th>\n",
       "      <td>3</td>\n",
       "      <td>1</td>\n",
       "      <td>brandtandrea</td>\n",
       "      <td>5</td>\n",
       "    </tr>\n",
       "    <tr>\n",
       "      <th>3</th>\n",
       "      <td>4</td>\n",
       "      <td>2</td>\n",
       "      <td>lorichen</td>\n",
       "      <td>3</td>\n",
       "    </tr>\n",
       "    <tr>\n",
       "      <th>4</th>\n",
       "      <td>5</td>\n",
       "      <td>2</td>\n",
       "      <td>mariokeller</td>\n",
       "      <td>2</td>\n",
       "    </tr>\n",
       "  </tbody>\n",
       "</table>\n",
       "</div>"
      ],
      "text/plain": [
       "   rating_id  book_id       username  rating\n",
       "0          1        1     ryanfranco       4\n",
       "1          2        1  grantpatricia       2\n",
       "2          3        1   brandtandrea       5\n",
       "3          4        2       lorichen       3\n",
       "4          5        2    mariokeller       2"
      ]
     },
     "metadata": {},
     "output_type": "display_data"
    },
    {
     "name": "stdout",
     "output_type": "stream",
     "text": [
      "\n",
      "Количество строк в таблице ratings: 6456\n",
      "\n",
      "\n",
      "Первые строки таблицы reviews:\n"
     ]
    },
    {
     "data": {
      "text/html": [
       "<div>\n",
       "<style scoped>\n",
       "    .dataframe tbody tr th:only-of-type {\n",
       "        vertical-align: middle;\n",
       "    }\n",
       "\n",
       "    .dataframe tbody tr th {\n",
       "        vertical-align: top;\n",
       "    }\n",
       "\n",
       "    .dataframe thead th {\n",
       "        text-align: right;\n",
       "    }\n",
       "</style>\n",
       "<table border=\"1\" class=\"dataframe\">\n",
       "  <thead>\n",
       "    <tr style=\"text-align: right;\">\n",
       "      <th></th>\n",
       "      <th>review_id</th>\n",
       "      <th>book_id</th>\n",
       "      <th>username</th>\n",
       "      <th>text</th>\n",
       "    </tr>\n",
       "  </thead>\n",
       "  <tbody>\n",
       "    <tr>\n",
       "      <th>0</th>\n",
       "      <td>1</td>\n",
       "      <td>1</td>\n",
       "      <td>brandtandrea</td>\n",
       "      <td>Mention society tell send professor analysis. ...</td>\n",
       "    </tr>\n",
       "    <tr>\n",
       "      <th>1</th>\n",
       "      <td>2</td>\n",
       "      <td>1</td>\n",
       "      <td>ryanfranco</td>\n",
       "      <td>Foot glass pretty audience hit themselves. Amo...</td>\n",
       "    </tr>\n",
       "    <tr>\n",
       "      <th>2</th>\n",
       "      <td>3</td>\n",
       "      <td>2</td>\n",
       "      <td>lorichen</td>\n",
       "      <td>Listen treat keep worry. Miss husband tax but ...</td>\n",
       "    </tr>\n",
       "    <tr>\n",
       "      <th>3</th>\n",
       "      <td>4</td>\n",
       "      <td>3</td>\n",
       "      <td>johnsonamanda</td>\n",
       "      <td>Finally month interesting blue could nature cu...</td>\n",
       "    </tr>\n",
       "    <tr>\n",
       "      <th>4</th>\n",
       "      <td>5</td>\n",
       "      <td>3</td>\n",
       "      <td>scotttamara</td>\n",
       "      <td>Nation purpose heavy give wait song will. List...</td>\n",
       "    </tr>\n",
       "  </tbody>\n",
       "</table>\n",
       "</div>"
      ],
      "text/plain": [
       "   review_id  book_id       username  \\\n",
       "0          1        1   brandtandrea   \n",
       "1          2        1     ryanfranco   \n",
       "2          3        2       lorichen   \n",
       "3          4        3  johnsonamanda   \n",
       "4          5        3    scotttamara   \n",
       "\n",
       "                                                text  \n",
       "0  Mention society tell send professor analysis. ...  \n",
       "1  Foot glass pretty audience hit themselves. Amo...  \n",
       "2  Listen treat keep worry. Miss husband tax but ...  \n",
       "3  Finally month interesting blue could nature cu...  \n",
       "4  Nation purpose heavy give wait song will. List...  "
      ]
     },
     "metadata": {},
     "output_type": "display_data"
    },
    {
     "name": "stdout",
     "output_type": "stream",
     "text": [
      "\n",
      "Количество строк в таблице reviews: 2793\n",
      "\n"
     ]
    }
   ],
   "source": [
    "# Исследование таблиц\n",
    "tables = ['books', 'authors', 'publishers', 'ratings', 'reviews']\n",
    "\n",
    "for table in tables:\n",
    "    # Вывод первых строк таблицы\n",
    "    query_first_rows = f'SELECT * FROM {table} LIMIT 5'\n",
    "    table_data = get_sql_data(query_first_rows)\n",
    "    print(f'\\nПервые строки таблицы {table}:')\n",
    "    display(table_data)\n",
    "\n",
    "    # Подсчет количества строк в таблице\n",
    "    query_row_count = f'SELECT COUNT(*) FROM {table}'\n",
    "    row_count = get_sql_data(query_row_count).iloc[0, 0]\n",
    "    print(f'\\nКоличество строк в таблице {table}: {row_count}\\n')"
   ]
  },
  {
   "cell_type": "markdown",
   "id": "3fa75064-840c-438c-bab5-c6203c7b1f1c",
   "metadata": {},
   "source": [
    "## Выполнение SQL-запросов"
   ]
  },
  {
   "cell_type": "code",
   "execution_count": 3,
   "id": "67c1cafe-ec8c-4dca-a403-b4483530520e",
   "metadata": {},
   "outputs": [
    {
     "data": {
      "text/html": [
       "<div>\n",
       "<style scoped>\n",
       "    .dataframe tbody tr th:only-of-type {\n",
       "        vertical-align: middle;\n",
       "    }\n",
       "\n",
       "    .dataframe tbody tr th {\n",
       "        vertical-align: top;\n",
       "    }\n",
       "\n",
       "    .dataframe thead th {\n",
       "        text-align: right;\n",
       "    }\n",
       "</style>\n",
       "<table border=\"1\" class=\"dataframe\">\n",
       "  <thead>\n",
       "    <tr style=\"text-align: right;\">\n",
       "      <th></th>\n",
       "      <th>count</th>\n",
       "    </tr>\n",
       "  </thead>\n",
       "  <tbody>\n",
       "    <tr>\n",
       "      <th>0</th>\n",
       "      <td>819</td>\n",
       "    </tr>\n",
       "  </tbody>\n",
       "</table>\n",
       "</div>"
      ],
      "text/plain": [
       "   count\n",
       "0    819"
      ]
     },
     "execution_count": 3,
     "metadata": {},
     "output_type": "execute_result"
    }
   ],
   "source": [
    "# формируем запрос и выводим данные\n",
    "# Посчитаем, сколько книг вышло после 1 января 2000 года;\n",
    "book_count_query = ''' SELECT COUNT(book_id)\n",
    "                     FROM books\n",
    "                     WHERE publication_date > '2000-01-01' '''\n",
    "\n",
    "get_sql_data(book_count_query)"
   ]
  },
  {
   "cell_type": "markdown",
   "id": "1f958256-99ff-498f-8eab-7da8fb3e6b91",
   "metadata": {},
   "source": [
    "**Итак, после 1 января 2000 года вышло 819 книг.**"
   ]
  },
  {
   "cell_type": "code",
   "execution_count": 4,
   "id": "cbc47915-0661-4c8e-970f-57a64abba2d7",
   "metadata": {},
   "outputs": [
    {
     "data": {
      "text/html": [
       "<div>\n",
       "<style scoped>\n",
       "    .dataframe tbody tr th:only-of-type {\n",
       "        vertical-align: middle;\n",
       "    }\n",
       "\n",
       "    .dataframe tbody tr th {\n",
       "        vertical-align: top;\n",
       "    }\n",
       "\n",
       "    .dataframe thead th {\n",
       "        text-align: right;\n",
       "    }\n",
       "</style>\n",
       "<table border=\"1\" class=\"dataframe\">\n",
       "  <thead>\n",
       "    <tr style=\"text-align: right;\">\n",
       "      <th></th>\n",
       "      <th>book_id</th>\n",
       "      <th>book_title</th>\n",
       "      <th>review_count</th>\n",
       "      <th>avg_rating</th>\n",
       "    </tr>\n",
       "  </thead>\n",
       "  <tbody>\n",
       "    <tr>\n",
       "      <th>0</th>\n",
       "      <td>1</td>\n",
       "      <td>'Salem's Lot</td>\n",
       "      <td>2</td>\n",
       "      <td>3.666667</td>\n",
       "    </tr>\n",
       "    <tr>\n",
       "      <th>1</th>\n",
       "      <td>2</td>\n",
       "      <td>1 000 Places to See Before You Die</td>\n",
       "      <td>1</td>\n",
       "      <td>2.500000</td>\n",
       "    </tr>\n",
       "    <tr>\n",
       "      <th>2</th>\n",
       "      <td>3</td>\n",
       "      <td>13 Little Blue Envelopes (Little Blue Envelope...</td>\n",
       "      <td>3</td>\n",
       "      <td>4.666667</td>\n",
       "    </tr>\n",
       "    <tr>\n",
       "      <th>3</th>\n",
       "      <td>4</td>\n",
       "      <td>1491: New Revelations of the Americas Before C...</td>\n",
       "      <td>2</td>\n",
       "      <td>4.500000</td>\n",
       "    </tr>\n",
       "    <tr>\n",
       "      <th>4</th>\n",
       "      <td>5</td>\n",
       "      <td>1776</td>\n",
       "      <td>4</td>\n",
       "      <td>4.000000</td>\n",
       "    </tr>\n",
       "    <tr>\n",
       "      <th>...</th>\n",
       "      <td>...</td>\n",
       "      <td>...</td>\n",
       "      <td>...</td>\n",
       "      <td>...</td>\n",
       "    </tr>\n",
       "    <tr>\n",
       "      <th>995</th>\n",
       "      <td>996</td>\n",
       "      <td>Wyrd Sisters (Discworld  #6; Witches #2)</td>\n",
       "      <td>3</td>\n",
       "      <td>3.666667</td>\n",
       "    </tr>\n",
       "    <tr>\n",
       "      <th>996</th>\n",
       "      <td>997</td>\n",
       "      <td>Xenocide (Ender's Saga  #3)</td>\n",
       "      <td>3</td>\n",
       "      <td>3.400000</td>\n",
       "    </tr>\n",
       "    <tr>\n",
       "      <th>997</th>\n",
       "      <td>998</td>\n",
       "      <td>Year of Wonders</td>\n",
       "      <td>4</td>\n",
       "      <td>3.200000</td>\n",
       "    </tr>\n",
       "    <tr>\n",
       "      <th>998</th>\n",
       "      <td>999</td>\n",
       "      <td>You Suck (A Love Story  #2)</td>\n",
       "      <td>2</td>\n",
       "      <td>4.500000</td>\n",
       "    </tr>\n",
       "    <tr>\n",
       "      <th>999</th>\n",
       "      <td>1000</td>\n",
       "      <td>Zen and the Art of Motorcycle Maintenance: An ...</td>\n",
       "      <td>4</td>\n",
       "      <td>3.833333</td>\n",
       "    </tr>\n",
       "  </tbody>\n",
       "</table>\n",
       "<p>1000 rows × 4 columns</p>\n",
       "</div>"
      ],
      "text/plain": [
       "     book_id                                         book_title  review_count  \\\n",
       "0          1                                       'Salem's Lot             2   \n",
       "1          2                 1 000 Places to See Before You Die             1   \n",
       "2          3  13 Little Blue Envelopes (Little Blue Envelope...             3   \n",
       "3          4  1491: New Revelations of the Americas Before C...             2   \n",
       "4          5                                               1776             4   \n",
       "..       ...                                                ...           ...   \n",
       "995      996           Wyrd Sisters (Discworld  #6; Witches #2)             3   \n",
       "996      997                        Xenocide (Ender's Saga  #3)             3   \n",
       "997      998                                    Year of Wonders             4   \n",
       "998      999                        You Suck (A Love Story  #2)             2   \n",
       "999     1000  Zen and the Art of Motorcycle Maintenance: An ...             4   \n",
       "\n",
       "     avg_rating  \n",
       "0      3.666667  \n",
       "1      2.500000  \n",
       "2      4.666667  \n",
       "3      4.500000  \n",
       "4      4.000000  \n",
       "..          ...  \n",
       "995    3.666667  \n",
       "996    3.400000  \n",
       "997    3.200000  \n",
       "998    4.500000  \n",
       "999    3.833333  \n",
       "\n",
       "[1000 rows x 4 columns]"
      ]
     },
     "execution_count": 4,
     "metadata": {},
     "output_type": "execute_result"
    }
   ],
   "source": [
    "# Для каждой книги посчитаем количество обзоров и среднюю оценку\n",
    "reviews_and_ratings_query = ''' \n",
    "SELECT\n",
    "    b.book_id,\n",
    "    b.title AS book_title,\n",
    "    COUNT(DISTINCT r.review_id) AS review_count,\n",
    "    AVG(rt.rating) AS avg_rating\n",
    "FROM\n",
    "    books b\n",
    "LEFT JOIN\n",
    "    reviews r ON b.book_id = r.book_id\n",
    "LEFT JOIN\n",
    "    ratings rt ON b.book_id = rt.book_id\n",
    "GROUP BY\n",
    "    b.book_id, b.title\n",
    "ORDER BY\n",
    "    book_id '''\n",
    "get_sql_data(reviews_and_ratings_query)"
   ]
  },
  {
   "cell_type": "markdown",
   "id": "a1baa298-8f91-4a68-95c2-9cad36bf3c6f",
   "metadata": {},
   "source": [
    "**В результате выполнения данного запроса мы получили таблицу с id и названием каждой книги из нашей базы данных с информацией о количестве обзоров на каждую книгу и её средним рейтингом.**"
   ]
  },
  {
   "cell_type": "code",
   "execution_count": 5,
   "id": "3fa0fc5b-f8f0-4419-beb6-682afa077369",
   "metadata": {},
   "outputs": [
    {
     "data": {
      "text/html": [
       "<div>\n",
       "<style scoped>\n",
       "    .dataframe tbody tr th:only-of-type {\n",
       "        vertical-align: middle;\n",
       "    }\n",
       "\n",
       "    .dataframe tbody tr th {\n",
       "        vertical-align: top;\n",
       "    }\n",
       "\n",
       "    .dataframe thead th {\n",
       "        text-align: right;\n",
       "    }\n",
       "</style>\n",
       "<table border=\"1\" class=\"dataframe\">\n",
       "  <thead>\n",
       "    <tr style=\"text-align: right;\">\n",
       "      <th></th>\n",
       "      <th>publisher_id</th>\n",
       "      <th>publisher_name</th>\n",
       "      <th>book_count</th>\n",
       "    </tr>\n",
       "  </thead>\n",
       "  <tbody>\n",
       "    <tr>\n",
       "      <th>0</th>\n",
       "      <td>212</td>\n",
       "      <td>Penguin Books</td>\n",
       "      <td>42</td>\n",
       "    </tr>\n",
       "  </tbody>\n",
       "</table>\n",
       "</div>"
      ],
      "text/plain": [
       "   publisher_id publisher_name  book_count\n",
       "0           212  Penguin Books          42"
      ]
     },
     "execution_count": 5,
     "metadata": {},
     "output_type": "execute_result"
    }
   ],
   "source": [
    "# Определим издательство, которое выпустило наибольшее число книг толще 50 страниц — так мы исключим из анализа брошюры\n",
    "thick_books_query = '''\n",
    "SELECT\n",
    "    p.publisher_id,\n",
    "    p.publisher AS publisher_name,\n",
    "    COUNT(b.book_id) AS book_count\n",
    "FROM\n",
    "    publishers p\n",
    "LEFT JOIN\n",
    "    books b ON p.publisher_id = b.publisher_id\n",
    "WHERE\n",
    "    b.num_pages > 50\n",
    "GROUP BY\n",
    "    p.publisher_id, p.publisher\n",
    "ORDER BY\n",
    "    book_count DESC\n",
    "LIMIT 1 '''\n",
    "get_sql_data(thick_books_query)"
   ]
  },
  {
   "cell_type": "markdown",
   "id": "0540c223-8c8f-44cb-a69f-c495b66c73fc",
   "metadata": {},
   "source": [
    "**Издательство \"Penguin Books\" выпустило наибольшее количество книг толще 50 страниц - а именно 42 штуки.**"
   ]
  },
  {
   "cell_type": "code",
   "execution_count": 6,
   "id": "a60462d6",
   "metadata": {},
   "outputs": [
    {
     "data": {
      "text/html": [
       "<div>\n",
       "<style scoped>\n",
       "    .dataframe tbody tr th:only-of-type {\n",
       "        vertical-align: middle;\n",
       "    }\n",
       "\n",
       "    .dataframe tbody tr th {\n",
       "        vertical-align: top;\n",
       "    }\n",
       "\n",
       "    .dataframe thead th {\n",
       "        text-align: right;\n",
       "    }\n",
       "</style>\n",
       "<table border=\"1\" class=\"dataframe\">\n",
       "  <thead>\n",
       "    <tr style=\"text-align: right;\">\n",
       "      <th></th>\n",
       "      <th>author_id</th>\n",
       "      <th>author</th>\n",
       "      <th>avg_rating</th>\n",
       "    </tr>\n",
       "  </thead>\n",
       "  <tbody>\n",
       "    <tr>\n",
       "      <th>0</th>\n",
       "      <td>236</td>\n",
       "      <td>J.K. Rowling/Mary GrandPré</td>\n",
       "      <td>4.287097</td>\n",
       "    </tr>\n",
       "  </tbody>\n",
       "</table>\n",
       "</div>"
      ],
      "text/plain": [
       "   author_id                      author  avg_rating\n",
       "0        236  J.K. Rowling/Mary GrandPré    4.287097"
      ]
     },
     "execution_count": 6,
     "metadata": {},
     "output_type": "execute_result"
    }
   ],
   "source": [
    "# Определим автора с самой высокой средней оценкой книг — будем учитывать только книги с 50 и более оценками\n",
    "popular_author_query = '''\n",
    "SELECT\n",
    "    a.author_id,\n",
    "    a.author,\n",
    "    AVG(r.rating) AS avg_rating\n",
    "FROM\n",
    "    authors a\n",
    "JOIN (\n",
    "    SELECT\n",
    "        b.author_id,\n",
    "        b.book_id\n",
    "    FROM\n",
    "        books b\n",
    "    JOIN\n",
    "        ratings r ON b.book_id = r.book_id\n",
    "    GROUP BY\n",
    "        b.author_id, b.book_id\n",
    "    HAVING\n",
    "        COUNT(r.rating_id) >= 50\n",
    ") rated_books ON a.author_id = rated_books.author_id\n",
    "LEFT JOIN\n",
    "    ratings r ON rated_books.book_id = r.book_id\n",
    "GROUP BY\n",
    "    a.author_id, a.author\n",
    "ORDER BY\n",
    "    avg_rating DESC\n",
    "LIMIT 1 '''\n",
    "get_sql_data(popular_author_query)"
   ]
  },
  {
   "cell_type": "markdown",
   "id": "4a5d6aba",
   "metadata": {},
   "source": [
    "**Мы установили, что самая высокая средняя оценка (учитывая книги только с 50 и более оценками) у авторов J.K. Rowling/Mary GrandPré, и она составляет почти 4.3.**"
   ]
  },
  {
   "cell_type": "code",
   "execution_count": 7,
   "id": "eb944bf9-d25f-428c-bc9d-a8737c93bd9b",
   "metadata": {},
   "outputs": [
    {
     "data": {
      "text/html": [
       "<div>\n",
       "<style scoped>\n",
       "    .dataframe tbody tr th:only-of-type {\n",
       "        vertical-align: middle;\n",
       "    }\n",
       "\n",
       "    .dataframe tbody tr th {\n",
       "        vertical-align: top;\n",
       "    }\n",
       "\n",
       "    .dataframe thead th {\n",
       "        text-align: right;\n",
       "    }\n",
       "</style>\n",
       "<table border=\"1\" class=\"dataframe\">\n",
       "  <thead>\n",
       "    <tr style=\"text-align: right;\">\n",
       "      <th></th>\n",
       "      <th>avg_reviews</th>\n",
       "    </tr>\n",
       "  </thead>\n",
       "  <tbody>\n",
       "    <tr>\n",
       "      <th>0</th>\n",
       "      <td>24.0</td>\n",
       "    </tr>\n",
       "  </tbody>\n",
       "</table>\n",
       "</div>"
      ],
      "text/plain": [
       "   avg_reviews\n",
       "0         24.0"
      ]
     },
     "execution_count": 7,
     "metadata": {},
     "output_type": "execute_result"
    }
   ],
   "source": [
    "# Посчитаем среднее количество обзоров от пользователей, которые поставили больше 48 оценок\n",
    "avg_reviews_num = '''\n",
    "SELECT AVG(review_count) AS avg_reviews\n",
    "FROM (\n",
    "    SELECT r.username, COUNT(r.review_id) AS review_count\n",
    "    FROM reviews r\n",
    "    JOIN (\n",
    "        SELECT rg.username\n",
    "        FROM ratings rg\n",
    "        GROUP BY rg.username\n",
    "        HAVING COUNT(rg.rating_id) > 48\n",
    "    ) rated_users ON r.username = rated_users.username\n",
    "    GROUP BY r.username\n",
    ") subquery '''\n",
    "get_sql_data(avg_reviews_num)"
   ]
  },
  {
   "cell_type": "markdown",
   "id": "ab82a99b-6226-4aa4-8c67-6632803c459c",
   "metadata": {},
   "source": [
    "**Среднее количество обзоров от пользователей, поставивших больше 48 оценок, составило 24.**"
   ]
  },
  {
   "cell_type": "markdown",
   "id": "969655de",
   "metadata": {},
   "source": [
    "**В результате краткого ознакомительного исследования базы данных сервиса для чтения книг нами было установлено следующее:**<br>\n",
    "\n",
    "**1. После 1 января 2000 года вышло 819 книг;**<br>\n",
    "**2. Для ознакомления коллегами с информацией по книгам мы выгрузили таблицу с id и названием каждой книги из нашей базы данных с информацией о количестве обзоров на каждую книгу и её средним рейтингом;**<br>\n",
    "**3. Издательство \"Penguin Books\" выпустило наибольшее количество книг толще 50 страниц - а именно 42 штуки;**<br>\n",
    "**4. Самая высокая средняя оценка (учитывая книги только с 50 и более оценками) у авторов J.K. Rowling/Mary GrandPré, и она составляет почти 4.3;**<br>\n",
    "**5. Среднее количество обзоров от пользователей, поставивших больше 48 оценок, составило 24.**"
   ]
  }
 ],
 "metadata": {
  "ExecuteTimeLog": [
   {
    "duration": 8716,
    "start_time": "2024-02-02T06:34:50.352Z"
   },
   {
    "duration": 693,
    "start_time": "2024-02-02T06:34:59.070Z"
   },
   {
    "duration": 51,
    "start_time": "2024-02-02T06:34:59.765Z"
   },
   {
    "duration": 86,
    "start_time": "2024-02-02T06:34:59.818Z"
   },
   {
    "duration": 54,
    "start_time": "2024-02-02T06:34:59.906Z"
   },
   {
    "duration": 59,
    "start_time": "2024-02-02T06:34:59.961Z"
   },
   {
    "duration": 57,
    "start_time": "2024-02-02T06:35:00.022Z"
   },
   {
    "duration": 5,
    "start_time": "2024-02-02T06:42:42.191Z"
   },
   {
    "duration": 669,
    "start_time": "2024-02-02T06:42:42.197Z"
   },
   {
    "duration": 53,
    "start_time": "2024-02-02T06:42:42.867Z"
   },
   {
    "duration": 85,
    "start_time": "2024-02-02T06:42:42.922Z"
   },
   {
    "duration": 54,
    "start_time": "2024-02-02T06:42:43.008Z"
   },
   {
    "duration": 57,
    "start_time": "2024-02-02T06:42:43.064Z"
   },
   {
    "duration": 54,
    "start_time": "2024-02-02T06:42:43.123Z"
   },
   {
    "duration": 8747,
    "start_time": "2024-02-02T06:53:35.788Z"
   },
   {
    "duration": 679,
    "start_time": "2024-02-02T06:53:44.536Z"
   },
   {
    "duration": 50,
    "start_time": "2024-02-02T06:53:45.217Z"
   },
   {
    "duration": 85,
    "start_time": "2024-02-02T06:53:45.269Z"
   },
   {
    "duration": 53,
    "start_time": "2024-02-02T06:53:45.355Z"
   },
   {
    "duration": 58,
    "start_time": "2024-02-02T06:53:45.410Z"
   },
   {
    "duration": 90,
    "start_time": "2024-02-02T06:53:45.469Z"
   }
  ],
  "kernelspec": {
   "display_name": "Python 3 (ipykernel)",
   "language": "python",
   "name": "python3"
  },
  "language_info": {
   "codemirror_mode": {
    "name": "ipython",
    "version": 3
   },
   "file_extension": ".py",
   "mimetype": "text/x-python",
   "name": "python",
   "nbconvert_exporter": "python",
   "pygments_lexer": "ipython3",
   "version": "3.11.7"
  },
  "toc": {
   "base_numbering": 1,
   "nav_menu": {},
   "number_sections": true,
   "sideBar": true,
   "skip_h1_title": true,
   "title_cell": "Table of Contents",
   "title_sidebar": "Contents",
   "toc_cell": false,
   "toc_position": {},
   "toc_section_display": true,
   "toc_window_display": false
  }
 },
 "nbformat": 4,
 "nbformat_minor": 5
}
