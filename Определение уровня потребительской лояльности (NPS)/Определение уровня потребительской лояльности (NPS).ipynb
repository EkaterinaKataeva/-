{
 "cells": [
  {
   "cell_type": "markdown",
   "id": "154d6773",
   "metadata": {},
   "source": [
    "# Определение текущего уровня потребительской лояльности (NPS) с использованием Tableau"
   ]
  },
  {
   "cell_type": "markdown",
   "id": "bbc40d38",
   "metadata": {},
   "source": [
    "**Заказчик этого исследования — большая телекоммуникационная компания, которая оказывает услуги на территории всего СНГ. Перед компанией стоит задача определить текущий уровень потребительской лояльности, или NPS (от англ. Net Promoter Score), среди клиентов из России.<br>\n",
    "Чтобы определить уровень лояльности, клиентам задавали классический вопрос: «Оцените по шкале от 1 до 10 вероятность того, что вы порекомендуете компанию друзьям и знакомым».<br>\n",
    "Компания провела опрос и попросила нас подготовить дашборд с его итогами. Большую базу данных для такой задачи разворачивать не стали и выгрузили данные в SQLite.<br>\n",
    "Чтобы оценить результаты опроса, оценки обычно делят на три группы:<br>\n",
    "9-10 баллов — «cторонники» (англ. promoters);<br>\n",
    "7-8 баллов — «нейтралы» (англ. passives);<br>\n",
    "0-6 баллов — «критики» (англ. detractors).<br>\n",
    "Итоговое значение NPS рассчитывается по формуле: % «сторонников» - % «критиков».<br>\n",
    "Таким образом, значение этого показателя варьируется от -100% (когда все клиенты «критики») до 100% (когда все клиенты лояльны к сервису). Но это крайние случаи, которые редко встретишь на практике.<br>\n",
    "Интерпретируя результаты NPS-опросов, следует также помнить, что само значение мало о чём говорит. Однако исследования показывают, что клиенты-сторонники полезны любому бизнесу. Они чаще других повторно совершают покупки, активнее тестируют обновления и приводят в сервис своих друзей и знакомых. Поэтому NPS остаётся одной из важнейших метрик бизнеса.**"
   ]
  },
  {
   "cell_type": "markdown",
   "id": "17e72492",
   "metadata": {},
   "source": [
    "**Проект в Tableau:** <https://public.tableau.com/views/NPS_16878640782230/NPS_3?:language=en-US&publish=yes&:display_count=n&:origin=viz_share_link>"
   ]
  },
  {
   "cell_type": "code",
   "execution_count": 6,
   "id": "fc7efa54",
   "metadata": {},
   "outputs": [],
   "source": [
    "import os\n",
    "import pandas as pd\n",
    "import numpy as np\n",
    "\n",
    "from sqlalchemy import create_engine"
   ]
  },
  {
   "cell_type": "code",
   "execution_count": 7,
   "id": "0017f8e7",
   "metadata": {},
   "outputs": [],
   "source": [
    "path_to_db_local = r'C:\\Users\\ekate\\OneDrive\\Документы\\Проекты по Анализу данных\\Определение уровня потребительской лояльности (NPS)\\telecomm_csi.db'\n",
    "path_to_db_platform = '/datasets/telecomm_csi.db'\n",
    "path_to_db = None\n",
    "\n",
    "if os.path.exists(path_to_db_local):\n",
    "    path_to_db = path_to_db_local\n",
    "elif os.path.exists(path_to_db_platform):\n",
    "    path_to_db = path_to_db_platform\n",
    "else:\n",
    "    raise Exception('Файл с базой данных SQLite не найден!')\n",
    "\n",
    "if path_to_db:\n",
    "    engine = create_engine(f'sqlite:///{path_to_db}', echo=False)"
   ]
  },
  {
   "cell_type": "code",
   "execution_count": 8,
   "id": "84ebad43",
   "metadata": {},
   "outputs": [],
   "source": [
    "query = \"\"\"\n",
    "WITH\n",
    "\n",
    "location_info AS (SELECT country,\n",
    "                  city,\n",
    "                  location_id\n",
    "                  FROM location),\n",
    "                  \n",
    "age_info AS (SELECT title AS age_segment,\n",
    "             age_gr_id\n",
    "             FROM age_segment),\n",
    "             \n",
    "traffic_info AS (SELECT title AS traffic_segment,\n",
    "                 tr_gr_id\n",
    "                 FROM traffic_segment),\n",
    "                 \n",
    "lifetime_info AS (SELECT title AS lifetime_segment,\n",
    "                  lt_gr_id\n",
    "                  FROM lifetime_segment)\n",
    "                  \n",
    "                  \n",
    "SELECT u.user_id,\n",
    "       u.lt_day,\n",
    "         CASE\n",
    "           WHEN lt_day <= 365 THEN 'да'\n",
    "           WHEN lt_day > 365 THEN 'нет'\n",
    "         END AS is_new,\n",
    "       u.age,\n",
    "       CAST(u.gender_segment AS varchar) AS gender_segment,\n",
    "       u.os_name,\n",
    "       u.cpe_type_name,\n",
    "       u.nps_score,\n",
    "          CASE \n",
    "            WHEN nps_score >= 9 THEN 'сторонник'\n",
    "            WHEN nps_score = 8 OR nps_score = 7 THEN 'нейтрал'\n",
    "            WHEN nps_score <= 6 THEN 'критик'\n",
    "          END AS nps_group,\n",
    "      location_info.country,\n",
    "      location_info.city,\n",
    "      age_info.age_segment,\n",
    "      traffic_info.traffic_segment,\n",
    "      lifetime_info.lifetime_segment\n",
    "FROM user AS u\n",
    "LEFT OUTER JOIN location_info ON u.location_id=location_info.location_id\n",
    "LEFT OUTER JOIN age_info ON u.age_gr_id=age_info.age_gr_id\n",
    "LEFT OUTER JOIN traffic_info ON u.tr_gr_id=traffic_info.tr_gr_id\n",
    "LEFT OUTER JOIN lifetime_info ON u.lt_gr_id=lifetime_info.lt_gr_id;\n",
    "\"\"\""
   ]
  },
  {
   "cell_type": "code",
   "execution_count": 9,
   "id": "3965faf2",
   "metadata": {},
   "outputs": [
    {
     "data": {
      "text/html": [
       "<div>\n",
       "<style scoped>\n",
       "    .dataframe tbody tr th:only-of-type {\n",
       "        vertical-align: middle;\n",
       "    }\n",
       "\n",
       "    .dataframe tbody tr th {\n",
       "        vertical-align: top;\n",
       "    }\n",
       "\n",
       "    .dataframe thead th {\n",
       "        text-align: right;\n",
       "    }\n",
       "</style>\n",
       "<table border=\"1\" class=\"dataframe\">\n",
       "  <thead>\n",
       "    <tr style=\"text-align: right;\">\n",
       "      <th></th>\n",
       "      <th>user_id</th>\n",
       "      <th>lt_day</th>\n",
       "      <th>is_new</th>\n",
       "      <th>age</th>\n",
       "      <th>gender_segment</th>\n",
       "      <th>os_name</th>\n",
       "      <th>cpe_type_name</th>\n",
       "      <th>nps_score</th>\n",
       "      <th>nps_group</th>\n",
       "      <th>country</th>\n",
       "      <th>city</th>\n",
       "      <th>age_segment</th>\n",
       "      <th>traffic_segment</th>\n",
       "      <th>lifetime_segment</th>\n",
       "    </tr>\n",
       "  </thead>\n",
       "  <tbody>\n",
       "    <tr>\n",
       "      <th>0</th>\n",
       "      <td>A001A2</td>\n",
       "      <td>2320</td>\n",
       "      <td>нет</td>\n",
       "      <td>45.0</td>\n",
       "      <td>1.0</td>\n",
       "      <td>ANDROID</td>\n",
       "      <td>SMARTPHONE</td>\n",
       "      <td>10</td>\n",
       "      <td>сторонник</td>\n",
       "      <td>Россия</td>\n",
       "      <td>Уфа</td>\n",
       "      <td>05 45-54</td>\n",
       "      <td>04 1-5</td>\n",
       "      <td>08 36+</td>\n",
       "    </tr>\n",
       "    <tr>\n",
       "      <th>1</th>\n",
       "      <td>A001WF</td>\n",
       "      <td>2344</td>\n",
       "      <td>нет</td>\n",
       "      <td>53.0</td>\n",
       "      <td>0.0</td>\n",
       "      <td>ANDROID</td>\n",
       "      <td>SMARTPHONE</td>\n",
       "      <td>10</td>\n",
       "      <td>сторонник</td>\n",
       "      <td>Россия</td>\n",
       "      <td>Киров</td>\n",
       "      <td>05 45-54</td>\n",
       "      <td>04 1-5</td>\n",
       "      <td>08 36+</td>\n",
       "    </tr>\n",
       "    <tr>\n",
       "      <th>2</th>\n",
       "      <td>A003Q7</td>\n",
       "      <td>467</td>\n",
       "      <td>нет</td>\n",
       "      <td>57.0</td>\n",
       "      <td>0.0</td>\n",
       "      <td>ANDROID</td>\n",
       "      <td>SMARTPHONE</td>\n",
       "      <td>10</td>\n",
       "      <td>сторонник</td>\n",
       "      <td>Россия</td>\n",
       "      <td>Москва</td>\n",
       "      <td>06 55-64</td>\n",
       "      <td>08 20-25</td>\n",
       "      <td>06 13-24</td>\n",
       "    </tr>\n",
       "    <tr>\n",
       "      <th>3</th>\n",
       "      <td>A004TB</td>\n",
       "      <td>4190</td>\n",
       "      <td>нет</td>\n",
       "      <td>44.0</td>\n",
       "      <td>1.0</td>\n",
       "      <td>IOS</td>\n",
       "      <td>SMARTPHONE</td>\n",
       "      <td>10</td>\n",
       "      <td>сторонник</td>\n",
       "      <td>Россия</td>\n",
       "      <td>РостовнаДону</td>\n",
       "      <td>04 35-44</td>\n",
       "      <td>03 0.1-1</td>\n",
       "      <td>08 36+</td>\n",
       "    </tr>\n",
       "    <tr>\n",
       "      <th>4</th>\n",
       "      <td>A004XT</td>\n",
       "      <td>1163</td>\n",
       "      <td>нет</td>\n",
       "      <td>24.0</td>\n",
       "      <td>0.0</td>\n",
       "      <td>ANDROID</td>\n",
       "      <td>SMARTPHONE</td>\n",
       "      <td>10</td>\n",
       "      <td>сторонник</td>\n",
       "      <td>Россия</td>\n",
       "      <td>Рязань</td>\n",
       "      <td>02 16-24</td>\n",
       "      <td>05 5-10</td>\n",
       "      <td>08 36+</td>\n",
       "    </tr>\n",
       "    <tr>\n",
       "      <th>5</th>\n",
       "      <td>A005O0</td>\n",
       "      <td>5501</td>\n",
       "      <td>нет</td>\n",
       "      <td>42.0</td>\n",
       "      <td>1.0</td>\n",
       "      <td>ANDROID</td>\n",
       "      <td>SMARTPHONE</td>\n",
       "      <td>6</td>\n",
       "      <td>критик</td>\n",
       "      <td>Россия</td>\n",
       "      <td>Омск</td>\n",
       "      <td>04 35-44</td>\n",
       "      <td>05 5-10</td>\n",
       "      <td>08 36+</td>\n",
       "    </tr>\n",
       "    <tr>\n",
       "      <th>6</th>\n",
       "      <td>A0061R</td>\n",
       "      <td>1236</td>\n",
       "      <td>нет</td>\n",
       "      <td>45.0</td>\n",
       "      <td>0.0</td>\n",
       "      <td>ANDROID</td>\n",
       "      <td>SMARTPHONE</td>\n",
       "      <td>10</td>\n",
       "      <td>сторонник</td>\n",
       "      <td>Россия</td>\n",
       "      <td>Уфа</td>\n",
       "      <td>05 45-54</td>\n",
       "      <td>06 10-15</td>\n",
       "      <td>08 36+</td>\n",
       "    </tr>\n",
       "    <tr>\n",
       "      <th>7</th>\n",
       "      <td>A009KS</td>\n",
       "      <td>313</td>\n",
       "      <td>да</td>\n",
       "      <td>35.0</td>\n",
       "      <td>0.0</td>\n",
       "      <td>ANDROID</td>\n",
       "      <td>SMARTPHONE</td>\n",
       "      <td>10</td>\n",
       "      <td>сторонник</td>\n",
       "      <td>Россия</td>\n",
       "      <td>Москва</td>\n",
       "      <td>04 35-44</td>\n",
       "      <td>13 45-50</td>\n",
       "      <td>05 7-12</td>\n",
       "    </tr>\n",
       "    <tr>\n",
       "      <th>8</th>\n",
       "      <td>A00AES</td>\n",
       "      <td>3238</td>\n",
       "      <td>нет</td>\n",
       "      <td>36.0</td>\n",
       "      <td>1.0</td>\n",
       "      <td>ANDROID</td>\n",
       "      <td>SMARTPHONE</td>\n",
       "      <td>10</td>\n",
       "      <td>сторонник</td>\n",
       "      <td>Россия</td>\n",
       "      <td>СанктПетербург</td>\n",
       "      <td>04 35-44</td>\n",
       "      <td>04 1-5</td>\n",
       "      <td>08 36+</td>\n",
       "    </tr>\n",
       "    <tr>\n",
       "      <th>9</th>\n",
       "      <td>A00F70</td>\n",
       "      <td>4479</td>\n",
       "      <td>нет</td>\n",
       "      <td>54.0</td>\n",
       "      <td>1.0</td>\n",
       "      <td>ANDROID</td>\n",
       "      <td>SMARTPHONE</td>\n",
       "      <td>9</td>\n",
       "      <td>сторонник</td>\n",
       "      <td>Россия</td>\n",
       "      <td>Волгоград</td>\n",
       "      <td>05 45-54</td>\n",
       "      <td>07 15-20</td>\n",
       "      <td>08 36+</td>\n",
       "    </tr>\n",
       "  </tbody>\n",
       "</table>\n",
       "</div>"
      ],
      "text/plain": [
       "  user_id  lt_day is_new   age gender_segment  os_name cpe_type_name  \\\n",
       "0  A001A2    2320    нет  45.0            1.0  ANDROID    SMARTPHONE   \n",
       "1  A001WF    2344    нет  53.0            0.0  ANDROID    SMARTPHONE   \n",
       "2  A003Q7     467    нет  57.0            0.0  ANDROID    SMARTPHONE   \n",
       "3  A004TB    4190    нет  44.0            1.0      IOS    SMARTPHONE   \n",
       "4  A004XT    1163    нет  24.0            0.0  ANDROID    SMARTPHONE   \n",
       "5  A005O0    5501    нет  42.0            1.0  ANDROID    SMARTPHONE   \n",
       "6  A0061R    1236    нет  45.0            0.0  ANDROID    SMARTPHONE   \n",
       "7  A009KS     313     да  35.0            0.0  ANDROID    SMARTPHONE   \n",
       "8  A00AES    3238    нет  36.0            1.0  ANDROID    SMARTPHONE   \n",
       "9  A00F70    4479    нет  54.0            1.0  ANDROID    SMARTPHONE   \n",
       "\n",
       "   nps_score  nps_group country            city age_segment traffic_segment  \\\n",
       "0         10  сторонник  Россия             Уфа    05 45-54          04 1-5   \n",
       "1         10  сторонник  Россия           Киров    05 45-54          04 1-5   \n",
       "2         10  сторонник  Россия          Москва    06 55-64        08 20-25   \n",
       "3         10  сторонник  Россия    РостовнаДону    04 35-44        03 0.1-1   \n",
       "4         10  сторонник  Россия          Рязань    02 16-24         05 5-10   \n",
       "5          6     критик  Россия            Омск    04 35-44         05 5-10   \n",
       "6         10  сторонник  Россия             Уфа    05 45-54        06 10-15   \n",
       "7         10  сторонник  Россия          Москва    04 35-44        13 45-50   \n",
       "8         10  сторонник  Россия  СанктПетербург    04 35-44          04 1-5   \n",
       "9          9  сторонник  Россия       Волгоград    05 45-54        07 15-20   \n",
       "\n",
       "  lifetime_segment  \n",
       "0           08 36+  \n",
       "1           08 36+  \n",
       "2         06 13-24  \n",
       "3           08 36+  \n",
       "4           08 36+  \n",
       "5           08 36+  \n",
       "6           08 36+  \n",
       "7          05 7-12  \n",
       "8           08 36+  \n",
       "9           08 36+  "
      ]
     },
     "execution_count": 9,
     "metadata": {},
     "output_type": "execute_result"
    }
   ],
   "source": [
    "df = pd.read_sql(query, engine)\n",
    "df.head(10)"
   ]
  },
  {
   "cell_type": "code",
   "execution_count": 10,
   "id": "9db04858",
   "metadata": {},
   "outputs": [],
   "source": [
    "df.to_csv('telecomm_csi_tableau.csv', index=False)"
   ]
  },
  {
   "cell_type": "markdown",
   "id": "41f08231",
   "metadata": {},
   "source": [
    "**Дашборд 1 \"Исследование уровня потребительской лояльности\"** <https://public.tableau.com/app/profile/.67731454/viz/NPS_16878640782230/sheet10?publish=yes>"
   ]
  },
  {
   "cell_type": "markdown",
   "id": "f9bc5e41",
   "metadata": {},
   "source": [
    "**Дашборд 2 \"Определение соотношения критиков и сторонников\"** <https://public.tableau.com/app/profile/.67731454/viz/NPS_16878640782230/sheet11?publish=yes>"
   ]
  },
  {
   "cell_type": "markdown",
   "id": "ddbf71ae",
   "metadata": {},
   "source": [
    "**Презентация в Tableau** <https://public.tableau.com/app/profile/.67731454/viz/NPS_16878640782230/NPS_3?publish=yes>"
   ]
  }
 ],
 "metadata": {
  "ExecuteTimeLog": [
   {
    "duration": 649,
    "start_time": "2023-06-27T07:23:15.970Z"
   },
   {
    "duration": 107,
    "start_time": "2023-06-27T07:23:16.622Z"
   },
   {
    "duration": 203,
    "start_time": "2023-06-27T07:24:52.448Z"
   },
   {
    "duration": 478,
    "start_time": "2023-06-27T07:25:02.366Z"
   },
   {
    "duration": 2,
    "start_time": "2023-06-27T07:26:58.424Z"
   },
   {
    "duration": 3,
    "start_time": "2023-06-27T07:28:03.869Z"
   },
   {
    "duration": 159,
    "start_time": "2023-06-27T07:28:03.875Z"
   },
   {
    "duration": 123,
    "start_time": "2023-06-27T07:28:04.036Z"
   },
   {
    "duration": 0,
    "start_time": "2023-06-27T07:28:04.162Z"
   },
   {
    "duration": 0,
    "start_time": "2023-06-27T07:28:04.163Z"
   },
   {
    "duration": 0,
    "start_time": "2023-06-27T07:28:04.165Z"
   },
   {
    "duration": 3,
    "start_time": "2023-06-27T07:32:12.295Z"
   },
   {
    "duration": 122,
    "start_time": "2023-06-27T07:32:12.302Z"
   },
   {
    "duration": 3,
    "start_time": "2023-06-27T07:32:12.426Z"
   },
   {
    "duration": 1034,
    "start_time": "2023-06-27T07:32:12.430Z"
   },
   {
    "duration": 1,
    "start_time": "2023-06-27T07:32:13.465Z"
   },
   {
    "duration": 6,
    "start_time": "2023-06-27T07:33:06.404Z"
   },
   {
    "duration": 156,
    "start_time": "2023-06-27T07:33:06.413Z"
   },
   {
    "duration": 5,
    "start_time": "2023-06-27T07:33:06.572Z"
   },
   {
    "duration": 688,
    "start_time": "2023-06-27T07:33:06.582Z"
   },
   {
    "duration": 0,
    "start_time": "2023-06-27T07:33:07.272Z"
   },
   {
    "duration": 2,
    "start_time": "2023-06-27T07:34:34.559Z"
   },
   {
    "duration": 3,
    "start_time": "2023-06-27T07:34:39.769Z"
   },
   {
    "duration": 540,
    "start_time": "2023-06-27T07:34:39.774Z"
   },
   {
    "duration": 4,
    "start_time": "2023-06-27T07:34:40.316Z"
   },
   {
    "duration": 1276,
    "start_time": "2023-06-27T07:34:40.322Z"
   },
   {
    "duration": 0,
    "start_time": "2023-06-27T07:34:41.602Z"
   },
   {
    "duration": 10,
    "start_time": "2023-06-27T07:35:25.868Z"
   },
   {
    "duration": 290,
    "start_time": "2023-06-27T07:35:25.881Z"
   },
   {
    "duration": 7,
    "start_time": "2023-06-27T07:35:26.173Z"
   },
   {
    "duration": 1355,
    "start_time": "2023-06-27T07:35:26.192Z"
   },
   {
    "duration": 0,
    "start_time": "2023-06-27T07:35:27.549Z"
   },
   {
    "duration": 4,
    "start_time": "2023-06-27T07:40:11.597Z"
   },
   {
    "duration": 3,
    "start_time": "2023-06-27T07:40:15.445Z"
   },
   {
    "duration": 177,
    "start_time": "2023-06-27T07:40:15.449Z"
   },
   {
    "duration": 3,
    "start_time": "2023-06-27T07:40:15.628Z"
   },
   {
    "duration": 4563,
    "start_time": "2023-06-27T07:40:15.633Z"
   },
   {
    "duration": 2610,
    "start_time": "2023-06-27T07:40:20.198Z"
   },
   {
    "duration": 3,
    "start_time": "2023-06-27T07:43:21.251Z"
   },
   {
    "duration": 3,
    "start_time": "2023-06-27T07:43:27.594Z"
   },
   {
    "duration": 334,
    "start_time": "2023-06-27T07:43:27.600Z"
   },
   {
    "duration": 2,
    "start_time": "2023-06-27T07:43:27.936Z"
   },
   {
    "duration": 3213,
    "start_time": "2023-06-27T07:43:27.940Z"
   },
   {
    "duration": 2671,
    "start_time": "2023-06-27T07:43:31.155Z"
   },
   {
    "duration": 3,
    "start_time": "2023-06-27T07:45:41.509Z"
   },
   {
    "duration": 126,
    "start_time": "2023-06-27T07:45:41.515Z"
   },
   {
    "duration": 3,
    "start_time": "2023-06-27T07:45:41.643Z"
   },
   {
    "duration": 995,
    "start_time": "2023-06-27T07:45:41.648Z"
   },
   {
    "duration": 0,
    "start_time": "2023-06-27T07:45:42.645Z"
   },
   {
    "duration": 3,
    "start_time": "2023-06-27T07:52:20.915Z"
   },
   {
    "duration": 227,
    "start_time": "2023-06-27T07:52:20.920Z"
   },
   {
    "duration": 5,
    "start_time": "2023-06-27T07:52:21.149Z"
   },
   {
    "duration": 61,
    "start_time": "2023-06-27T07:52:21.156Z"
   },
   {
    "duration": 33,
    "start_time": "2023-06-27T07:52:21.220Z"
   },
   {
    "duration": 1087,
    "start_time": "2023-06-27T07:52:21.254Z"
   },
   {
    "duration": 0,
    "start_time": "2023-06-27T07:52:22.343Z"
   },
   {
    "duration": 3,
    "start_time": "2023-06-27T07:55:21.504Z"
   },
   {
    "duration": 5,
    "start_time": "2023-06-27T07:56:11.901Z"
   },
   {
    "duration": 3,
    "start_time": "2023-06-27T07:56:14.407Z"
   },
   {
    "duration": 109,
    "start_time": "2023-06-27T07:56:14.412Z"
   },
   {
    "duration": 4,
    "start_time": "2023-06-27T07:56:14.524Z"
   },
   {
    "duration": 25,
    "start_time": "2023-06-27T07:56:14.529Z"
   },
   {
    "duration": 69,
    "start_time": "2023-06-27T07:56:14.557Z"
   },
   {
    "duration": 824,
    "start_time": "2023-06-27T07:56:14.628Z"
   },
   {
    "duration": 0,
    "start_time": "2023-06-27T07:56:15.454Z"
   },
   {
    "duration": 4,
    "start_time": "2023-06-27T07:57:35.206Z"
   },
   {
    "duration": 3,
    "start_time": "2023-06-27T07:58:03.015Z"
   },
   {
    "duration": 3,
    "start_time": "2023-06-27T07:58:19.407Z"
   },
   {
    "duration": 3,
    "start_time": "2023-06-27T07:59:48.858Z"
   },
   {
    "duration": 138,
    "start_time": "2023-06-27T07:59:48.863Z"
   },
   {
    "duration": 2,
    "start_time": "2023-06-27T07:59:49.004Z"
   },
   {
    "duration": 27,
    "start_time": "2023-06-27T07:59:49.008Z"
   },
   {
    "duration": 16,
    "start_time": "2023-06-27T07:59:49.037Z"
   },
   {
    "duration": 810,
    "start_time": "2023-06-27T07:59:49.054Z"
   },
   {
    "duration": 0,
    "start_time": "2023-06-27T07:59:49.866Z"
   },
   {
    "duration": 3,
    "start_time": "2023-06-27T08:01:53.220Z"
   },
   {
    "duration": 108,
    "start_time": "2023-06-27T08:01:53.225Z"
   },
   {
    "duration": 3,
    "start_time": "2023-06-27T08:01:53.335Z"
   },
   {
    "duration": 14,
    "start_time": "2023-06-27T08:01:53.339Z"
   },
   {
    "duration": 70,
    "start_time": "2023-06-27T08:01:53.354Z"
   },
   {
    "duration": 791,
    "start_time": "2023-06-27T08:01:53.425Z"
   },
   {
    "duration": 0,
    "start_time": "2023-06-27T08:01:54.218Z"
   },
   {
    "duration": 8,
    "start_time": "2023-06-27T08:04:51.661Z"
   },
   {
    "duration": 4,
    "start_time": "2023-06-27T08:05:06.424Z"
   },
   {
    "duration": 228,
    "start_time": "2023-06-27T08:05:06.430Z"
   },
   {
    "duration": 9,
    "start_time": "2023-06-27T08:05:06.660Z"
   },
   {
    "duration": 0,
    "start_time": "2023-06-27T08:05:06.671Z"
   },
   {
    "duration": 0,
    "start_time": "2023-06-27T08:05:06.672Z"
   },
   {
    "duration": 0,
    "start_time": "2023-06-27T08:05:06.673Z"
   },
   {
    "duration": 0,
    "start_time": "2023-06-27T08:05:06.678Z"
   },
   {
    "duration": 3,
    "start_time": "2023-06-27T08:18:16.902Z"
   },
   {
    "duration": 108,
    "start_time": "2023-06-27T08:18:16.907Z"
   },
   {
    "duration": 3,
    "start_time": "2023-06-27T08:18:17.017Z"
   },
   {
    "duration": 3549,
    "start_time": "2023-06-27T08:18:17.021Z"
   },
   {
    "duration": 3192,
    "start_time": "2023-06-27T08:18:20.576Z"
   },
   {
    "duration": 3724,
    "start_time": "2023-06-27T08:18:34.862Z"
   },
   {
    "duration": 3774,
    "start_time": "2023-06-27T08:18:38.808Z"
   },
   {
    "duration": 3,
    "start_time": "2023-06-27T09:04:59.670Z"
   },
   {
    "duration": 321,
    "start_time": "2023-06-27T09:04:59.707Z"
   },
   {
    "duration": 4,
    "start_time": "2023-06-27T09:05:00.031Z"
   },
   {
    "duration": 920,
    "start_time": "2023-06-27T09:05:00.037Z"
   },
   {
    "duration": 0,
    "start_time": "2023-06-27T09:05:00.959Z"
   },
   {
    "duration": 4,
    "start_time": "2023-06-27T09:09:57.301Z"
   },
   {
    "duration": 113,
    "start_time": "2023-06-27T09:09:57.307Z"
   },
   {
    "duration": 3,
    "start_time": "2023-06-27T09:09:57.422Z"
   },
   {
    "duration": 6122,
    "start_time": "2023-06-27T09:09:57.427Z"
   },
   {
    "duration": 5802,
    "start_time": "2023-06-27T09:10:03.551Z"
   },
   {
    "duration": 453,
    "start_time": "2023-06-27T09:31:33.686Z"
   },
   {
    "duration": 6274,
    "start_time": "2023-06-27T09:32:11.104Z"
   },
   {
    "duration": 3,
    "start_time": "2023-06-27T09:33:29.317Z"
   },
   {
    "duration": 98,
    "start_time": "2023-06-27T09:33:29.322Z"
   },
   {
    "duration": 4,
    "start_time": "2023-06-27T09:33:29.422Z"
   },
   {
    "duration": 5022,
    "start_time": "2023-06-27T09:33:29.427Z"
   },
   {
    "duration": 4640,
    "start_time": "2023-06-27T09:33:34.451Z"
   },
   {
    "duration": 3528,
    "start_time": "2023-06-27T09:33:39.093Z"
   },
   {
    "duration": 603,
    "start_time": "2023-06-27T09:35:37.548Z"
   },
   {
    "duration": 665,
    "start_time": "2023-06-27T09:35:57.822Z"
   },
   {
    "duration": 72,
    "start_time": "2023-06-27T09:57:44.696Z"
   },
   {
    "duration": 3,
    "start_time": "2023-06-27T09:57:56.157Z"
   },
   {
    "duration": 95,
    "start_time": "2023-06-27T09:57:56.162Z"
   },
   {
    "duration": 4,
    "start_time": "2023-06-27T09:57:56.259Z"
   },
   {
    "duration": 5098,
    "start_time": "2023-06-27T09:57:56.265Z"
   },
   {
    "duration": 4247,
    "start_time": "2023-06-27T09:58:01.366Z"
   },
   {
    "duration": 13,
    "start_time": "2023-06-27T09:58:05.615Z"
   },
   {
    "duration": 66,
    "start_time": "2023-06-27T09:59:14.821Z"
   },
   {
    "duration": 1014,
    "start_time": "2023-06-27T10:00:01.699Z"
   },
   {
    "duration": 744,
    "start_time": "2023-06-27T10:48:31.702Z"
   },
   {
    "duration": 132,
    "start_time": "2023-06-27T10:48:32.449Z"
   },
   {
    "duration": 10,
    "start_time": "2023-06-27T10:48:32.585Z"
   },
   {
    "duration": 7817,
    "start_time": "2023-06-27T10:48:32.600Z"
   },
   {
    "duration": 489,
    "start_time": "2023-06-28T12:30:49.410Z"
   },
   {
    "duration": 99,
    "start_time": "2023-06-28T12:30:49.901Z"
   },
   {
    "duration": 5,
    "start_time": "2023-06-28T12:30:50.002Z"
   },
   {
    "duration": 5851,
    "start_time": "2023-06-28T12:30:50.009Z"
   },
   {
    "duration": 5509,
    "start_time": "2023-06-28T12:30:55.862Z"
   },
   {
    "duration": 528,
    "start_time": "2023-06-29T05:30:30.694Z"
   },
   {
    "duration": 21,
    "start_time": "2023-06-29T05:30:31.224Z"
   },
   {
    "duration": 37,
    "start_time": "2023-06-29T05:30:31.246Z"
   },
   {
    "duration": 6414,
    "start_time": "2023-06-29T05:30:31.284Z"
   },
   {
    "duration": 5246,
    "start_time": "2023-06-29T05:30:37.702Z"
   },
   {
    "duration": 506,
    "start_time": "2023-06-30T04:15:07.848Z"
   },
   {
    "duration": 10,
    "start_time": "2023-06-30T04:15:08.356Z"
   },
   {
    "duration": 10,
    "start_time": "2023-06-30T04:15:08.368Z"
   },
   {
    "duration": 6887,
    "start_time": "2023-06-30T04:15:08.379Z"
   },
   {
    "duration": 3947,
    "start_time": "2023-06-30T04:15:15.268Z"
   }
  ],
  "kernelspec": {
   "display_name": "Python 3 (ipykernel)",
   "language": "python",
   "name": "python3"
  },
  "language_info": {
   "codemirror_mode": {
    "name": "ipython",
    "version": 3
   },
   "file_extension": ".py",
   "mimetype": "text/x-python",
   "name": "python",
   "nbconvert_exporter": "python",
   "pygments_lexer": "ipython3",
   "version": "3.11.4"
  },
  "toc": {
   "base_numbering": 1,
   "nav_menu": {},
   "number_sections": true,
   "sideBar": true,
   "skip_h1_title": true,
   "title_cell": "Table of Contents",
   "title_sidebar": "Contents",
   "toc_cell": false,
   "toc_position": {},
   "toc_section_display": true,
   "toc_window_display": false
  }
 },
 "nbformat": 4,
 "nbformat_minor": 5
}
