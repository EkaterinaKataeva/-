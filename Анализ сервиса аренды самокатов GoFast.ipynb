{
 "cells": [
  {
   "cell_type": "markdown",
   "id": "0cc39aeb",
   "metadata": {
    "toc": true
   },
   "source": [
    "<h1>Table of Contents<span class=\"tocSkip\"></span></h1>\n",
    "<div class=\"toc\"><ul class=\"toc-item\"><li><span><a href=\"#Шаг-1.-Загрузка-данных\" data-toc-modified-id=\"Шаг-1.-Загрузка-данных-1\"><span class=\"toc-item-num\">1&nbsp;&nbsp;</span>Шаг 1. Загрузка данных</a></span></li><li><span><a href=\"#Шаг-2.-Предобработка-данных\" data-toc-modified-id=\"Шаг-2.-Предобработка-данных-2\"><span class=\"toc-item-num\">2&nbsp;&nbsp;</span>Шаг 2. Предобработка данных</a></span></li><li><span><a href=\"#Шаг-3.-Исследовательский-анализ-данных\" data-toc-modified-id=\"Шаг-3.-Исследовательский-анализ-данных-3\"><span class=\"toc-item-num\">3&nbsp;&nbsp;</span>Шаг 3. Исследовательский анализ данных</a></span></li><li><span><a href=\"#Шаг-4.-Объединение-данных\" data-toc-modified-id=\"Шаг-4.-Объединение-данных-4\"><span class=\"toc-item-num\">4&nbsp;&nbsp;</span>Шаг 4. Объединение данных</a></span></li><li><span><a href=\"#Шаг-5.-Подсчёт-выручки\" data-toc-modified-id=\"Шаг-5.-Подсчёт-выручки-5\"><span class=\"toc-item-num\">5&nbsp;&nbsp;</span>Шаг 5. Подсчёт выручки</a></span></li><li><span><a href=\"#Шаг-6.-Проверка-гипотез\" data-toc-modified-id=\"Шаг-6.-Проверка-гипотез-6\"><span class=\"toc-item-num\">6&nbsp;&nbsp;</span>Шаг 6. Проверка гипотез</a></span></li></ul></div>"
   ]
  },
  {
   "cell_type": "markdown",
   "id": "4c2fe092",
   "metadata": {},
   "source": [
    "# Анализ сервиса аренды самокатов GoFast"
   ]
  },
  {
   "cell_type": "markdown",
   "id": "c8e323b5",
   "metadata": {},
   "source": [
    "**Чтобы совершать поездки по городу, пользователи сервиса аренды самокатов GoFast пользуются мобильным приложением. Сервисом можно пользоваться:<br>\n",
    " _без подписки:_<br>\n",
    "--абонентская плата отсутствует;<br>\n",
    "--стоимость одной минуты поездки — 8 рублей;<br>\n",
    "--стоимость старта (начала поездки) — 50 рублей;<br>\n",
    " _с подпиской Ultra:_<br>\n",
    "--абонентская плата — 199 рублей в месяц;<br>\n",
    "--стоимость одной минуты поездки — 6 рублей;<br>\n",
    "--стоимость старта — бесплатно.**"
   ]
  },
  {
   "cell_type": "markdown",
   "id": "2666f245",
   "metadata": {},
   "source": [
    "**Нам предоставлены два датасета. В основных данных (users_go.csv) есть информация о пользователях, их поездках и подписках. Информация о поездках собрана в файле rides_go.csv. Информация о подписках пользователей - в subscriptions_go.csv.**"
   ]
  },
  {
   "cell_type": "markdown",
   "id": "ab14210d",
   "metadata": {},
   "source": [
    "**Цель проекта: проанализировать данные и проверить некоторые гипотезы, которые могут помочь бизнесу вырасти.**"
   ]
  },
  {
   "cell_type": "markdown",
   "id": "afcd7890",
   "metadata": {},
   "source": [
    "**План работы: <br>\n",
    "Сначала нам потребуется провести предобработку предоставленных нам данных, проверить на наличие пропусков и дубликатов, изменить тип данных где это необходимо. Затем мы произведем исследовательский анализ данных и ответим на вопросы:<br>\n",
    "--О частоте встречаемости городов;<br>\n",
    "--О соотношение пользователей с подпиской и без подписки;<br>\n",
    "--О возрасте пользователей;<br>\n",
    "--О среднем расстоянии, которое пользователь преодолел за одну поездку;<br>\n",
    "--О продолжительности поездок.<br>\n",
    "Затем нам предстоит объединить данные о пользователях, поездках и подписках в один датафрейм и создать еще два отдельных датафрейма с информацией о пользователях с подпиской и без нее и визуализировать информацию о расстоянии и времени поездок для пользователей обеих категорий.<br>\n",
    "После этого мы рассчитаем помесячную выручку, которую принёс каждый пользователь.<br>\n",
    "Далее мы по просьбе продакт-менеджеров сервиса перейдем к проверке следующих гипотез:<br>\n",
    "--Тратят ли пользователи с подпиской больше времени на поездки?<br>\n",
    "--Можно ли сказать, что расстояние, которое проезжают пользователи с подпиской за одну поездку, не превышает 3130 метров (так как это оптимальное расстояние с точки зрения износа самоката)?<br>\n",
    "--Будет ли помесячная выручка от пользователей с подпиской по месяцам выше, чем выручка от пользователей без подписки?<br>\n",
    "На заключительном этапе проекта мы построим графики распределений чтобы определить, какое минимальное количество промокодов нужно разослать для продления подписки как минимум сотней клиентов и предсказать, сколько клиентов из 1 млн откроют push-уведомления в мобильном приложении.**"
   ]
  },
  {
   "cell_type": "markdown",
   "id": "c42cbe00",
   "metadata": {},
   "source": [
    "#### Шаг 1. Загрузка данных"
   ]
  },
  {
   "cell_type": "code",
   "execution_count": 76,
   "id": "72576667",
   "metadata": {},
   "outputs": [],
   "source": [
    "#импортируем необходимые библиотеки\n",
    "import pandas as pd\n",
    "import matplotlib.pyplot as plt\n",
    "import numpy as np\n",
    "import scipy.stats as st\n",
    "import math"
   ]
  },
  {
   "cell_type": "markdown",
   "id": "30d475c6",
   "metadata": {},
   "source": [
    "**Загрузим три предоставленных датасета для первичного ознакомления.**"
   ]
  },
  {
   "cell_type": "code",
   "execution_count": 77,
   "id": "48281d28",
   "metadata": {
    "scrolled": true
   },
   "outputs": [
    {
     "data": {
      "text/html": [
       "<div>\n",
       "<style scoped>\n",
       "    .dataframe tbody tr th:only-of-type {\n",
       "        vertical-align: middle;\n",
       "    }\n",
       "\n",
       "    .dataframe tbody tr th {\n",
       "        vertical-align: top;\n",
       "    }\n",
       "\n",
       "    .dataframe thead th {\n",
       "        text-align: right;\n",
       "    }\n",
       "</style>\n",
       "<table border=\"1\" class=\"dataframe\">\n",
       "  <thead>\n",
       "    <tr style=\"text-align: right;\">\n",
       "      <th></th>\n",
       "      <th>user_id</th>\n",
       "      <th>name</th>\n",
       "      <th>age</th>\n",
       "      <th>city</th>\n",
       "      <th>subscription_type</th>\n",
       "    </tr>\n",
       "  </thead>\n",
       "  <tbody>\n",
       "    <tr>\n",
       "      <th>0</th>\n",
       "      <td>1</td>\n",
       "      <td>Кира</td>\n",
       "      <td>22</td>\n",
       "      <td>Тюмень</td>\n",
       "      <td>ultra</td>\n",
       "    </tr>\n",
       "    <tr>\n",
       "      <th>1</th>\n",
       "      <td>2</td>\n",
       "      <td>Станислав</td>\n",
       "      <td>31</td>\n",
       "      <td>Омск</td>\n",
       "      <td>ultra</td>\n",
       "    </tr>\n",
       "    <tr>\n",
       "      <th>2</th>\n",
       "      <td>3</td>\n",
       "      <td>Алексей</td>\n",
       "      <td>20</td>\n",
       "      <td>Москва</td>\n",
       "      <td>ultra</td>\n",
       "    </tr>\n",
       "    <tr>\n",
       "      <th>3</th>\n",
       "      <td>4</td>\n",
       "      <td>Константин</td>\n",
       "      <td>26</td>\n",
       "      <td>Ростов-на-Дону</td>\n",
       "      <td>ultra</td>\n",
       "    </tr>\n",
       "    <tr>\n",
       "      <th>4</th>\n",
       "      <td>5</td>\n",
       "      <td>Адель</td>\n",
       "      <td>28</td>\n",
       "      <td>Омск</td>\n",
       "      <td>ultra</td>\n",
       "    </tr>\n",
       "  </tbody>\n",
       "</table>\n",
       "</div>"
      ],
      "text/plain": [
       "   user_id        name  age            city subscription_type\n",
       "0        1        Кира   22          Тюмень             ultra\n",
       "1        2   Станислав   31            Омск             ultra\n",
       "2        3     Алексей   20          Москва             ultra\n",
       "3        4  Константин   26  Ростов-на-Дону             ultra\n",
       "4        5       Адель   28            Омск             ultra"
      ]
     },
     "execution_count": 77,
     "metadata": {},
     "output_type": "execute_result"
    }
   ],
   "source": [
    "absolute_path1 = r'C:\\Users\\ekate\\OneDrive\\Документы\\Проекты по Анализу данных\\Анализ сервиса аренды самокатов GoFast\\users_go.csv'\n",
    "users_go = pd.read_csv(absolute_path1)\n",
    "users_go.head()"
   ]
  },
  {
   "cell_type": "code",
   "execution_count": 78,
   "id": "1065f81f",
   "metadata": {
    "scrolled": true
   },
   "outputs": [
    {
     "name": "stdout",
     "output_type": "stream",
     "text": [
      "<class 'pandas.core.frame.DataFrame'>\n",
      "RangeIndex: 1565 entries, 0 to 1564\n",
      "Data columns (total 5 columns):\n",
      " #   Column             Non-Null Count  Dtype \n",
      "---  ------             --------------  ----- \n",
      " 0   user_id            1565 non-null   int64 \n",
      " 1   name               1565 non-null   object\n",
      " 2   age                1565 non-null   int64 \n",
      " 3   city               1565 non-null   object\n",
      " 4   subscription_type  1565 non-null   object\n",
      "dtypes: int64(2), object(3)\n",
      "memory usage: 61.3+ KB\n"
     ]
    }
   ],
   "source": [
    "users_go.info()"
   ]
  },
  {
   "cell_type": "code",
   "execution_count": 79,
   "id": "eff9f206",
   "metadata": {
    "scrolled": false
   },
   "outputs": [
    {
     "data": {
      "text/html": [
       "<div>\n",
       "<style scoped>\n",
       "    .dataframe tbody tr th:only-of-type {\n",
       "        vertical-align: middle;\n",
       "    }\n",
       "\n",
       "    .dataframe tbody tr th {\n",
       "        vertical-align: top;\n",
       "    }\n",
       "\n",
       "    .dataframe thead th {\n",
       "        text-align: right;\n",
       "    }\n",
       "</style>\n",
       "<table border=\"1\" class=\"dataframe\">\n",
       "  <thead>\n",
       "    <tr style=\"text-align: right;\">\n",
       "      <th></th>\n",
       "      <th>user_id</th>\n",
       "      <th>distance</th>\n",
       "      <th>duration</th>\n",
       "      <th>date</th>\n",
       "    </tr>\n",
       "  </thead>\n",
       "  <tbody>\n",
       "    <tr>\n",
       "      <th>0</th>\n",
       "      <td>1</td>\n",
       "      <td>4409.919140</td>\n",
       "      <td>25.599769</td>\n",
       "      <td>2021-01-01</td>\n",
       "    </tr>\n",
       "    <tr>\n",
       "      <th>1</th>\n",
       "      <td>1</td>\n",
       "      <td>2617.592153</td>\n",
       "      <td>15.816871</td>\n",
       "      <td>2021-01-18</td>\n",
       "    </tr>\n",
       "    <tr>\n",
       "      <th>2</th>\n",
       "      <td>1</td>\n",
       "      <td>754.159807</td>\n",
       "      <td>6.232113</td>\n",
       "      <td>2021-04-20</td>\n",
       "    </tr>\n",
       "    <tr>\n",
       "      <th>3</th>\n",
       "      <td>1</td>\n",
       "      <td>2694.783254</td>\n",
       "      <td>18.511000</td>\n",
       "      <td>2021-08-11</td>\n",
       "    </tr>\n",
       "    <tr>\n",
       "      <th>4</th>\n",
       "      <td>1</td>\n",
       "      <td>4028.687306</td>\n",
       "      <td>26.265803</td>\n",
       "      <td>2021-08-28</td>\n",
       "    </tr>\n",
       "  </tbody>\n",
       "</table>\n",
       "</div>"
      ],
      "text/plain": [
       "   user_id     distance   duration       date\n",
       "0        1  4409.919140  25.599769 2021-01-01\n",
       "1        1  2617.592153  15.816871 2021-01-18\n",
       "2        1   754.159807   6.232113 2021-04-20\n",
       "3        1  2694.783254  18.511000 2021-08-11\n",
       "4        1  4028.687306  26.265803 2021-08-28"
      ]
     },
     "execution_count": 79,
     "metadata": {},
     "output_type": "execute_result"
    }
   ],
   "source": [
    "# Загрузка данных и преобразование столбца 'date' в datetime\n",
    "absolute_path2 = r'C:\\Users\\ekate\\OneDrive\\Документы\\Проекты по Анализу данных\\Анализ сервиса аренды самокатов GoFast\\rides_go.csv'\n",
    "rides_go = pd.read_csv(absolute_path2, parse_dates=['date'])\n",
    "rides_go.head()"
   ]
  },
  {
   "cell_type": "code",
   "execution_count": 80,
   "id": "b7783756",
   "metadata": {},
   "outputs": [
    {
     "name": "stdout",
     "output_type": "stream",
     "text": [
      "<class 'pandas.core.frame.DataFrame'>\n",
      "RangeIndex: 18068 entries, 0 to 18067\n",
      "Data columns (total 4 columns):\n",
      " #   Column    Non-Null Count  Dtype         \n",
      "---  ------    --------------  -----         \n",
      " 0   user_id   18068 non-null  int64         \n",
      " 1   distance  18068 non-null  float64       \n",
      " 2   duration  18068 non-null  float64       \n",
      " 3   date      18068 non-null  datetime64[ns]\n",
      "dtypes: datetime64[ns](1), float64(2), int64(1)\n",
      "memory usage: 564.8 KB\n"
     ]
    }
   ],
   "source": [
    "rides_go.info()"
   ]
  },
  {
   "cell_type": "code",
   "execution_count": 81,
   "id": "708fe5ee",
   "metadata": {},
   "outputs": [
    {
     "data": {
      "text/html": [
       "<div>\n",
       "<style scoped>\n",
       "    .dataframe tbody tr th:only-of-type {\n",
       "        vertical-align: middle;\n",
       "    }\n",
       "\n",
       "    .dataframe tbody tr th {\n",
       "        vertical-align: top;\n",
       "    }\n",
       "\n",
       "    .dataframe thead th {\n",
       "        text-align: right;\n",
       "    }\n",
       "</style>\n",
       "<table border=\"1\" class=\"dataframe\">\n",
       "  <thead>\n",
       "    <tr style=\"text-align: right;\">\n",
       "      <th></th>\n",
       "      <th>subscription_type</th>\n",
       "      <th>minute_price</th>\n",
       "      <th>start_ride_price</th>\n",
       "      <th>subscription_fee</th>\n",
       "    </tr>\n",
       "  </thead>\n",
       "  <tbody>\n",
       "    <tr>\n",
       "      <th>0</th>\n",
       "      <td>free</td>\n",
       "      <td>8</td>\n",
       "      <td>50</td>\n",
       "      <td>0</td>\n",
       "    </tr>\n",
       "    <tr>\n",
       "      <th>1</th>\n",
       "      <td>ultra</td>\n",
       "      <td>6</td>\n",
       "      <td>0</td>\n",
       "      <td>199</td>\n",
       "    </tr>\n",
       "  </tbody>\n",
       "</table>\n",
       "</div>"
      ],
      "text/plain": [
       "  subscription_type  minute_price  start_ride_price  subscription_fee\n",
       "0              free             8                50                 0\n",
       "1             ultra             6                 0               199"
      ]
     },
     "execution_count": 81,
     "metadata": {},
     "output_type": "execute_result"
    }
   ],
   "source": [
    "absolute_path3 = r'C:\\Users\\ekate\\OneDrive\\Документы\\Проекты по Анализу данных\\Анализ сервиса аренды самокатов GoFast\\subscriptions_go.csv'\n",
    "subscriptions_go = pd.read_csv(absolute_path3)\n",
    "subscriptions_go"
   ]
  },
  {
   "cell_type": "code",
   "execution_count": 82,
   "id": "0235e240",
   "metadata": {},
   "outputs": [
    {
     "name": "stdout",
     "output_type": "stream",
     "text": [
      "<class 'pandas.core.frame.DataFrame'>\n",
      "RangeIndex: 2 entries, 0 to 1\n",
      "Data columns (total 4 columns):\n",
      " #   Column             Non-Null Count  Dtype \n",
      "---  ------             --------------  ----- \n",
      " 0   subscription_type  2 non-null      object\n",
      " 1   minute_price       2 non-null      int64 \n",
      " 2   start_ride_price   2 non-null      int64 \n",
      " 3   subscription_fee   2 non-null      int64 \n",
      "dtypes: int64(3), object(1)\n",
      "memory usage: 196.0+ bytes\n"
     ]
    }
   ],
   "source": [
    "subscriptions_go.info()"
   ]
  },
  {
   "cell_type": "markdown",
   "id": "2d6b1886",
   "metadata": {},
   "source": [
    "**Итак, перед нами 3 таблицы. В первой 1565 строк, во второй 18068 строк, в третьей - всего 2 строки. Пропущенных значений нет.**"
   ]
  },
  {
   "cell_type": "markdown",
   "id": "e95ebca7",
   "metadata": {},
   "source": [
    "#### Шаг 2. Предобработка данных"
   ]
  },
  {
   "cell_type": "code",
   "execution_count": 83,
   "id": "2100b269",
   "metadata": {
    "scrolled": true
   },
   "outputs": [
    {
     "data": {
      "text/html": [
       "<div>\n",
       "<style scoped>\n",
       "    .dataframe tbody tr th:only-of-type {\n",
       "        vertical-align: middle;\n",
       "    }\n",
       "\n",
       "    .dataframe tbody tr th {\n",
       "        vertical-align: top;\n",
       "    }\n",
       "\n",
       "    .dataframe thead th {\n",
       "        text-align: right;\n",
       "    }\n",
       "</style>\n",
       "<table border=\"1\" class=\"dataframe\">\n",
       "  <thead>\n",
       "    <tr style=\"text-align: right;\">\n",
       "      <th></th>\n",
       "      <th>user_id</th>\n",
       "      <th>distance</th>\n",
       "      <th>duration</th>\n",
       "      <th>date</th>\n",
       "      <th>month_number</th>\n",
       "    </tr>\n",
       "  </thead>\n",
       "  <tbody>\n",
       "    <tr>\n",
       "      <th>0</th>\n",
       "      <td>1</td>\n",
       "      <td>4409.919140</td>\n",
       "      <td>25.599769</td>\n",
       "      <td>2021-01-01</td>\n",
       "      <td>1</td>\n",
       "    </tr>\n",
       "    <tr>\n",
       "      <th>1</th>\n",
       "      <td>1</td>\n",
       "      <td>2617.592153</td>\n",
       "      <td>15.816871</td>\n",
       "      <td>2021-01-18</td>\n",
       "      <td>1</td>\n",
       "    </tr>\n",
       "    <tr>\n",
       "      <th>2</th>\n",
       "      <td>1</td>\n",
       "      <td>754.159807</td>\n",
       "      <td>6.232113</td>\n",
       "      <td>2021-04-20</td>\n",
       "      <td>4</td>\n",
       "    </tr>\n",
       "    <tr>\n",
       "      <th>3</th>\n",
       "      <td>1</td>\n",
       "      <td>2694.783254</td>\n",
       "      <td>18.511000</td>\n",
       "      <td>2021-08-11</td>\n",
       "      <td>8</td>\n",
       "    </tr>\n",
       "    <tr>\n",
       "      <th>4</th>\n",
       "      <td>1</td>\n",
       "      <td>4028.687306</td>\n",
       "      <td>26.265803</td>\n",
       "      <td>2021-08-28</td>\n",
       "      <td>8</td>\n",
       "    </tr>\n",
       "  </tbody>\n",
       "</table>\n",
       "</div>"
      ],
      "text/plain": [
       "   user_id     distance   duration       date  month_number\n",
       "0        1  4409.919140  25.599769 2021-01-01             1\n",
       "1        1  2617.592153  15.816871 2021-01-18             1\n",
       "2        1   754.159807   6.232113 2021-04-20             4\n",
       "3        1  2694.783254  18.511000 2021-08-11             8\n",
       "4        1  4028.687306  26.265803 2021-08-28             8"
      ]
     },
     "execution_count": 83,
     "metadata": {},
     "output_type": "execute_result"
    }
   ],
   "source": [
    "#создадим столбец 'month_number' с номерами месяцев\n",
    "rides_go['month_number'] = rides_go['date'].dt.month\n",
    "rides_go.head()"
   ]
  },
  {
   "cell_type": "markdown",
   "id": "f9d2202d",
   "metadata": {},
   "source": [
    "**Посмотрим, за какой период работы сервиса аренды самокатов нам предоставлены данные.**"
   ]
  },
  {
   "cell_type": "code",
   "execution_count": 84,
   "id": "51e0dd88",
   "metadata": {},
   "outputs": [
    {
     "data": {
      "text/plain": [
       "Timestamp('2021-01-01 00:00:00')"
      ]
     },
     "execution_count": 84,
     "metadata": {},
     "output_type": "execute_result"
    }
   ],
   "source": [
    "rides_go['date'].min()"
   ]
  },
  {
   "cell_type": "code",
   "execution_count": 85,
   "id": "db36b338",
   "metadata": {},
   "outputs": [
    {
     "data": {
      "text/plain": [
       "Timestamp('2021-12-30 00:00:00')"
      ]
     },
     "execution_count": 85,
     "metadata": {},
     "output_type": "execute_result"
    }
   ],
   "source": [
    "rides_go['date'].max()"
   ]
  },
  {
   "cell_type": "markdown",
   "id": "bc55c65d",
   "metadata": {},
   "source": [
    "**Итак, в нашем датасете представлена информация за весь 2021 год.**"
   ]
  },
  {
   "cell_type": "markdown",
   "id": "269dbaaa",
   "metadata": {},
   "source": [
    "**Посмотрим, есть ли в исследуемых датасетах пропуски.**"
   ]
  },
  {
   "cell_type": "code",
   "execution_count": 86,
   "id": "79086150",
   "metadata": {},
   "outputs": [
    {
     "data": {
      "text/plain": [
       "user_id              0\n",
       "name                 0\n",
       "age                  0\n",
       "city                 0\n",
       "subscription_type    0\n",
       "dtype: int64"
      ]
     },
     "execution_count": 86,
     "metadata": {},
     "output_type": "execute_result"
    }
   ],
   "source": [
    "users_go.isna().sum()"
   ]
  },
  {
   "cell_type": "code",
   "execution_count": 87,
   "id": "125deec1",
   "metadata": {},
   "outputs": [
    {
     "data": {
      "text/plain": [
       "user_id         0\n",
       "distance        0\n",
       "duration        0\n",
       "date            0\n",
       "month_number    0\n",
       "dtype: int64"
      ]
     },
     "execution_count": 87,
     "metadata": {},
     "output_type": "execute_result"
    }
   ],
   "source": [
    "rides_go.isna().sum()"
   ]
  },
  {
   "cell_type": "code",
   "execution_count": 88,
   "id": "da476373",
   "metadata": {
    "scrolled": false
   },
   "outputs": [
    {
     "data": {
      "text/plain": [
       "subscription_type    0\n",
       "minute_price         0\n",
       "start_ride_price     0\n",
       "subscription_fee     0\n",
       "dtype: int64"
      ]
     },
     "execution_count": 88,
     "metadata": {},
     "output_type": "execute_result"
    }
   ],
   "source": [
    "subscriptions_go.isna().sum()"
   ]
  },
  {
   "cell_type": "markdown",
   "id": "d75e1b0f",
   "metadata": {},
   "source": [
    "**Итак, мы установили, что пропусков в данных нет.**"
   ]
  },
  {
   "cell_type": "markdown",
   "id": "1e230c12",
   "metadata": {},
   "source": [
    "**Теперь проверим данные на наличие дубликатов в тех столбцах, где по логике их быть не должно.**"
   ]
  },
  {
   "cell_type": "code",
   "execution_count": 89,
   "id": "2df75424",
   "metadata": {},
   "outputs": [
    {
     "data": {
      "text/html": [
       "<div>\n",
       "<style scoped>\n",
       "    .dataframe tbody tr th:only-of-type {\n",
       "        vertical-align: middle;\n",
       "    }\n",
       "\n",
       "    .dataframe tbody tr th {\n",
       "        vertical-align: top;\n",
       "    }\n",
       "\n",
       "    .dataframe thead th {\n",
       "        text-align: right;\n",
       "    }\n",
       "</style>\n",
       "<table border=\"1\" class=\"dataframe\">\n",
       "  <thead>\n",
       "    <tr style=\"text-align: right;\">\n",
       "      <th></th>\n",
       "      <th>user_id</th>\n",
       "      <th>name</th>\n",
       "      <th>age</th>\n",
       "      <th>city</th>\n",
       "      <th>subscription_type</th>\n",
       "    </tr>\n",
       "  </thead>\n",
       "  <tbody>\n",
       "    <tr>\n",
       "      <th>1534</th>\n",
       "      <td>293</td>\n",
       "      <td>Агата</td>\n",
       "      <td>26</td>\n",
       "      <td>Краснодар</td>\n",
       "      <td>ultra</td>\n",
       "    </tr>\n",
       "    <tr>\n",
       "      <th>1535</th>\n",
       "      <td>16</td>\n",
       "      <td>Амалия</td>\n",
       "      <td>27</td>\n",
       "      <td>Краснодар</td>\n",
       "      <td>ultra</td>\n",
       "    </tr>\n",
       "    <tr>\n",
       "      <th>1536</th>\n",
       "      <td>909</td>\n",
       "      <td>Константин</td>\n",
       "      <td>20</td>\n",
       "      <td>Екатеринбург</td>\n",
       "      <td>free</td>\n",
       "    </tr>\n",
       "    <tr>\n",
       "      <th>1537</th>\n",
       "      <td>403</td>\n",
       "      <td>Полина</td>\n",
       "      <td>19</td>\n",
       "      <td>Сочи</td>\n",
       "      <td>ultra</td>\n",
       "    </tr>\n",
       "    <tr>\n",
       "      <th>1538</th>\n",
       "      <td>908</td>\n",
       "      <td>Рустам</td>\n",
       "      <td>30</td>\n",
       "      <td>Тюмень</td>\n",
       "      <td>free</td>\n",
       "    </tr>\n",
       "    <tr>\n",
       "      <th>1539</th>\n",
       "      <td>43</td>\n",
       "      <td>Стефания</td>\n",
       "      <td>22</td>\n",
       "      <td>Омск</td>\n",
       "      <td>ultra</td>\n",
       "    </tr>\n",
       "    <tr>\n",
       "      <th>1540</th>\n",
       "      <td>127</td>\n",
       "      <td>Павел</td>\n",
       "      <td>25</td>\n",
       "      <td>Пятигорск</td>\n",
       "      <td>ultra</td>\n",
       "    </tr>\n",
       "    <tr>\n",
       "      <th>1541</th>\n",
       "      <td>659</td>\n",
       "      <td>Злата</td>\n",
       "      <td>27</td>\n",
       "      <td>Ростов-на-Дону</td>\n",
       "      <td>ultra</td>\n",
       "    </tr>\n",
       "    <tr>\n",
       "      <th>1542</th>\n",
       "      <td>204</td>\n",
       "      <td>Руслан</td>\n",
       "      <td>30</td>\n",
       "      <td>Пятигорск</td>\n",
       "      <td>ultra</td>\n",
       "    </tr>\n",
       "    <tr>\n",
       "      <th>1543</th>\n",
       "      <td>153</td>\n",
       "      <td>Герман</td>\n",
       "      <td>23</td>\n",
       "      <td>Москва</td>\n",
       "      <td>ultra</td>\n",
       "    </tr>\n",
       "    <tr>\n",
       "      <th>1544</th>\n",
       "      <td>1245</td>\n",
       "      <td>Регина</td>\n",
       "      <td>27</td>\n",
       "      <td>Пятигорск</td>\n",
       "      <td>free</td>\n",
       "    </tr>\n",
       "    <tr>\n",
       "      <th>1545</th>\n",
       "      <td>807</td>\n",
       "      <td>Александр</td>\n",
       "      <td>28</td>\n",
       "      <td>Екатеринбург</td>\n",
       "      <td>free</td>\n",
       "    </tr>\n",
       "    <tr>\n",
       "      <th>1546</th>\n",
       "      <td>924</td>\n",
       "      <td>Мария</td>\n",
       "      <td>23</td>\n",
       "      <td>Пятигорск</td>\n",
       "      <td>free</td>\n",
       "    </tr>\n",
       "    <tr>\n",
       "      <th>1547</th>\n",
       "      <td>635</td>\n",
       "      <td>Герман</td>\n",
       "      <td>21</td>\n",
       "      <td>Москва</td>\n",
       "      <td>ultra</td>\n",
       "    </tr>\n",
       "    <tr>\n",
       "      <th>1548</th>\n",
       "      <td>136</td>\n",
       "      <td>Марсель</td>\n",
       "      <td>25</td>\n",
       "      <td>Тюмень</td>\n",
       "      <td>ultra</td>\n",
       "    </tr>\n",
       "    <tr>\n",
       "      <th>1549</th>\n",
       "      <td>108</td>\n",
       "      <td>Влада</td>\n",
       "      <td>29</td>\n",
       "      <td>Тюмень</td>\n",
       "      <td>ultra</td>\n",
       "    </tr>\n",
       "    <tr>\n",
       "      <th>1550</th>\n",
       "      <td>737</td>\n",
       "      <td>Мелания</td>\n",
       "      <td>27</td>\n",
       "      <td>Ростов-на-Дону</td>\n",
       "      <td>free</td>\n",
       "    </tr>\n",
       "    <tr>\n",
       "      <th>1551</th>\n",
       "      <td>666</td>\n",
       "      <td>Зарина</td>\n",
       "      <td>29</td>\n",
       "      <td>Москва</td>\n",
       "      <td>ultra</td>\n",
       "    </tr>\n",
       "    <tr>\n",
       "      <th>1552</th>\n",
       "      <td>297</td>\n",
       "      <td>Егор</td>\n",
       "      <td>33</td>\n",
       "      <td>Пятигорск</td>\n",
       "      <td>ultra</td>\n",
       "    </tr>\n",
       "    <tr>\n",
       "      <th>1553</th>\n",
       "      <td>121</td>\n",
       "      <td>Алина</td>\n",
       "      <td>25</td>\n",
       "      <td>Пятигорск</td>\n",
       "      <td>ultra</td>\n",
       "    </tr>\n",
       "    <tr>\n",
       "      <th>1554</th>\n",
       "      <td>1198</td>\n",
       "      <td>Демид</td>\n",
       "      <td>29</td>\n",
       "      <td>Ростов-на-Дону</td>\n",
       "      <td>free</td>\n",
       "    </tr>\n",
       "    <tr>\n",
       "      <th>1555</th>\n",
       "      <td>72</td>\n",
       "      <td>Никита</td>\n",
       "      <td>25</td>\n",
       "      <td>Москва</td>\n",
       "      <td>ultra</td>\n",
       "    </tr>\n",
       "    <tr>\n",
       "      <th>1556</th>\n",
       "      <td>422</td>\n",
       "      <td>Кирилл</td>\n",
       "      <td>27</td>\n",
       "      <td>Сочи</td>\n",
       "      <td>ultra</td>\n",
       "    </tr>\n",
       "    <tr>\n",
       "      <th>1557</th>\n",
       "      <td>611</td>\n",
       "      <td>Владимир</td>\n",
       "      <td>28</td>\n",
       "      <td>Омск</td>\n",
       "      <td>ultra</td>\n",
       "    </tr>\n",
       "    <tr>\n",
       "      <th>1558</th>\n",
       "      <td>1237</td>\n",
       "      <td>Евгения</td>\n",
       "      <td>23</td>\n",
       "      <td>Тюмень</td>\n",
       "      <td>free</td>\n",
       "    </tr>\n",
       "    <tr>\n",
       "      <th>1559</th>\n",
       "      <td>209</td>\n",
       "      <td>Андрей</td>\n",
       "      <td>23</td>\n",
       "      <td>Омск</td>\n",
       "      <td>ultra</td>\n",
       "    </tr>\n",
       "    <tr>\n",
       "      <th>1560</th>\n",
       "      <td>829</td>\n",
       "      <td>Федор</td>\n",
       "      <td>29</td>\n",
       "      <td>Пятигорск</td>\n",
       "      <td>free</td>\n",
       "    </tr>\n",
       "    <tr>\n",
       "      <th>1561</th>\n",
       "      <td>809</td>\n",
       "      <td>Юрий</td>\n",
       "      <td>26</td>\n",
       "      <td>Сочи</td>\n",
       "      <td>free</td>\n",
       "    </tr>\n",
       "    <tr>\n",
       "      <th>1562</th>\n",
       "      <td>307</td>\n",
       "      <td>Ясмина</td>\n",
       "      <td>19</td>\n",
       "      <td>Краснодар</td>\n",
       "      <td>ultra</td>\n",
       "    </tr>\n",
       "    <tr>\n",
       "      <th>1563</th>\n",
       "      <td>47</td>\n",
       "      <td>Юрий</td>\n",
       "      <td>28</td>\n",
       "      <td>Тюмень</td>\n",
       "      <td>ultra</td>\n",
       "    </tr>\n",
       "    <tr>\n",
       "      <th>1564</th>\n",
       "      <td>1045</td>\n",
       "      <td>Артемий</td>\n",
       "      <td>28</td>\n",
       "      <td>Ростов-на-Дону</td>\n",
       "      <td>free</td>\n",
       "    </tr>\n",
       "  </tbody>\n",
       "</table>\n",
       "</div>"
      ],
      "text/plain": [
       "      user_id        name  age            city subscription_type\n",
       "1534      293       Агата   26       Краснодар             ultra\n",
       "1535       16      Амалия   27       Краснодар             ultra\n",
       "1536      909  Константин   20    Екатеринбург              free\n",
       "1537      403      Полина   19            Сочи             ultra\n",
       "1538      908      Рустам   30          Тюмень              free\n",
       "1539       43    Стефания   22            Омск             ultra\n",
       "1540      127       Павел   25       Пятигорск             ultra\n",
       "1541      659       Злата   27  Ростов-на-Дону             ultra\n",
       "1542      204      Руслан   30       Пятигорск             ultra\n",
       "1543      153      Герман   23          Москва             ultra\n",
       "1544     1245      Регина   27       Пятигорск              free\n",
       "1545      807   Александр   28    Екатеринбург              free\n",
       "1546      924       Мария   23       Пятигорск              free\n",
       "1547      635      Герман   21          Москва             ultra\n",
       "1548      136     Марсель   25          Тюмень             ultra\n",
       "1549      108       Влада   29          Тюмень             ultra\n",
       "1550      737     Мелания   27  Ростов-на-Дону              free\n",
       "1551      666      Зарина   29          Москва             ultra\n",
       "1552      297        Егор   33       Пятигорск             ultra\n",
       "1553      121       Алина   25       Пятигорск             ultra\n",
       "1554     1198       Демид   29  Ростов-на-Дону              free\n",
       "1555       72      Никита   25          Москва             ultra\n",
       "1556      422      Кирилл   27            Сочи             ultra\n",
       "1557      611    Владимир   28            Омск             ultra\n",
       "1558     1237     Евгения   23          Тюмень              free\n",
       "1559      209      Андрей   23            Омск             ultra\n",
       "1560      829       Федор   29       Пятигорск              free\n",
       "1561      809        Юрий   26            Сочи              free\n",
       "1562      307      Ясмина   19       Краснодар             ultra\n",
       "1563       47        Юрий   28          Тюмень             ultra\n",
       "1564     1045     Артемий   28  Ростов-на-Дону              free"
      ]
     },
     "execution_count": 89,
     "metadata": {},
     "output_type": "execute_result"
    }
   ],
   "source": [
    "users_go[users_go['user_id'].duplicated()]"
   ]
  },
  {
   "cell_type": "code",
   "execution_count": 90,
   "id": "ee7ed8d8",
   "metadata": {},
   "outputs": [],
   "source": [
    "#удалим найденные дубликаты\n",
    "users_go.drop_duplicates(subset='user_id', inplace=True)"
   ]
  },
  {
   "cell_type": "code",
   "execution_count": 91,
   "id": "83ed0d92",
   "metadata": {},
   "outputs": [
    {
     "data": {
      "text/html": [
       "<div>\n",
       "<style scoped>\n",
       "    .dataframe tbody tr th:only-of-type {\n",
       "        vertical-align: middle;\n",
       "    }\n",
       "\n",
       "    .dataframe tbody tr th {\n",
       "        vertical-align: top;\n",
       "    }\n",
       "\n",
       "    .dataframe thead th {\n",
       "        text-align: right;\n",
       "    }\n",
       "</style>\n",
       "<table border=\"1\" class=\"dataframe\">\n",
       "  <thead>\n",
       "    <tr style=\"text-align: right;\">\n",
       "      <th></th>\n",
       "      <th>user_id</th>\n",
       "      <th>name</th>\n",
       "      <th>age</th>\n",
       "      <th>city</th>\n",
       "      <th>subscription_type</th>\n",
       "    </tr>\n",
       "  </thead>\n",
       "  <tbody>\n",
       "  </tbody>\n",
       "</table>\n",
       "</div>"
      ],
      "text/plain": [
       "Empty DataFrame\n",
       "Columns: [user_id, name, age, city, subscription_type]\n",
       "Index: []"
      ]
     },
     "execution_count": 91,
     "metadata": {},
     "output_type": "execute_result"
    }
   ],
   "source": [
    "users_go[users_go.duplicated(keep=False)]"
   ]
  },
  {
   "cell_type": "code",
   "execution_count": 92,
   "id": "581edf66",
   "metadata": {},
   "outputs": [
    {
     "data": {
      "text/html": [
       "<div>\n",
       "<style scoped>\n",
       "    .dataframe tbody tr th:only-of-type {\n",
       "        vertical-align: middle;\n",
       "    }\n",
       "\n",
       "    .dataframe tbody tr th {\n",
       "        vertical-align: top;\n",
       "    }\n",
       "\n",
       "    .dataframe thead th {\n",
       "        text-align: right;\n",
       "    }\n",
       "</style>\n",
       "<table border=\"1\" class=\"dataframe\">\n",
       "  <thead>\n",
       "    <tr style=\"text-align: right;\">\n",
       "      <th></th>\n",
       "      <th>user_id</th>\n",
       "      <th>distance</th>\n",
       "      <th>duration</th>\n",
       "      <th>date</th>\n",
       "      <th>month_number</th>\n",
       "    </tr>\n",
       "  </thead>\n",
       "  <tbody>\n",
       "  </tbody>\n",
       "</table>\n",
       "</div>"
      ],
      "text/plain": [
       "Empty DataFrame\n",
       "Columns: [user_id, distance, duration, date, month_number]\n",
       "Index: []"
      ]
     },
     "execution_count": 92,
     "metadata": {},
     "output_type": "execute_result"
    }
   ],
   "source": [
    "rides_go[rides_go.duplicated(keep=False)]"
   ]
  },
  {
   "cell_type": "markdown",
   "id": "3c2789af",
   "metadata": {},
   "source": [
    "**Итак, дубликаты найдены и удалены в таблице с пользователями. В датасете с информацией о поездках нет дубликатов. Таблицу с информацией о стоимости подписок можно не проверять, так как она совсем маленькая и на глаз видно, что с ней все в порядке.**"
   ]
  },
  {
   "cell_type": "markdown",
   "id": "0e177913",
   "metadata": {},
   "source": [
    "**Взглянем на выбросы в данных о продолжительности и дальности поездок.**"
   ]
  },
  {
   "cell_type": "code",
   "execution_count": 93,
   "id": "d8468982",
   "metadata": {},
   "outputs": [
    {
     "data": {
      "image/png": "[encoded data removed]",
      "text/plain": [
       "<Figure size 800x600 with 1 Axes>"
      ]
     },
     "metadata": {},
     "output_type": "display_data"
    }
   ],
   "source": [
    "# Создадим ящичковую диаграмму для столбца 'duration':\n",
    "plt.figure(figsize=(8, 6))\n",
    "rides_go['duration'].plot(kind='box')\n",
    "plt.title('Ящичковая диаграмма для столбца \"duration\"')\n",
    "plt.xlabel('Продолжительность поездок')\n",
    "\n",
    "# Отобразите график:\n",
    "plt.show()"
   ]
  },
  {
   "cell_type": "markdown",
   "id": "0061cd88",
   "metadata": {},
   "source": [
    "**Выходит, что в данных есть поездка с очень короткой продолжительностью и некоторое количество необычайно продолжительных для самокатов поездок более 35 минут.**"
   ]
  },
  {
   "cell_type": "code",
   "execution_count": 94,
   "id": "a5982894",
   "metadata": {
    "scrolled": true
   },
   "outputs": [
    {
     "data": {
      "image/png": "[encoded data removed]",
      "text/plain": [
       "<Figure size 800x600 with 1 Axes>"
      ]
     },
     "metadata": {},
     "output_type": "display_data"
    }
   ],
   "source": [
    "# Создадим ящичковую диаграмму для столбца 'distance':\n",
    "plt.figure(figsize=(8, 6))\n",
    "rides_go['distance'].plot(kind='box')\n",
    "plt.title('Ящичковая диаграмма для столбца \"distanse\"')\n",
    "plt.xlabel('Расстояние поездок')\n",
    "\n",
    "# Отобразите график:\n",
    "plt.show()"
   ]
  },
  {
   "cell_type": "markdown",
   "id": "1516d312",
   "metadata": {},
   "source": [
    "**Можно сделать вывод, что пользователи редко ездиют меньше 1 км, а также поездки более 6 км являются исключениями.**"
   ]
  },
  {
   "cell_type": "markdown",
   "id": "212593c7",
   "metadata": {},
   "source": [
    "#### Шаг 3. Исследовательский анализ данных"
   ]
  },
  {
   "cell_type": "markdown",
   "id": "7f7cdc16",
   "metadata": {},
   "source": [
    "**3.1**"
   ]
  },
  {
   "cell_type": "code",
   "execution_count": 95,
   "id": "d5b36fec",
   "metadata": {},
   "outputs": [
    {
     "data": {
      "image/png": "[encoded data removed]",
      "text/plain": [
       "<Figure size 1000x600 with 1 Axes>"
      ]
     },
     "metadata": {},
     "output_type": "display_data"
    }
   ],
   "source": [
    "# Подсчет количества встречаний каждого города и сортировка\n",
    "city_counts = users_go['city'].value_counts()\n",
    "city_counts_sorted = city_counts.sort_values(ascending=False)\n",
    "\n",
    "# Создание гистограммы\n",
    "plt.figure(figsize=(10, 6))\n",
    "bars = plt.bar(city_counts_sorted.index, city_counts_sorted.values)\n",
    "\n",
    "# Установка угла поворота подписей оси x\n",
    "plt.xticks(rotation=45)\n",
    "\n",
    "# Добавление численности пользователей над столбцами\n",
    "for bar in bars:\n",
    "    height = bar.get_height()\n",
    "    plt.annotate(f'{int(height)}', xy=(bar.get_x() + bar.get_width() / 2, height),\n",
    "                 xytext=(0, 3),  # Смещение текста над столбцами\n",
    "                 textcoords='offset points',\n",
    "                 ha='center', va='bottom')\n",
    "\n",
    "# Отображение гистограммы\n",
    "plt.xlabel('Город')\n",
    "plt.ylabel('Численность пользователей')\n",
    "plt.title('Численность пользователей по городам')\n",
    "plt.tight_layout()\n",
    "plt.show()"
   ]
  },
  {
   "cell_type": "markdown",
   "id": "8d05f613",
   "metadata": {},
   "source": [
    "**Итак, на основе полученной столбчатой диаграммы мы можем сделать вывод, что больше всего пользователей из Пятигорска, Екатеринбурга, Ростова-на-Дону, а меньше всего из Москвы. Но разрыв в принципе небольшой.**"
   ]
  },
  {
   "cell_type": "markdown",
   "id": "6f7ebcce",
   "metadata": {},
   "source": [
    "**3.2**"
   ]
  },
  {
   "cell_type": "code",
   "execution_count": 96,
   "id": "51944f95",
   "metadata": {},
   "outputs": [
    {
     "data": {
      "image/png": "[encoded data removed]",
      "text/plain": [
       "<Figure size 600x600 with 1 Axes>"
      ]
     },
     "metadata": {},
     "output_type": "display_data"
    }
   ],
   "source": [
    "# Подсчет количества пользователей для каждого типа подписки\n",
    "subscription_counts = users_go['subscription_type'].value_counts()\n",
    "\n",
    "# Определите цвета для каждого сегмента\n",
    "colors = ['skyblue', 'lightcoral']\n",
    "\n",
    "# Создание круговой диаграммы с указанием цветов\n",
    "plt.figure(figsize=(6, 6))\n",
    "patches, texts, autotexts = plt.pie(\n",
    "    subscription_counts,\n",
    "    labels=None,  # Убираем подписи изнутри диаграммы\n",
    "    autopct=lambda p: f'{p:.1f}% ({int(p * len(users_go) / 100)})',\n",
    "    startangle=140,\n",
    "    colors=colors  # Указываем цвета для сегментов\n",
    ")\n",
    "\n",
    "# Добавление подписей снаружи диаграммы\n",
    "labels = [f'{label}: {count}' for label, count in subscription_counts.items()]\n",
    "plt.legend(labels, loc=\"center left\", bbox_to_anchor=(1, 0, 0.5, 1))\n",
    "\n",
    "plt.title('Распределение пользователей по типам подписки')\n",
    "plt.axis('equal')  # Чтобы круговая диаграмма была круглой\n",
    "\n",
    "# Отображение диаграммы\n",
    "plt.show()"
   ]
  },
  {
   "cell_type": "markdown",
   "id": "0543b2f0",
   "metadata": {},
   "source": [
    "**Мы установили, что у 54.4% пользователей (835 человек) бесплатная подписка, а 45.6% пользователей пользуются платной подпиской (699 человек).**"
   ]
  },
  {
   "cell_type": "markdown",
   "id": "7982098b",
   "metadata": {},
   "source": [
    "**3.3**"
   ]
  },
  {
   "cell_type": "code",
   "execution_count": 97,
   "id": "bef4825f",
   "metadata": {},
   "outputs": [
    {
     "data": {
      "text/plain": [
       "array([22, 31, 20, 26, 28, 25, 23, 21, 18, 27, 24, 29, 32, 14, 19, 30, 17,\n",
       "       12, 35, 33, 13, 15, 37, 16, 34, 38, 36, 39, 43], dtype=int64)"
      ]
     },
     "execution_count": 97,
     "metadata": {},
     "output_type": "execute_result"
    }
   ],
   "source": [
    "#посмотрим, какие возраста пользователей встречаются для разбивки их на сегменты\n",
    "users_go['age'].unique()"
   ]
  },
  {
   "cell_type": "code",
   "execution_count": 98,
   "id": "d5b7c768",
   "metadata": {},
   "outputs": [],
   "source": [
    "# Создание функции для определения категории возраста\n",
    "def categorize_age(age):\n",
    "    if age < 20:\n",
    "        return \"До 20 лет\"\n",
    "    elif 20 <= age < 30:\n",
    "        return \"От 20 до 30 лет\"\n",
    "    elif 30 <= age < 40:\n",
    "        return \"От 30 до 40 лет\"\n",
    "    else:\n",
    "        return \"От 40 лет и старше\"\n",
    "\n",
    "# Применение функции к столбцу 'age' и создание нового столбца 'age_category'\n",
    "users_go['age_category'] = users_go['age'].apply(categorize_age)"
   ]
  },
  {
   "cell_type": "code",
   "execution_count": 99,
   "id": "6d0aee1b",
   "metadata": {},
   "outputs": [
    {
     "data": {
      "text/plain": [
       "От 20 до 30 лет       1119\n",
       "От 30 до 40 лет        242\n",
       "До 20 лет              172\n",
       "От 40 лет и старше       1\n",
       "Name: age_category, dtype: int64"
      ]
     },
     "execution_count": 99,
     "metadata": {},
     "output_type": "execute_result"
    }
   ],
   "source": [
    "users_go['age_category'].value_counts()"
   ]
  },
  {
   "cell_type": "code",
   "execution_count": 100,
   "id": "61466f0b",
   "metadata": {},
   "outputs": [
    {
     "data": {
      "image/png": "[encoded data removed]",
      "text/plain": [
       "<Figure size 800x600 with 1 Axes>"
      ]
     },
     "metadata": {},
     "output_type": "display_data"
    }
   ],
   "source": [
    "# Создание столбчатой диаграммы на основе распределения категорий возраста\n",
    "age_category_counts = users_go['age_category'].value_counts()\n",
    "plt.figure(figsize=(8, 6))\n",
    "age_category_counts.plot(kind='bar', color='skyblue')\n",
    "plt.title('Распределение пользователей по категориям возраста')\n",
    "plt.xlabel('Категория возраста')\n",
    "plt.ylabel('Количество пользователей')\n",
    "\n",
    "# Отображение диаграммы\n",
    "plt.xticks(rotation=45)  # Поворот подписей на оси x для лучшей читаемости\n",
    "plt.tight_layout()\n",
    "plt.show()"
   ]
  },
  {
   "cell_type": "markdown",
   "id": "9c29749d",
   "metadata": {},
   "source": [
    "**На диаграмме наглядно видно, что преобладающее большинство пользователей арендованными самокатами - это молодые люди в возрасте от 20 до 30 лет, люди старше 40 лет ими практически не пользуются.**"
   ]
  },
  {
   "cell_type": "code",
   "execution_count": 101,
   "id": "6c9f87c8",
   "metadata": {},
   "outputs": [
    {
     "data": {
      "image/png": "[encoded data removed]",
      "text/plain": [
       "<Figure size 800x600 with 1 Axes>"
      ]
     },
     "metadata": {},
     "output_type": "display_data"
    }
   ],
   "source": [
    "# Создание гистограммы на основе распределения категорий возраста\n",
    "age_category_counts = users_go['age'].value_counts()\n",
    "plt.figure(figsize=(8, 6))\n",
    "plt.hist(age_category_counts.index, bins=len(age_category_counts),\n",
    "         weights=age_category_counts.values, color='skyblue', edgecolor='black')\n",
    "plt.title('Распределение пользователей по возрасту')\n",
    "plt.xlabel('Возраст')\n",
    "plt.ylabel('Количество пользователей')\n",
    "\n",
    "# Отображение гистограммы\n",
    "plt.tight_layout()\n",
    "plt.show()"
   ]
  },
  {
   "cell_type": "markdown",
   "id": "26e9595d",
   "metadata": {},
   "source": [
    "**По гистограмме можно уверенно сделать вывод, что больше всего пользователей - это люди в возрасте между 25 и 30 годами. Еще приличное количество пользователей в возрасте от 20 до 25 лет.**"
   ]
  },
  {
   "cell_type": "markdown",
   "id": "5b3db87d",
   "metadata": {},
   "source": [
    "**3.4**"
   ]
  },
  {
   "cell_type": "code",
   "execution_count": 102,
   "id": "e004444c",
   "metadata": {},
   "outputs": [
    {
     "data": {
      "text/plain": [
       "0.855682925681208"
      ]
     },
     "execution_count": 102,
     "metadata": {},
     "output_type": "execute_result"
    }
   ],
   "source": [
    "rides_go['distance'].min()"
   ]
  },
  {
   "cell_type": "code",
   "execution_count": 103,
   "id": "61aad4b7",
   "metadata": {
    "scrolled": true
   },
   "outputs": [
    {
     "data": {
      "text/plain": [
       "7211.007744598519"
      ]
     },
     "execution_count": 103,
     "metadata": {},
     "output_type": "execute_result"
    }
   ],
   "source": [
    "rides_go['distance'].max()"
   ]
  },
  {
   "cell_type": "markdown",
   "id": "e0a6636b",
   "metadata": {},
   "source": [
    "**Итак, минимум пользователь проехал меньше метра, максимум - более 7 км.**"
   ]
  },
  {
   "cell_type": "code",
   "execution_count": 104,
   "id": "059bb53e",
   "metadata": {},
   "outputs": [
    {
     "data": {
      "image/png": "[encoded data removed]",
      "text/plain": [
       "<Figure size 800x600 with 1 Axes>"
      ]
     },
     "metadata": {},
     "output_type": "display_data"
    }
   ],
   "source": [
    "plt.figure(figsize=(8, 6))\n",
    "plt.hist(rides_go['distance'], bins=20, color='skyblue', edgecolor='black')\n",
    "plt.title('Распределение расстояния за поездку')\n",
    "plt.xlabel('Расстояние (метры)')\n",
    "plt.ylabel('Количество поездок')\n",
    "plt.show()"
   ]
  },
  {
   "cell_type": "markdown",
   "id": "489ec6a9",
   "metadata": {},
   "source": [
    "**Теперь мы можем утверждать, что большинство поездок было в районе 3 км. Поездки меньше 2 км и дальше 5 км - редкость.**"
   ]
  },
  {
   "cell_type": "markdown",
   "id": "106d3412",
   "metadata": {},
   "source": [
    "**3.5**"
   ]
  },
  {
   "cell_type": "code",
   "execution_count": 105,
   "id": "96aa41b3",
   "metadata": {},
   "outputs": [
    {
     "data": {
      "text/plain": [
       "0.5"
      ]
     },
     "execution_count": 105,
     "metadata": {},
     "output_type": "execute_result"
    }
   ],
   "source": [
    "rides_go['duration'].min()"
   ]
  },
  {
   "cell_type": "code",
   "execution_count": 106,
   "id": "b4b2ccae",
   "metadata": {},
   "outputs": [
    {
     "data": {
      "text/plain": [
       "40.82396261922424"
      ]
     },
     "execution_count": 106,
     "metadata": {},
     "output_type": "execute_result"
    }
   ],
   "source": [
    "rides_go['duration'].max()"
   ]
  },
  {
   "cell_type": "markdown",
   "id": "e715784e",
   "metadata": {},
   "source": [
    "**Самая короткая поездка составила всего полминуты, а самая продолжительная - больше 40 мин.**"
   ]
  },
  {
   "cell_type": "code",
   "execution_count": 107,
   "id": "0b56ea8c",
   "metadata": {},
   "outputs": [
    {
     "data": {
      "image/png": "[encoded data removed]",
      "text/plain": [
       "<Figure size 800x600 with 1 Axes>"
      ]
     },
     "metadata": {},
     "output_type": "display_data"
    }
   ],
   "source": [
    "plt.figure(figsize=(8, 6))\n",
    "plt.hist(rides_go['duration'], bins=20, color='lightgreen', edgecolor='black')\n",
    "plt.title('Распределение продолжительности поездок')\n",
    "plt.xlabel('Продолжительность (минуты)')\n",
    "plt.ylabel('Количество поездок')\n",
    "plt.show()"
   ]
  },
  {
   "cell_type": "markdown",
   "id": "9408e4bd",
   "metadata": {},
   "source": [
    "**Чаще всего самокат используется в районе 15-20 мин, для поездок на 10 мин или более 20 мин самокаты берут в аренду реже.**"
   ]
  },
  {
   "cell_type": "markdown",
   "id": "0d8d8312",
   "metadata": {},
   "source": [
    "**В разделе исследовательского анализа данных мы уже строили диаграммы размаха по продолжительности и дальности поездок. Построим еще одну диаграмму по возрасту пользователей.**"
   ]
  },
  {
   "cell_type": "code",
   "execution_count": 108,
   "id": "eebad882",
   "metadata": {},
   "outputs": [
    {
     "data": {
      "image/png": "[encoded data removed]",
      "text/plain": [
       "<Figure size 800x600 with 1 Axes>"
      ]
     },
     "metadata": {},
     "output_type": "display_data"
    }
   ],
   "source": [
    "# Создадим ящичковую диаграмму для столбца 'age':\n",
    "plt.figure(figsize=(8, 6))\n",
    "users_go['age'].plot(kind='box')\n",
    "plt.title('Ящичковая диаграмма для столбца \"age\"')\n",
    "plt.xlabel('Возраст пользователей')\n",
    "\n",
    "# Отобразите график:\n",
    "plt.show()"
   ]
  },
  {
   "cell_type": "markdown",
   "id": "f00f5165",
   "metadata": {},
   "source": [
    "**Итак, мало какие пользователи моложе 15 лет, также люди старше 35 лет тоже редко пользуются услугами аренды самокатов.**"
   ]
  },
  {
   "cell_type": "markdown",
   "id": "55126bca",
   "metadata": {},
   "source": [
    "**Менеджерам сервиса стоит рекомендовать ориентироваться преимущественно на людей 23 - 28 лет. Также среднестатистический пользователь обычно использует самокат в промежутке от 14 до 23 мин, проезжая на нем приблизительное расстояние от 2.5 до 3.8 км.**"
   ]
  },
  {
   "cell_type": "markdown",
   "id": "4ef51331",
   "metadata": {},
   "source": [
    "#### Шаг 4. Объединение данных"
   ]
  },
  {
   "cell_type": "code",
   "execution_count": 109,
   "id": "6bf288b5",
   "metadata": {},
   "outputs": [
    {
     "data": {
      "text/html": [
       "<div>\n",
       "<style scoped>\n",
       "    .dataframe tbody tr th:only-of-type {\n",
       "        vertical-align: middle;\n",
       "    }\n",
       "\n",
       "    .dataframe tbody tr th {\n",
       "        vertical-align: top;\n",
       "    }\n",
       "\n",
       "    .dataframe thead th {\n",
       "        text-align: right;\n",
       "    }\n",
       "</style>\n",
       "<table border=\"1\" class=\"dataframe\">\n",
       "  <thead>\n",
       "    <tr style=\"text-align: right;\">\n",
       "      <th></th>\n",
       "      <th>user_id</th>\n",
       "      <th>name</th>\n",
       "      <th>age</th>\n",
       "      <th>city</th>\n",
       "      <th>subscription_type</th>\n",
       "      <th>age_category</th>\n",
       "      <th>distance</th>\n",
       "      <th>duration</th>\n",
       "      <th>date</th>\n",
       "      <th>month_number</th>\n",
       "      <th>minute_price</th>\n",
       "      <th>start_ride_price</th>\n",
       "      <th>subscription_fee</th>\n",
       "    </tr>\n",
       "  </thead>\n",
       "  <tbody>\n",
       "    <tr>\n",
       "      <th>0</th>\n",
       "      <td>1</td>\n",
       "      <td>Кира</td>\n",
       "      <td>22</td>\n",
       "      <td>Тюмень</td>\n",
       "      <td>ultra</td>\n",
       "      <td>От 20 до 30 лет</td>\n",
       "      <td>4409.919140</td>\n",
       "      <td>25.599769</td>\n",
       "      <td>2021-01-01</td>\n",
       "      <td>1</td>\n",
       "      <td>6</td>\n",
       "      <td>0</td>\n",
       "      <td>199</td>\n",
       "    </tr>\n",
       "    <tr>\n",
       "      <th>1</th>\n",
       "      <td>1</td>\n",
       "      <td>Кира</td>\n",
       "      <td>22</td>\n",
       "      <td>Тюмень</td>\n",
       "      <td>ultra</td>\n",
       "      <td>От 20 до 30 лет</td>\n",
       "      <td>2617.592153</td>\n",
       "      <td>15.816871</td>\n",
       "      <td>2021-01-18</td>\n",
       "      <td>1</td>\n",
       "      <td>6</td>\n",
       "      <td>0</td>\n",
       "      <td>199</td>\n",
       "    </tr>\n",
       "    <tr>\n",
       "      <th>2</th>\n",
       "      <td>1</td>\n",
       "      <td>Кира</td>\n",
       "      <td>22</td>\n",
       "      <td>Тюмень</td>\n",
       "      <td>ultra</td>\n",
       "      <td>От 20 до 30 лет</td>\n",
       "      <td>754.159807</td>\n",
       "      <td>6.232113</td>\n",
       "      <td>2021-04-20</td>\n",
       "      <td>4</td>\n",
       "      <td>6</td>\n",
       "      <td>0</td>\n",
       "      <td>199</td>\n",
       "    </tr>\n",
       "    <tr>\n",
       "      <th>3</th>\n",
       "      <td>1</td>\n",
       "      <td>Кира</td>\n",
       "      <td>22</td>\n",
       "      <td>Тюмень</td>\n",
       "      <td>ultra</td>\n",
       "      <td>От 20 до 30 лет</td>\n",
       "      <td>2694.783254</td>\n",
       "      <td>18.511000</td>\n",
       "      <td>2021-08-11</td>\n",
       "      <td>8</td>\n",
       "      <td>6</td>\n",
       "      <td>0</td>\n",
       "      <td>199</td>\n",
       "    </tr>\n",
       "    <tr>\n",
       "      <th>4</th>\n",
       "      <td>1</td>\n",
       "      <td>Кира</td>\n",
       "      <td>22</td>\n",
       "      <td>Тюмень</td>\n",
       "      <td>ultra</td>\n",
       "      <td>От 20 до 30 лет</td>\n",
       "      <td>4028.687306</td>\n",
       "      <td>26.265803</td>\n",
       "      <td>2021-08-28</td>\n",
       "      <td>8</td>\n",
       "      <td>6</td>\n",
       "      <td>0</td>\n",
       "      <td>199</td>\n",
       "    </tr>\n",
       "  </tbody>\n",
       "</table>\n",
       "</div>"
      ],
      "text/plain": [
       "   user_id  name  age    city subscription_type     age_category     distance  \\\n",
       "0        1  Кира   22  Тюмень             ultra  От 20 до 30 лет  4409.919140   \n",
       "1        1  Кира   22  Тюмень             ultra  От 20 до 30 лет  2617.592153   \n",
       "2        1  Кира   22  Тюмень             ultra  От 20 до 30 лет   754.159807   \n",
       "3        1  Кира   22  Тюмень             ultra  От 20 до 30 лет  2694.783254   \n",
       "4        1  Кира   22  Тюмень             ultra  От 20 до 30 лет  4028.687306   \n",
       "\n",
       "    duration       date  month_number  minute_price  start_ride_price  \\\n",
       "0  25.599769 2021-01-01             1             6                 0   \n",
       "1  15.816871 2021-01-18             1             6                 0   \n",
       "2   6.232113 2021-04-20             4             6                 0   \n",
       "3  18.511000 2021-08-11             8             6                 0   \n",
       "4  26.265803 2021-08-28             8             6                 0   \n",
       "\n",
       "   subscription_fee  \n",
       "0               199  \n",
       "1               199  \n",
       "2               199  \n",
       "3               199  \n",
       "4               199  "
      ]
     },
     "execution_count": 109,
     "metadata": {},
     "output_type": "execute_result"
    }
   ],
   "source": [
    "#объединим три датафрейма в одну таблицу\n",
    "df = users_go.merge(rides_go, how='left', on='user_id')\n",
    "df = df.merge(subscriptions_go, how='left', on='subscription_type')\n",
    "df.head()"
   ]
  },
  {
   "cell_type": "code",
   "execution_count": 110,
   "id": "63f91b92",
   "metadata": {},
   "outputs": [
    {
     "name": "stdout",
     "output_type": "stream",
     "text": [
      "<class 'pandas.core.frame.DataFrame'>\n",
      "Int64Index: 18068 entries, 0 to 18067\n",
      "Data columns (total 13 columns):\n",
      " #   Column             Non-Null Count  Dtype         \n",
      "---  ------             --------------  -----         \n",
      " 0   user_id            18068 non-null  int64         \n",
      " 1   name               18068 non-null  object        \n",
      " 2   age                18068 non-null  int64         \n",
      " 3   city               18068 non-null  object        \n",
      " 4   subscription_type  18068 non-null  object        \n",
      " 5   age_category       18068 non-null  object        \n",
      " 6   distance           18068 non-null  float64       \n",
      " 7   duration           18068 non-null  float64       \n",
      " 8   date               18068 non-null  datetime64[ns]\n",
      " 9   month_number       18068 non-null  int64         \n",
      " 10  minute_price       18068 non-null  int64         \n",
      " 11  start_ride_price   18068 non-null  int64         \n",
      " 12  subscription_fee   18068 non-null  int64         \n",
      "dtypes: datetime64[ns](1), float64(2), int64(6), object(4)\n",
      "memory usage: 1.9+ MB\n"
     ]
    }
   ],
   "source": [
    "df.info()"
   ]
  },
  {
   "cell_type": "markdown",
   "id": "04f2ff93",
   "metadata": {},
   "source": [
    "**Итак, в результате объединения таблиц у нас получился датафрейм с 18068 строками, то есть это столько же, сколько у нас было в датафрейме rides_go, что соответствует логике и нашим задачам. Пропуски отсутствуют, как и в исходных датафреймах.**"
   ]
  },
  {
   "cell_type": "code",
   "execution_count": 111,
   "id": "8459316a",
   "metadata": {},
   "outputs": [
    {
     "name": "stdout",
     "output_type": "stream",
     "text": [
      "<class 'pandas.core.frame.DataFrame'>\n",
      "Int64Index: 11568 entries, 6500 to 18067\n",
      "Data columns (total 13 columns):\n",
      " #   Column             Non-Null Count  Dtype         \n",
      "---  ------             --------------  -----         \n",
      " 0   user_id            11568 non-null  int64         \n",
      " 1   name               11568 non-null  object        \n",
      " 2   age                11568 non-null  int64         \n",
      " 3   city               11568 non-null  object        \n",
      " 4   subscription_type  11568 non-null  object        \n",
      " 5   age_category       11568 non-null  object        \n",
      " 6   distance           11568 non-null  float64       \n",
      " 7   duration           11568 non-null  float64       \n",
      " 8   date               11568 non-null  datetime64[ns]\n",
      " 9   month_number       11568 non-null  int64         \n",
      " 10  minute_price       11568 non-null  int64         \n",
      " 11  start_ride_price   11568 non-null  int64         \n",
      " 12  subscription_fee   11568 non-null  int64         \n",
      "dtypes: datetime64[ns](1), float64(2), int64(6), object(4)\n",
      "memory usage: 1.2+ MB\n"
     ]
    }
   ],
   "source": [
    "#создадим датафрейм с пользователями с бесплатной подпиской\n",
    "free = df[df['subscription_type'] == 'free']\n",
    "free.info()"
   ]
  },
  {
   "cell_type": "code",
   "execution_count": 112,
   "id": "e64b275c",
   "metadata": {},
   "outputs": [
    {
     "name": "stdout",
     "output_type": "stream",
     "text": [
      "<class 'pandas.core.frame.DataFrame'>\n",
      "Int64Index: 6500 entries, 0 to 6499\n",
      "Data columns (total 13 columns):\n",
      " #   Column             Non-Null Count  Dtype         \n",
      "---  ------             --------------  -----         \n",
      " 0   user_id            6500 non-null   int64         \n",
      " 1   name               6500 non-null   object        \n",
      " 2   age                6500 non-null   int64         \n",
      " 3   city               6500 non-null   object        \n",
      " 4   subscription_type  6500 non-null   object        \n",
      " 5   age_category       6500 non-null   object        \n",
      " 6   distance           6500 non-null   float64       \n",
      " 7   duration           6500 non-null   float64       \n",
      " 8   date               6500 non-null   datetime64[ns]\n",
      " 9   month_number       6500 non-null   int64         \n",
      " 10  minute_price       6500 non-null   int64         \n",
      " 11  start_ride_price   6500 non-null   int64         \n",
      " 12  subscription_fee   6500 non-null   int64         \n",
      "dtypes: datetime64[ns](1), float64(2), int64(6), object(4)\n",
      "memory usage: 710.9+ KB\n"
     ]
    }
   ],
   "source": [
    "#создадим датафрейм с пользователями с платной подпиской\n",
    "ultra = df[df['subscription_type'] == 'ultra']\n",
    "ultra.info()"
   ]
  },
  {
   "cell_type": "markdown",
   "id": "8906c5b3",
   "metadata": {},
   "source": [
    "**Датафрейм free состоит из 11568 строк, а датафрейм ultra из 6500 строк, что в сумме дает 18068 строк, из которых состоит df, то есть все в порядке. Пользователей с подпиской почти в 2 раза меньше чем пользователей без подписки.**"
   ]
  },
  {
   "cell_type": "markdown",
   "id": "8de2dfe8",
   "metadata": {},
   "source": [
    "**Теперь взглянем на распределение по протяженности поездки у пользователей без подписки и с ней.**"
   ]
  },
  {
   "cell_type": "code",
   "execution_count": 113,
   "id": "76991ec2",
   "metadata": {},
   "outputs": [
    {
     "data": {
      "image/png": "[encoded data removed]",
      "text/plain": [
       "<Figure size 800x600 with 1 Axes>"
      ]
     },
     "metadata": {},
     "output_type": "display_data"
    }
   ],
   "source": [
    "plt.figure(figsize=(8, 6))\n",
    "plt.hist(free['distance'], bins=20, color='skyblue', edgecolor='black')\n",
    "plt.title('Распределение расстояния за поездку у пользователей с бесплатной подпиской')\n",
    "plt.xlabel('Расстояние (метры)')\n",
    "plt.ylabel('Количество поездок')\n",
    "plt.show()"
   ]
  },
  {
   "cell_type": "code",
   "execution_count": 114,
   "id": "d8910e5d",
   "metadata": {},
   "outputs": [
    {
     "data": {
      "text/plain": [
       "count    11568.000000\n",
       "mean      3045.495282\n",
       "std       1246.173806\n",
       "min          0.855683\n",
       "25%       2366.562689\n",
       "50%       3114.648465\n",
       "75%       3905.697894\n",
       "max       7211.007745\n",
       "Name: distance, dtype: float64"
      ]
     },
     "execution_count": 114,
     "metadata": {},
     "output_type": "execute_result"
    }
   ],
   "source": [
    "free['distance'].describe()"
   ]
  },
  {
   "cell_type": "code",
   "execution_count": 115,
   "id": "d939183b",
   "metadata": {
    "scrolled": true
   },
   "outputs": [
    {
     "data": {
      "image/png": "[encoded data removed]",
      "text/plain": [
       "<Figure size 800x600 with 1 Axes>"
      ]
     },
     "metadata": {},
     "output_type": "display_data"
    }
   ],
   "source": [
    "plt.figure(figsize=(8, 6))\n",
    "plt.hist(ultra['distance'], bins=20, color='skyblue', edgecolor='black')\n",
    "plt.title('Распределение расстояния за поездку у пользователей с платной подпиской')\n",
    "plt.xlabel('Расстояние (метры)')\n",
    "plt.ylabel('Количество поездок')\n",
    "plt.show()"
   ]
  },
  {
   "cell_type": "code",
   "execution_count": 116,
   "id": "04ee5a4f",
   "metadata": {
    "scrolled": true
   },
   "outputs": [
    {
     "data": {
      "text/plain": [
       "count    6500.000000\n",
       "mean     3115.445388\n",
       "std       836.895330\n",
       "min       244.210438\n",
       "25%      2785.444017\n",
       "50%      3148.637229\n",
       "75%      3560.574425\n",
       "max      5699.769662\n",
       "Name: distance, dtype: float64"
      ]
     },
     "execution_count": 116,
     "metadata": {},
     "output_type": "execute_result"
    }
   ],
   "source": [
    "ultra['distance'].describe()"
   ]
  },
  {
   "cell_type": "code",
   "execution_count": 117,
   "id": "7fb7f495",
   "metadata": {},
   "outputs": [
    {
     "data": {
      "image/png": "[encoded data removed]",
      "text/plain": [
       "<Figure size 800x600 with 1 Axes>"
      ]
     },
     "metadata": {},
     "output_type": "display_data"
    }
   ],
   "source": [
    "# Создадим новый график\n",
    "plt.figure(figsize=(8, 6))\n",
    "\n",
    "# Построим гистограмму для пользователей с бесплатной подпиской\n",
    "plt.hist(free['distance'], bins=20, color='skyblue', edgecolor='black', alpha=0.7, label='Бесплатная подписка')\n",
    "\n",
    "# Построим гистограмму для пользователей с платной подпиской\n",
    "plt.hist(ultra['distance'], bins=20, color='orange', edgecolor='black', alpha=0.7, label='Платная подписка')\n",
    "\n",
    "# Добавим заголовок и метки осей\n",
    "plt.title('Распределение расстояния за поездку у пользователей с подписками')\n",
    "plt.xlabel('Расстояние (метры)')\n",
    "plt.ylabel('Количество поездок')\n",
    "\n",
    "# Добавим легенду\n",
    "plt.legend()\n",
    "\n",
    "# Покажем график\n",
    "plt.show()"
   ]
  },
  {
   "cell_type": "markdown",
   "id": "c8d33597",
   "metadata": {},
   "source": [
    "**У пользователей с бесплатной подпиской распределение получилось более плавным, чаще всего поездки составляют порядка 2.5 - 4.5 км. У пользователей с платной подпиской получился более выделяющийся пик в районе более 3-х км, а чаще всего пользователи проезжают маршрут длиной в 2.5 - 3.5 км. Также можно отметить, что пользователи без подписки иногда проезжают больше 5 км, а у пользователей с подпиской такого практичесики не бывает.<br> \n",
    "С помощью метода describe() мы получили информацию, что медиана длины поездки у пользователей без подписки составляет 3115 м, а у пользователей с подпиской немного более - 3149 м.**"
   ]
  },
  {
   "cell_type": "markdown",
   "id": "5f9f385b",
   "metadata": {},
   "source": [
    "**Посмотрим на распределение по времени поездки у пользователей без подписки и с ней.**"
   ]
  },
  {
   "cell_type": "code",
   "execution_count": 118,
   "id": "8a23f4ed",
   "metadata": {
    "scrolled": true
   },
   "outputs": [
    {
     "data": {
      "image/png": "[encoded data removed]",
      "text/plain": [
       "<Figure size 800x600 with 1 Axes>"
      ]
     },
     "metadata": {},
     "output_type": "display_data"
    }
   ],
   "source": [
    "plt.figure(figsize=(8, 6))\n",
    "plt.hist(free['duration'], bins=20, color='lightgreen', edgecolor='black')\n",
    "plt.title('Распределение продолжительности поездок у пользователей с бесплатной подпиской')\n",
    "plt.xlabel('Продолжительность (минуты)')\n",
    "plt.ylabel('Количество поездок')\n",
    "plt.show()"
   ]
  },
  {
   "cell_type": "code",
   "execution_count": 119,
   "id": "80f73186",
   "metadata": {},
   "outputs": [
    {
     "data": {
      "text/plain": [
       "count    11568.000000\n",
       "mean        17.390909\n",
       "std          6.326803\n",
       "min          0.500000\n",
       "25%         12.958437\n",
       "50%         17.326890\n",
       "75%         21.594071\n",
       "max         34.948498\n",
       "Name: duration, dtype: float64"
      ]
     },
     "execution_count": 119,
     "metadata": {},
     "output_type": "execute_result"
    }
   ],
   "source": [
    "free['duration'].describe()"
   ]
  },
  {
   "cell_type": "code",
   "execution_count": 120,
   "id": "3104cc3c",
   "metadata": {},
   "outputs": [
    {
     "data": {
      "image/png": "[encoded data removed]",
      "text/plain": [
       "<Figure size 800x600 with 1 Axes>"
      ]
     },
     "metadata": {},
     "output_type": "display_data"
    }
   ],
   "source": [
    "plt.figure(figsize=(8, 6))\n",
    "plt.hist(ultra['duration'], bins=20, color='lightgreen', edgecolor='black')\n",
    "plt.title('Распределение продолжительности поездок у пользователей с платной подпиской')\n",
    "plt.xlabel('Продолжительность (минуты)')\n",
    "plt.ylabel('Количество поездок')\n",
    "plt.show()"
   ]
  },
  {
   "cell_type": "code",
   "execution_count": 121,
   "id": "c9e3fb78",
   "metadata": {},
   "outputs": [
    {
     "data": {
      "text/plain": [
       "count    6500.000000\n",
       "mean       18.541985\n",
       "std         5.572048\n",
       "min         3.760353\n",
       "25%        14.524654\n",
       "50%        18.178153\n",
       "75%        21.884129\n",
       "max        40.823963\n",
       "Name: duration, dtype: float64"
      ]
     },
     "execution_count": 121,
     "metadata": {},
     "output_type": "execute_result"
    }
   ],
   "source": [
    "ultra['duration'].describe()"
   ]
  },
  {
   "cell_type": "code",
   "execution_count": 122,
   "id": "0fbea437",
   "metadata": {},
   "outputs": [
    {
     "data": {
      "image/png": "[encoded data removed]",
      "text/plain": [
       "<Figure size 800x600 with 1 Axes>"
      ]
     },
     "metadata": {},
     "output_type": "display_data"
    }
   ],
   "source": [
    "# Создадим новый график\n",
    "plt.figure(figsize=(8, 6))\n",
    "\n",
    "# Построим гистограмму для пользователей с бесплатной подпиской\n",
    "plt.hist(free['duration'], bins=20, color='lightgreen', edgecolor='black', alpha=0.7, label='Бесплатная подписка')\n",
    "\n",
    "# Построим гистограмму для пользователей с платной подпиской\n",
    "plt.hist(ultra['duration'], bins=20, color='purple', edgecolor='black', alpha=0.7, label='Платная подписка')\n",
    "\n",
    "# Добавим заголовок и метки осей\n",
    "plt.title('Распределение продолжительности поездок у пользователей с подписками')\n",
    "plt.xlabel('Продолжительность (минуты)')\n",
    "plt.ylabel('Количество поездок')\n",
    "\n",
    "# Добавим легенду\n",
    "plt.legend()\n",
    "\n",
    "# Покажем график\n",
    "plt.show()"
   ]
  },
  {
   "cell_type": "markdown",
   "id": "0e0b2c20",
   "metadata": {},
   "source": [
    "**Получается, что пользователи с бесплатной подпиской чаще всего пользуются самокатом от 10 до 25 мин, у пользователей с платной подпиской похожее распределение, но можно заметить отличие, что у пользователей с платной подпиской встречаются поездки дольше 35 мин в отличие от пользователей без подписки.<br>\n",
    "С помощью метода describe() мы получили информацию, что медиана продолжительности поездки у пользователей без подписки составляет 17 мин, а у пользователей с подпиской больше на одну минуту - 18 м.**"
   ]
  },
  {
   "cell_type": "markdown",
   "id": "402d620f",
   "metadata": {},
   "source": [
    "#### Шаг 5. Подсчёт выручки"
   ]
  },
  {
   "cell_type": "code",
   "execution_count": 123,
   "id": "502fc20b",
   "metadata": {},
   "outputs": [],
   "source": [
    "#округлим значения столбца 'duration'\n",
    "df['duration'] = np.ceil(df['duration'])"
   ]
  },
  {
   "cell_type": "code",
   "execution_count": 124,
   "id": "52a3b7c5",
   "metadata": {},
   "outputs": [
    {
     "data": {
      "text/html": [
       "<div>\n",
       "<style scoped>\n",
       "    .dataframe tbody tr th:only-of-type {\n",
       "        vertical-align: middle;\n",
       "    }\n",
       "\n",
       "    .dataframe tbody tr th {\n",
       "        vertical-align: top;\n",
       "    }\n",
       "\n",
       "    .dataframe thead th {\n",
       "        text-align: right;\n",
       "    }\n",
       "</style>\n",
       "<table border=\"1\" class=\"dataframe\">\n",
       "  <thead>\n",
       "    <tr style=\"text-align: right;\">\n",
       "      <th></th>\n",
       "      <th>user_id</th>\n",
       "      <th>name</th>\n",
       "      <th>age</th>\n",
       "      <th>city</th>\n",
       "      <th>subscription_type</th>\n",
       "      <th>age_category</th>\n",
       "      <th>distance</th>\n",
       "      <th>duration</th>\n",
       "      <th>date</th>\n",
       "      <th>month_number</th>\n",
       "      <th>minute_price</th>\n",
       "      <th>start_ride_price</th>\n",
       "      <th>subscription_fee</th>\n",
       "    </tr>\n",
       "  </thead>\n",
       "  <tbody>\n",
       "    <tr>\n",
       "      <th>0</th>\n",
       "      <td>1</td>\n",
       "      <td>Кира</td>\n",
       "      <td>22</td>\n",
       "      <td>Тюмень</td>\n",
       "      <td>ultra</td>\n",
       "      <td>От 20 до 30 лет</td>\n",
       "      <td>4410.0</td>\n",
       "      <td>26.0</td>\n",
       "      <td>2021-01-01</td>\n",
       "      <td>1</td>\n",
       "      <td>6</td>\n",
       "      <td>0</td>\n",
       "      <td>199</td>\n",
       "    </tr>\n",
       "    <tr>\n",
       "      <th>1</th>\n",
       "      <td>1</td>\n",
       "      <td>Кира</td>\n",
       "      <td>22</td>\n",
       "      <td>Тюмень</td>\n",
       "      <td>ultra</td>\n",
       "      <td>От 20 до 30 лет</td>\n",
       "      <td>2618.0</td>\n",
       "      <td>16.0</td>\n",
       "      <td>2021-01-18</td>\n",
       "      <td>1</td>\n",
       "      <td>6</td>\n",
       "      <td>0</td>\n",
       "      <td>199</td>\n",
       "    </tr>\n",
       "    <tr>\n",
       "      <th>2</th>\n",
       "      <td>1</td>\n",
       "      <td>Кира</td>\n",
       "      <td>22</td>\n",
       "      <td>Тюмень</td>\n",
       "      <td>ultra</td>\n",
       "      <td>От 20 до 30 лет</td>\n",
       "      <td>754.0</td>\n",
       "      <td>7.0</td>\n",
       "      <td>2021-04-20</td>\n",
       "      <td>4</td>\n",
       "      <td>6</td>\n",
       "      <td>0</td>\n",
       "      <td>199</td>\n",
       "    </tr>\n",
       "    <tr>\n",
       "      <th>3</th>\n",
       "      <td>1</td>\n",
       "      <td>Кира</td>\n",
       "      <td>22</td>\n",
       "      <td>Тюмень</td>\n",
       "      <td>ultra</td>\n",
       "      <td>От 20 до 30 лет</td>\n",
       "      <td>2695.0</td>\n",
       "      <td>19.0</td>\n",
       "      <td>2021-08-11</td>\n",
       "      <td>8</td>\n",
       "      <td>6</td>\n",
       "      <td>0</td>\n",
       "      <td>199</td>\n",
       "    </tr>\n",
       "    <tr>\n",
       "      <th>4</th>\n",
       "      <td>1</td>\n",
       "      <td>Кира</td>\n",
       "      <td>22</td>\n",
       "      <td>Тюмень</td>\n",
       "      <td>ultra</td>\n",
       "      <td>От 20 до 30 лет</td>\n",
       "      <td>4029.0</td>\n",
       "      <td>27.0</td>\n",
       "      <td>2021-08-28</td>\n",
       "      <td>8</td>\n",
       "      <td>6</td>\n",
       "      <td>0</td>\n",
       "      <td>199</td>\n",
       "    </tr>\n",
       "  </tbody>\n",
       "</table>\n",
       "</div>"
      ],
      "text/plain": [
       "   user_id  name  age    city subscription_type     age_category  distance  \\\n",
       "0        1  Кира   22  Тюмень             ultra  От 20 до 30 лет    4410.0   \n",
       "1        1  Кира   22  Тюмень             ultra  От 20 до 30 лет    2618.0   \n",
       "2        1  Кира   22  Тюмень             ultra  От 20 до 30 лет     754.0   \n",
       "3        1  Кира   22  Тюмень             ultra  От 20 до 30 лет    2695.0   \n",
       "4        1  Кира   22  Тюмень             ultra  От 20 до 30 лет    4029.0   \n",
       "\n",
       "   duration       date  month_number  minute_price  start_ride_price  \\\n",
       "0      26.0 2021-01-01             1             6                 0   \n",
       "1      16.0 2021-01-18             1             6                 0   \n",
       "2       7.0 2021-04-20             4             6                 0   \n",
       "3      19.0 2021-08-11             8             6                 0   \n",
       "4      27.0 2021-08-28             8             6                 0   \n",
       "\n",
       "   subscription_fee  \n",
       "0               199  \n",
       "1               199  \n",
       "2               199  \n",
       "3               199  \n",
       "4               199  "
      ]
     },
     "execution_count": 124,
     "metadata": {},
     "output_type": "execute_result"
    }
   ],
   "source": [
    "#округлим значения столбца 'distance'\n",
    "df['distance'] = df['distance'].round()\n",
    "df.head()"
   ]
  },
  {
   "cell_type": "markdown",
   "id": "66af9ed9",
   "metadata": {},
   "source": [
    "**Создадим новый датафрейм profiles с агрегированными данными о поездках.**"
   ]
  },
  {
   "cell_type": "code",
   "execution_count": 125,
   "id": "53049e0a",
   "metadata": {
    "scrolled": true
   },
   "outputs": [
    {
     "data": {
      "text/html": [
       "<div>\n",
       "<style scoped>\n",
       "    .dataframe tbody tr th:only-of-type {\n",
       "        vertical-align: middle;\n",
       "    }\n",
       "\n",
       "    .dataframe tbody tr th {\n",
       "        vertical-align: top;\n",
       "    }\n",
       "\n",
       "    .dataframe thead tr th {\n",
       "        text-align: left;\n",
       "    }\n",
       "\n",
       "    .dataframe thead tr:last-of-type th {\n",
       "        text-align: right;\n",
       "    }\n",
       "</style>\n",
       "<table border=\"1\" class=\"dataframe\">\n",
       "  <thead>\n",
       "    <tr>\n",
       "      <th></th>\n",
       "      <th></th>\n",
       "      <th>distance</th>\n",
       "      <th colspan=\"2\" halign=\"left\">duration</th>\n",
       "      <th>start_ride_price</th>\n",
       "      <th>minute_price</th>\n",
       "      <th>subscription_fee</th>\n",
       "    </tr>\n",
       "    <tr>\n",
       "      <th></th>\n",
       "      <th></th>\n",
       "      <th>sum</th>\n",
       "      <th>sum</th>\n",
       "      <th>count</th>\n",
       "      <th>max</th>\n",
       "      <th>max</th>\n",
       "      <th>max</th>\n",
       "    </tr>\n",
       "    <tr>\n",
       "      <th>user_id</th>\n",
       "      <th>month_number</th>\n",
       "      <th></th>\n",
       "      <th></th>\n",
       "      <th></th>\n",
       "      <th></th>\n",
       "      <th></th>\n",
       "      <th></th>\n",
       "    </tr>\n",
       "  </thead>\n",
       "  <tbody>\n",
       "    <tr>\n",
       "      <th rowspan=\"5\" valign=\"top\">1</th>\n",
       "      <th>1</th>\n",
       "      <td>7028.0</td>\n",
       "      <td>42.0</td>\n",
       "      <td>2</td>\n",
       "      <td>0</td>\n",
       "      <td>6</td>\n",
       "      <td>199</td>\n",
       "    </tr>\n",
       "    <tr>\n",
       "      <th>4</th>\n",
       "      <td>754.0</td>\n",
       "      <td>7.0</td>\n",
       "      <td>1</td>\n",
       "      <td>0</td>\n",
       "      <td>6</td>\n",
       "      <td>199</td>\n",
       "    </tr>\n",
       "    <tr>\n",
       "      <th>8</th>\n",
       "      <td>6724.0</td>\n",
       "      <td>46.0</td>\n",
       "      <td>2</td>\n",
       "      <td>0</td>\n",
       "      <td>6</td>\n",
       "      <td>199</td>\n",
       "    </tr>\n",
       "    <tr>\n",
       "      <th>10</th>\n",
       "      <td>5810.0</td>\n",
       "      <td>32.0</td>\n",
       "      <td>2</td>\n",
       "      <td>0</td>\n",
       "      <td>6</td>\n",
       "      <td>199</td>\n",
       "    </tr>\n",
       "    <tr>\n",
       "      <th>11</th>\n",
       "      <td>7004.0</td>\n",
       "      <td>56.0</td>\n",
       "      <td>3</td>\n",
       "      <td>0</td>\n",
       "      <td>6</td>\n",
       "      <td>199</td>\n",
       "    </tr>\n",
       "    <tr>\n",
       "      <th>...</th>\n",
       "      <th>...</th>\n",
       "      <td>...</td>\n",
       "      <td>...</td>\n",
       "      <td>...</td>\n",
       "      <td>...</td>\n",
       "      <td>...</td>\n",
       "      <td>...</td>\n",
       "    </tr>\n",
       "    <tr>\n",
       "      <th rowspan=\"5\" valign=\"top\">1534</th>\n",
       "      <th>6</th>\n",
       "      <td>3409.0</td>\n",
       "      <td>26.0</td>\n",
       "      <td>2</td>\n",
       "      <td>50</td>\n",
       "      <td>8</td>\n",
       "      <td>0</td>\n",
       "    </tr>\n",
       "    <tr>\n",
       "      <th>8</th>\n",
       "      <td>7623.0</td>\n",
       "      <td>48.0</td>\n",
       "      <td>2</td>\n",
       "      <td>50</td>\n",
       "      <td>8</td>\n",
       "      <td>0</td>\n",
       "    </tr>\n",
       "    <tr>\n",
       "      <th>9</th>\n",
       "      <td>4928.0</td>\n",
       "      <td>23.0</td>\n",
       "      <td>1</td>\n",
       "      <td>50</td>\n",
       "      <td>8</td>\n",
       "      <td>0</td>\n",
       "    </tr>\n",
       "    <tr>\n",
       "      <th>11</th>\n",
       "      <td>13349.0</td>\n",
       "      <td>78.0</td>\n",
       "      <td>4</td>\n",
       "      <td>50</td>\n",
       "      <td>8</td>\n",
       "      <td>0</td>\n",
       "    </tr>\n",
       "    <tr>\n",
       "      <th>12</th>\n",
       "      <td>2372.0</td>\n",
       "      <td>16.0</td>\n",
       "      <td>1</td>\n",
       "      <td>50</td>\n",
       "      <td>8</td>\n",
       "      <td>0</td>\n",
       "    </tr>\n",
       "  </tbody>\n",
       "</table>\n",
       "<p>11331 rows × 6 columns</p>\n",
       "</div>"
      ],
      "text/plain": [
       "                     distance duration       start_ride_price minute_price  \\\n",
       "                          sum      sum count              max          max   \n",
       "user_id month_number                                                         \n",
       "1       1              7028.0     42.0     2                0            6   \n",
       "        4               754.0      7.0     1                0            6   \n",
       "        8              6724.0     46.0     2                0            6   \n",
       "        10             5810.0     32.0     2                0            6   \n",
       "        11             7004.0     56.0     3                0            6   \n",
       "...                       ...      ...   ...              ...          ...   \n",
       "1534    6              3409.0     26.0     2               50            8   \n",
       "        8              7623.0     48.0     2               50            8   \n",
       "        9              4928.0     23.0     1               50            8   \n",
       "        11            13349.0     78.0     4               50            8   \n",
       "        12             2372.0     16.0     1               50            8   \n",
       "\n",
       "                     subscription_fee  \n",
       "                                  max  \n",
       "user_id month_number                   \n",
       "1       1                         199  \n",
       "        4                         199  \n",
       "        8                         199  \n",
       "        10                        199  \n",
       "        11                        199  \n",
       "...                               ...  \n",
       "1534    6                           0  \n",
       "        8                           0  \n",
       "        9                           0  \n",
       "        11                          0  \n",
       "        12                          0  \n",
       "\n",
       "[11331 rows x 6 columns]"
      ]
     },
     "execution_count": 125,
     "metadata": {},
     "output_type": "execute_result"
    }
   ],
   "source": [
    "df_aggregated = (df.groupby(['user_id', 'month_number'] )\n",
    "                 .agg({'distance':'sum', 'duration':['sum', 'count'], \n",
    "                       'start_ride_price': 'max', 'minute_price':'max', 'subscription_fee': 'max'}))\n",
    "df_aggregated"
   ]
  },
  {
   "cell_type": "code",
   "execution_count": 126,
   "id": "49e58240",
   "metadata": {},
   "outputs": [
    {
     "data": {
      "text/html": [
       "<div>\n",
       "<style scoped>\n",
       "    .dataframe tbody tr th:only-of-type {\n",
       "        vertical-align: middle;\n",
       "    }\n",
       "\n",
       "    .dataframe tbody tr th {\n",
       "        vertical-align: top;\n",
       "    }\n",
       "\n",
       "    .dataframe thead th {\n",
       "        text-align: right;\n",
       "    }\n",
       "</style>\n",
       "<table border=\"1\" class=\"dataframe\">\n",
       "  <thead>\n",
       "    <tr style=\"text-align: right;\">\n",
       "      <th></th>\n",
       "      <th></th>\n",
       "      <th>total_distance</th>\n",
       "      <th>total_duration</th>\n",
       "      <th>total_trips</th>\n",
       "      <th>start_ride_price</th>\n",
       "      <th>minute_price</th>\n",
       "      <th>subscription_fee</th>\n",
       "    </tr>\n",
       "    <tr>\n",
       "      <th>user_id</th>\n",
       "      <th>month_number</th>\n",
       "      <th></th>\n",
       "      <th></th>\n",
       "      <th></th>\n",
       "      <th></th>\n",
       "      <th></th>\n",
       "      <th></th>\n",
       "    </tr>\n",
       "  </thead>\n",
       "  <tbody>\n",
       "    <tr>\n",
       "      <th rowspan=\"5\" valign=\"top\">1</th>\n",
       "      <th>1</th>\n",
       "      <td>7028.0</td>\n",
       "      <td>42.0</td>\n",
       "      <td>2</td>\n",
       "      <td>0</td>\n",
       "      <td>6</td>\n",
       "      <td>199</td>\n",
       "    </tr>\n",
       "    <tr>\n",
       "      <th>4</th>\n",
       "      <td>754.0</td>\n",
       "      <td>7.0</td>\n",
       "      <td>1</td>\n",
       "      <td>0</td>\n",
       "      <td>6</td>\n",
       "      <td>199</td>\n",
       "    </tr>\n",
       "    <tr>\n",
       "      <th>8</th>\n",
       "      <td>6724.0</td>\n",
       "      <td>46.0</td>\n",
       "      <td>2</td>\n",
       "      <td>0</td>\n",
       "      <td>6</td>\n",
       "      <td>199</td>\n",
       "    </tr>\n",
       "    <tr>\n",
       "      <th>10</th>\n",
       "      <td>5810.0</td>\n",
       "      <td>32.0</td>\n",
       "      <td>2</td>\n",
       "      <td>0</td>\n",
       "      <td>6</td>\n",
       "      <td>199</td>\n",
       "    </tr>\n",
       "    <tr>\n",
       "      <th>11</th>\n",
       "      <td>7004.0</td>\n",
       "      <td>56.0</td>\n",
       "      <td>3</td>\n",
       "      <td>0</td>\n",
       "      <td>6</td>\n",
       "      <td>199</td>\n",
       "    </tr>\n",
       "    <tr>\n",
       "      <th>...</th>\n",
       "      <th>...</th>\n",
       "      <td>...</td>\n",
       "      <td>...</td>\n",
       "      <td>...</td>\n",
       "      <td>...</td>\n",
       "      <td>...</td>\n",
       "      <td>...</td>\n",
       "    </tr>\n",
       "    <tr>\n",
       "      <th rowspan=\"5\" valign=\"top\">1534</th>\n",
       "      <th>6</th>\n",
       "      <td>3409.0</td>\n",
       "      <td>26.0</td>\n",
       "      <td>2</td>\n",
       "      <td>50</td>\n",
       "      <td>8</td>\n",
       "      <td>0</td>\n",
       "    </tr>\n",
       "    <tr>\n",
       "      <th>8</th>\n",
       "      <td>7623.0</td>\n",
       "      <td>48.0</td>\n",
       "      <td>2</td>\n",
       "      <td>50</td>\n",
       "      <td>8</td>\n",
       "      <td>0</td>\n",
       "    </tr>\n",
       "    <tr>\n",
       "      <th>9</th>\n",
       "      <td>4928.0</td>\n",
       "      <td>23.0</td>\n",
       "      <td>1</td>\n",
       "      <td>50</td>\n",
       "      <td>8</td>\n",
       "      <td>0</td>\n",
       "    </tr>\n",
       "    <tr>\n",
       "      <th>11</th>\n",
       "      <td>13349.0</td>\n",
       "      <td>78.0</td>\n",
       "      <td>4</td>\n",
       "      <td>50</td>\n",
       "      <td>8</td>\n",
       "      <td>0</td>\n",
       "    </tr>\n",
       "    <tr>\n",
       "      <th>12</th>\n",
       "      <td>2372.0</td>\n",
       "      <td>16.0</td>\n",
       "      <td>1</td>\n",
       "      <td>50</td>\n",
       "      <td>8</td>\n",
       "      <td>0</td>\n",
       "    </tr>\n",
       "  </tbody>\n",
       "</table>\n",
       "<p>11331 rows × 6 columns</p>\n",
       "</div>"
      ],
      "text/plain": [
       "                      total_distance  total_duration  total_trips  \\\n",
       "user_id month_number                                                \n",
       "1       1                     7028.0            42.0            2   \n",
       "        4                      754.0             7.0            1   \n",
       "        8                     6724.0            46.0            2   \n",
       "        10                    5810.0            32.0            2   \n",
       "        11                    7004.0            56.0            3   \n",
       "...                              ...             ...          ...   \n",
       "1534    6                     3409.0            26.0            2   \n",
       "        8                     7623.0            48.0            2   \n",
       "        9                     4928.0            23.0            1   \n",
       "        11                   13349.0            78.0            4   \n",
       "        12                    2372.0            16.0            1   \n",
       "\n",
       "                      start_ride_price  minute_price  subscription_fee  \n",
       "user_id month_number                                                    \n",
       "1       1                            0             6               199  \n",
       "        4                            0             6               199  \n",
       "        8                            0             6               199  \n",
       "        10                           0             6               199  \n",
       "        11                           0             6               199  \n",
       "...                                ...           ...               ...  \n",
       "1534    6                           50             8                 0  \n",
       "        8                           50             8                 0  \n",
       "        9                           50             8                 0  \n",
       "        11                          50             8                 0  \n",
       "        12                          50             8                 0  \n",
       "\n",
       "[11331 rows x 6 columns]"
      ]
     },
     "execution_count": 126,
     "metadata": {},
     "output_type": "execute_result"
    }
   ],
   "source": [
    "# Сбросим уровни индекса столбцов\n",
    "df_aggregated.columns = df_aggregated.columns.droplevel()\n",
    "\n",
    "# Переименуем столбцы\n",
    "df_aggregated.columns = [\n",
    "    'total_distance',\n",
    "    'total_duration',\n",
    "    'total_trips',\n",
    "    'start_ride_price',\n",
    "    'minute_price',\n",
    "    'subscription_fee'\n",
    "]\n",
    "\n",
    "# Теперь DataFrame df_aggregated будет иметь одноуровневые названия столбцов\n",
    "df_aggregated"
   ]
  },
  {
   "cell_type": "code",
   "execution_count": 127,
   "id": "579683f3",
   "metadata": {},
   "outputs": [
    {
     "name": "stdout",
     "output_type": "stream",
     "text": [
      "<class 'pandas.core.frame.DataFrame'>\n",
      "MultiIndex: 11331 entries, (1, 1) to (1534, 12)\n",
      "Data columns (total 6 columns):\n",
      " #   Column            Non-Null Count  Dtype  \n",
      "---  ------            --------------  -----  \n",
      " 0   total_distance    11331 non-null  float64\n",
      " 1   total_duration    11331 non-null  float64\n",
      " 2   total_trips       11331 non-null  int64  \n",
      " 3   start_ride_price  11331 non-null  int64  \n",
      " 4   minute_price      11331 non-null  int64  \n",
      " 5   subscription_fee  11331 non-null  int64  \n",
      "dtypes: float64(2), int64(4)\n",
      "memory usage: 576.5 KB\n"
     ]
    }
   ],
   "source": [
    "#проверим полученный датафрейм на наличие пропусков\n",
    "df_aggregated.info()"
   ]
  },
  {
   "cell_type": "code",
   "execution_count": 128,
   "id": "2257882b",
   "metadata": {},
   "outputs": [
    {
     "data": {
      "text/html": [
       "<div>\n",
       "<style scoped>\n",
       "    .dataframe tbody tr th:only-of-type {\n",
       "        vertical-align: middle;\n",
       "    }\n",
       "\n",
       "    .dataframe tbody tr th {\n",
       "        vertical-align: top;\n",
       "    }\n",
       "\n",
       "    .dataframe thead th {\n",
       "        text-align: right;\n",
       "    }\n",
       "</style>\n",
       "<table border=\"1\" class=\"dataframe\">\n",
       "  <thead>\n",
       "    <tr style=\"text-align: right;\">\n",
       "      <th></th>\n",
       "      <th></th>\n",
       "      <th>total_distance</th>\n",
       "      <th>total_duration</th>\n",
       "      <th>total_trips</th>\n",
       "      <th>start_ride_price</th>\n",
       "      <th>minute_price</th>\n",
       "      <th>subscription_fee</th>\n",
       "      <th>monthly_revenue</th>\n",
       "    </tr>\n",
       "    <tr>\n",
       "      <th>user_id</th>\n",
       "      <th>month_number</th>\n",
       "      <th></th>\n",
       "      <th></th>\n",
       "      <th></th>\n",
       "      <th></th>\n",
       "      <th></th>\n",
       "      <th></th>\n",
       "      <th></th>\n",
       "    </tr>\n",
       "  </thead>\n",
       "  <tbody>\n",
       "    <tr>\n",
       "      <th rowspan=\"6\" valign=\"top\">1</th>\n",
       "      <th>1</th>\n",
       "      <td>7028.0</td>\n",
       "      <td>42.0</td>\n",
       "      <td>2</td>\n",
       "      <td>0</td>\n",
       "      <td>6</td>\n",
       "      <td>199</td>\n",
       "      <td>451.0</td>\n",
       "    </tr>\n",
       "    <tr>\n",
       "      <th>4</th>\n",
       "      <td>754.0</td>\n",
       "      <td>7.0</td>\n",
       "      <td>1</td>\n",
       "      <td>0</td>\n",
       "      <td>6</td>\n",
       "      <td>199</td>\n",
       "      <td>241.0</td>\n",
       "    </tr>\n",
       "    <tr>\n",
       "      <th>8</th>\n",
       "      <td>6724.0</td>\n",
       "      <td>46.0</td>\n",
       "      <td>2</td>\n",
       "      <td>0</td>\n",
       "      <td>6</td>\n",
       "      <td>199</td>\n",
       "      <td>475.0</td>\n",
       "    </tr>\n",
       "    <tr>\n",
       "      <th>10</th>\n",
       "      <td>5810.0</td>\n",
       "      <td>32.0</td>\n",
       "      <td>2</td>\n",
       "      <td>0</td>\n",
       "      <td>6</td>\n",
       "      <td>199</td>\n",
       "      <td>391.0</td>\n",
       "    </tr>\n",
       "    <tr>\n",
       "      <th>11</th>\n",
       "      <td>7004.0</td>\n",
       "      <td>56.0</td>\n",
       "      <td>3</td>\n",
       "      <td>0</td>\n",
       "      <td>6</td>\n",
       "      <td>199</td>\n",
       "      <td>535.0</td>\n",
       "    </tr>\n",
       "    <tr>\n",
       "      <th>12</th>\n",
       "      <td>6752.0</td>\n",
       "      <td>28.0</td>\n",
       "      <td>2</td>\n",
       "      <td>0</td>\n",
       "      <td>6</td>\n",
       "      <td>199</td>\n",
       "      <td>367.0</td>\n",
       "    </tr>\n",
       "    <tr>\n",
       "      <th rowspan=\"7\" valign=\"top\">2</th>\n",
       "      <th>3</th>\n",
       "      <td>10188.0</td>\n",
       "      <td>63.0</td>\n",
       "      <td>3</td>\n",
       "      <td>0</td>\n",
       "      <td>6</td>\n",
       "      <td>199</td>\n",
       "      <td>577.0</td>\n",
       "    </tr>\n",
       "    <tr>\n",
       "      <th>4</th>\n",
       "      <td>6165.0</td>\n",
       "      <td>40.0</td>\n",
       "      <td>2</td>\n",
       "      <td>0</td>\n",
       "      <td>6</td>\n",
       "      <td>199</td>\n",
       "      <td>439.0</td>\n",
       "    </tr>\n",
       "    <tr>\n",
       "      <th>6</th>\n",
       "      <td>3255.0</td>\n",
       "      <td>14.0</td>\n",
       "      <td>1</td>\n",
       "      <td>0</td>\n",
       "      <td>6</td>\n",
       "      <td>199</td>\n",
       "      <td>283.0</td>\n",
       "    </tr>\n",
       "    <tr>\n",
       "      <th>7</th>\n",
       "      <td>6781.0</td>\n",
       "      <td>48.0</td>\n",
       "      <td>2</td>\n",
       "      <td>0</td>\n",
       "      <td>6</td>\n",
       "      <td>199</td>\n",
       "      <td>487.0</td>\n",
       "    </tr>\n",
       "    <tr>\n",
       "      <th>8</th>\n",
       "      <td>923.0</td>\n",
       "      <td>7.0</td>\n",
       "      <td>1</td>\n",
       "      <td>0</td>\n",
       "      <td>6</td>\n",
       "      <td>199</td>\n",
       "      <td>241.0</td>\n",
       "    </tr>\n",
       "    <tr>\n",
       "      <th>10</th>\n",
       "      <td>2825.0</td>\n",
       "      <td>19.0</td>\n",
       "      <td>1</td>\n",
       "      <td>0</td>\n",
       "      <td>6</td>\n",
       "      <td>199</td>\n",
       "      <td>313.0</td>\n",
       "    </tr>\n",
       "    <tr>\n",
       "      <th>12</th>\n",
       "      <td>3828.0</td>\n",
       "      <td>12.0</td>\n",
       "      <td>1</td>\n",
       "      <td>0</td>\n",
       "      <td>6</td>\n",
       "      <td>199</td>\n",
       "      <td>271.0</td>\n",
       "    </tr>\n",
       "    <tr>\n",
       "      <th rowspan=\"2\" valign=\"top\">3</th>\n",
       "      <th>1</th>\n",
       "      <td>3062.0</td>\n",
       "      <td>13.0</td>\n",
       "      <td>1</td>\n",
       "      <td>0</td>\n",
       "      <td>6</td>\n",
       "      <td>199</td>\n",
       "      <td>277.0</td>\n",
       "    </tr>\n",
       "    <tr>\n",
       "      <th>2</th>\n",
       "      <td>5421.0</td>\n",
       "      <td>39.0</td>\n",
       "      <td>2</td>\n",
       "      <td>0</td>\n",
       "      <td>6</td>\n",
       "      <td>199</td>\n",
       "      <td>433.0</td>\n",
       "    </tr>\n",
       "  </tbody>\n",
       "</table>\n",
       "</div>"
      ],
      "text/plain": [
       "                      total_distance  total_duration  total_trips  \\\n",
       "user_id month_number                                                \n",
       "1       1                     7028.0            42.0            2   \n",
       "        4                      754.0             7.0            1   \n",
       "        8                     6724.0            46.0            2   \n",
       "        10                    5810.0            32.0            2   \n",
       "        11                    7004.0            56.0            3   \n",
       "        12                    6752.0            28.0            2   \n",
       "2       3                    10188.0            63.0            3   \n",
       "        4                     6165.0            40.0            2   \n",
       "        6                     3255.0            14.0            1   \n",
       "        7                     6781.0            48.0            2   \n",
       "        8                      923.0             7.0            1   \n",
       "        10                    2825.0            19.0            1   \n",
       "        12                    3828.0            12.0            1   \n",
       "3       1                     3062.0            13.0            1   \n",
       "        2                     5421.0            39.0            2   \n",
       "\n",
       "                      start_ride_price  minute_price  subscription_fee  \\\n",
       "user_id month_number                                                     \n",
       "1       1                            0             6               199   \n",
       "        4                            0             6               199   \n",
       "        8                            0             6               199   \n",
       "        10                           0             6               199   \n",
       "        11                           0             6               199   \n",
       "        12                           0             6               199   \n",
       "2       3                            0             6               199   \n",
       "        4                            0             6               199   \n",
       "        6                            0             6               199   \n",
       "        7                            0             6               199   \n",
       "        8                            0             6               199   \n",
       "        10                           0             6               199   \n",
       "        12                           0             6               199   \n",
       "3       1                            0             6               199   \n",
       "        2                            0             6               199   \n",
       "\n",
       "                      monthly_revenue  \n",
       "user_id month_number                   \n",
       "1       1                       451.0  \n",
       "        4                       241.0  \n",
       "        8                       475.0  \n",
       "        10                      391.0  \n",
       "        11                      535.0  \n",
       "        12                      367.0  \n",
       "2       3                       577.0  \n",
       "        4                       439.0  \n",
       "        6                       283.0  \n",
       "        7                       487.0  \n",
       "        8                       241.0  \n",
       "        10                      313.0  \n",
       "        12                      271.0  \n",
       "3       1                       277.0  \n",
       "        2                       433.0  "
      ]
     },
     "execution_count": 128,
     "metadata": {},
     "output_type": "execute_result"
    }
   ],
   "source": [
    "# добавляем столбец с ежемесячной выручкой по каждому пользователю\n",
    "df_aggregated['monthly_revenue'] = (\n",
    "    df_aggregated['start_ride_price'] * df_aggregated['total_trips'] +\n",
    "    df_aggregated['minute_price'] * df_aggregated['total_duration'] +\n",
    "    df_aggregated['subscription_fee']\n",
    ")\n",
    "df_aggregated.head(15)"
   ]
  },
  {
   "cell_type": "markdown",
   "id": "a459a7f8",
   "metadata": {},
   "source": [
    "**Теперь у нас есть информация о выручке, которую принес компании каждый пользователь за каждый месяц.**"
   ]
  },
  {
   "cell_type": "code",
   "execution_count": 129,
   "id": "54259c3a",
   "metadata": {},
   "outputs": [
    {
     "data": {
      "text/plain": [
       "3878641.0"
      ]
     },
     "execution_count": 129,
     "metadata": {},
     "output_type": "execute_result"
    }
   ],
   "source": [
    "df_aggregated['monthly_revenue'].sum()"
   ]
  },
  {
   "cell_type": "markdown",
   "id": "41545ac0",
   "metadata": {},
   "source": [
    "#### Шаг 6. Проверка гипотез"
   ]
  },
  {
   "cell_type": "markdown",
   "id": "d9c027bd",
   "metadata": {},
   "source": [
    "**6.1. Сформулируем гипотезы:<br>\n",
    "Нулевая гипотеза (H0): Средняя продолжительность поездок для пользователей с подпиской равна средней продолжительности поездок для пользователей без подписки.<br>\n",
    "Альтернативная гипотеза (H1): Средняя продолжительность поездок для пользователей с подпиской не равна средней продолжительности поездок для пользователей без подписки.**"
   ]
  },
  {
   "cell_type": "code",
   "execution_count": 130,
   "id": "23ea867b",
   "metadata": {},
   "outputs": [
    {
     "name": "stdout",
     "output_type": "stream",
     "text": [
      "Отвергаем нулевую гипотезу: есть статистически значимая разница в продолжительности поездок.\n"
     ]
    },
    {
     "data": {
      "text/plain": [
       "'Значение p-value: 0.0000000000'"
      ]
     },
     "execution_count": 130,
     "metadata": {},
     "output_type": "execute_result"
    }
   ],
   "source": [
    "duration_subscribers = ultra['duration']\n",
    "duration_non_subscribers = free['duration']\n",
    "# Уровень значимости\n",
    "alpha = 0.05\n",
    "\n",
    "# Выполнение t-теста\n",
    "t_statistic, p_value = st.ttest_ind(duration_subscribers, duration_non_subscribers)\n",
    "\n",
    "# Вывод результатов\n",
    "if p_value < alpha:\n",
    "    print(\"Отвергаем нулевую гипотезу: есть статистически значимая разница в продолжительности поездок.\")\n",
    "else:\n",
    "    print(\"Не отвергаем нулевую гипотезу: нет статистически значимой разницы в продолжительности поездок.\")\n",
    "f\"Значение p-value: {p_value:.10f}\""
   ]
  },
  {
   "cell_type": "markdown",
   "id": "2e39c747",
   "metadata": {},
   "source": [
    "**На основе t-теста получается, что есть статистически значимая разница в средних продолжительностях поездок между двумя группами. Это может указывать на то, что пользователи с подпиской действительно тратят больше времени на поездки. Проверим, так ли это, сравнив средние значения продолжительности поездок в обеих группах.**"
   ]
  },
  {
   "cell_type": "code",
   "execution_count": 131,
   "id": "e2a9aecd",
   "metadata": {},
   "outputs": [
    {
     "name": "stdout",
     "output_type": "stream",
     "text": [
      "Пользователи с подпиской тратят в среднем больше времени на поездки.\n",
      "Средняя продолжительность поездок для пользователей с подпиской: 18.54\n",
      "Средняя продолжительность поездок для пользователей без подписки: 17.39\n"
     ]
    }
   ],
   "source": [
    "mean_duration_subscribers = ultra['duration'].mean()\n",
    "mean_duration_non_subscribers = free['duration'].mean()\n",
    "\n",
    "if mean_duration_subscribers > mean_duration_non_subscribers:\n",
    "    print(f\"Пользователи с подпиской тратят в среднем больше времени на поездки.\")\n",
    "    print(f\"Средняя продолжительность поездок для пользователей с подпиской: {mean_duration_subscribers:.2f}\")\n",
    "    print(f\"Средняя продолжительность поездок для пользователей без подписки: {mean_duration_non_subscribers:.2f}\")\n",
    "elif mean_duration_subscribers < mean_duration_non_subscribers:\n",
    "    print(f\"Пользователи с подпиской тратят в среднем меньше времени на поездки.\")\n",
    "    print(f\"Средняя продолжительность поездок для пользователей с подпиской: {mean_duration_subscribers:.2f}\")\n",
    "    print(f\"Средняя продолжительность поездок для пользователей без подписки: {mean_duration_non_subscribers:.2f}\")\n",
    "else:\n",
    "    print(\"Средняя продолжительность поездок одинакова для обеих групп.\")"
   ]
  },
  {
   "cell_type": "markdown",
   "id": "86a09739",
   "metadata": {},
   "source": [
    "**Итак, мы установили, что пользователи с подпиской в среднем тратят больше времени на поездки и, как следствие, могут быть «выгоднее» для компании.<br> Для компании это означает, что команде сервиса GoFast стоит работать в направлении склонить как можно больше пользователей купить платную подписку чтобы увеличить свою выручку.**"
   ]
  },
  {
   "cell_type": "markdown",
   "id": "d948c239",
   "metadata": {},
   "source": [
    "**6.2. Сформулируем гипотезы:<br>\n",
    "Нулевая гипотеза (H0): Среднее расстояние для пользователей с подпиской не превышает 3130 метров.<br>\n",
    "Альтернативная гипотеза (H1): Среднее расстояние для пользователей с подпиской больше 3130 метров.**"
   ]
  },
  {
   "cell_type": "code",
   "execution_count": 132,
   "id": "6c1092a6",
   "metadata": {},
   "outputs": [
    {
     "name": "stdout",
     "output_type": "stream",
     "text": [
      "Значение p-value: 0.9195368848\n",
      "Не отвергаем нулевую гипотезу: среднее расстояние для пользователей с подпиской не превышает 3130 метров.\n"
     ]
    }
   ],
   "source": [
    "# Данные о расстоянии для пользователей с подпиской\n",
    "distance_subscribers = ultra['distance']\n",
    "\n",
    "# Уровень значимости\n",
    "alpha = 0.05\n",
    "\n",
    "# Значение для сравнения (в данном случае, 3130 метров)\n",
    "comparison_value = 3130\n",
    "\n",
    "# Выполнение одностороннего t-теста\n",
    "t_statistic, p_value = st.ttest_1samp(distance_subscribers, comparison_value, alternative='greater')\n",
    "\n",
    "# Вывод значения p-value\n",
    "print(f\"Значение p-value: {p_value:.10f}\")\n",
    "\n",
    "# Вывод результатов\n",
    "if p_value < alpha:\n",
    "    print(\"Отвергаем нулевую гипотезу: среднее расстояние для пользователей с подпиской превышает 3130 метров.\")\n",
    "else:\n",
    "    print(\"Не отвергаем нулевую гипотезу: среднее расстояние для пользователей с подпиской не превышает 3130 метров.\")"
   ]
  },
  {
   "cell_type": "markdown",
   "id": "03bad0f1",
   "metadata": {},
   "source": [
    "**На основе результатов одностороннего t-теста нет достаточных статистических доказательств для того, чтобы утверждать, что среднее расстояние, которое проезжают пользователи с подпиской за одну поездку, превышает 3130 метров.<br>\n",
    "p-значение = 0.9195368848 означает, что вероятность получить наблюдаемые данные при условии, что нулевая гипотеза верна, составляет 0.9195, что довольно высоко.<br>\n",
    "Для компании такие результаты теста говорят о том, что в целом ее команде не стоит переживать о сильном износе самокатов, так как поездки с продолжительностью более 3130 м бывают нечасто, т.е. срок службы самокатов от неправильной эксплуатации не уменьшится, а как следствие не придется менять самокаты на новые раньше их заявленного производителем срока службы и терять показатели выручки из-за трат на покупку новых самокатов.**"
   ]
  },
  {
   "cell_type": "markdown",
   "id": "669f81d9",
   "metadata": {},
   "source": [
    "**6.3. Сформулируем гипотезы:<br>\n",
    "Нулевая гипотеза (H0) будет утверждать, что средние значения выручки одинаковы для обеих групп, а альтернативная гипотеза (H1) будет утверждать, что средняя выручка от пользователей с подпиской выше средней выручки от пользователей без подписки.**"
   ]
  },
  {
   "cell_type": "code",
   "execution_count": 133,
   "id": "415f7762",
   "metadata": {
    "scrolled": true
   },
   "outputs": [
    {
     "name": "stdout",
     "output_type": "stream",
     "text": [
      "Значение p-value: 0.0000000000\n",
      "Отвергаем нулевую гипотезу: средняя помесячная выручка от пользователей с подпиской выше средней выручки от пользователей без подписки.\n"
     ]
    }
   ],
   "source": [
    "# Выборка данных о выручке для пользователей с подпиской\n",
    "revenue_subscribers = df_aggregated[df_aggregated['subscription_fee'] == 199]['monthly_revenue']\n",
    "\n",
    "# Выборка данных о выручке для пользователей без подписки\n",
    "revenue_non_subscribers = df_aggregated[df_aggregated['subscription_fee'] == 0]['monthly_revenue']\n",
    "\n",
    "# Уровень значимости\n",
    "alpha = 0.05\n",
    "\n",
    "# Выполнение t-теста\n",
    "t_statistic, p_value = st.ttest_ind(revenue_subscribers, revenue_non_subscribers)\n",
    "\n",
    "# Вывод значения p-value\n",
    "print(f\"Значение p-value: {p_value:.10f}\")\n",
    "\n",
    "# Вывод результатов\n",
    "if p_value < alpha:\n",
    "    print(\"Отвергаем нулевую гипотезу: средняя помесячная выручка от пользователей с подпиской выше средней выручки от пользователей без подписки.\")\n",
    "else:\n",
    "    print(\"Не отвергаем нулевую гипотезу: средняя помесячная выручка одинакова для обеих групп.\")"
   ]
  },
  {
   "cell_type": "markdown",
   "id": "7d47125b",
   "metadata": {},
   "source": [
    "**Исходя из результатов t-теста можно сделать вывод, что средняя помесячная выручка от пользователей с подпиской статистически значимо выше, чем средняя выручка от пользователей без подписки. Это говорит о том, что пользователи с подпиской приносят больше выручки по месяцам для компании GoFast, чем пользователи без подписки, то есть мы еще раз убеждаемся, что команде GoFast нужно работать над увеличением аудитории пользователей с подпиской.**"
   ]
  },
  {
   "cell_type": "markdown",
   "id": "467ed2fd",
   "metadata": {},
   "source": [
    "**Удостоверимся в этом, взглянув на средние значения.**"
   ]
  },
  {
   "cell_type": "code",
   "execution_count": 134,
   "id": "09113397",
   "metadata": {},
   "outputs": [
    {
     "data": {
      "text/plain": [
       "362.7921906022502"
      ]
     },
     "execution_count": 134,
     "metadata": {},
     "output_type": "execute_result"
    }
   ],
   "source": [
    "revenue_subscribers.mean()"
   ]
  },
  {
   "cell_type": "code",
   "execution_count": 135,
   "id": "ebd7ca7c",
   "metadata": {},
   "outputs": [
    {
     "data": {
      "text/plain": [
       "328.6413651073845"
      ]
     },
     "execution_count": 135,
     "metadata": {},
     "output_type": "execute_result"
    }
   ],
   "source": [
    "revenue_non_subscribers.mean()"
   ]
  },
  {
   "cell_type": "markdown",
   "id": "afc125e2",
   "metadata": {},
   "source": [
    "**6.4. Теперь представим такую ситуацию:<br> техническая команда сервиса обновила сервера, с которыми взаимодействует мобильное приложение. Она надеется, что из-за этого количество обращений в техподдержку значимо снизилось. Некоторый файл содержит для каждого пользователя данные о количестве обращений до обновления и после него.<br>\n",
    "Для проверки гипотезы о том, что обновление серверов значимо снизило количество обращений в техподдержку, можно использовать t-тест для сравнения средних значений двух наборов данных: количество обращений до обновления и количество обращений после обновления. Это позволит нам определить, есть ли статистически значимая разница между двумя периодами.<br>\n",
    "В такой ситуации может потребоваться выполнить парный t-тест (paired t-test), так как у нас есть две выборки, которые связаны между собой (количество обращений от одних и тех же пользователей до и после обновления). Парный t-тест позволит определить, есть ли статистически значимая разница между связанными данными.<br>\n",
    "Наши гипотезы могут быть сформулированы следующим образом:<br>\n",
    "Нулевая гипотеза (H0): Среднее количество обращений до обновления равно среднему количеству обращений после обновления. Или другими словами, обновление серверов не повлияло на количество обращений.<br>\n",
    "Альтернативная гипотеза (H1): Среднее количество обращений до обновления не равно среднему количеству обращений после обновления. Или, что более конкретно, обновление серверов повлияло на количество обращений (больше или меньше).<br>\n",
    "Выполнив парный t-тест с использованием конкретных данных, мы сможем определить, есть ли статистически значимая разница между средним количеством обращений до и после обновления. Если p-value будет меньше заданного уровня значимости, то можно будет сделать вывод о статистической значимости разницы.**"
   ]
  },
  {
   "cell_type": "markdown",
   "id": "5822c386",
   "metadata": {},
   "source": [
    "**Общий вывод: <br>\n",
    "Итак, нами были проанализированы данные по использованию сервиса аренды самокатов GoFast. Сначала мы провели предобработку данных: изменили типы столбцов, проверили данные на наличие пропусков и дубликатов и избавились от них, добавили дополнительные столбцы, необходимые нам для анализа. Затем мы провели исследовательский анализ данных и установили:<br>\n",
    "--Больше всего пользователей сервисом из Пятигорска, Екатеринбурга, Ростова-на-Дону, а меньше всего из Москвы. Но разрыв в принципе небольшой.<br>\n",
    "--У 54.4% пользователей (835 человек) бесплатная подписка, а 45.6% пользователей пользуются платной подпиской (699 человек).<br>\n",
    "--Преобладающее большинство пользователей арендованными самокатами - это молодые люди в возрасте от 20 до 30 лет, люди старше 40 лет ими практически не пользуются.<br>\n",
    "--Большинство поездок было в районе 3 км. Поездки меньше 2 км и дальше 5 км - редкость.<br>\n",
    "--Чаще всего самокат используется в районе 15-20 мин, для поездок на 10 мин или более 20 мин самокаты берут в аренду реже.<br>\n",
    "Затем мы произвели объединение данных в один датафрейм и изучили информацию о расстоянии и времени поездок для пользователей без подписки и с подпиской и визуализировали ее. Сделали такие выводы:<br>\n",
    "--У пользователей с бесплатной подпиской распределение получилось более плавным, чаще всего поездки составляют порядка 2.5 - 4.5 км. У пользователей с платной подпиской получился более выделяющийся пик в районе более 3-х км, а чаще всего пользователи проезжают маршрут длиной в 2.5 - 3.5 км. Также можно отметить, что пользователи без подписки иногда проезжают больше 5 км, а у пользователей с подпиской такого практичесики не бывает.<br>\n",
    "--Пользователи с бесплатной подпиской чаще всего пользуются самокатом от 10 до 25 мин, у пользователей с платной подпиской похожее распределение, но можно заметить отличие, что у пользователей с платной подпиской встречаются поездки дольше 35 мин в отличие от пользователей без подписки.<br>\n",
    "Далее мы создали датафрейм с агрегированными данными о поездках на основе датафрейма с объединёнными данными и нашли суммарное расстояние, количество поездок и суммарное время для каждого пользователя за каждый месяц. Также мы рассчитали помесячную выручку, которую принёс каждый пользователь.<br>\n",
    "После этого мы перешли к проверке гипотез и установили:<br>\n",
    "--Пользователи с подпиской в среднем тратят больше времени на поездки и, как следствие, могут быть «выгоднее» для компании.<br>\n",
    "--На основе результатов одностороннего t-теста нет достаточных статистических доказательств для того, чтобы утверждать, что среднее расстояние, которое проезжают пользователи с подпиской за одну поездку, превышает 3130 метров, что является выгодным показателем для бизнеса, так как износ самокатов преимущественно будет происходить без нарушения правил эксплуатации.<br>\n",
    "--Исходя из результатов t-теста можно сделать вывод, что средняя помесячная выручка от пользователей с подпиской статистически значимо выше, чем средняя выручка от пользователей без подписки. Это говорит о том, что пользователи с подпиской приносят больше выручки по месяцам для компании GoFast, чем пользователи без подписки.**"
   ]
  }
 ],
 "metadata": {
  "ExecuteTimeLog": [
   {
    "duration": 51,
    "start_time": "2023-10-03T06:34:15.736Z"
   },
   {
    "duration": 372,
    "start_time": "2023-10-03T06:34:19.428Z"
   },
   {
    "duration": 94,
    "start_time": "2023-10-03T06:34:19.801Z"
   },
   {
    "duration": 3,
    "start_time": "2023-10-03T06:35:55.680Z"
   },
   {
    "duration": 48,
    "start_time": "2023-10-03T06:35:55.684Z"
   },
   {
    "duration": 317,
    "start_time": "2023-10-03T06:35:55.733Z"
   },
   {
    "duration": 91,
    "start_time": "2023-10-03T06:36:09.871Z"
   },
   {
    "duration": 76,
    "start_time": "2023-10-03T06:38:00.686Z"
   },
   {
    "duration": 30,
    "start_time": "2023-10-03T06:38:31.096Z"
   },
   {
    "duration": 12,
    "start_time": "2023-10-03T06:39:22.179Z"
   },
   {
    "duration": 11,
    "start_time": "2023-10-03T06:40:00.400Z"
   },
   {
    "duration": 9,
    "start_time": "2023-10-03T06:40:26.505Z"
   },
   {
    "duration": 8,
    "start_time": "2023-10-03T06:44:27.703Z"
   },
   {
    "duration": 54,
    "start_time": "2023-10-03T06:44:45.231Z"
   },
   {
    "duration": 18,
    "start_time": "2023-10-03T06:44:52.849Z"
   },
   {
    "duration": 19,
    "start_time": "2023-10-03T06:46:06.860Z"
   },
   {
    "duration": 6,
    "start_time": "2023-10-03T06:49:37.855Z"
   },
   {
    "duration": 10,
    "start_time": "2023-10-03T06:49:46.963Z"
   },
   {
    "duration": 11,
    "start_time": "2023-10-03T06:49:56.021Z"
   },
   {
    "duration": 18,
    "start_time": "2023-10-03T06:51:25.715Z"
   },
   {
    "duration": 8,
    "start_time": "2023-10-03T06:51:35.675Z"
   },
   {
    "duration": 26,
    "start_time": "2023-10-03T06:51:54.263Z"
   },
   {
    "duration": 6,
    "start_time": "2023-10-03T06:51:59.747Z"
   },
   {
    "duration": 6,
    "start_time": "2023-10-03T06:52:22.397Z"
   },
   {
    "duration": 7,
    "start_time": "2023-10-03T06:56:38.647Z"
   },
   {
    "duration": 82,
    "start_time": "2023-10-03T06:57:38.660Z"
   },
   {
    "duration": 12,
    "start_time": "2023-10-03T06:57:48.940Z"
   },
   {
    "duration": 9,
    "start_time": "2023-10-03T06:58:38.441Z"
   },
   {
    "duration": 9,
    "start_time": "2023-10-03T06:58:53.848Z"
   },
   {
    "duration": 4,
    "start_time": "2023-10-03T06:59:18.897Z"
   },
   {
    "duration": 15,
    "start_time": "2023-10-03T07:00:31.494Z"
   },
   {
    "duration": 5,
    "start_time": "2023-10-03T07:00:41.371Z"
   },
   {
    "duration": 8,
    "start_time": "2023-10-03T07:00:54.508Z"
   },
   {
    "duration": 3,
    "start_time": "2023-10-03T07:01:04.093Z"
   },
   {
    "duration": 42,
    "start_time": "2023-10-03T07:01:04.098Z"
   },
   {
    "duration": 12,
    "start_time": "2023-10-03T07:01:04.141Z"
   },
   {
    "duration": 40,
    "start_time": "2023-10-03T07:01:04.154Z"
   },
   {
    "duration": 13,
    "start_time": "2023-10-03T07:01:04.197Z"
   },
   {
    "duration": 35,
    "start_time": "2023-10-03T07:01:04.212Z"
   },
   {
    "duration": 12,
    "start_time": "2023-10-03T07:01:04.248Z"
   },
   {
    "duration": 52,
    "start_time": "2023-10-03T07:01:04.262Z"
   },
   {
    "duration": 11,
    "start_time": "2023-10-03T07:01:04.315Z"
   },
   {
    "duration": 5,
    "start_time": "2023-10-03T07:01:04.330Z"
   },
   {
    "duration": 9,
    "start_time": "2023-10-03T07:01:04.337Z"
   },
   {
    "duration": 9,
    "start_time": "2023-10-03T07:01:04.348Z"
   },
   {
    "duration": 12,
    "start_time": "2023-10-03T07:01:04.359Z"
   },
   {
    "duration": 16,
    "start_time": "2023-10-03T07:01:04.372Z"
   },
   {
    "duration": 7,
    "start_time": "2023-10-03T07:03:26.609Z"
   },
   {
    "duration": 10,
    "start_time": "2023-10-03T07:03:49.146Z"
   },
   {
    "duration": 11,
    "start_time": "2023-10-03T07:09:58.521Z"
   },
   {
    "duration": 10,
    "start_time": "2023-10-03T07:10:02.421Z"
   },
   {
    "duration": 3,
    "start_time": "2023-10-03T07:10:10.051Z"
   },
   {
    "duration": 50,
    "start_time": "2023-10-03T07:10:10.064Z"
   },
   {
    "duration": 10,
    "start_time": "2023-10-03T07:10:10.116Z"
   },
   {
    "duration": 61,
    "start_time": "2023-10-03T07:10:10.128Z"
   },
   {
    "duration": 10,
    "start_time": "2023-10-03T07:10:10.190Z"
   },
   {
    "duration": 34,
    "start_time": "2023-10-03T07:10:10.202Z"
   },
   {
    "duration": 9,
    "start_time": "2023-10-03T07:10:10.237Z"
   },
   {
    "duration": 31,
    "start_time": "2023-10-03T07:10:10.247Z"
   },
   {
    "duration": 19,
    "start_time": "2023-10-03T07:10:10.280Z"
   },
   {
    "duration": 6,
    "start_time": "2023-10-03T07:10:10.300Z"
   },
   {
    "duration": 28,
    "start_time": "2023-10-03T07:10:10.308Z"
   },
   {
    "duration": 10,
    "start_time": "2023-10-03T07:10:10.338Z"
   },
   {
    "duration": 24,
    "start_time": "2023-10-03T07:10:10.350Z"
   },
   {
    "duration": 12,
    "start_time": "2023-10-03T07:10:10.375Z"
   },
   {
    "duration": 20,
    "start_time": "2023-10-03T07:10:10.389Z"
   },
   {
    "duration": 11,
    "start_time": "2023-10-03T07:10:10.410Z"
   },
   {
    "duration": 660,
    "start_time": "2023-10-03T07:23:36.173Z"
   },
   {
    "duration": 256,
    "start_time": "2023-10-03T07:23:46.124Z"
   },
   {
    "duration": 234,
    "start_time": "2023-10-03T07:23:52.578Z"
   },
   {
    "duration": 251,
    "start_time": "2023-10-03T07:24:48.475Z"
   },
   {
    "duration": 3,
    "start_time": "2023-10-03T07:25:00.267Z"
   },
   {
    "duration": 99,
    "start_time": "2023-10-03T07:25:00.272Z"
   },
   {
    "duration": 11,
    "start_time": "2023-10-03T07:25:00.373Z"
   },
   {
    "duration": 92,
    "start_time": "2023-10-03T07:25:00.385Z"
   },
   {
    "duration": 12,
    "start_time": "2023-10-03T07:25:00.479Z"
   },
   {
    "duration": 49,
    "start_time": "2023-10-03T07:25:00.492Z"
   },
   {
    "duration": 80,
    "start_time": "2023-10-03T07:25:00.542Z"
   },
   {
    "duration": 96,
    "start_time": "2023-10-03T07:25:00.624Z"
   },
   {
    "duration": 65,
    "start_time": "2023-10-03T07:25:00.723Z"
   },
   {
    "duration": 52,
    "start_time": "2023-10-03T07:25:00.790Z"
   },
   {
    "duration": 37,
    "start_time": "2023-10-03T07:25:00.844Z"
   },
   {
    "duration": 48,
    "start_time": "2023-10-03T07:25:00.883Z"
   },
   {
    "duration": 56,
    "start_time": "2023-10-03T07:25:00.933Z"
   },
   {
    "duration": 66,
    "start_time": "2023-10-03T07:25:00.991Z"
   },
   {
    "duration": 77,
    "start_time": "2023-10-03T07:25:01.059Z"
   },
   {
    "duration": 87,
    "start_time": "2023-10-03T07:25:01.138Z"
   },
   {
    "duration": 300,
    "start_time": "2023-10-03T07:25:01.226Z"
   },
   {
    "duration": 230,
    "start_time": "2023-10-03T07:25:41.714Z"
   },
   {
    "duration": 227,
    "start_time": "2023-10-03T07:25:50.706Z"
   },
   {
    "duration": 3,
    "start_time": "2023-10-03T07:26:06.762Z"
   },
   {
    "duration": 299,
    "start_time": "2023-10-03T07:26:11.330Z"
   },
   {
    "duration": 217,
    "start_time": "2023-10-03T07:28:39.594Z"
   },
   {
    "duration": 90,
    "start_time": "2023-10-03T07:28:41.607Z"
   },
   {
    "duration": 223,
    "start_time": "2023-10-03T07:28:54.304Z"
   },
   {
    "duration": 3,
    "start_time": "2023-10-03T07:28:59.819Z"
   },
   {
    "duration": 39,
    "start_time": "2023-10-03T07:28:59.824Z"
   },
   {
    "duration": 11,
    "start_time": "2023-10-03T07:28:59.865Z"
   },
   {
    "duration": 46,
    "start_time": "2023-10-03T07:28:59.877Z"
   },
   {
    "duration": 10,
    "start_time": "2023-10-03T07:28:59.925Z"
   },
   {
    "duration": 50,
    "start_time": "2023-10-03T07:28:59.936Z"
   },
   {
    "duration": 41,
    "start_time": "2023-10-03T07:28:59.987Z"
   },
   {
    "duration": 138,
    "start_time": "2023-10-03T07:29:00.030Z"
   },
   {
    "duration": 65,
    "start_time": "2023-10-03T07:29:00.169Z"
   },
   {
    "duration": 33,
    "start_time": "2023-10-03T07:29:00.236Z"
   },
   {
    "duration": 42,
    "start_time": "2023-10-03T07:29:00.271Z"
   },
   {
    "duration": 28,
    "start_time": "2023-10-03T07:29:00.314Z"
   },
   {
    "duration": 81,
    "start_time": "2023-10-03T07:29:00.344Z"
   },
   {
    "duration": 42,
    "start_time": "2023-10-03T07:29:00.427Z"
   },
   {
    "duration": 52,
    "start_time": "2023-10-03T07:29:00.471Z"
   },
   {
    "duration": 44,
    "start_time": "2023-10-03T07:29:00.525Z"
   },
   {
    "duration": 341,
    "start_time": "2023-10-03T07:29:00.571Z"
   },
   {
    "duration": 233,
    "start_time": "2023-10-03T07:29:00.913Z"
   },
   {
    "duration": 194,
    "start_time": "2023-10-03T07:32:18.131Z"
   },
   {
    "duration": 116,
    "start_time": "2023-10-03T07:32:33.202Z"
   },
   {
    "duration": 168,
    "start_time": "2023-10-03T07:42:07.605Z"
   },
   {
    "duration": 110,
    "start_time": "2023-10-03T07:43:44.547Z"
   },
   {
    "duration": 89,
    "start_time": "2023-10-03T07:44:54.290Z"
   },
   {
    "duration": 102,
    "start_time": "2023-10-03T07:45:42.008Z"
   },
   {
    "duration": 5,
    "start_time": "2023-10-03T07:48:35.479Z"
   },
   {
    "duration": 5,
    "start_time": "2023-10-03T07:59:05.174Z"
   },
   {
    "duration": 5,
    "start_time": "2023-10-03T08:02:24.872Z"
   },
   {
    "duration": 5,
    "start_time": "2023-10-03T08:02:51.927Z"
   },
   {
    "duration": 13,
    "start_time": "2023-10-03T08:03:02.546Z"
   },
   {
    "duration": 5,
    "start_time": "2023-10-03T08:03:23.444Z"
   },
   {
    "duration": 9,
    "start_time": "2023-10-03T08:03:27.967Z"
   },
   {
    "duration": 7,
    "start_time": "2023-10-03T08:04:59.466Z"
   },
   {
    "duration": 300,
    "start_time": "2023-10-03T08:05:48.880Z"
   },
   {
    "duration": 4,
    "start_time": "2023-10-03T08:12:03.834Z"
   },
   {
    "duration": 5,
    "start_time": "2023-10-03T08:12:28.188Z"
   },
   {
    "duration": 1144,
    "start_time": "2023-10-03T08:15:55.394Z"
   },
   {
    "duration": 250,
    "start_time": "2023-10-03T08:16:16.343Z"
   },
   {
    "duration": 204,
    "start_time": "2023-10-03T08:17:12.267Z"
   },
   {
    "duration": 203,
    "start_time": "2023-10-03T08:17:19.250Z"
   },
   {
    "duration": 6,
    "start_time": "2023-10-03T08:21:30.479Z"
   },
   {
    "duration": 6,
    "start_time": "2023-10-03T08:21:41.011Z"
   },
   {
    "duration": 161,
    "start_time": "2023-10-03T08:24:51.354Z"
   },
   {
    "duration": 161,
    "start_time": "2023-10-03T08:25:13.778Z"
   },
   {
    "duration": 4,
    "start_time": "2023-10-03T08:27:29.751Z"
   },
   {
    "duration": 80,
    "start_time": "2023-10-03T08:27:29.757Z"
   },
   {
    "duration": 12,
    "start_time": "2023-10-03T08:27:29.839Z"
   },
   {
    "duration": 90,
    "start_time": "2023-10-03T08:27:29.853Z"
   },
   {
    "duration": 12,
    "start_time": "2023-10-03T08:27:29.945Z"
   },
   {
    "duration": 35,
    "start_time": "2023-10-03T08:27:29.958Z"
   },
   {
    "duration": 11,
    "start_time": "2023-10-03T08:27:29.995Z"
   },
   {
    "duration": 116,
    "start_time": "2023-10-03T08:27:30.008Z"
   },
   {
    "duration": 82,
    "start_time": "2023-10-03T08:27:30.126Z"
   },
   {
    "duration": 360,
    "start_time": "2023-10-03T08:27:30.209Z"
   },
   {
    "duration": 297,
    "start_time": "2023-10-03T08:27:30.571Z"
   },
   {
    "duration": 47,
    "start_time": "2023-10-03T08:27:30.870Z"
   },
   {
    "duration": 94,
    "start_time": "2023-10-03T08:27:30.919Z"
   },
   {
    "duration": 66,
    "start_time": "2023-10-03T08:27:31.016Z"
   },
   {
    "duration": 53,
    "start_time": "2023-10-03T08:27:31.084Z"
   },
   {
    "duration": 55,
    "start_time": "2023-10-03T08:27:31.139Z"
   },
   {
    "duration": 218,
    "start_time": "2023-10-03T08:27:31.196Z"
   },
   {
    "duration": 118,
    "start_time": "2023-10-03T08:27:31.416Z"
   },
   {
    "duration": 17,
    "start_time": "2023-10-03T08:27:31.535Z"
   },
   {
    "duration": 37,
    "start_time": "2023-10-03T08:27:31.553Z"
   },
   {
    "duration": 37,
    "start_time": "2023-10-03T08:27:31.592Z"
   },
   {
    "duration": 331,
    "start_time": "2023-10-03T08:27:31.631Z"
   },
   {
    "duration": 5,
    "start_time": "2023-10-03T08:27:31.965Z"
   },
   {
    "duration": 42,
    "start_time": "2023-10-03T08:27:31.972Z"
   },
   {
    "duration": 202,
    "start_time": "2023-10-03T08:27:32.016Z"
   },
   {
    "duration": 4,
    "start_time": "2023-10-03T08:27:32.220Z"
   },
   {
    "duration": 8,
    "start_time": "2023-10-03T08:27:32.226Z"
   },
   {
    "duration": 327,
    "start_time": "2023-10-03T08:27:32.250Z"
   },
   {
    "duration": 10,
    "start_time": "2023-10-03T08:30:57.355Z"
   },
   {
    "duration": 20,
    "start_time": "2023-10-03T08:31:08.650Z"
   },
   {
    "duration": 21,
    "start_time": "2023-10-03T08:31:30.586Z"
   },
   {
    "duration": 27,
    "start_time": "2023-10-03T08:31:38.144Z"
   },
   {
    "duration": 28,
    "start_time": "2023-10-03T08:34:14.849Z"
   },
   {
    "duration": 7,
    "start_time": "2023-10-03T08:38:05.222Z"
   },
   {
    "duration": 18,
    "start_time": "2023-10-03T08:38:13.527Z"
   },
   {
    "duration": 5,
    "start_time": "2023-10-03T08:38:26.812Z"
   },
   {
    "duration": 16,
    "start_time": "2023-10-03T08:38:58.983Z"
   },
   {
    "duration": 19,
    "start_time": "2023-10-03T08:39:07.060Z"
   },
   {
    "duration": 15,
    "start_time": "2023-10-03T08:39:15.179Z"
   },
   {
    "duration": 3,
    "start_time": "2023-10-03T08:57:29.260Z"
   },
   {
    "duration": 53,
    "start_time": "2023-10-03T08:57:29.265Z"
   },
   {
    "duration": 10,
    "start_time": "2023-10-03T08:57:29.320Z"
   },
   {
    "duration": 59,
    "start_time": "2023-10-03T08:57:29.332Z"
   },
   {
    "duration": 18,
    "start_time": "2023-10-03T08:57:29.393Z"
   },
   {
    "duration": 42,
    "start_time": "2023-10-03T08:57:29.412Z"
   },
   {
    "duration": 11,
    "start_time": "2023-10-03T08:57:29.456Z"
   },
   {
    "duration": 51,
    "start_time": "2023-10-03T08:57:29.469Z"
   },
   {
    "duration": 33,
    "start_time": "2023-10-03T08:57:29.522Z"
   },
   {
    "duration": 14,
    "start_time": "2023-10-03T08:57:29.557Z"
   },
   {
    "duration": 124,
    "start_time": "2023-10-03T08:57:29.573Z"
   },
   {
    "duration": 16,
    "start_time": "2023-10-03T08:57:29.698Z"
   },
   {
    "duration": 47,
    "start_time": "2023-10-03T08:57:29.716Z"
   },
   {
    "duration": 45,
    "start_time": "2023-10-03T08:57:29.765Z"
   },
   {
    "duration": 37,
    "start_time": "2023-10-03T08:57:29.812Z"
   },
   {
    "duration": 48,
    "start_time": "2023-10-03T08:57:29.850Z"
   },
   {
    "duration": 134,
    "start_time": "2023-10-03T08:57:29.900Z"
   },
   {
    "duration": 106,
    "start_time": "2023-10-03T08:57:30.036Z"
   },
   {
    "duration": 76,
    "start_time": "2023-10-03T08:57:30.143Z"
   },
   {
    "duration": 79,
    "start_time": "2023-10-03T08:57:30.221Z"
   },
   {
    "duration": 484,
    "start_time": "2023-10-03T08:57:30.302Z"
   },
   {
    "duration": 308,
    "start_time": "2023-10-03T08:57:30.788Z"
   },
   {
    "duration": 4,
    "start_time": "2023-10-03T08:57:31.098Z"
   },
   {
    "duration": 46,
    "start_time": "2023-10-03T08:57:31.105Z"
   },
   {
    "duration": 205,
    "start_time": "2023-10-03T08:57:31.152Z"
   },
   {
    "duration": 4,
    "start_time": "2023-10-03T08:57:31.359Z"
   },
   {
    "duration": 70,
    "start_time": "2023-10-03T08:57:31.365Z"
   },
   {
    "duration": 194,
    "start_time": "2023-10-03T08:57:31.436Z"
   },
   {
    "duration": 29,
    "start_time": "2023-10-03T08:57:31.632Z"
   },
   {
    "duration": 32,
    "start_time": "2023-10-03T08:57:31.663Z"
   },
   {
    "duration": 42,
    "start_time": "2023-10-03T08:57:31.696Z"
   },
   {
    "duration": 218,
    "start_time": "2023-10-03T09:21:07.263Z"
   },
   {
    "duration": 160,
    "start_time": "2023-10-03T09:21:40.011Z"
   },
   {
    "duration": 174,
    "start_time": "2023-10-03T09:23:30.365Z"
   },
   {
    "duration": 161,
    "start_time": "2023-10-03T09:23:43.522Z"
   },
   {
    "duration": 151,
    "start_time": "2023-10-03T09:29:32.662Z"
   },
   {
    "duration": 279,
    "start_time": "2023-10-03T09:31:06.347Z"
   },
   {
    "duration": 154,
    "start_time": "2023-10-03T09:32:41.011Z"
   },
   {
    "duration": 168,
    "start_time": "2023-10-03T09:34:48.338Z"
   },
   {
    "duration": 2,
    "start_time": "2023-10-03T09:35:24.743Z"
   },
   {
    "duration": 56,
    "start_time": "2023-10-03T09:35:24.747Z"
   },
   {
    "duration": 11,
    "start_time": "2023-10-03T09:35:24.804Z"
   },
   {
    "duration": 55,
    "start_time": "2023-10-03T09:35:24.816Z"
   },
   {
    "duration": 10,
    "start_time": "2023-10-03T09:35:24.873Z"
   },
   {
    "duration": 27,
    "start_time": "2023-10-03T09:35:24.884Z"
   },
   {
    "duration": 14,
    "start_time": "2023-10-03T09:35:24.912Z"
   },
   {
    "duration": 49,
    "start_time": "2023-10-03T09:35:24.927Z"
   },
   {
    "duration": 30,
    "start_time": "2023-10-03T09:35:24.978Z"
   },
   {
    "duration": 23,
    "start_time": "2023-10-03T09:35:25.010Z"
   },
   {
    "duration": 27,
    "start_time": "2023-10-03T09:35:25.036Z"
   },
   {
    "duration": 30,
    "start_time": "2023-10-03T09:35:25.065Z"
   },
   {
    "duration": 76,
    "start_time": "2023-10-03T09:35:25.097Z"
   },
   {
    "duration": 64,
    "start_time": "2023-10-03T09:35:25.175Z"
   },
   {
    "duration": 35,
    "start_time": "2023-10-03T09:35:25.241Z"
   },
   {
    "duration": 50,
    "start_time": "2023-10-03T09:35:25.278Z"
   },
   {
    "duration": 157,
    "start_time": "2023-10-03T09:35:25.330Z"
   },
   {
    "duration": 108,
    "start_time": "2023-10-03T09:35:25.488Z"
   },
   {
    "duration": 4,
    "start_time": "2023-10-03T09:35:25.598Z"
   },
   {
    "duration": 24,
    "start_time": "2023-10-03T09:35:25.603Z"
   },
   {
    "duration": 30,
    "start_time": "2023-10-03T09:35:25.628Z"
   },
   {
    "duration": 234,
    "start_time": "2023-10-03T09:35:25.660Z"
   },
   {
    "duration": 55,
    "start_time": "2023-10-03T09:35:25.895Z"
   },
   {
    "duration": 4,
    "start_time": "2023-10-03T09:35:25.952Z"
   },
   {
    "duration": 230,
    "start_time": "2023-10-03T09:35:25.957Z"
   },
   {
    "duration": 6,
    "start_time": "2023-10-03T09:35:26.189Z"
   },
   {
    "duration": 24,
    "start_time": "2023-10-03T09:35:26.196Z"
   },
   {
    "duration": 185,
    "start_time": "2023-10-03T09:35:26.222Z"
   },
   {
    "duration": 23,
    "start_time": "2023-10-03T09:35:26.410Z"
   },
   {
    "duration": 30,
    "start_time": "2023-10-03T09:35:26.435Z"
   },
   {
    "duration": 17,
    "start_time": "2023-10-03T09:35:26.467Z"
   },
   {
    "duration": 176,
    "start_time": "2023-10-03T09:35:26.486Z"
   },
   {
    "duration": 165,
    "start_time": "2023-10-03T09:35:26.664Z"
   },
   {
    "duration": 234,
    "start_time": "2023-10-03T09:39:46.467Z"
   },
   {
    "duration": 241,
    "start_time": "2023-10-03T09:39:59.225Z"
   },
   {
    "duration": 160,
    "start_time": "2023-10-03T09:40:39.597Z"
   },
   {
    "duration": 152,
    "start_time": "2023-10-03T09:40:59.893Z"
   },
   {
    "duration": 3,
    "start_time": "2023-10-03T09:52:33.509Z"
   },
   {
    "duration": 3,
    "start_time": "2023-10-03T09:53:17.384Z"
   },
   {
    "duration": 13,
    "start_time": "2023-10-03T09:53:27.408Z"
   },
   {
    "duration": 7,
    "start_time": "2023-10-03T09:56:29.880Z"
   },
   {
    "duration": 43,
    "start_time": "2023-10-03T09:59:36.332Z"
   },
   {
    "duration": 11,
    "start_time": "2023-10-03T10:00:02.665Z"
   },
   {
    "duration": 3,
    "start_time": "2023-10-03T10:00:14.964Z"
   },
   {
    "duration": 60,
    "start_time": "2023-10-03T10:00:14.969Z"
   },
   {
    "duration": 10,
    "start_time": "2023-10-03T10:00:15.031Z"
   },
   {
    "duration": 73,
    "start_time": "2023-10-03T10:00:15.044Z"
   },
   {
    "duration": 41,
    "start_time": "2023-10-03T10:00:15.118Z"
   },
   {
    "duration": 54,
    "start_time": "2023-10-03T10:00:15.161Z"
   },
   {
    "duration": 15,
    "start_time": "2023-10-03T10:00:15.217Z"
   },
   {
    "duration": 36,
    "start_time": "2023-10-03T10:00:15.234Z"
   },
   {
    "duration": 28,
    "start_time": "2023-10-03T10:00:15.273Z"
   },
   {
    "duration": 15,
    "start_time": "2023-10-03T10:00:15.303Z"
   },
   {
    "duration": 29,
    "start_time": "2023-10-03T10:00:15.319Z"
   },
   {
    "duration": 29,
    "start_time": "2023-10-03T10:00:15.350Z"
   },
   {
    "duration": 39,
    "start_time": "2023-10-03T10:00:15.380Z"
   },
   {
    "duration": 96,
    "start_time": "2023-10-03T10:00:15.421Z"
   },
   {
    "duration": 26,
    "start_time": "2023-10-03T10:00:15.519Z"
   },
   {
    "duration": 16,
    "start_time": "2023-10-03T10:00:15.547Z"
   },
   {
    "duration": 125,
    "start_time": "2023-10-03T10:00:15.565Z"
   },
   {
    "duration": 123,
    "start_time": "2023-10-03T10:00:15.692Z"
   },
   {
    "duration": 5,
    "start_time": "2023-10-03T10:00:15.817Z"
   },
   {
    "duration": 8,
    "start_time": "2023-10-03T10:00:15.824Z"
   },
   {
    "duration": 44,
    "start_time": "2023-10-03T10:00:15.834Z"
   },
   {
    "duration": 332,
    "start_time": "2023-10-03T10:00:15.880Z"
   },
   {
    "duration": 4,
    "start_time": "2023-10-03T10:00:16.214Z"
   },
   {
    "duration": 26,
    "start_time": "2023-10-03T10:00:16.220Z"
   },
   {
    "duration": 199,
    "start_time": "2023-10-03T10:00:16.247Z"
   },
   {
    "duration": 5,
    "start_time": "2023-10-03T10:00:16.449Z"
   },
   {
    "duration": 12,
    "start_time": "2023-10-03T10:00:16.456Z"
   },
   {
    "duration": 209,
    "start_time": "2023-10-03T10:00:16.470Z"
   },
   {
    "duration": 27,
    "start_time": "2023-10-03T10:00:16.682Z"
   },
   {
    "duration": 33,
    "start_time": "2023-10-03T10:00:16.711Z"
   },
   {
    "duration": 41,
    "start_time": "2023-10-03T10:00:16.746Z"
   },
   {
    "duration": 221,
    "start_time": "2023-10-03T10:00:16.789Z"
   },
   {
    "duration": 175,
    "start_time": "2023-10-03T10:00:17.012Z"
   },
   {
    "duration": 171,
    "start_time": "2023-10-03T10:00:17.189Z"
   },
   {
    "duration": 262,
    "start_time": "2023-10-03T10:00:17.361Z"
   },
   {
    "duration": 14,
    "start_time": "2023-10-03T10:00:17.624Z"
   },
   {
    "duration": 23,
    "start_time": "2023-10-03T10:00:17.640Z"
   },
   {
    "duration": 11,
    "start_time": "2023-10-03T10:00:54.711Z"
   },
   {
    "duration": 13,
    "start_time": "2023-10-03T10:02:16.065Z"
   },
   {
    "duration": 4,
    "start_time": "2023-10-03T10:02:26.639Z"
   },
   {
    "duration": 14,
    "start_time": "2023-10-03T10:02:27.688Z"
   },
   {
    "duration": 10,
    "start_time": "2023-10-03T10:02:34.617Z"
   },
   {
    "duration": 21,
    "start_time": "2023-10-03T10:23:40.277Z"
   },
   {
    "duration": 28,
    "start_time": "2023-10-03T10:23:47.706Z"
   },
   {
    "duration": 13,
    "start_time": "2023-10-03T10:26:45.278Z"
   },
   {
    "duration": 30,
    "start_time": "2023-10-03T10:26:59.080Z"
   },
   {
    "duration": 7,
    "start_time": "2023-10-03T10:37:06.925Z"
   },
   {
    "duration": 21,
    "start_time": "2023-10-03T10:37:24.498Z"
   },
   {
    "duration": 33,
    "start_time": "2023-10-03T10:55:01.497Z"
   },
   {
    "duration": 53,
    "start_time": "2023-10-03T10:56:05.124Z"
   },
   {
    "duration": 2,
    "start_time": "2023-10-03T10:56:12.745Z"
   },
   {
    "duration": 81,
    "start_time": "2023-10-03T10:56:12.749Z"
   },
   {
    "duration": 9,
    "start_time": "2023-10-03T10:56:12.832Z"
   },
   {
    "duration": 50,
    "start_time": "2023-10-03T10:56:12.842Z"
   },
   {
    "duration": 11,
    "start_time": "2023-10-03T10:56:12.894Z"
   },
   {
    "duration": 29,
    "start_time": "2023-10-03T10:56:12.907Z"
   },
   {
    "duration": 10,
    "start_time": "2023-10-03T10:56:12.938Z"
   },
   {
    "duration": 22,
    "start_time": "2023-10-03T10:56:12.950Z"
   },
   {
    "duration": 10,
    "start_time": "2023-10-03T10:56:12.974Z"
   },
   {
    "duration": 13,
    "start_time": "2023-10-03T10:56:12.986Z"
   },
   {
    "duration": 35,
    "start_time": "2023-10-03T10:56:13.000Z"
   },
   {
    "duration": 23,
    "start_time": "2023-10-03T10:56:13.037Z"
   },
   {
    "duration": 16,
    "start_time": "2023-10-03T10:56:13.063Z"
   },
   {
    "duration": 19,
    "start_time": "2023-10-03T10:56:13.081Z"
   },
   {
    "duration": 27,
    "start_time": "2023-10-03T10:56:13.101Z"
   },
   {
    "duration": 13,
    "start_time": "2023-10-03T10:56:13.130Z"
   },
   {
    "duration": 142,
    "start_time": "2023-10-03T10:56:13.145Z"
   },
   {
    "duration": 122,
    "start_time": "2023-10-03T10:56:13.288Z"
   },
   {
    "duration": 4,
    "start_time": "2023-10-03T10:56:13.411Z"
   },
   {
    "duration": 13,
    "start_time": "2023-10-03T10:56:13.417Z"
   },
   {
    "duration": 20,
    "start_time": "2023-10-03T10:56:13.432Z"
   },
   {
    "duration": 266,
    "start_time": "2023-10-03T10:56:13.453Z"
   },
   {
    "duration": 5,
    "start_time": "2023-10-03T10:56:13.721Z"
   },
   {
    "duration": 25,
    "start_time": "2023-10-03T10:56:13.727Z"
   },
   {
    "duration": 180,
    "start_time": "2023-10-03T10:56:13.753Z"
   },
   {
    "duration": 4,
    "start_time": "2023-10-03T10:56:13.935Z"
   },
   {
    "duration": 26,
    "start_time": "2023-10-03T10:56:13.941Z"
   },
   {
    "duration": 178,
    "start_time": "2023-10-03T10:56:13.969Z"
   },
   {
    "duration": 23,
    "start_time": "2023-10-03T10:56:14.149Z"
   },
   {
    "duration": 142,
    "start_time": "2023-10-03T10:56:14.174Z"
   },
   {
    "duration": 24,
    "start_time": "2023-10-03T10:56:14.318Z"
   },
   {
    "duration": 192,
    "start_time": "2023-10-03T10:56:14.344Z"
   },
   {
    "duration": 246,
    "start_time": "2023-10-03T10:56:14.537Z"
   },
   {
    "duration": 182,
    "start_time": "2023-10-03T10:56:14.784Z"
   },
   {
    "duration": 161,
    "start_time": "2023-10-03T10:56:14.968Z"
   },
   {
    "duration": 4,
    "start_time": "2023-10-03T10:56:15.131Z"
   },
   {
    "duration": 61,
    "start_time": "2023-10-03T10:56:15.149Z"
   },
   {
    "duration": 48,
    "start_time": "2023-10-03T10:56:15.211Z"
   },
   {
    "duration": 22,
    "start_time": "2023-10-03T10:56:15.260Z"
   },
   {
    "duration": 31,
    "start_time": "2023-10-03T10:56:15.283Z"
   },
   {
    "duration": 491,
    "start_time": "2023-10-03T11:00:27.832Z"
   },
   {
    "duration": 3,
    "start_time": "2023-10-03T11:00:38.532Z"
   },
   {
    "duration": 44,
    "start_time": "2023-10-03T11:00:38.537Z"
   },
   {
    "duration": 11,
    "start_time": "2023-10-03T11:00:38.583Z"
   },
   {
    "duration": 47,
    "start_time": "2023-10-03T11:00:38.596Z"
   },
   {
    "duration": 11,
    "start_time": "2023-10-03T11:00:38.645Z"
   },
   {
    "duration": 23,
    "start_time": "2023-10-03T11:00:38.658Z"
   },
   {
    "duration": 10,
    "start_time": "2023-10-03T11:00:38.683Z"
   },
   {
    "duration": 17,
    "start_time": "2023-10-03T11:00:38.695Z"
   },
   {
    "duration": 26,
    "start_time": "2023-10-03T11:00:38.715Z"
   },
   {
    "duration": 5,
    "start_time": "2023-10-03T11:00:38.743Z"
   },
   {
    "duration": 19,
    "start_time": "2023-10-03T11:00:38.750Z"
   },
   {
    "duration": 19,
    "start_time": "2023-10-03T11:00:38.771Z"
   },
   {
    "duration": 26,
    "start_time": "2023-10-03T11:00:38.792Z"
   },
   {
    "duration": 19,
    "start_time": "2023-10-03T11:00:38.820Z"
   },
   {
    "duration": 19,
    "start_time": "2023-10-03T11:00:38.840Z"
   },
   {
    "duration": 13,
    "start_time": "2023-10-03T11:00:38.861Z"
   },
   {
    "duration": 122,
    "start_time": "2023-10-03T11:00:38.875Z"
   },
   {
    "duration": 126,
    "start_time": "2023-10-03T11:00:38.998Z"
   },
   {
    "duration": 5,
    "start_time": "2023-10-03T11:00:39.126Z"
   },
   {
    "duration": 24,
    "start_time": "2023-10-03T11:00:39.133Z"
   },
   {
    "duration": 30,
    "start_time": "2023-10-03T11:00:39.159Z"
   },
   {
    "duration": 268,
    "start_time": "2023-10-03T11:00:39.190Z"
   },
   {
    "duration": 5,
    "start_time": "2023-10-03T11:00:39.459Z"
   },
   {
    "duration": 32,
    "start_time": "2023-10-03T11:00:39.466Z"
   },
   {
    "duration": 174,
    "start_time": "2023-10-03T11:00:39.499Z"
   },
   {
    "duration": 4,
    "start_time": "2023-10-03T11:00:39.675Z"
   },
   {
    "duration": 23,
    "start_time": "2023-10-03T11:00:39.680Z"
   },
   {
    "duration": 185,
    "start_time": "2023-10-03T11:00:39.705Z"
   },
   {
    "duration": 24,
    "start_time": "2023-10-03T11:00:39.892Z"
   },
   {
    "duration": 31,
    "start_time": "2023-10-03T11:00:39.918Z"
   },
   {
    "duration": 23,
    "start_time": "2023-10-03T11:00:39.951Z"
   },
   {
    "duration": 284,
    "start_time": "2023-10-03T11:00:39.976Z"
   },
   {
    "duration": 181,
    "start_time": "2023-10-03T11:00:40.262Z"
   },
   {
    "duration": 194,
    "start_time": "2023-10-03T11:00:40.444Z"
   },
   {
    "duration": 161,
    "start_time": "2023-10-03T11:00:40.640Z"
   },
   {
    "duration": 4,
    "start_time": "2023-10-03T11:00:40.802Z"
   },
   {
    "duration": 28,
    "start_time": "2023-10-03T11:00:40.807Z"
   },
   {
    "duration": 732,
    "start_time": "2023-10-03T11:00:40.836Z"
   },
   {
    "duration": 0,
    "start_time": "2023-10-03T11:00:41.570Z"
   },
   {
    "duration": 0,
    "start_time": "2023-10-03T11:00:41.572Z"
   },
   {
    "duration": 399,
    "start_time": "2023-10-03T11:01:03.199Z"
   },
   {
    "duration": 2,
    "start_time": "2023-10-03T11:01:13.539Z"
   },
   {
    "duration": 89,
    "start_time": "2023-10-03T11:01:13.543Z"
   },
   {
    "duration": 9,
    "start_time": "2023-10-03T11:01:13.634Z"
   },
   {
    "duration": 46,
    "start_time": "2023-10-03T11:01:13.645Z"
   },
   {
    "duration": 10,
    "start_time": "2023-10-03T11:01:13.693Z"
   },
   {
    "duration": 31,
    "start_time": "2023-10-03T11:01:13.704Z"
   },
   {
    "duration": 9,
    "start_time": "2023-10-03T11:01:13.737Z"
   },
   {
    "duration": 29,
    "start_time": "2023-10-03T11:01:13.748Z"
   },
   {
    "duration": 12,
    "start_time": "2023-10-03T11:01:13.779Z"
   },
   {
    "duration": 14,
    "start_time": "2023-10-03T11:01:13.793Z"
   },
   {
    "duration": 18,
    "start_time": "2023-10-03T11:01:13.809Z"
   },
   {
    "duration": 21,
    "start_time": "2023-10-03T11:01:13.828Z"
   },
   {
    "duration": 23,
    "start_time": "2023-10-03T11:01:13.851Z"
   },
   {
    "duration": 8,
    "start_time": "2023-10-03T11:01:13.876Z"
   },
   {
    "duration": 22,
    "start_time": "2023-10-03T11:01:13.886Z"
   },
   {
    "duration": 44,
    "start_time": "2023-10-03T11:01:13.910Z"
   },
   {
    "duration": 118,
    "start_time": "2023-10-03T11:01:13.956Z"
   },
   {
    "duration": 106,
    "start_time": "2023-10-03T11:01:14.076Z"
   },
   {
    "duration": 4,
    "start_time": "2023-10-03T11:01:14.184Z"
   },
   {
    "duration": 19,
    "start_time": "2023-10-03T11:01:14.189Z"
   },
   {
    "duration": 48,
    "start_time": "2023-10-03T11:01:14.209Z"
   },
   {
    "duration": 303,
    "start_time": "2023-10-03T11:01:14.259Z"
   },
   {
    "duration": 4,
    "start_time": "2023-10-03T11:01:14.564Z"
   },
   {
    "duration": 21,
    "start_time": "2023-10-03T11:01:14.571Z"
   },
   {
    "duration": 163,
    "start_time": "2023-10-03T11:01:14.593Z"
   },
   {
    "duration": 5,
    "start_time": "2023-10-03T11:01:14.757Z"
   },
   {
    "duration": 28,
    "start_time": "2023-10-03T11:01:14.763Z"
   },
   {
    "duration": 260,
    "start_time": "2023-10-03T11:01:14.793Z"
   },
   {
    "duration": 24,
    "start_time": "2023-10-03T11:01:15.054Z"
   },
   {
    "duration": 30,
    "start_time": "2023-10-03T11:01:15.079Z"
   },
   {
    "duration": 22,
    "start_time": "2023-10-03T11:01:15.111Z"
   },
   {
    "duration": 190,
    "start_time": "2023-10-03T11:01:15.134Z"
   },
   {
    "duration": 158,
    "start_time": "2023-10-03T11:01:15.326Z"
   },
   {
    "duration": 174,
    "start_time": "2023-10-03T11:01:15.485Z"
   },
   {
    "duration": 157,
    "start_time": "2023-10-03T11:01:15.660Z"
   },
   {
    "duration": 3,
    "start_time": "2023-10-03T11:01:15.818Z"
   },
   {
    "duration": 34,
    "start_time": "2023-10-03T11:01:15.823Z"
   },
   {
    "duration": 633,
    "start_time": "2023-10-03T11:01:15.859Z"
   },
   {
    "duration": 0,
    "start_time": "2023-10-03T11:01:16.493Z"
   },
   {
    "duration": 0,
    "start_time": "2023-10-03T11:01:16.495Z"
   },
   {
    "duration": 23,
    "start_time": "2023-10-03T11:04:22.220Z"
   },
   {
    "duration": 10,
    "start_time": "2023-10-03T11:08:20.791Z"
   },
   {
    "duration": 3,
    "start_time": "2023-10-03T11:08:48.911Z"
   },
   {
    "duration": 73,
    "start_time": "2023-10-03T11:08:48.916Z"
   },
   {
    "duration": 10,
    "start_time": "2023-10-03T11:08:48.991Z"
   },
   {
    "duration": 70,
    "start_time": "2023-10-03T11:08:49.002Z"
   },
   {
    "duration": 11,
    "start_time": "2023-10-03T11:08:49.073Z"
   },
   {
    "duration": 41,
    "start_time": "2023-10-03T11:08:49.087Z"
   },
   {
    "duration": 35,
    "start_time": "2023-10-03T11:08:49.130Z"
   },
   {
    "duration": 26,
    "start_time": "2023-10-03T11:08:49.166Z"
   },
   {
    "duration": 24,
    "start_time": "2023-10-03T11:08:49.194Z"
   },
   {
    "duration": 9,
    "start_time": "2023-10-03T11:08:49.220Z"
   },
   {
    "duration": 14,
    "start_time": "2023-10-03T11:08:49.230Z"
   },
   {
    "duration": 16,
    "start_time": "2023-10-03T11:08:49.246Z"
   },
   {
    "duration": 48,
    "start_time": "2023-10-03T11:08:49.263Z"
   },
   {
    "duration": 31,
    "start_time": "2023-10-03T11:08:49.313Z"
   },
   {
    "duration": 15,
    "start_time": "2023-10-03T11:08:49.346Z"
   },
   {
    "duration": 22,
    "start_time": "2023-10-03T11:08:49.362Z"
   },
   {
    "duration": 135,
    "start_time": "2023-10-03T11:08:49.386Z"
   },
   {
    "duration": 123,
    "start_time": "2023-10-03T11:08:49.523Z"
   },
   {
    "duration": 4,
    "start_time": "2023-10-03T11:08:49.650Z"
   },
   {
    "duration": 24,
    "start_time": "2023-10-03T11:08:49.656Z"
   },
   {
    "duration": 17,
    "start_time": "2023-10-03T11:08:49.681Z"
   },
   {
    "duration": 273,
    "start_time": "2023-10-03T11:08:49.700Z"
   },
   {
    "duration": 5,
    "start_time": "2023-10-03T11:08:49.975Z"
   },
   {
    "duration": 14,
    "start_time": "2023-10-03T11:08:49.984Z"
   },
   {
    "duration": 184,
    "start_time": "2023-10-03T11:08:50.000Z"
   },
   {
    "duration": 5,
    "start_time": "2023-10-03T11:08:50.186Z"
   },
   {
    "duration": 41,
    "start_time": "2023-10-03T11:08:50.192Z"
   },
   {
    "duration": 175,
    "start_time": "2023-10-03T11:08:50.234Z"
   },
   {
    "duration": 25,
    "start_time": "2023-10-03T11:08:50.410Z"
   },
   {
    "duration": 30,
    "start_time": "2023-10-03T11:08:50.436Z"
   },
   {
    "duration": 31,
    "start_time": "2023-10-03T11:08:50.468Z"
   },
   {
    "duration": 268,
    "start_time": "2023-10-03T11:08:50.501Z"
   },
   {
    "duration": 166,
    "start_time": "2023-10-03T11:08:50.771Z"
   },
   {
    "duration": 180,
    "start_time": "2023-10-03T11:08:50.939Z"
   },
   {
    "duration": 160,
    "start_time": "2023-10-03T11:08:51.121Z"
   },
   {
    "duration": 4,
    "start_time": "2023-10-03T11:08:51.283Z"
   },
   {
    "duration": 39,
    "start_time": "2023-10-03T11:08:51.289Z"
   },
   {
    "duration": 13,
    "start_time": "2023-10-03T11:08:51.330Z"
   },
   {
    "duration": 719,
    "start_time": "2023-10-03T11:08:51.345Z"
   },
   {
    "duration": 0,
    "start_time": "2023-10-03T11:08:52.066Z"
   },
   {
    "duration": 0,
    "start_time": "2023-10-03T11:08:52.067Z"
   },
   {
    "duration": 32,
    "start_time": "2023-10-03T11:10:44.644Z"
   },
   {
    "duration": 3,
    "start_time": "2023-10-03T11:10:50.497Z"
   },
   {
    "duration": 51,
    "start_time": "2023-10-03T11:10:50.502Z"
   },
   {
    "duration": 10,
    "start_time": "2023-10-03T11:10:50.555Z"
   },
   {
    "duration": 47,
    "start_time": "2023-10-03T11:10:50.566Z"
   },
   {
    "duration": 10,
    "start_time": "2023-10-03T11:10:50.615Z"
   },
   {
    "duration": 40,
    "start_time": "2023-10-03T11:10:50.626Z"
   },
   {
    "duration": 15,
    "start_time": "2023-10-03T11:10:50.667Z"
   },
   {
    "duration": 30,
    "start_time": "2023-10-03T11:10:50.684Z"
   },
   {
    "duration": 20,
    "start_time": "2023-10-03T11:10:50.716Z"
   },
   {
    "duration": 26,
    "start_time": "2023-10-03T11:10:50.737Z"
   },
   {
    "duration": 19,
    "start_time": "2023-10-03T11:10:50.764Z"
   },
   {
    "duration": 15,
    "start_time": "2023-10-03T11:10:50.785Z"
   },
   {
    "duration": 37,
    "start_time": "2023-10-03T11:10:50.802Z"
   },
   {
    "duration": 32,
    "start_time": "2023-10-03T11:10:50.840Z"
   },
   {
    "duration": 53,
    "start_time": "2023-10-03T11:10:50.874Z"
   },
   {
    "duration": 10,
    "start_time": "2023-10-03T11:10:50.928Z"
   },
   {
    "duration": 109,
    "start_time": "2023-10-03T11:10:50.940Z"
   },
   {
    "duration": 103,
    "start_time": "2023-10-03T11:10:51.050Z"
   },
   {
    "duration": 4,
    "start_time": "2023-10-03T11:10:51.155Z"
   },
   {
    "duration": 35,
    "start_time": "2023-10-03T11:10:51.160Z"
   },
   {
    "duration": 34,
    "start_time": "2023-10-03T11:10:51.196Z"
   },
   {
    "duration": 250,
    "start_time": "2023-10-03T11:10:51.231Z"
   },
   {
    "duration": 5,
    "start_time": "2023-10-03T11:10:51.483Z"
   },
   {
    "duration": 24,
    "start_time": "2023-10-03T11:10:51.490Z"
   },
   {
    "duration": 201,
    "start_time": "2023-10-03T11:10:51.515Z"
   },
   {
    "duration": 4,
    "start_time": "2023-10-03T11:10:51.717Z"
   },
   {
    "duration": 33,
    "start_time": "2023-10-03T11:10:51.722Z"
   },
   {
    "duration": 272,
    "start_time": "2023-10-03T11:10:51.756Z"
   },
   {
    "duration": 28,
    "start_time": "2023-10-03T11:10:52.029Z"
   },
   {
    "duration": 27,
    "start_time": "2023-10-03T11:10:52.059Z"
   },
   {
    "duration": 34,
    "start_time": "2023-10-03T11:10:52.088Z"
   },
   {
    "duration": 170,
    "start_time": "2023-10-03T11:10:52.124Z"
   },
   {
    "duration": 158,
    "start_time": "2023-10-03T11:10:52.296Z"
   },
   {
    "duration": 159,
    "start_time": "2023-10-03T11:10:52.456Z"
   },
   {
    "duration": 158,
    "start_time": "2023-10-03T11:10:52.617Z"
   },
   {
    "duration": 4,
    "start_time": "2023-10-03T11:10:52.776Z"
   },
   {
    "duration": 33,
    "start_time": "2023-10-03T11:10:52.781Z"
   },
   {
    "duration": 44,
    "start_time": "2023-10-03T11:10:52.815Z"
   },
   {
    "duration": 19,
    "start_time": "2023-10-03T11:10:52.860Z"
   },
   {
    "duration": 43,
    "start_time": "2023-10-03T11:10:52.881Z"
   },
   {
    "duration": 37,
    "start_time": "2023-10-03T11:14:10.745Z"
   },
   {
    "duration": 40,
    "start_time": "2023-10-03T11:14:24.507Z"
   },
   {
    "duration": 73,
    "start_time": "2023-10-03T11:14:32.086Z"
   },
   {
    "duration": 3,
    "start_time": "2023-10-03T11:14:47.589Z"
   },
   {
    "duration": 63,
    "start_time": "2023-10-03T11:14:47.594Z"
   },
   {
    "duration": 9,
    "start_time": "2023-10-03T11:14:47.658Z"
   },
   {
    "duration": 79,
    "start_time": "2023-10-03T11:14:47.668Z"
   },
   {
    "duration": 11,
    "start_time": "2023-10-03T11:14:47.749Z"
   },
   {
    "duration": 59,
    "start_time": "2023-10-03T11:14:47.761Z"
   },
   {
    "duration": 47,
    "start_time": "2023-10-03T11:14:47.821Z"
   },
   {
    "duration": 28,
    "start_time": "2023-10-03T11:14:47.869Z"
   },
   {
    "duration": 10,
    "start_time": "2023-10-03T11:14:47.899Z"
   },
   {
    "duration": 27,
    "start_time": "2023-10-03T11:14:47.910Z"
   },
   {
    "duration": 23,
    "start_time": "2023-10-03T11:14:47.939Z"
   },
   {
    "duration": 23,
    "start_time": "2023-10-03T11:14:47.964Z"
   },
   {
    "duration": 34,
    "start_time": "2023-10-03T11:14:47.989Z"
   },
   {
    "duration": 28,
    "start_time": "2023-10-03T11:14:48.026Z"
   },
   {
    "duration": 25,
    "start_time": "2023-10-03T11:14:48.056Z"
   },
   {
    "duration": 49,
    "start_time": "2023-10-03T11:14:48.083Z"
   },
   {
    "duration": 143,
    "start_time": "2023-10-03T11:14:48.134Z"
   },
   {
    "duration": 111,
    "start_time": "2023-10-03T11:14:48.279Z"
   },
   {
    "duration": 4,
    "start_time": "2023-10-03T11:14:48.393Z"
   },
   {
    "duration": 29,
    "start_time": "2023-10-03T11:14:48.399Z"
   },
   {
    "duration": 18,
    "start_time": "2023-10-03T11:14:48.429Z"
   },
   {
    "duration": 252,
    "start_time": "2023-10-03T11:14:48.449Z"
   },
   {
    "duration": 4,
    "start_time": "2023-10-03T11:14:48.702Z"
   },
   {
    "duration": 13,
    "start_time": "2023-10-03T11:14:48.707Z"
   },
   {
    "duration": 172,
    "start_time": "2023-10-03T11:14:48.721Z"
   },
   {
    "duration": 4,
    "start_time": "2023-10-03T11:14:48.895Z"
   },
   {
    "duration": 7,
    "start_time": "2023-10-03T11:14:48.900Z"
   },
   {
    "duration": 159,
    "start_time": "2023-10-03T11:14:48.909Z"
   },
   {
    "duration": 26,
    "start_time": "2023-10-03T11:14:49.071Z"
   },
   {
    "duration": 67,
    "start_time": "2023-10-03T11:14:49.098Z"
   },
   {
    "duration": 13,
    "start_time": "2023-10-03T11:14:49.167Z"
   },
   {
    "duration": 270,
    "start_time": "2023-10-03T11:14:49.182Z"
   },
   {
    "duration": 157,
    "start_time": "2023-10-03T11:14:49.454Z"
   },
   {
    "duration": 168,
    "start_time": "2023-10-03T11:14:49.613Z"
   },
   {
    "duration": 163,
    "start_time": "2023-10-03T11:14:49.783Z"
   },
   {
    "duration": 3,
    "start_time": "2023-10-03T11:14:49.949Z"
   },
   {
    "duration": 27,
    "start_time": "2023-10-03T11:14:49.954Z"
   },
   {
    "duration": 36,
    "start_time": "2023-10-03T11:14:49.983Z"
   },
   {
    "duration": 31,
    "start_time": "2023-10-03T11:14:50.021Z"
   },
   {
    "duration": 22,
    "start_time": "2023-10-03T11:14:50.054Z"
   },
   {
    "duration": 14,
    "start_time": "2023-10-03T11:16:09.738Z"
   },
   {
    "duration": 14,
    "start_time": "2023-10-03T11:17:11.330Z"
   },
   {
    "duration": 53,
    "start_time": "2023-10-03T11:17:29.133Z"
   },
   {
    "duration": 382,
    "start_time": "2023-10-03T11:17:48.313Z"
   },
   {
    "duration": 2,
    "start_time": "2023-10-03T11:17:59.820Z"
   },
   {
    "duration": 90,
    "start_time": "2023-10-03T11:17:59.824Z"
   },
   {
    "duration": 9,
    "start_time": "2023-10-03T11:17:59.916Z"
   },
   {
    "duration": 50,
    "start_time": "2023-10-03T11:17:59.927Z"
   },
   {
    "duration": 10,
    "start_time": "2023-10-03T11:17:59.979Z"
   },
   {
    "duration": 101,
    "start_time": "2023-10-03T11:17:59.991Z"
   },
   {
    "duration": 39,
    "start_time": "2023-10-03T11:18:00.094Z"
   },
   {
    "duration": 66,
    "start_time": "2023-10-03T11:18:00.135Z"
   },
   {
    "duration": 45,
    "start_time": "2023-10-03T11:18:00.204Z"
   },
   {
    "duration": 84,
    "start_time": "2023-10-03T11:18:00.251Z"
   },
   {
    "duration": 46,
    "start_time": "2023-10-03T11:18:00.337Z"
   },
   {
    "duration": 49,
    "start_time": "2023-10-03T11:18:00.385Z"
   },
   {
    "duration": 87,
    "start_time": "2023-10-03T11:18:00.437Z"
   },
   {
    "duration": 55,
    "start_time": "2023-10-03T11:18:00.525Z"
   },
   {
    "duration": 48,
    "start_time": "2023-10-03T11:18:00.581Z"
   },
   {
    "duration": 55,
    "start_time": "2023-10-03T11:18:00.630Z"
   },
   {
    "duration": 153,
    "start_time": "2023-10-03T11:18:00.686Z"
   },
   {
    "duration": 136,
    "start_time": "2023-10-03T11:18:00.840Z"
   },
   {
    "duration": 5,
    "start_time": "2023-10-03T11:18:00.977Z"
   },
   {
    "duration": 84,
    "start_time": "2023-10-03T11:18:00.984Z"
   },
   {
    "duration": 64,
    "start_time": "2023-10-03T11:18:01.070Z"
   },
   {
    "duration": 348,
    "start_time": "2023-10-03T11:18:01.136Z"
   },
   {
    "duration": 5,
    "start_time": "2023-10-03T11:18:01.486Z"
   },
   {
    "duration": 84,
    "start_time": "2023-10-03T11:18:01.493Z"
   },
   {
    "duration": 343,
    "start_time": "2023-10-03T11:18:01.579Z"
   },
   {
    "duration": 4,
    "start_time": "2023-10-03T11:18:01.924Z"
   },
   {
    "duration": 795,
    "start_time": "2023-10-03T11:18:01.930Z"
   },
   {
    "duration": 362,
    "start_time": "2023-10-03T11:18:02.727Z"
   },
   {
    "duration": 23,
    "start_time": "2023-10-03T11:18:03.091Z"
   },
   {
    "duration": 65,
    "start_time": "2023-10-03T11:18:03.116Z"
   },
   {
    "duration": 33,
    "start_time": "2023-10-03T11:18:03.183Z"
   },
   {
    "duration": 177,
    "start_time": "2023-10-03T11:18:03.218Z"
   },
   {
    "duration": 263,
    "start_time": "2023-10-03T11:18:03.396Z"
   },
   {
    "duration": 158,
    "start_time": "2023-10-03T11:18:03.660Z"
   },
   {
    "duration": 155,
    "start_time": "2023-10-03T11:18:03.819Z"
   },
   {
    "duration": 3,
    "start_time": "2023-10-03T11:18:03.976Z"
   },
   {
    "duration": 23,
    "start_time": "2023-10-03T11:18:03.981Z"
   },
   {
    "duration": 39,
    "start_time": "2023-10-03T11:18:04.006Z"
   },
   {
    "duration": 23,
    "start_time": "2023-10-03T11:18:04.047Z"
   },
   {
    "duration": 34,
    "start_time": "2023-10-03T11:18:04.072Z"
   },
   {
    "duration": 43,
    "start_time": "2023-10-03T11:23:27.131Z"
   },
   {
    "duration": 37,
    "start_time": "2023-10-03T11:31:16.815Z"
   },
   {
    "duration": 47,
    "start_time": "2023-10-03T11:31:32.949Z"
   },
   {
    "duration": 36,
    "start_time": "2023-10-03T11:33:27.027Z"
   },
   {
    "duration": 2,
    "start_time": "2023-10-03T11:33:30.586Z"
   },
   {
    "duration": 118,
    "start_time": "2023-10-03T11:33:30.590Z"
   },
   {
    "duration": 128,
    "start_time": "2023-10-03T11:33:30.710Z"
   },
   {
    "duration": 81,
    "start_time": "2023-10-03T11:33:30.840Z"
   },
   {
    "duration": 42,
    "start_time": "2023-10-03T11:33:30.923Z"
   },
   {
    "duration": 98,
    "start_time": "2023-10-03T11:33:30.966Z"
   },
   {
    "duration": 55,
    "start_time": "2023-10-03T11:33:31.066Z"
   },
   {
    "duration": 94,
    "start_time": "2023-10-03T11:33:31.122Z"
   },
   {
    "duration": 59,
    "start_time": "2023-10-03T11:33:31.218Z"
   },
   {
    "duration": 419,
    "start_time": "2023-10-03T11:33:31.279Z"
   },
   {
    "duration": 93,
    "start_time": "2023-10-03T11:33:31.700Z"
   },
   {
    "duration": 77,
    "start_time": "2023-10-03T11:33:31.794Z"
   },
   {
    "duration": 24,
    "start_time": "2023-10-03T11:33:31.873Z"
   },
   {
    "duration": 26,
    "start_time": "2023-10-03T11:33:31.900Z"
   },
   {
    "duration": 36,
    "start_time": "2023-10-03T11:33:31.928Z"
   },
   {
    "duration": 25,
    "start_time": "2023-10-03T11:33:31.966Z"
   },
   {
    "duration": 119,
    "start_time": "2023-10-03T11:33:31.993Z"
   },
   {
    "duration": 110,
    "start_time": "2023-10-03T11:33:32.114Z"
   },
   {
    "duration": 11,
    "start_time": "2023-10-03T11:33:32.225Z"
   },
   {
    "duration": 156,
    "start_time": "2023-10-03T11:33:32.237Z"
   },
   {
    "duration": 32,
    "start_time": "2023-10-03T11:33:32.394Z"
   },
   {
    "duration": 269,
    "start_time": "2023-10-03T11:33:32.428Z"
   },
   {
    "duration": 5,
    "start_time": "2023-10-03T11:33:32.699Z"
   },
   {
    "duration": 51,
    "start_time": "2023-10-03T11:33:32.705Z"
   },
   {
    "duration": 190,
    "start_time": "2023-10-03T11:33:32.758Z"
   },
   {
    "duration": 5,
    "start_time": "2023-10-03T11:33:32.950Z"
   },
   {
    "duration": 27,
    "start_time": "2023-10-03T11:33:32.956Z"
   },
   {
    "duration": 171,
    "start_time": "2023-10-03T11:33:32.985Z"
   },
   {
    "duration": 23,
    "start_time": "2023-10-03T11:33:33.158Z"
   },
   {
    "duration": 23,
    "start_time": "2023-10-03T11:33:33.182Z"
   },
   {
    "duration": 13,
    "start_time": "2023-10-03T11:33:33.207Z"
   },
   {
    "duration": 185,
    "start_time": "2023-10-03T11:33:33.221Z"
   },
   {
    "duration": 154,
    "start_time": "2023-10-03T11:33:33.408Z"
   },
   {
    "duration": 262,
    "start_time": "2023-10-03T11:33:33.564Z"
   },
   {
    "duration": 163,
    "start_time": "2023-10-03T11:33:33.828Z"
   },
   {
    "duration": 3,
    "start_time": "2023-10-03T11:33:33.993Z"
   },
   {
    "duration": 34,
    "start_time": "2023-10-03T11:33:33.998Z"
   },
   {
    "duration": 52,
    "start_time": "2023-10-03T11:33:34.033Z"
   },
   {
    "duration": 21,
    "start_time": "2023-10-03T11:33:34.087Z"
   },
   {
    "duration": 28,
    "start_time": "2023-10-03T11:43:32.607Z"
   },
   {
    "duration": 13,
    "start_time": "2023-10-03T11:47:39.204Z"
   },
   {
    "duration": 11,
    "start_time": "2023-10-03T11:47:59.620Z"
   },
   {
    "duration": 12,
    "start_time": "2023-10-03T11:48:31.172Z"
   },
   {
    "duration": 11,
    "start_time": "2023-10-03T11:48:53.218Z"
   },
   {
    "duration": 22,
    "start_time": "2023-10-03T11:49:16.778Z"
   },
   {
    "duration": 3,
    "start_time": "2023-10-03T11:49:39.649Z"
   },
   {
    "duration": 49,
    "start_time": "2023-10-03T11:49:39.654Z"
   },
   {
    "duration": 11,
    "start_time": "2023-10-03T11:49:39.705Z"
   },
   {
    "duration": 38,
    "start_time": "2023-10-03T11:49:39.718Z"
   },
   {
    "duration": 9,
    "start_time": "2023-10-03T11:49:39.758Z"
   },
   {
    "duration": 29,
    "start_time": "2023-10-03T11:49:39.768Z"
   },
   {
    "duration": 8,
    "start_time": "2023-10-03T11:49:39.799Z"
   },
   {
    "duration": 23,
    "start_time": "2023-10-03T11:49:39.808Z"
   },
   {
    "duration": 16,
    "start_time": "2023-10-03T11:49:39.833Z"
   },
   {
    "duration": 18,
    "start_time": "2023-10-03T11:49:39.850Z"
   },
   {
    "duration": 34,
    "start_time": "2023-10-03T11:49:39.870Z"
   },
   {
    "duration": 15,
    "start_time": "2023-10-03T11:49:39.905Z"
   },
   {
    "duration": 44,
    "start_time": "2023-10-03T11:49:39.921Z"
   },
   {
    "duration": 18,
    "start_time": "2023-10-03T11:49:39.967Z"
   },
   {
    "duration": 44,
    "start_time": "2023-10-03T11:49:39.986Z"
   },
   {
    "duration": 16,
    "start_time": "2023-10-03T11:49:40.031Z"
   },
   {
    "duration": 125,
    "start_time": "2023-10-03T11:49:40.049Z"
   },
   {
    "duration": 102,
    "start_time": "2023-10-03T11:49:40.175Z"
   },
   {
    "duration": 4,
    "start_time": "2023-10-03T11:49:40.279Z"
   },
   {
    "duration": 11,
    "start_time": "2023-10-03T11:49:40.284Z"
   },
   {
    "duration": 40,
    "start_time": "2023-10-03T11:49:40.297Z"
   },
   {
    "duration": 254,
    "start_time": "2023-10-03T11:49:40.338Z"
   },
   {
    "duration": 5,
    "start_time": "2023-10-03T11:49:40.594Z"
   },
   {
    "duration": 6,
    "start_time": "2023-10-03T11:49:40.600Z"
   },
   {
    "duration": 171,
    "start_time": "2023-10-03T11:49:40.607Z"
   },
   {
    "duration": 5,
    "start_time": "2023-10-03T11:49:40.780Z"
   },
   {
    "duration": 21,
    "start_time": "2023-10-03T11:49:40.786Z"
   },
   {
    "duration": 170,
    "start_time": "2023-10-03T11:49:40.808Z"
   },
   {
    "duration": 22,
    "start_time": "2023-10-03T11:49:40.982Z"
   },
   {
    "duration": 16,
    "start_time": "2023-10-03T11:49:41.006Z"
   },
   {
    "duration": 25,
    "start_time": "2023-10-03T11:49:41.024Z"
   },
   {
    "duration": 179,
    "start_time": "2023-10-03T11:49:41.051Z"
   },
   {
    "duration": 169,
    "start_time": "2023-10-03T11:49:41.232Z"
   },
   {
    "duration": 181,
    "start_time": "2023-10-03T11:49:41.403Z"
   },
   {
    "duration": 270,
    "start_time": "2023-10-03T11:49:41.585Z"
   },
   {
    "duration": 4,
    "start_time": "2023-10-03T11:49:41.856Z"
   },
   {
    "duration": 28,
    "start_time": "2023-10-03T11:49:41.861Z"
   },
   {
    "duration": 31,
    "start_time": "2023-10-03T11:49:41.890Z"
   },
   {
    "duration": 16,
    "start_time": "2023-10-03T11:49:41.922Z"
   },
   {
    "duration": 12,
    "start_time": "2023-10-03T11:50:33.189Z"
   },
   {
    "duration": 2,
    "start_time": "2023-10-03T11:50:38.896Z"
   },
   {
    "duration": 52,
    "start_time": "2023-10-03T11:50:38.903Z"
   },
   {
    "duration": 10,
    "start_time": "2023-10-03T11:50:38.957Z"
   },
   {
    "duration": 58,
    "start_time": "2023-10-03T11:50:38.968Z"
   },
   {
    "duration": 11,
    "start_time": "2023-10-03T11:50:39.029Z"
   },
   {
    "duration": 37,
    "start_time": "2023-10-03T11:50:39.042Z"
   },
   {
    "duration": 66,
    "start_time": "2023-10-03T11:50:39.081Z"
   },
   {
    "duration": 30,
    "start_time": "2023-10-03T11:50:39.148Z"
   },
   {
    "duration": 20,
    "start_time": "2023-10-03T11:50:39.180Z"
   },
   {
    "duration": 83,
    "start_time": "2023-10-03T11:50:39.202Z"
   },
   {
    "duration": 17,
    "start_time": "2023-10-03T11:50:39.289Z"
   },
   {
    "duration": 11,
    "start_time": "2023-10-03T11:50:39.307Z"
   },
   {
    "duration": 19,
    "start_time": "2023-10-03T11:50:39.320Z"
   },
   {
    "duration": 7,
    "start_time": "2023-10-03T11:50:39.341Z"
   },
   {
    "duration": 27,
    "start_time": "2023-10-03T11:50:39.350Z"
   },
   {
    "duration": 11,
    "start_time": "2023-10-03T11:50:39.379Z"
   },
   {
    "duration": 113,
    "start_time": "2023-10-03T11:50:39.392Z"
   },
   {
    "duration": 110,
    "start_time": "2023-10-03T11:50:39.507Z"
   },
   {
    "duration": 4,
    "start_time": "2023-10-03T11:50:39.618Z"
   },
   {
    "duration": 46,
    "start_time": "2023-10-03T11:50:39.624Z"
   },
   {
    "duration": 13,
    "start_time": "2023-10-03T11:50:39.672Z"
   },
   {
    "duration": 293,
    "start_time": "2023-10-03T11:50:39.688Z"
   },
   {
    "duration": 4,
    "start_time": "2023-10-03T11:50:39.983Z"
   },
   {
    "duration": 29,
    "start_time": "2023-10-03T11:50:39.988Z"
   },
   {
    "duration": 161,
    "start_time": "2023-10-03T11:50:40.018Z"
   },
   {
    "duration": 5,
    "start_time": "2023-10-03T11:50:40.180Z"
   },
   {
    "duration": 29,
    "start_time": "2023-10-03T11:50:40.186Z"
   },
   {
    "duration": 172,
    "start_time": "2023-10-03T11:50:40.216Z"
   },
   {
    "duration": 24,
    "start_time": "2023-10-03T11:50:40.391Z"
   },
   {
    "duration": 15,
    "start_time": "2023-10-03T11:50:40.417Z"
   },
   {
    "duration": 31,
    "start_time": "2023-10-03T11:50:40.433Z"
   },
   {
    "duration": 170,
    "start_time": "2023-10-03T11:50:40.466Z"
   },
   {
    "duration": 155,
    "start_time": "2023-10-03T11:50:40.638Z"
   },
   {
    "duration": 172,
    "start_time": "2023-10-03T11:50:40.795Z"
   },
   {
    "duration": 161,
    "start_time": "2023-10-03T11:50:40.969Z"
   },
   {
    "duration": 4,
    "start_time": "2023-10-03T11:50:41.131Z"
   },
   {
    "duration": 118,
    "start_time": "2023-10-03T11:50:41.136Z"
   },
   {
    "duration": 177,
    "start_time": "2023-10-03T11:50:41.255Z"
   },
   {
    "duration": 18,
    "start_time": "2023-10-03T11:50:41.433Z"
   },
   {
    "duration": 12,
    "start_time": "2023-10-03T11:50:52.251Z"
   },
   {
    "duration": 12,
    "start_time": "2023-10-03T11:50:54.716Z"
   },
   {
    "duration": 611,
    "start_time": "2023-10-03T11:51:04.966Z"
   },
   {
    "duration": 38,
    "start_time": "2023-10-03T11:51:05.579Z"
   },
   {
    "duration": 11,
    "start_time": "2023-10-03T11:51:05.618Z"
   },
   {
    "duration": 65,
    "start_time": "2023-10-03T11:51:05.630Z"
   },
   {
    "duration": 10,
    "start_time": "2023-10-03T11:51:05.697Z"
   },
   {
    "duration": 40,
    "start_time": "2023-10-03T11:51:05.708Z"
   },
   {
    "duration": 10,
    "start_time": "2023-10-03T11:51:05.749Z"
   },
   {
    "duration": 50,
    "start_time": "2023-10-03T11:51:05.760Z"
   },
   {
    "duration": 38,
    "start_time": "2023-10-03T11:51:05.812Z"
   },
   {
    "duration": 16,
    "start_time": "2023-10-03T11:51:05.852Z"
   },
   {
    "duration": 17,
    "start_time": "2023-10-03T11:51:05.870Z"
   },
   {
    "duration": 21,
    "start_time": "2023-10-03T11:51:05.888Z"
   },
   {
    "duration": 48,
    "start_time": "2023-10-03T11:51:05.911Z"
   },
   {
    "duration": 22,
    "start_time": "2023-10-03T11:51:05.963Z"
   },
   {
    "duration": 77,
    "start_time": "2023-10-03T11:51:05.987Z"
   },
   {
    "duration": 35,
    "start_time": "2023-10-03T11:51:06.067Z"
   },
   {
    "duration": 145,
    "start_time": "2023-10-03T11:51:06.104Z"
   },
   {
    "duration": 131,
    "start_time": "2023-10-03T11:51:06.251Z"
   },
   {
    "duration": 4,
    "start_time": "2023-10-03T11:51:06.384Z"
   },
   {
    "duration": 8,
    "start_time": "2023-10-03T11:51:06.389Z"
   },
   {
    "duration": 19,
    "start_time": "2023-10-03T11:51:06.398Z"
   },
   {
    "duration": 273,
    "start_time": "2023-10-03T11:51:06.418Z"
   },
   {
    "duration": 4,
    "start_time": "2023-10-03T11:51:06.693Z"
   },
   {
    "duration": 26,
    "start_time": "2023-10-03T11:51:06.698Z"
   },
   {
    "duration": 170,
    "start_time": "2023-10-03T11:51:06.726Z"
   },
   {
    "duration": 5,
    "start_time": "2023-10-03T11:51:06.897Z"
   },
   {
    "duration": 29,
    "start_time": "2023-10-03T11:51:06.903Z"
   },
   {
    "duration": 212,
    "start_time": "2023-10-03T11:51:06.934Z"
   },
   {
    "duration": 26,
    "start_time": "2023-10-03T11:51:07.149Z"
   },
   {
    "duration": 29,
    "start_time": "2023-10-03T11:51:07.176Z"
   },
   {
    "duration": 119,
    "start_time": "2023-10-03T11:51:07.207Z"
   },
   {
    "duration": 180,
    "start_time": "2023-10-03T11:51:07.328Z"
   },
   {
    "duration": 158,
    "start_time": "2023-10-03T11:51:07.510Z"
   },
   {
    "duration": 166,
    "start_time": "2023-10-03T11:51:07.669Z"
   },
   {
    "duration": 249,
    "start_time": "2023-10-03T11:51:07.836Z"
   },
   {
    "duration": 4,
    "start_time": "2023-10-03T11:51:08.086Z"
   },
   {
    "duration": 31,
    "start_time": "2023-10-03T11:51:08.091Z"
   },
   {
    "duration": 30,
    "start_time": "2023-10-03T11:51:08.150Z"
   },
   {
    "duration": 94,
    "start_time": "2023-10-03T11:51:08.181Z"
   },
   {
    "duration": 34,
    "start_time": "2023-10-03T11:51:46.341Z"
   },
   {
    "duration": 11,
    "start_time": "2023-10-03T11:52:03.970Z"
   },
   {
    "duration": 8,
    "start_time": "2023-10-03T11:52:18.797Z"
   },
   {
    "duration": 14,
    "start_time": "2023-10-03T11:52:31.960Z"
   },
   {
    "duration": 17,
    "start_time": "2023-10-03T11:52:37.876Z"
   },
   {
    "duration": 180,
    "start_time": "2023-10-03T11:58:09.875Z"
   },
   {
    "duration": 111,
    "start_time": "2023-10-03T11:58:21.572Z"
   },
   {
    "duration": 15,
    "start_time": "2023-10-03T11:59:38.872Z"
   },
   {
    "duration": 28,
    "start_time": "2023-10-03T12:00:06.324Z"
   },
   {
    "duration": 19,
    "start_time": "2023-10-03T12:00:22.015Z"
   },
   {
    "duration": 834,
    "start_time": "2023-10-03T12:16:04.602Z"
   },
   {
    "duration": 454,
    "start_time": "2023-10-03T12:18:25.760Z"
   },
   {
    "duration": 384,
    "start_time": "2023-10-03T12:18:51.170Z"
   },
   {
    "duration": 31,
    "start_time": "2023-10-03T12:22:58.263Z"
   },
   {
    "duration": 26,
    "start_time": "2023-10-03T12:27:39.209Z"
   },
   {
    "duration": 12,
    "start_time": "2023-10-03T12:40:36.720Z"
   },
   {
    "duration": 4,
    "start_time": "2023-10-03T12:40:51.217Z"
   },
   {
    "duration": 92,
    "start_time": "2023-10-03T12:40:51.223Z"
   },
   {
    "duration": 14,
    "start_time": "2023-10-03T12:40:51.317Z"
   },
   {
    "duration": 59,
    "start_time": "2023-10-03T12:40:51.334Z"
   },
   {
    "duration": 12,
    "start_time": "2023-10-03T12:40:51.395Z"
   },
   {
    "duration": 57,
    "start_time": "2023-10-03T12:40:51.409Z"
   },
   {
    "duration": 10,
    "start_time": "2023-10-03T12:40:51.468Z"
   },
   {
    "duration": 46,
    "start_time": "2023-10-03T12:40:51.480Z"
   },
   {
    "duration": 38,
    "start_time": "2023-10-03T12:40:51.530Z"
   },
   {
    "duration": 22,
    "start_time": "2023-10-03T12:40:51.570Z"
   },
   {
    "duration": 35,
    "start_time": "2023-10-03T12:40:51.594Z"
   },
   {
    "duration": 36,
    "start_time": "2023-10-03T12:40:51.630Z"
   },
   {
    "duration": 25,
    "start_time": "2023-10-03T12:40:51.667Z"
   },
   {
    "duration": 27,
    "start_time": "2023-10-03T12:40:51.694Z"
   },
   {
    "duration": 50,
    "start_time": "2023-10-03T12:40:51.722Z"
   },
   {
    "duration": 23,
    "start_time": "2023-10-03T12:40:51.773Z"
   },
   {
    "duration": 134,
    "start_time": "2023-10-03T12:40:51.798Z"
   },
   {
    "duration": 108,
    "start_time": "2023-10-03T12:40:51.934Z"
   },
   {
    "duration": 4,
    "start_time": "2023-10-03T12:40:52.048Z"
   },
   {
    "duration": 45,
    "start_time": "2023-10-03T12:40:52.053Z"
   },
   {
    "duration": 46,
    "start_time": "2023-10-03T12:40:52.099Z"
   },
   {
    "duration": 245,
    "start_time": "2023-10-03T12:40:52.147Z"
   },
   {
    "duration": 5,
    "start_time": "2023-10-03T12:40:52.393Z"
   },
   {
    "duration": 44,
    "start_time": "2023-10-03T12:40:52.401Z"
   },
   {
    "duration": 186,
    "start_time": "2023-10-03T12:40:52.447Z"
   },
   {
    "duration": 5,
    "start_time": "2023-10-03T12:40:52.635Z"
   },
   {
    "duration": 42,
    "start_time": "2023-10-03T12:40:52.650Z"
   },
   {
    "duration": 177,
    "start_time": "2023-10-03T12:40:52.694Z"
   },
   {
    "duration": 27,
    "start_time": "2023-10-03T12:40:52.873Z"
   },
   {
    "duration": 30,
    "start_time": "2023-10-03T12:40:52.902Z"
   },
   {
    "duration": 24,
    "start_time": "2023-10-03T12:40:52.934Z"
   },
   {
    "duration": 184,
    "start_time": "2023-10-03T12:40:52.960Z"
   },
   {
    "duration": 168,
    "start_time": "2023-10-03T12:40:53.146Z"
   },
   {
    "duration": 239,
    "start_time": "2023-10-03T12:40:53.316Z"
   },
   {
    "duration": 168,
    "start_time": "2023-10-03T12:40:53.557Z"
   },
   {
    "duration": 4,
    "start_time": "2023-10-03T12:40:53.727Z"
   },
   {
    "duration": 38,
    "start_time": "2023-10-03T12:40:53.733Z"
   },
   {
    "duration": 64,
    "start_time": "2023-10-03T12:40:53.773Z"
   },
   {
    "duration": 31,
    "start_time": "2023-10-03T12:40:53.839Z"
   },
   {
    "duration": 0,
    "start_time": "2023-10-03T12:40:53.872Z"
   },
   {
    "duration": 3,
    "start_time": "2023-10-03T12:42:05.275Z"
   },
   {
    "duration": 64,
    "start_time": "2023-10-03T12:42:05.279Z"
   },
   {
    "duration": 10,
    "start_time": "2023-10-03T12:42:05.345Z"
   },
   {
    "duration": 48,
    "start_time": "2023-10-03T12:42:05.358Z"
   },
   {
    "duration": 10,
    "start_time": "2023-10-03T12:42:05.407Z"
   },
   {
    "duration": 45,
    "start_time": "2023-10-03T12:42:05.419Z"
   },
   {
    "duration": 17,
    "start_time": "2023-10-03T12:42:05.466Z"
   },
   {
    "duration": 33,
    "start_time": "2023-10-03T12:42:05.485Z"
   },
   {
    "duration": 48,
    "start_time": "2023-10-03T12:42:05.520Z"
   },
   {
    "duration": 15,
    "start_time": "2023-10-03T12:42:05.570Z"
   },
   {
    "duration": 38,
    "start_time": "2023-10-03T12:42:05.586Z"
   },
   {
    "duration": 31,
    "start_time": "2023-10-03T12:42:05.626Z"
   },
   {
    "duration": 54,
    "start_time": "2023-10-03T12:42:05.659Z"
   },
   {
    "duration": 23,
    "start_time": "2023-10-03T12:42:05.714Z"
   },
   {
    "duration": 33,
    "start_time": "2023-10-03T12:42:05.738Z"
   },
   {
    "duration": 35,
    "start_time": "2023-10-03T12:42:05.773Z"
   },
   {
    "duration": 124,
    "start_time": "2023-10-03T12:42:05.810Z"
   },
   {
    "duration": 150,
    "start_time": "2023-10-03T12:42:05.936Z"
   },
   {
    "duration": 5,
    "start_time": "2023-10-03T12:42:06.089Z"
   },
   {
    "duration": 23,
    "start_time": "2023-10-03T12:42:06.095Z"
   },
   {
    "duration": 92,
    "start_time": "2023-10-03T12:42:06.120Z"
   },
   {
    "duration": 338,
    "start_time": "2023-10-03T12:42:06.214Z"
   },
   {
    "duration": 5,
    "start_time": "2023-10-03T12:42:06.553Z"
   },
   {
    "duration": 21,
    "start_time": "2023-10-03T12:42:06.560Z"
   },
   {
    "duration": 170,
    "start_time": "2023-10-03T12:42:06.582Z"
   },
   {
    "duration": 5,
    "start_time": "2023-10-03T12:42:06.754Z"
   },
   {
    "duration": 40,
    "start_time": "2023-10-03T12:42:06.760Z"
   },
   {
    "duration": 219,
    "start_time": "2023-10-03T12:42:06.801Z"
   },
   {
    "duration": 29,
    "start_time": "2023-10-03T12:42:07.021Z"
   },
   {
    "duration": 18,
    "start_time": "2023-10-03T12:42:07.051Z"
   },
   {
    "duration": 16,
    "start_time": "2023-10-03T12:42:07.070Z"
   },
   {
    "duration": 181,
    "start_time": "2023-10-03T12:42:07.088Z"
   },
   {
    "duration": 160,
    "start_time": "2023-10-03T12:42:07.271Z"
   },
   {
    "duration": 173,
    "start_time": "2023-10-03T12:42:07.433Z"
   },
   {
    "duration": 241,
    "start_time": "2023-10-03T12:42:07.608Z"
   },
   {
    "duration": 3,
    "start_time": "2023-10-03T12:42:07.851Z"
   },
   {
    "duration": 18,
    "start_time": "2023-10-03T12:42:07.856Z"
   },
   {
    "duration": 33,
    "start_time": "2023-10-03T12:42:07.876Z"
   },
   {
    "duration": 18,
    "start_time": "2023-10-03T12:42:07.910Z"
   },
   {
    "duration": 0,
    "start_time": "2023-10-03T12:42:07.929Z"
   },
   {
    "duration": 29,
    "start_time": "2023-10-03T12:42:32.223Z"
   },
   {
    "duration": 31,
    "start_time": "2023-10-03T12:43:52.754Z"
   },
   {
    "duration": 4,
    "start_time": "2023-10-03T12:45:37.532Z"
   },
   {
    "duration": 4,
    "start_time": "2023-10-03T12:45:52.613Z"
   },
   {
    "duration": 626,
    "start_time": "2023-10-03T12:54:42.095Z"
   },
   {
    "duration": 10,
    "start_time": "2023-10-03T12:56:01.527Z"
   },
   {
    "duration": 10,
    "start_time": "2023-10-03T12:57:25.890Z"
   },
   {
    "duration": 452,
    "start_time": "2023-10-03T12:57:37.201Z"
   },
   {
    "duration": 3,
    "start_time": "2023-10-03T12:57:44.560Z"
   },
   {
    "duration": 83,
    "start_time": "2023-10-03T12:57:44.566Z"
   },
   {
    "duration": 13,
    "start_time": "2023-10-03T12:57:44.651Z"
   },
   {
    "duration": 49,
    "start_time": "2023-10-03T12:57:44.666Z"
   },
   {
    "duration": 12,
    "start_time": "2023-10-03T12:57:44.716Z"
   },
   {
    "duration": 53,
    "start_time": "2023-10-03T12:57:44.730Z"
   },
   {
    "duration": 13,
    "start_time": "2023-10-03T12:57:44.785Z"
   },
   {
    "duration": 19,
    "start_time": "2023-10-03T12:57:44.799Z"
   },
   {
    "duration": 36,
    "start_time": "2023-10-03T12:57:44.820Z"
   },
   {
    "duration": 10,
    "start_time": "2023-10-03T12:57:44.860Z"
   },
   {
    "duration": 13,
    "start_time": "2023-10-03T12:57:44.872Z"
   },
   {
    "duration": 36,
    "start_time": "2023-10-03T12:57:44.887Z"
   },
   {
    "duration": 36,
    "start_time": "2023-10-03T12:57:44.925Z"
   },
   {
    "duration": 35,
    "start_time": "2023-10-03T12:57:44.963Z"
   },
   {
    "duration": 81,
    "start_time": "2023-10-03T12:57:45.000Z"
   },
   {
    "duration": 27,
    "start_time": "2023-10-03T12:57:45.083Z"
   },
   {
    "duration": 181,
    "start_time": "2023-10-03T12:57:45.112Z"
   },
   {
    "duration": 147,
    "start_time": "2023-10-03T12:57:45.295Z"
   },
   {
    "duration": 9,
    "start_time": "2023-10-03T12:57:45.443Z"
   },
   {
    "duration": 36,
    "start_time": "2023-10-03T12:57:45.454Z"
   },
   {
    "duration": 19,
    "start_time": "2023-10-03T12:57:45.491Z"
   },
   {
    "duration": 284,
    "start_time": "2023-10-03T12:57:45.512Z"
   },
   {
    "duration": 5,
    "start_time": "2023-10-03T12:57:45.797Z"
   },
   {
    "duration": 30,
    "start_time": "2023-10-03T12:57:45.804Z"
   },
   {
    "duration": 228,
    "start_time": "2023-10-03T12:57:45.835Z"
   },
   {
    "duration": 6,
    "start_time": "2023-10-03T12:57:46.065Z"
   },
   {
    "duration": 34,
    "start_time": "2023-10-03T12:57:46.073Z"
   },
   {
    "duration": 217,
    "start_time": "2023-10-03T12:57:46.111Z"
   },
   {
    "duration": 32,
    "start_time": "2023-10-03T12:57:46.330Z"
   },
   {
    "duration": 32,
    "start_time": "2023-10-03T12:57:46.363Z"
   },
   {
    "duration": 42,
    "start_time": "2023-10-03T12:57:46.396Z"
   },
   {
    "duration": 208,
    "start_time": "2023-10-03T12:57:46.440Z"
   },
   {
    "duration": 162,
    "start_time": "2023-10-03T12:57:46.650Z"
   },
   {
    "duration": 171,
    "start_time": "2023-10-03T12:57:46.813Z"
   },
   {
    "duration": 229,
    "start_time": "2023-10-03T12:57:46.986Z"
   },
   {
    "duration": 3,
    "start_time": "2023-10-03T12:57:47.217Z"
   },
   {
    "duration": 32,
    "start_time": "2023-10-03T12:57:47.221Z"
   },
   {
    "duration": 54,
    "start_time": "2023-10-03T12:57:47.254Z"
   },
   {
    "duration": 26,
    "start_time": "2023-10-03T12:57:47.309Z"
   },
   {
    "duration": 891,
    "start_time": "2023-10-05T06:55:44.819Z"
   },
   {
    "duration": 108,
    "start_time": "2023-10-05T06:55:45.712Z"
   },
   {
    "duration": 13,
    "start_time": "2023-10-05T06:55:45.822Z"
   },
   {
    "duration": 172,
    "start_time": "2023-10-05T06:55:45.838Z"
   },
   {
    "duration": 12,
    "start_time": "2023-10-05T06:55:46.012Z"
   },
   {
    "duration": 62,
    "start_time": "2023-10-05T06:55:46.026Z"
   },
   {
    "duration": 11,
    "start_time": "2023-10-05T06:55:46.089Z"
   },
   {
    "duration": 37,
    "start_time": "2023-10-05T06:55:46.102Z"
   },
   {
    "duration": 12,
    "start_time": "2023-10-05T06:55:46.142Z"
   },
   {
    "duration": 6,
    "start_time": "2023-10-05T06:55:46.157Z"
   },
   {
    "duration": 17,
    "start_time": "2023-10-05T06:55:46.165Z"
   },
   {
    "duration": 42,
    "start_time": "2023-10-05T06:55:46.184Z"
   },
   {
    "duration": 28,
    "start_time": "2023-10-05T06:55:46.228Z"
   },
   {
    "duration": 39,
    "start_time": "2023-10-05T06:55:46.258Z"
   },
   {
    "duration": 14,
    "start_time": "2023-10-05T06:55:46.299Z"
   },
   {
    "duration": 17,
    "start_time": "2023-10-05T06:55:46.316Z"
   },
   {
    "duration": 155,
    "start_time": "2023-10-05T06:55:46.335Z"
   },
   {
    "duration": 133,
    "start_time": "2023-10-05T06:55:46.492Z"
   },
   {
    "duration": 4,
    "start_time": "2023-10-05T06:55:46.627Z"
   },
   {
    "duration": 61,
    "start_time": "2023-10-05T06:55:46.633Z"
   },
   {
    "duration": 28,
    "start_time": "2023-10-05T06:55:46.695Z"
   },
   {
    "duration": 398,
    "start_time": "2023-10-05T06:55:46.725Z"
   },
   {
    "duration": 4,
    "start_time": "2023-10-05T06:55:47.125Z"
   },
   {
    "duration": 22,
    "start_time": "2023-10-05T06:55:47.131Z"
   },
   {
    "duration": 183,
    "start_time": "2023-10-05T06:55:47.154Z"
   },
   {
    "duration": 5,
    "start_time": "2023-10-05T06:55:47.339Z"
   },
   {
    "duration": 5,
    "start_time": "2023-10-05T06:55:47.357Z"
   },
   {
    "duration": 259,
    "start_time": "2023-10-05T06:55:47.365Z"
   },
   {
    "duration": 38,
    "start_time": "2023-10-05T06:55:47.626Z"
   },
   {
    "duration": 20,
    "start_time": "2023-10-05T06:55:47.666Z"
   },
   {
    "duration": 17,
    "start_time": "2023-10-05T06:55:47.688Z"
   },
   {
    "duration": 207,
    "start_time": "2023-10-05T06:55:47.708Z"
   },
   {
    "duration": 206,
    "start_time": "2023-10-05T06:55:47.917Z"
   },
   {
    "duration": 198,
    "start_time": "2023-10-05T06:55:48.125Z"
   },
   {
    "duration": 185,
    "start_time": "2023-10-05T06:55:48.324Z"
   },
   {
    "duration": 4,
    "start_time": "2023-10-05T06:55:48.511Z"
   },
   {
    "duration": 32,
    "start_time": "2023-10-05T06:55:48.517Z"
   },
   {
    "duration": 36,
    "start_time": "2023-10-05T06:55:48.552Z"
   },
   {
    "duration": 49,
    "start_time": "2023-10-05T06:55:48.590Z"
   },
   {
    "duration": 34,
    "start_time": "2023-10-05T06:56:53.868Z"
   },
   {
    "duration": 20,
    "start_time": "2023-10-05T06:57:51.492Z"
   },
   {
    "duration": 18,
    "start_time": "2023-10-05T06:58:17.641Z"
   },
   {
    "duration": 76,
    "start_time": "2023-10-05T07:01:05.423Z"
   },
   {
    "duration": 529,
    "start_time": "2023-10-05T07:01:50.828Z"
   },
   {
    "duration": 34,
    "start_time": "2023-10-05T07:01:51.359Z"
   },
   {
    "duration": 12,
    "start_time": "2023-10-05T07:01:51.394Z"
   },
   {
    "duration": 63,
    "start_time": "2023-10-05T07:01:51.408Z"
   },
   {
    "duration": 12,
    "start_time": "2023-10-05T07:01:51.473Z"
   },
   {
    "duration": 29,
    "start_time": "2023-10-05T07:01:51.487Z"
   },
   {
    "duration": 19,
    "start_time": "2023-10-05T07:01:51.518Z"
   },
   {
    "duration": 17,
    "start_time": "2023-10-05T07:01:51.539Z"
   },
   {
    "duration": 25,
    "start_time": "2023-10-05T07:01:51.558Z"
   },
   {
    "duration": 12,
    "start_time": "2023-10-05T07:01:51.586Z"
   },
   {
    "duration": 21,
    "start_time": "2023-10-05T07:01:51.600Z"
   },
   {
    "duration": 20,
    "start_time": "2023-10-05T07:01:51.624Z"
   },
   {
    "duration": 30,
    "start_time": "2023-10-05T07:01:51.646Z"
   },
   {
    "duration": 18,
    "start_time": "2023-10-05T07:01:51.678Z"
   },
   {
    "duration": 18,
    "start_time": "2023-10-05T07:01:51.698Z"
   },
   {
    "duration": 14,
    "start_time": "2023-10-05T07:01:51.717Z"
   },
   {
    "duration": 138,
    "start_time": "2023-10-05T07:01:51.732Z"
   },
   {
    "duration": 126,
    "start_time": "2023-10-05T07:01:51.872Z"
   },
   {
    "duration": 5,
    "start_time": "2023-10-05T07:01:52.001Z"
   },
   {
    "duration": 41,
    "start_time": "2023-10-05T07:01:52.008Z"
   },
   {
    "duration": 35,
    "start_time": "2023-10-05T07:01:52.051Z"
   },
   {
    "duration": 218,
    "start_time": "2023-10-05T07:01:52.088Z"
   },
   {
    "duration": 6,
    "start_time": "2023-10-05T07:01:52.356Z"
   },
   {
    "duration": 12,
    "start_time": "2023-10-05T07:01:52.364Z"
   },
   {
    "duration": 184,
    "start_time": "2023-10-05T07:01:52.378Z"
   },
   {
    "duration": 5,
    "start_time": "2023-10-05T07:01:52.564Z"
   },
   {
    "duration": 17,
    "start_time": "2023-10-05T07:01:52.571Z"
   },
   {
    "duration": 180,
    "start_time": "2023-10-05T07:01:52.591Z"
   },
   {
    "duration": 28,
    "start_time": "2023-10-05T07:01:52.772Z"
   },
   {
    "duration": 21,
    "start_time": "2023-10-05T07:01:52.802Z"
   },
   {
    "duration": 38,
    "start_time": "2023-10-05T07:01:52.825Z"
   },
   {
    "duration": 186,
    "start_time": "2023-10-05T07:01:52.865Z"
   },
   {
    "duration": 175,
    "start_time": "2023-10-05T07:01:53.052Z"
   },
   {
    "duration": 189,
    "start_time": "2023-10-05T07:01:53.228Z"
   },
   {
    "duration": 184,
    "start_time": "2023-10-05T07:01:53.419Z"
   },
   {
    "duration": 5,
    "start_time": "2023-10-05T07:01:53.606Z"
   },
   {
    "duration": 43,
    "start_time": "2023-10-05T07:01:53.612Z"
   },
   {
    "duration": 51,
    "start_time": "2023-10-05T07:01:53.657Z"
   },
   {
    "duration": 22,
    "start_time": "2023-10-05T07:01:53.710Z"
   },
   {
    "duration": 26,
    "start_time": "2023-10-05T07:01:53.734Z"
   },
   {
    "duration": 9,
    "start_time": "2023-10-05T07:01:53.762Z"
   },
   {
    "duration": 7,
    "start_time": "2023-10-05T07:05:37.119Z"
   },
   {
    "duration": 7,
    "start_time": "2023-10-05T07:08:50.533Z"
   },
   {
    "duration": 10,
    "start_time": "2023-10-05T07:13:09.352Z"
   },
   {
    "duration": 5,
    "start_time": "2023-10-05T07:16:00.210Z"
   },
   {
    "duration": 6,
    "start_time": "2023-10-05T07:16:19.297Z"
   },
   {
    "duration": 44,
    "start_time": "2023-10-05T07:37:32.595Z"
   },
   {
    "duration": 145,
    "start_time": "2023-10-05T07:37:40.082Z"
   },
   {
    "duration": 31,
    "start_time": "2023-10-05T07:45:04.169Z"
   },
   {
    "duration": 551,
    "start_time": "2023-10-05T07:45:15.521Z"
   },
   {
    "duration": 310,
    "start_time": "2023-10-05T07:46:26.018Z"
   },
   {
    "duration": 455,
    "start_time": "2023-10-05T07:47:22.477Z"
   },
   {
    "duration": 198,
    "start_time": "2023-10-05T07:47:35.117Z"
   },
   {
    "duration": 4,
    "start_time": "2023-10-05T07:50:07.926Z"
   },
   {
    "duration": 58,
    "start_time": "2023-10-05T07:50:07.933Z"
   },
   {
    "duration": 14,
    "start_time": "2023-10-05T07:50:07.993Z"
   },
   {
    "duration": 60,
    "start_time": "2023-10-05T07:50:08.010Z"
   },
   {
    "duration": 20,
    "start_time": "2023-10-05T07:50:08.074Z"
   },
   {
    "duration": 33,
    "start_time": "2023-10-05T07:50:08.096Z"
   },
   {
    "duration": 57,
    "start_time": "2023-10-05T07:50:08.131Z"
   },
   {
    "duration": 22,
    "start_time": "2023-10-05T07:50:08.190Z"
   },
   {
    "duration": 13,
    "start_time": "2023-10-05T07:50:08.216Z"
   },
   {
    "duration": 7,
    "start_time": "2023-10-05T07:50:08.231Z"
   },
   {
    "duration": 23,
    "start_time": "2023-10-05T07:50:08.240Z"
   },
   {
    "duration": 13,
    "start_time": "2023-10-05T07:50:08.267Z"
   },
   {
    "duration": 25,
    "start_time": "2023-10-05T07:50:08.282Z"
   },
   {
    "duration": 9,
    "start_time": "2023-10-05T07:50:08.309Z"
   },
   {
    "duration": 45,
    "start_time": "2023-10-05T07:50:08.320Z"
   },
   {
    "duration": 25,
    "start_time": "2023-10-05T07:50:08.367Z"
   },
   {
    "duration": 172,
    "start_time": "2023-10-05T07:50:08.393Z"
   },
   {
    "duration": 165,
    "start_time": "2023-10-05T07:50:08.572Z"
   },
   {
    "duration": 5,
    "start_time": "2023-10-05T07:50:08.739Z"
   },
   {
    "duration": 14,
    "start_time": "2023-10-05T07:50:08.757Z"
   },
   {
    "duration": 18,
    "start_time": "2023-10-05T07:50:08.774Z"
   },
   {
    "duration": 349,
    "start_time": "2023-10-05T07:50:08.794Z"
   },
   {
    "duration": 17,
    "start_time": "2023-10-05T07:50:09.145Z"
   },
   {
    "duration": 14,
    "start_time": "2023-10-05T07:50:09.167Z"
   },
   {
    "duration": 221,
    "start_time": "2023-10-05T07:50:09.183Z"
   },
   {
    "duration": 5,
    "start_time": "2023-10-05T07:50:09.406Z"
   },
   {
    "duration": 87,
    "start_time": "2023-10-05T07:50:09.413Z"
   },
   {
    "duration": 181,
    "start_time": "2023-10-05T07:50:09.502Z"
   },
   {
    "duration": 29,
    "start_time": "2023-10-05T07:50:09.685Z"
   },
   {
    "duration": 49,
    "start_time": "2023-10-05T07:50:09.716Z"
   },
   {
    "duration": 23,
    "start_time": "2023-10-05T07:50:09.768Z"
   },
   {
    "duration": 235,
    "start_time": "2023-10-05T07:50:09.793Z"
   },
   {
    "duration": 214,
    "start_time": "2023-10-05T07:50:10.030Z"
   },
   {
    "duration": 235,
    "start_time": "2023-10-05T07:50:10.246Z"
   },
   {
    "duration": 316,
    "start_time": "2023-10-05T07:50:10.484Z"
   },
   {
    "duration": 6,
    "start_time": "2023-10-05T07:50:10.803Z"
   },
   {
    "duration": 126,
    "start_time": "2023-10-05T07:50:10.811Z"
   },
   {
    "duration": 53,
    "start_time": "2023-10-05T07:50:10.939Z"
   },
   {
    "duration": 20,
    "start_time": "2023-10-05T07:50:10.995Z"
   },
   {
    "duration": 42,
    "start_time": "2023-10-05T07:50:11.018Z"
   },
   {
    "duration": 12,
    "start_time": "2023-10-05T07:50:11.063Z"
   },
   {
    "duration": 9,
    "start_time": "2023-10-05T07:50:11.079Z"
   },
   {
    "duration": 29,
    "start_time": "2023-10-05T07:50:11.090Z"
   },
   {
    "duration": 31,
    "start_time": "2023-10-05T07:50:11.122Z"
   },
   {
    "duration": 18,
    "start_time": "2023-10-05T07:50:11.156Z"
   },
   {
    "duration": 29,
    "start_time": "2023-10-05T07:50:11.177Z"
   },
   {
    "duration": 151,
    "start_time": "2023-10-05T07:50:11.208Z"
   },
   {
    "duration": 152,
    "start_time": "2023-10-05T07:50:11.362Z"
   },
   {
    "duration": 0,
    "start_time": "2023-10-05T07:50:11.516Z"
   },
   {
    "duration": 17,
    "start_time": "2023-10-05T07:50:59.125Z"
   },
   {
    "duration": 6,
    "start_time": "2023-10-05T07:51:06.313Z"
   },
   {
    "duration": 14,
    "start_time": "2023-10-05T07:54:57.214Z"
   },
   {
    "duration": 14,
    "start_time": "2023-10-05T07:55:30.628Z"
   },
   {
    "duration": 1954,
    "start_time": "2023-10-05T07:55:37.127Z"
   },
   {
    "duration": 395,
    "start_time": "2023-10-05T07:57:43.737Z"
   },
   {
    "duration": 3,
    "start_time": "2023-10-05T07:57:47.234Z"
   },
   {
    "duration": 46,
    "start_time": "2023-10-05T07:57:47.239Z"
   },
   {
    "duration": 14,
    "start_time": "2023-10-05T07:57:47.287Z"
   },
   {
    "duration": 48,
    "start_time": "2023-10-05T07:57:47.303Z"
   },
   {
    "duration": 21,
    "start_time": "2023-10-05T07:57:47.356Z"
   },
   {
    "duration": 24,
    "start_time": "2023-10-05T07:57:47.381Z"
   },
   {
    "duration": 25,
    "start_time": "2023-10-05T07:57:47.407Z"
   },
   {
    "duration": 53,
    "start_time": "2023-10-05T07:57:47.434Z"
   },
   {
    "duration": 24,
    "start_time": "2023-10-05T07:57:47.489Z"
   },
   {
    "duration": 52,
    "start_time": "2023-10-05T07:57:47.515Z"
   },
   {
    "duration": 59,
    "start_time": "2023-10-05T07:57:47.571Z"
   },
   {
    "duration": 59,
    "start_time": "2023-10-05T07:57:47.632Z"
   },
   {
    "duration": 52,
    "start_time": "2023-10-05T07:57:47.695Z"
   },
   {
    "duration": 28,
    "start_time": "2023-10-05T07:57:47.750Z"
   },
   {
    "duration": 34,
    "start_time": "2023-10-05T07:57:47.781Z"
   },
   {
    "duration": 36,
    "start_time": "2023-10-05T07:57:47.816Z"
   },
   {
    "duration": 182,
    "start_time": "2023-10-05T07:57:47.854Z"
   },
   {
    "duration": 191,
    "start_time": "2023-10-05T07:57:48.038Z"
   },
   {
    "duration": 5,
    "start_time": "2023-10-05T07:57:48.232Z"
   },
   {
    "duration": 25,
    "start_time": "2023-10-05T07:57:48.239Z"
   },
   {
    "duration": 39,
    "start_time": "2023-10-05T07:57:48.266Z"
   },
   {
    "duration": 306,
    "start_time": "2023-10-05T07:57:48.307Z"
   },
   {
    "duration": 5,
    "start_time": "2023-10-05T07:57:48.615Z"
   },
   {
    "duration": 22,
    "start_time": "2023-10-05T07:57:48.621Z"
   },
   {
    "duration": 253,
    "start_time": "2023-10-05T07:57:48.644Z"
   },
   {
    "duration": 8,
    "start_time": "2023-10-05T07:57:48.900Z"
   },
   {
    "duration": 32,
    "start_time": "2023-10-05T07:57:48.910Z"
   },
   {
    "duration": 340,
    "start_time": "2023-10-05T07:57:48.944Z"
   },
   {
    "duration": 36,
    "start_time": "2023-10-05T07:57:49.286Z"
   },
   {
    "duration": 32,
    "start_time": "2023-10-05T07:57:49.325Z"
   },
   {
    "duration": 30,
    "start_time": "2023-10-05T07:57:49.361Z"
   },
   {
    "duration": 229,
    "start_time": "2023-10-05T07:57:49.393Z"
   },
   {
    "duration": 338,
    "start_time": "2023-10-05T07:57:49.625Z"
   },
   {
    "duration": 239,
    "start_time": "2023-10-05T07:57:49.966Z"
   },
   {
    "duration": 220,
    "start_time": "2023-10-05T07:57:50.207Z"
   },
   {
    "duration": 4,
    "start_time": "2023-10-05T07:57:50.429Z"
   },
   {
    "duration": 52,
    "start_time": "2023-10-05T07:57:50.438Z"
   },
   {
    "duration": 86,
    "start_time": "2023-10-05T07:57:50.492Z"
   },
   {
    "duration": 20,
    "start_time": "2023-10-05T07:57:50.581Z"
   },
   {
    "duration": 40,
    "start_time": "2023-10-05T07:57:50.603Z"
   },
   {
    "duration": 29,
    "start_time": "2023-10-05T07:57:50.645Z"
   },
   {
    "duration": 26,
    "start_time": "2023-10-05T07:57:50.676Z"
   },
   {
    "duration": 36,
    "start_time": "2023-10-05T07:57:50.704Z"
   },
   {
    "duration": 45,
    "start_time": "2023-10-05T07:57:50.743Z"
   },
   {
    "duration": 31,
    "start_time": "2023-10-05T07:57:50.791Z"
   },
   {
    "duration": 53,
    "start_time": "2023-10-05T07:57:50.825Z"
   },
   {
    "duration": 136,
    "start_time": "2023-10-05T07:57:50.881Z"
   },
   {
    "duration": 497,
    "start_time": "2023-10-05T07:57:51.019Z"
   },
   {
    "duration": 275,
    "start_time": "2023-10-05T07:57:51.518Z"
   },
   {
    "duration": 5,
    "start_time": "2023-10-05T07:57:51.795Z"
   },
   {
    "duration": 2062,
    "start_time": "2023-10-05T07:57:51.802Z"
   },
   {
    "duration": 4,
    "start_time": "2023-10-05T07:58:59.328Z"
   },
   {
    "duration": 65,
    "start_time": "2023-10-05T07:58:59.334Z"
   },
   {
    "duration": 14,
    "start_time": "2023-10-05T07:58:59.401Z"
   },
   {
    "duration": 49,
    "start_time": "2023-10-05T07:58:59.418Z"
   },
   {
    "duration": 21,
    "start_time": "2023-10-05T07:58:59.469Z"
   },
   {
    "duration": 25,
    "start_time": "2023-10-05T07:58:59.493Z"
   },
   {
    "duration": 14,
    "start_time": "2023-10-05T07:58:59.522Z"
   },
   {
    "duration": 45,
    "start_time": "2023-10-05T07:58:59.538Z"
   },
   {
    "duration": 13,
    "start_time": "2023-10-05T07:58:59.586Z"
   },
   {
    "duration": 8,
    "start_time": "2023-10-05T07:58:59.601Z"
   },
   {
    "duration": 22,
    "start_time": "2023-10-05T07:58:59.611Z"
   },
   {
    "duration": 26,
    "start_time": "2023-10-05T07:58:59.636Z"
   },
   {
    "duration": 27,
    "start_time": "2023-10-05T07:58:59.666Z"
   },
   {
    "duration": 12,
    "start_time": "2023-10-05T07:58:59.695Z"
   },
   {
    "duration": 10,
    "start_time": "2023-10-05T07:58:59.709Z"
   },
   {
    "duration": 14,
    "start_time": "2023-10-05T07:58:59.721Z"
   },
   {
    "duration": 193,
    "start_time": "2023-10-05T07:58:59.737Z"
   },
   {
    "duration": 148,
    "start_time": "2023-10-05T07:58:59.932Z"
   },
   {
    "duration": 6,
    "start_time": "2023-10-05T07:59:00.082Z"
   },
   {
    "duration": 66,
    "start_time": "2023-10-05T07:59:00.089Z"
   },
   {
    "duration": 53,
    "start_time": "2023-10-05T07:59:00.158Z"
   },
   {
    "duration": 352,
    "start_time": "2023-10-05T07:59:00.213Z"
   },
   {
    "duration": 7,
    "start_time": "2023-10-05T07:59:00.567Z"
   },
   {
    "duration": 30,
    "start_time": "2023-10-05T07:59:00.583Z"
   },
   {
    "duration": 276,
    "start_time": "2023-10-05T07:59:00.615Z"
   },
   {
    "duration": 6,
    "start_time": "2023-10-05T07:59:00.894Z"
   },
   {
    "duration": 43,
    "start_time": "2023-10-05T07:59:00.902Z"
   },
   {
    "duration": 231,
    "start_time": "2023-10-05T07:59:00.948Z"
   },
   {
    "duration": 30,
    "start_time": "2023-10-05T07:59:01.181Z"
   },
   {
    "duration": 68,
    "start_time": "2023-10-05T07:59:01.214Z"
   },
   {
    "duration": 83,
    "start_time": "2023-10-05T07:59:01.284Z"
   },
   {
    "duration": 277,
    "start_time": "2023-10-05T07:59:01.369Z"
   },
   {
    "duration": 344,
    "start_time": "2023-10-05T07:59:01.648Z"
   },
   {
    "duration": 222,
    "start_time": "2023-10-05T07:59:01.993Z"
   },
   {
    "duration": 483,
    "start_time": "2023-10-05T07:59:02.217Z"
   },
   {
    "duration": 4,
    "start_time": "2023-10-05T07:59:02.701Z"
   },
   {
    "duration": 44,
    "start_time": "2023-10-05T07:59:02.707Z"
   },
   {
    "duration": 67,
    "start_time": "2023-10-05T07:59:02.753Z"
   },
   {
    "duration": 23,
    "start_time": "2023-10-05T07:59:02.822Z"
   },
   {
    "duration": 157,
    "start_time": "2023-10-05T07:59:02.855Z"
   },
   {
    "duration": 12,
    "start_time": "2023-10-05T07:59:03.014Z"
   },
   {
    "duration": 31,
    "start_time": "2023-10-05T07:59:03.028Z"
   },
   {
    "duration": 18,
    "start_time": "2023-10-05T07:59:03.064Z"
   },
   {
    "duration": 19,
    "start_time": "2023-10-05T07:59:03.084Z"
   },
   {
    "duration": 18,
    "start_time": "2023-10-05T07:59:03.105Z"
   },
   {
    "duration": 46,
    "start_time": "2023-10-05T07:59:03.125Z"
   },
   {
    "duration": 125,
    "start_time": "2023-10-05T07:59:03.174Z"
   },
   {
    "duration": 489,
    "start_time": "2023-10-05T07:59:03.301Z"
   },
   {
    "duration": 276,
    "start_time": "2023-10-05T07:59:03.792Z"
   },
   {
    "duration": 6,
    "start_time": "2023-10-05T07:59:04.070Z"
   },
   {
    "duration": 2036,
    "start_time": "2023-10-05T07:59:04.079Z"
   },
   {
    "duration": 272,
    "start_time": "2023-10-05T08:00:27.040Z"
   },
   {
    "duration": 4,
    "start_time": "2023-10-05T08:00:52.996Z"
   },
   {
    "duration": 62,
    "start_time": "2023-10-05T08:00:53.002Z"
   },
   {
    "duration": 18,
    "start_time": "2023-10-05T08:00:53.066Z"
   },
   {
    "duration": 38,
    "start_time": "2023-10-05T08:00:53.086Z"
   },
   {
    "duration": 34,
    "start_time": "2023-10-05T08:00:53.126Z"
   },
   {
    "duration": 30,
    "start_time": "2023-10-05T08:00:53.163Z"
   },
   {
    "duration": 13,
    "start_time": "2023-10-05T08:00:53.195Z"
   },
   {
    "duration": 31,
    "start_time": "2023-10-05T08:00:53.210Z"
   },
   {
    "duration": 32,
    "start_time": "2023-10-05T08:00:53.244Z"
   },
   {
    "duration": 8,
    "start_time": "2023-10-05T08:00:53.279Z"
   },
   {
    "duration": 25,
    "start_time": "2023-10-05T08:00:53.289Z"
   },
   {
    "duration": 48,
    "start_time": "2023-10-05T08:00:53.316Z"
   },
   {
    "duration": 26,
    "start_time": "2023-10-05T08:00:53.366Z"
   },
   {
    "duration": 21,
    "start_time": "2023-10-05T08:00:53.395Z"
   },
   {
    "duration": 32,
    "start_time": "2023-10-05T08:00:53.418Z"
   },
   {
    "duration": 38,
    "start_time": "2023-10-05T08:00:53.452Z"
   },
   {
    "duration": 145,
    "start_time": "2023-10-05T08:00:53.492Z"
   },
   {
    "duration": 154,
    "start_time": "2023-10-05T08:00:53.639Z"
   },
   {
    "duration": 5,
    "start_time": "2023-10-05T08:00:53.796Z"
   },
   {
    "duration": 13,
    "start_time": "2023-10-05T08:00:53.803Z"
   },
   {
    "duration": 10,
    "start_time": "2023-10-05T08:00:53.818Z"
   },
   {
    "duration": 309,
    "start_time": "2023-10-05T08:00:53.830Z"
   },
   {
    "duration": 13,
    "start_time": "2023-10-05T08:00:54.157Z"
   },
   {
    "duration": 10,
    "start_time": "2023-10-05T08:00:54.177Z"
   },
   {
    "duration": 231,
    "start_time": "2023-10-05T08:00:54.189Z"
   },
   {
    "duration": 6,
    "start_time": "2023-10-05T08:00:54.422Z"
   },
   {
    "duration": 29,
    "start_time": "2023-10-05T08:00:54.430Z"
   },
   {
    "duration": 201,
    "start_time": "2023-10-05T08:00:54.463Z"
   },
   {
    "duration": 32,
    "start_time": "2023-10-05T08:00:54.666Z"
   },
   {
    "duration": 29,
    "start_time": "2023-10-05T08:00:54.700Z"
   },
   {
    "duration": 43,
    "start_time": "2023-10-05T08:00:54.732Z"
   },
   {
    "duration": 259,
    "start_time": "2023-10-05T08:00:54.777Z"
   },
   {
    "duration": 349,
    "start_time": "2023-10-05T08:00:55.038Z"
   },
   {
    "duration": 339,
    "start_time": "2023-10-05T08:00:55.389Z"
   },
   {
    "duration": 224,
    "start_time": "2023-10-05T08:00:55.729Z"
   },
   {
    "duration": 7,
    "start_time": "2023-10-05T08:00:55.954Z"
   },
   {
    "duration": 27,
    "start_time": "2023-10-05T08:00:55.965Z"
   },
   {
    "duration": 40,
    "start_time": "2023-10-05T08:00:55.994Z"
   },
   {
    "duration": 48,
    "start_time": "2023-10-05T08:00:56.036Z"
   },
   {
    "duration": 22,
    "start_time": "2023-10-05T08:00:56.085Z"
   },
   {
    "duration": 7,
    "start_time": "2023-10-05T08:00:56.109Z"
   },
   {
    "duration": 43,
    "start_time": "2023-10-05T08:00:56.118Z"
   },
   {
    "duration": 56,
    "start_time": "2023-10-05T08:00:56.164Z"
   },
   {
    "duration": 34,
    "start_time": "2023-10-05T08:00:56.223Z"
   },
   {
    "duration": 32,
    "start_time": "2023-10-05T08:00:56.260Z"
   },
   {
    "duration": 25,
    "start_time": "2023-10-05T08:00:56.294Z"
   },
   {
    "duration": 129,
    "start_time": "2023-10-05T08:00:56.321Z"
   },
   {
    "duration": 495,
    "start_time": "2023-10-05T08:00:56.458Z"
   },
   {
    "duration": 8,
    "start_time": "2023-10-05T08:00:56.957Z"
   },
   {
    "duration": 1962,
    "start_time": "2023-10-05T08:00:56.968Z"
   },
   {
    "duration": 1249,
    "start_time": "2023-10-05T08:11:06.573Z"
   },
   {
    "duration": 41,
    "start_time": "2023-10-05T08:11:07.824Z"
   },
   {
    "duration": 13,
    "start_time": "2023-10-05T08:11:07.866Z"
   },
   {
    "duration": 51,
    "start_time": "2023-10-05T08:11:07.881Z"
   },
   {
    "duration": 13,
    "start_time": "2023-10-05T08:11:07.933Z"
   },
   {
    "duration": 21,
    "start_time": "2023-10-05T08:11:07.949Z"
   },
   {
    "duration": 13,
    "start_time": "2023-10-05T08:11:07.972Z"
   },
   {
    "duration": 35,
    "start_time": "2023-10-05T08:11:07.988Z"
   },
   {
    "duration": 14,
    "start_time": "2023-10-05T08:11:08.024Z"
   },
   {
    "duration": 20,
    "start_time": "2023-10-05T08:11:08.042Z"
   },
   {
    "duration": 17,
    "start_time": "2023-10-05T08:11:08.065Z"
   },
   {
    "duration": 10,
    "start_time": "2023-10-05T08:11:08.084Z"
   },
   {
    "duration": 33,
    "start_time": "2023-10-05T08:11:08.096Z"
   },
   {
    "duration": 9,
    "start_time": "2023-10-05T08:11:08.130Z"
   },
   {
    "duration": 16,
    "start_time": "2023-10-05T08:11:08.141Z"
   },
   {
    "duration": 30,
    "start_time": "2023-10-05T08:11:08.159Z"
   },
   {
    "duration": 150,
    "start_time": "2023-10-05T08:11:08.191Z"
   },
   {
    "duration": 139,
    "start_time": "2023-10-05T08:11:08.343Z"
   },
   {
    "duration": 5,
    "start_time": "2023-10-05T08:11:08.484Z"
   },
   {
    "duration": 7,
    "start_time": "2023-10-05T08:11:08.491Z"
   },
   {
    "duration": 13,
    "start_time": "2023-10-05T08:11:08.500Z"
   },
   {
    "duration": 329,
    "start_time": "2023-10-05T08:11:08.514Z"
   },
   {
    "duration": 14,
    "start_time": "2023-10-05T08:11:08.846Z"
   },
   {
    "duration": 40,
    "start_time": "2023-10-05T08:11:08.863Z"
   },
   {
    "duration": 233,
    "start_time": "2023-10-05T08:11:08.906Z"
   },
   {
    "duration": 17,
    "start_time": "2023-10-05T08:11:09.141Z"
   },
   {
    "duration": 7,
    "start_time": "2023-10-05T08:11:09.160Z"
   },
   {
    "duration": 264,
    "start_time": "2023-10-05T08:11:09.172Z"
   },
   {
    "duration": 34,
    "start_time": "2023-10-05T08:11:09.437Z"
   },
   {
    "duration": 20,
    "start_time": "2023-10-05T08:11:09.472Z"
   },
   {
    "duration": 15,
    "start_time": "2023-10-05T08:11:09.494Z"
   },
   {
    "duration": 231,
    "start_time": "2023-10-05T08:11:09.510Z"
   },
   {
    "duration": 222,
    "start_time": "2023-10-05T08:11:09.743Z"
   },
   {
    "duration": 216,
    "start_time": "2023-10-05T08:11:09.968Z"
   },
   {
    "duration": 193,
    "start_time": "2023-10-05T08:11:10.186Z"
   },
   {
    "duration": 4,
    "start_time": "2023-10-05T08:11:10.382Z"
   },
   {
    "duration": 114,
    "start_time": "2023-10-05T08:11:10.388Z"
   },
   {
    "duration": 236,
    "start_time": "2023-10-05T08:11:10.504Z"
   },
   {
    "duration": 27,
    "start_time": "2023-10-05T08:11:10.742Z"
   },
   {
    "duration": 129,
    "start_time": "2023-10-05T08:11:10.771Z"
   },
   {
    "duration": 8,
    "start_time": "2023-10-05T08:11:10.902Z"
   },
   {
    "duration": 28,
    "start_time": "2023-10-05T08:11:10.912Z"
   },
   {
    "duration": 69,
    "start_time": "2023-10-05T08:11:10.942Z"
   },
   {
    "duration": 48,
    "start_time": "2023-10-05T08:11:11.013Z"
   },
   {
    "duration": 59,
    "start_time": "2023-10-05T08:11:11.063Z"
   },
   {
    "duration": 24,
    "start_time": "2023-10-05T08:11:11.124Z"
   },
   {
    "duration": 117,
    "start_time": "2023-10-05T08:11:11.150Z"
   },
   {
    "duration": 412,
    "start_time": "2023-10-05T08:11:11.269Z"
   },
   {
    "duration": 6,
    "start_time": "2023-10-05T08:11:11.683Z"
   },
   {
    "duration": 1831,
    "start_time": "2023-10-05T08:11:11.691Z"
   },
   {
    "duration": 20,
    "start_time": "2023-10-05T08:17:11.546Z"
   },
   {
    "duration": 114,
    "start_time": "2023-10-05T08:18:29.831Z"
   },
   {
    "duration": 1172,
    "start_time": "2023-10-05T09:32:47.376Z"
   },
   {
    "duration": 38,
    "start_time": "2023-10-05T09:32:48.550Z"
   },
   {
    "duration": 12,
    "start_time": "2023-10-05T09:32:48.589Z"
   },
   {
    "duration": 45,
    "start_time": "2023-10-05T09:32:48.604Z"
   },
   {
    "duration": 12,
    "start_time": "2023-10-05T09:32:48.651Z"
   },
   {
    "duration": 34,
    "start_time": "2023-10-05T09:32:48.665Z"
   },
   {
    "duration": 11,
    "start_time": "2023-10-05T09:32:48.701Z"
   },
   {
    "duration": 23,
    "start_time": "2023-10-05T09:32:48.714Z"
   },
   {
    "duration": 18,
    "start_time": "2023-10-05T09:32:48.740Z"
   },
   {
    "duration": 7,
    "start_time": "2023-10-05T09:32:48.762Z"
   },
   {
    "duration": 9,
    "start_time": "2023-10-05T09:32:48.770Z"
   },
   {
    "duration": 6,
    "start_time": "2023-10-05T09:32:48.781Z"
   },
   {
    "duration": 16,
    "start_time": "2023-10-05T09:32:48.788Z"
   },
   {
    "duration": 9,
    "start_time": "2023-10-05T09:32:48.806Z"
   },
   {
    "duration": 33,
    "start_time": "2023-10-05T09:32:48.816Z"
   },
   {
    "duration": 13,
    "start_time": "2023-10-05T09:32:48.851Z"
   },
   {
    "duration": 166,
    "start_time": "2023-10-05T09:32:48.866Z"
   },
   {
    "duration": 121,
    "start_time": "2023-10-05T09:32:49.034Z"
   },
   {
    "duration": 6,
    "start_time": "2023-10-05T09:32:49.157Z"
   },
   {
    "duration": 23,
    "start_time": "2023-10-05T09:32:49.165Z"
   },
   {
    "duration": 25,
    "start_time": "2023-10-05T09:32:49.190Z"
   },
   {
    "duration": 282,
    "start_time": "2023-10-05T09:32:49.217Z"
   },
   {
    "duration": 5,
    "start_time": "2023-10-05T09:32:49.502Z"
   },
   {
    "duration": 10,
    "start_time": "2023-10-05T09:32:49.509Z"
   },
   {
    "duration": 195,
    "start_time": "2023-10-05T09:32:49.521Z"
   },
   {
    "duration": 6,
    "start_time": "2023-10-05T09:32:49.718Z"
   },
   {
    "duration": 22,
    "start_time": "2023-10-05T09:32:49.726Z"
   },
   {
    "duration": 196,
    "start_time": "2023-10-05T09:32:49.751Z"
   },
   {
    "duration": 30,
    "start_time": "2023-10-05T09:32:49.949Z"
   },
   {
    "duration": 20,
    "start_time": "2023-10-05T09:32:49.980Z"
   },
   {
    "duration": 27,
    "start_time": "2023-10-05T09:32:50.002Z"
   },
   {
    "duration": 208,
    "start_time": "2023-10-05T09:32:50.047Z"
   },
   {
    "duration": 195,
    "start_time": "2023-10-05T09:32:50.257Z"
   },
   {
    "duration": 220,
    "start_time": "2023-10-05T09:32:50.454Z"
   },
   {
    "duration": 217,
    "start_time": "2023-10-05T09:32:50.676Z"
   },
   {
    "duration": 4,
    "start_time": "2023-10-05T09:32:50.895Z"
   },
   {
    "duration": 45,
    "start_time": "2023-10-05T09:32:50.901Z"
   },
   {
    "duration": 69,
    "start_time": "2023-10-05T09:32:50.948Z"
   },
   {
    "duration": 103,
    "start_time": "2023-10-05T09:32:51.019Z"
   },
   {
    "duration": 25,
    "start_time": "2023-10-05T09:32:51.124Z"
   },
   {
    "duration": 29,
    "start_time": "2023-10-05T09:32:51.151Z"
   },
   {
    "duration": 29,
    "start_time": "2023-10-05T09:32:51.181Z"
   },
   {
    "duration": 30,
    "start_time": "2023-10-05T09:32:51.211Z"
   },
   {
    "duration": 30,
    "start_time": "2023-10-05T09:32:51.243Z"
   },
   {
    "duration": 37,
    "start_time": "2023-10-05T09:32:51.275Z"
   },
   {
    "duration": 78,
    "start_time": "2023-10-05T09:32:51.313Z"
   },
   {
    "duration": 126,
    "start_time": "2023-10-05T09:32:51.393Z"
   },
   {
    "duration": 414,
    "start_time": "2023-10-05T09:32:51.520Z"
   },
   {
    "duration": 11,
    "start_time": "2023-10-05T09:32:51.936Z"
   },
   {
    "duration": 1937,
    "start_time": "2023-10-05T09:32:51.948Z"
   },
   {
    "duration": 5,
    "start_time": "2023-10-05T10:47:33.322Z"
   },
   {
    "duration": 110,
    "start_time": "2023-10-05T10:53:30.543Z"
   },
   {
    "duration": 108,
    "start_time": "2023-10-05T10:53:36.648Z"
   },
   {
    "duration": 7,
    "start_time": "2023-10-05T10:54:12.665Z"
   },
   {
    "duration": 5,
    "start_time": "2023-10-05T10:56:20.894Z"
   },
   {
    "duration": 5,
    "start_time": "2023-10-05T10:56:41.417Z"
   },
   {
    "duration": 5,
    "start_time": "2023-10-05T11:01:40.465Z"
   },
   {
    "duration": 4,
    "start_time": "2023-10-05T11:01:58.009Z"
   },
   {
    "duration": 4,
    "start_time": "2023-10-05T11:02:07.339Z"
   },
   {
    "duration": 100,
    "start_time": "2023-10-05T11:02:12.321Z"
   },
   {
    "duration": 5,
    "start_time": "2023-10-05T11:02:16.122Z"
   },
   {
    "duration": 5,
    "start_time": "2023-10-05T11:02:16.818Z"
   },
   {
    "duration": 6,
    "start_time": "2023-10-05T11:04:20.149Z"
   },
   {
    "duration": 5,
    "start_time": "2023-10-05T11:04:36.304Z"
   },
   {
    "duration": 5,
    "start_time": "2023-10-05T11:04:47.161Z"
   },
   {
    "duration": 6,
    "start_time": "2023-10-05T11:04:51.032Z"
   },
   {
    "duration": 5,
    "start_time": "2023-10-05T11:05:06.603Z"
   },
   {
    "duration": 5,
    "start_time": "2023-10-05T11:05:43.700Z"
   },
   {
    "duration": 5,
    "start_time": "2023-10-05T11:05:59.883Z"
   },
   {
    "duration": 5,
    "start_time": "2023-10-05T11:06:23.139Z"
   },
   {
    "duration": 5,
    "start_time": "2023-10-05T11:06:47.269Z"
   },
   {
    "duration": 296,
    "start_time": "2023-10-05T11:13:20.170Z"
   },
   {
    "duration": 1205,
    "start_time": "2023-10-05T11:17:18.399Z"
   },
   {
    "duration": 39,
    "start_time": "2023-10-05T11:17:19.606Z"
   },
   {
    "duration": 15,
    "start_time": "2023-10-05T11:17:19.647Z"
   },
   {
    "duration": 56,
    "start_time": "2023-10-05T11:17:19.664Z"
   },
   {
    "duration": 13,
    "start_time": "2023-10-05T11:17:19.722Z"
   },
   {
    "duration": 48,
    "start_time": "2023-10-05T11:17:19.737Z"
   },
   {
    "duration": 47,
    "start_time": "2023-10-05T11:17:19.787Z"
   },
   {
    "duration": 51,
    "start_time": "2023-10-05T11:17:19.836Z"
   },
   {
    "duration": 70,
    "start_time": "2023-10-05T11:17:19.889Z"
   },
   {
    "duration": 66,
    "start_time": "2023-10-05T11:17:19.960Z"
   },
   {
    "duration": 83,
    "start_time": "2023-10-05T11:17:20.028Z"
   },
   {
    "duration": 120,
    "start_time": "2023-10-05T11:17:20.113Z"
   },
   {
    "duration": 67,
    "start_time": "2023-10-05T11:17:20.235Z"
   },
   {
    "duration": 92,
    "start_time": "2023-10-05T11:17:20.306Z"
   },
   {
    "duration": 89,
    "start_time": "2023-10-05T11:17:20.401Z"
   },
   {
    "duration": 49,
    "start_time": "2023-10-05T11:17:20.493Z"
   },
   {
    "duration": 195,
    "start_time": "2023-10-05T11:17:20.543Z"
   },
   {
    "duration": 119,
    "start_time": "2023-10-05T11:17:20.740Z"
   },
   {
    "duration": 5,
    "start_time": "2023-10-05T11:17:20.861Z"
   },
   {
    "duration": 234,
    "start_time": "2023-10-05T11:17:20.867Z"
   },
   {
    "duration": 97,
    "start_time": "2023-10-05T11:17:21.103Z"
   },
   {
    "duration": 353,
    "start_time": "2023-10-05T11:17:21.202Z"
   },
   {
    "duration": 4,
    "start_time": "2023-10-05T11:17:21.557Z"
   },
   {
    "duration": 55,
    "start_time": "2023-10-05T11:17:21.562Z"
   },
   {
    "duration": 204,
    "start_time": "2023-10-05T11:17:21.619Z"
   },
   {
    "duration": 5,
    "start_time": "2023-10-05T11:17:21.825Z"
   },
   {
    "duration": 66,
    "start_time": "2023-10-05T11:17:21.832Z"
   },
   {
    "duration": 261,
    "start_time": "2023-10-05T11:17:21.900Z"
   },
   {
    "duration": 29,
    "start_time": "2023-10-05T11:17:22.163Z"
   },
   {
    "duration": 65,
    "start_time": "2023-10-05T11:17:22.194Z"
   },
   {
    "duration": 38,
    "start_time": "2023-10-05T11:17:22.260Z"
   },
   {
    "duration": 223,
    "start_time": "2023-10-05T11:17:22.300Z"
   },
   {
    "duration": 179,
    "start_time": "2023-10-05T11:17:22.526Z"
   },
   {
    "duration": 195,
    "start_time": "2023-10-05T11:17:22.707Z"
   },
   {
    "duration": 190,
    "start_time": "2023-10-05T11:17:22.904Z"
   },
   {
    "duration": 5,
    "start_time": "2023-10-05T11:17:23.095Z"
   },
   {
    "duration": 53,
    "start_time": "2023-10-05T11:17:23.101Z"
   },
   {
    "duration": 184,
    "start_time": "2023-10-05T11:17:23.156Z"
   },
   {
    "duration": 18,
    "start_time": "2023-10-05T11:17:23.346Z"
   },
   {
    "duration": 151,
    "start_time": "2023-10-05T11:17:23.366Z"
   },
   {
    "duration": 49,
    "start_time": "2023-10-05T11:17:23.521Z"
   },
   {
    "duration": 30,
    "start_time": "2023-10-05T11:17:23.572Z"
   },
   {
    "duration": 30,
    "start_time": "2023-10-05T11:17:23.604Z"
   },
   {
    "duration": 57,
    "start_time": "2023-10-05T11:17:23.636Z"
   },
   {
    "duration": 58,
    "start_time": "2023-10-05T11:17:23.695Z"
   },
   {
    "duration": 44,
    "start_time": "2023-10-05T11:17:23.754Z"
   },
   {
    "duration": 28,
    "start_time": "2023-10-05T11:17:23.800Z"
   },
   {
    "duration": 116,
    "start_time": "2023-10-05T11:17:23.830Z"
   },
   {
    "duration": 10,
    "start_time": "2023-10-05T11:17:23.948Z"
   },
   {
    "duration": 424,
    "start_time": "2023-10-05T11:17:23.959Z"
   },
   {
    "duration": 6,
    "start_time": "2023-10-05T11:17:24.384Z"
   },
   {
    "duration": 2051,
    "start_time": "2023-10-05T11:17:24.391Z"
   },
   {
    "duration": 1297,
    "start_time": "2023-10-06T06:25:52.015Z"
   },
   {
    "duration": 94,
    "start_time": "2023-10-06T06:25:53.314Z"
   },
   {
    "duration": 16,
    "start_time": "2023-10-06T06:25:53.410Z"
   },
   {
    "duration": 107,
    "start_time": "2023-10-06T06:25:53.428Z"
   },
   {
    "duration": 17,
    "start_time": "2023-10-06T06:25:53.537Z"
   },
   {
    "duration": 95,
    "start_time": "2023-10-06T06:25:53.556Z"
   },
   {
    "duration": 14,
    "start_time": "2023-10-06T06:25:53.653Z"
   },
   {
    "duration": 55,
    "start_time": "2023-10-06T06:25:53.669Z"
   },
   {
    "duration": 28,
    "start_time": "2023-10-06T06:25:53.725Z"
   },
   {
    "duration": 27,
    "start_time": "2023-10-06T06:25:53.757Z"
   },
   {
    "duration": 29,
    "start_time": "2023-10-06T06:25:53.786Z"
   },
   {
    "duration": 27,
    "start_time": "2023-10-06T06:25:53.817Z"
   },
   {
    "duration": 29,
    "start_time": "2023-10-06T06:25:53.846Z"
   },
   {
    "duration": 28,
    "start_time": "2023-10-06T06:25:53.878Z"
   },
   {
    "duration": 36,
    "start_time": "2023-10-06T06:25:53.909Z"
   },
   {
    "duration": 44,
    "start_time": "2023-10-06T06:25:53.946Z"
   },
   {
    "duration": 149,
    "start_time": "2023-10-06T06:25:53.992Z"
   },
   {
    "duration": 111,
    "start_time": "2023-10-06T06:25:54.145Z"
   },
   {
    "duration": 5,
    "start_time": "2023-10-06T06:25:54.258Z"
   },
   {
    "duration": 31,
    "start_time": "2023-10-06T06:25:54.265Z"
   },
   {
    "duration": 32,
    "start_time": "2023-10-06T06:25:54.298Z"
   },
   {
    "duration": 380,
    "start_time": "2023-10-06T06:25:54.332Z"
   },
   {
    "duration": 6,
    "start_time": "2023-10-06T06:25:54.714Z"
   },
   {
    "duration": 50,
    "start_time": "2023-10-06T06:25:54.722Z"
   },
   {
    "duration": 255,
    "start_time": "2023-10-06T06:25:54.774Z"
   },
   {
    "duration": 6,
    "start_time": "2023-10-06T06:25:55.031Z"
   },
   {
    "duration": 40,
    "start_time": "2023-10-06T06:25:55.038Z"
   },
   {
    "duration": 311,
    "start_time": "2023-10-06T06:25:55.082Z"
   },
   {
    "duration": 27,
    "start_time": "2023-10-06T06:25:55.395Z"
   },
   {
    "duration": 36,
    "start_time": "2023-10-06T06:25:55.423Z"
   },
   {
    "duration": 17,
    "start_time": "2023-10-06T06:25:55.461Z"
   },
   {
    "duration": 197,
    "start_time": "2023-10-06T06:25:55.480Z"
   },
   {
    "duration": 160,
    "start_time": "2023-10-06T06:25:55.678Z"
   },
   {
    "duration": 200,
    "start_time": "2023-10-06T06:25:55.849Z"
   },
   {
    "duration": 170,
    "start_time": "2023-10-06T06:25:56.051Z"
   },
   {
    "duration": 4,
    "start_time": "2023-10-06T06:25:56.222Z"
   },
   {
    "duration": 52,
    "start_time": "2023-10-06T06:25:56.228Z"
   },
   {
    "duration": 62,
    "start_time": "2023-10-06T06:25:56.283Z"
   },
   {
    "duration": 96,
    "start_time": "2023-10-06T06:25:56.347Z"
   },
   {
    "duration": 116,
    "start_time": "2023-10-06T06:25:56.450Z"
   },
   {
    "duration": 29,
    "start_time": "2023-10-06T06:25:56.568Z"
   },
   {
    "duration": 42,
    "start_time": "2023-10-06T06:25:56.599Z"
   },
   {
    "duration": 32,
    "start_time": "2023-10-06T06:25:56.643Z"
   },
   {
    "duration": 63,
    "start_time": "2023-10-06T06:25:56.677Z"
   },
   {
    "duration": 53,
    "start_time": "2023-10-06T06:25:56.742Z"
   },
   {
    "duration": 41,
    "start_time": "2023-10-06T06:25:56.797Z"
   },
   {
    "duration": 31,
    "start_time": "2023-10-06T06:25:56.839Z"
   },
   {
    "duration": 107,
    "start_time": "2023-10-06T06:25:56.872Z"
   },
   {
    "duration": 4,
    "start_time": "2023-10-06T06:25:56.981Z"
   },
   {
    "duration": 361,
    "start_time": "2023-10-06T06:25:56.986Z"
   },
   {
    "duration": 5,
    "start_time": "2023-10-06T06:25:57.349Z"
   },
   {
    "duration": 1651,
    "start_time": "2023-10-06T06:25:57.355Z"
   },
   {
    "duration": 48,
    "start_time": "2023-10-06T06:53:50.905Z"
   },
   {
    "duration": 12,
    "start_time": "2023-10-06T06:53:53.050Z"
   },
   {
    "duration": 4,
    "start_time": "2023-10-06T06:55:35.538Z"
   },
   {
    "duration": 114,
    "start_time": "2023-10-06T06:55:35.544Z"
   },
   {
    "duration": 14,
    "start_time": "2023-10-06T06:55:35.660Z"
   },
   {
    "duration": 63,
    "start_time": "2023-10-06T06:55:35.676Z"
   },
   {
    "duration": 164,
    "start_time": "2023-10-06T06:55:35.741Z"
   },
   {
    "duration": 105,
    "start_time": "2023-10-06T06:55:35.908Z"
   },
   {
    "duration": 55,
    "start_time": "2023-10-06T06:55:36.015Z"
   },
   {
    "duration": 37,
    "start_time": "2023-10-06T06:55:36.072Z"
   },
   {
    "duration": 32,
    "start_time": "2023-10-06T06:55:36.113Z"
   },
   {
    "duration": 57,
    "start_time": "2023-10-06T06:55:36.147Z"
   },
   {
    "duration": 46,
    "start_time": "2023-10-06T06:55:36.208Z"
   },
   {
    "duration": 43,
    "start_time": "2023-10-06T06:55:36.255Z"
   },
   {
    "duration": 35,
    "start_time": "2023-10-06T06:55:36.305Z"
   },
   {
    "duration": 43,
    "start_time": "2023-10-06T06:55:36.343Z"
   },
   {
    "duration": 43,
    "start_time": "2023-10-06T06:55:36.388Z"
   },
   {
    "duration": 215,
    "start_time": "2023-10-06T06:55:36.437Z"
   },
   {
    "duration": 142,
    "start_time": "2023-10-06T06:55:36.654Z"
   },
   {
    "duration": 5,
    "start_time": "2023-10-06T06:55:36.798Z"
   },
   {
    "duration": 17,
    "start_time": "2023-10-06T06:55:36.805Z"
   },
   {
    "duration": 23,
    "start_time": "2023-10-06T06:55:36.824Z"
   },
   {
    "duration": 356,
    "start_time": "2023-10-06T06:55:36.850Z"
   },
   {
    "duration": 5,
    "start_time": "2023-10-06T06:55:37.209Z"
   },
   {
    "duration": 14,
    "start_time": "2023-10-06T06:55:37.216Z"
   },
   {
    "duration": 175,
    "start_time": "2023-10-06T06:55:37.232Z"
   },
   {
    "duration": 5,
    "start_time": "2023-10-06T06:55:37.409Z"
   },
   {
    "duration": 45,
    "start_time": "2023-10-06T06:55:37.416Z"
   },
   {
    "duration": 193,
    "start_time": "2023-10-06T06:55:37.464Z"
   },
   {
    "duration": 26,
    "start_time": "2023-10-06T06:55:37.659Z"
   },
   {
    "duration": 40,
    "start_time": "2023-10-06T06:55:37.687Z"
   },
   {
    "duration": 28,
    "start_time": "2023-10-06T06:55:37.729Z"
   },
   {
    "duration": 233,
    "start_time": "2023-10-06T06:55:37.758Z"
   },
   {
    "duration": 152,
    "start_time": "2023-10-06T06:55:37.993Z"
   },
   {
    "duration": 168,
    "start_time": "2023-10-06T06:55:38.150Z"
   },
   {
    "duration": 170,
    "start_time": "2023-10-06T06:55:38.320Z"
   },
   {
    "duration": 5,
    "start_time": "2023-10-06T06:55:38.492Z"
   },
   {
    "duration": 84,
    "start_time": "2023-10-06T06:55:38.498Z"
   },
   {
    "duration": 56,
    "start_time": "2023-10-06T06:55:38.587Z"
   },
   {
    "duration": 71,
    "start_time": "2023-10-06T06:55:38.645Z"
   },
   {
    "duration": 46,
    "start_time": "2023-10-06T06:55:38.718Z"
   },
   {
    "duration": 16,
    "start_time": "2023-10-06T06:55:38.766Z"
   },
   {
    "duration": 49,
    "start_time": "2023-10-06T06:55:38.784Z"
   },
   {
    "duration": 23,
    "start_time": "2023-10-06T06:55:38.836Z"
   },
   {
    "duration": 43,
    "start_time": "2023-10-06T06:55:38.861Z"
   },
   {
    "duration": 45,
    "start_time": "2023-10-06T06:55:38.905Z"
   },
   {
    "duration": 30,
    "start_time": "2023-10-06T06:55:38.952Z"
   },
   {
    "duration": 56,
    "start_time": "2023-10-06T06:55:38.984Z"
   },
   {
    "duration": 262,
    "start_time": "2023-10-06T06:55:39.042Z"
   },
   {
    "duration": 6,
    "start_time": "2023-10-06T06:55:39.306Z"
   },
   {
    "duration": 344,
    "start_time": "2023-10-06T06:55:39.313Z"
   },
   {
    "duration": 5,
    "start_time": "2023-10-06T06:55:39.659Z"
   },
   {
    "duration": 1640,
    "start_time": "2023-10-06T06:55:39.665Z"
   },
   {
    "duration": 5,
    "start_time": "2023-10-06T06:59:41.286Z"
   },
   {
    "duration": 5,
    "start_time": "2023-10-06T06:59:52.544Z"
   },
   {
    "duration": 90,
    "start_time": "2023-10-06T07:02:02.479Z"
   },
   {
    "duration": 87,
    "start_time": "2023-10-06T07:02:10.701Z"
   },
   {
    "duration": 134,
    "start_time": "2023-10-06T07:05:27.813Z"
   },
   {
    "duration": 135,
    "start_time": "2023-10-06T07:06:33.866Z"
   },
   {
    "duration": 178,
    "start_time": "2023-10-06T07:06:53.988Z"
   },
   {
    "duration": 2272,
    "start_time": "2023-10-06T07:13:03.023Z"
   },
   {
    "duration": 171,
    "start_time": "2023-10-06T07:13:23.099Z"
   },
   {
    "duration": 350,
    "start_time": "2023-10-06T07:21:07.697Z"
   },
   {
    "duration": 197,
    "start_time": "2023-10-06T07:23:48.140Z"
   },
   {
    "duration": 131,
    "start_time": "2023-10-06T07:28:05.194Z"
   },
   {
    "duration": 148,
    "start_time": "2023-10-06T07:31:08.999Z"
   },
   {
    "duration": 112,
    "start_time": "2023-10-06T07:31:33.888Z"
   },
   {
    "duration": 113,
    "start_time": "2023-10-06T07:31:37.293Z"
   },
   {
    "duration": 245,
    "start_time": "2023-10-06T07:32:09.234Z"
   },
   {
    "duration": 127,
    "start_time": "2023-10-06T07:32:24.585Z"
   },
   {
    "duration": 106,
    "start_time": "2023-10-06T07:33:01.385Z"
   },
   {
    "duration": 232,
    "start_time": "2023-10-06T07:35:06.584Z"
   },
   {
    "duration": 398,
    "start_time": "2023-10-06T07:35:53.643Z"
   },
   {
    "duration": 312,
    "start_time": "2023-10-06T07:36:11.391Z"
   },
   {
    "duration": 2588,
    "start_time": "2023-10-06T07:41:41.599Z"
   },
   {
    "duration": 145,
    "start_time": "2023-10-06T07:42:06.802Z"
   },
   {
    "duration": 24,
    "start_time": "2023-10-06T07:53:17.621Z"
   },
   {
    "duration": 28,
    "start_time": "2023-10-06T08:01:27.462Z"
   },
   {
    "duration": 22,
    "start_time": "2023-10-06T08:01:48.276Z"
   },
   {
    "duration": 520,
    "start_time": "2023-10-06T08:05:30.918Z"
   },
   {
    "duration": 8,
    "start_time": "2023-10-06T08:05:39.007Z"
   },
   {
    "duration": 8,
    "start_time": "2023-10-06T08:06:00.117Z"
   },
   {
    "duration": 288,
    "start_time": "2023-10-06T08:11:09.039Z"
   },
   {
    "duration": 327,
    "start_time": "2023-10-06T08:12:34.680Z"
   },
   {
    "duration": 11,
    "start_time": "2023-10-06T08:15:48.410Z"
   },
   {
    "duration": 17,
    "start_time": "2023-10-06T08:16:14.942Z"
   },
   {
    "duration": 114,
    "start_time": "2023-10-06T08:31:28.096Z"
   },
   {
    "duration": 328,
    "start_time": "2023-10-06T08:44:00.680Z"
   },
   {
    "duration": 408,
    "start_time": "2023-10-06T08:44:10.434Z"
   },
   {
    "duration": 346,
    "start_time": "2023-10-06T08:46:22.790Z"
   },
   {
    "duration": 4,
    "start_time": "2023-10-06T08:46:34.196Z"
   },
   {
    "duration": 59,
    "start_time": "2023-10-06T08:46:34.201Z"
   },
   {
    "duration": 15,
    "start_time": "2023-10-06T08:46:34.262Z"
   },
   {
    "duration": 77,
    "start_time": "2023-10-06T08:46:34.279Z"
   },
   {
    "duration": 22,
    "start_time": "2023-10-06T08:46:34.358Z"
   },
   {
    "duration": 54,
    "start_time": "2023-10-06T08:46:34.381Z"
   },
   {
    "duration": 31,
    "start_time": "2023-10-06T08:46:34.436Z"
   },
   {
    "duration": 43,
    "start_time": "2023-10-06T08:46:34.468Z"
   },
   {
    "duration": 62,
    "start_time": "2023-10-06T08:46:34.513Z"
   },
   {
    "duration": 79,
    "start_time": "2023-10-06T08:46:34.576Z"
   },
   {
    "duration": 96,
    "start_time": "2023-10-06T08:46:34.658Z"
   },
   {
    "duration": 39,
    "start_time": "2023-10-06T08:46:34.756Z"
   },
   {
    "duration": 46,
    "start_time": "2023-10-06T08:46:34.796Z"
   },
   {
    "duration": 83,
    "start_time": "2023-10-06T08:46:34.844Z"
   },
   {
    "duration": 34,
    "start_time": "2023-10-06T08:46:34.928Z"
   },
   {
    "duration": 91,
    "start_time": "2023-10-06T08:46:34.964Z"
   },
   {
    "duration": 97,
    "start_time": "2023-10-06T08:46:35.056Z"
   },
   {
    "duration": 168,
    "start_time": "2023-10-06T08:46:35.155Z"
   },
   {
    "duration": 114,
    "start_time": "2023-10-06T08:46:35.324Z"
   },
   {
    "duration": 277,
    "start_time": "2023-10-06T08:46:35.439Z"
   },
   {
    "duration": 98,
    "start_time": "2023-10-06T08:46:35.718Z"
   },
   {
    "duration": 25,
    "start_time": "2023-10-06T08:46:35.817Z"
   },
   {
    "duration": 37,
    "start_time": "2023-10-06T08:46:35.843Z"
   },
   {
    "duration": 216,
    "start_time": "2023-10-06T08:46:35.881Z"
   },
   {
    "duration": 307,
    "start_time": "2023-10-06T08:46:36.099Z"
   },
   {
    "duration": 312,
    "start_time": "2023-10-06T08:46:36.408Z"
   },
   {
    "duration": 5,
    "start_time": "2023-10-06T08:46:36.721Z"
   },
   {
    "duration": 30,
    "start_time": "2023-10-06T08:46:36.727Z"
   },
   {
    "duration": 170,
    "start_time": "2023-10-06T08:46:36.762Z"
   },
   {
    "duration": 3,
    "start_time": "2023-10-06T08:46:36.934Z"
   },
   {
    "duration": 20,
    "start_time": "2023-10-06T08:46:36.939Z"
   },
   {
    "duration": 156,
    "start_time": "2023-10-06T08:46:36.960Z"
   },
   {
    "duration": 103,
    "start_time": "2023-10-06T08:46:37.117Z"
   },
   {
    "duration": 32,
    "start_time": "2023-10-06T08:46:37.223Z"
   },
   {
    "duration": 13,
    "start_time": "2023-10-06T08:46:37.256Z"
   },
   {
    "duration": 30,
    "start_time": "2023-10-06T08:46:37.270Z"
   },
   {
    "duration": 13,
    "start_time": "2023-10-06T08:46:37.301Z"
   },
   {
    "duration": 243,
    "start_time": "2023-10-06T08:46:37.315Z"
   },
   {
    "duration": 8,
    "start_time": "2023-10-06T08:46:37.559Z"
   },
   {
    "duration": 154,
    "start_time": "2023-10-06T08:46:37.568Z"
   },
   {
    "duration": 9,
    "start_time": "2023-10-06T08:46:37.724Z"
   },
   {
    "duration": 224,
    "start_time": "2023-10-06T08:46:37.734Z"
   },
   {
    "duration": 168,
    "start_time": "2023-10-06T08:46:37.960Z"
   },
   {
    "duration": 8,
    "start_time": "2023-10-06T08:46:38.130Z"
   },
   {
    "duration": 154,
    "start_time": "2023-10-06T08:46:38.139Z"
   },
   {
    "duration": 9,
    "start_time": "2023-10-06T08:46:38.295Z"
   },
   {
    "duration": 227,
    "start_time": "2023-10-06T08:46:38.305Z"
   },
   {
    "duration": 3,
    "start_time": "2023-10-06T08:46:38.534Z"
   },
   {
    "duration": 23,
    "start_time": "2023-10-06T08:46:38.538Z"
   },
   {
    "duration": 44,
    "start_time": "2023-10-06T08:46:38.562Z"
   },
   {
    "duration": 14,
    "start_time": "2023-10-06T08:46:38.607Z"
   },
   {
    "duration": 10,
    "start_time": "2023-10-06T08:46:38.622Z"
   },
   {
    "duration": 28,
    "start_time": "2023-10-06T08:46:38.633Z"
   },
   {
    "duration": 13,
    "start_time": "2023-10-06T08:46:38.662Z"
   },
   {
    "duration": 14,
    "start_time": "2023-10-06T08:46:38.677Z"
   },
   {
    "duration": 5,
    "start_time": "2023-10-06T08:46:38.693Z"
   },
   {
    "duration": 13,
    "start_time": "2023-10-06T08:46:38.699Z"
   },
   {
    "duration": 12,
    "start_time": "2023-10-06T08:46:38.713Z"
   },
   {
    "duration": 5,
    "start_time": "2023-10-06T08:46:38.726Z"
   },
   {
    "duration": 17,
    "start_time": "2023-10-06T08:46:38.732Z"
   },
   {
    "duration": 81,
    "start_time": "2023-10-06T08:46:38.751Z"
   },
   {
    "duration": 4,
    "start_time": "2023-10-06T08:46:38.834Z"
   },
   {
    "duration": 356,
    "start_time": "2023-10-06T08:46:38.849Z"
   },
   {
    "duration": 4,
    "start_time": "2023-10-06T08:46:39.207Z"
   },
   {
    "duration": 1558,
    "start_time": "2023-10-06T08:46:39.212Z"
   },
   {
    "duration": 331,
    "start_time": "2023-10-06T08:47:15.018Z"
   },
   {
    "duration": 3,
    "start_time": "2023-10-06T08:47:22.743Z"
   },
   {
    "duration": 107,
    "start_time": "2023-10-06T08:47:22.750Z"
   },
   {
    "duration": 69,
    "start_time": "2023-10-06T08:47:22.859Z"
   },
   {
    "duration": 77,
    "start_time": "2023-10-06T08:47:22.930Z"
   },
   {
    "duration": 31,
    "start_time": "2023-10-06T08:47:23.009Z"
   },
   {
    "duration": 84,
    "start_time": "2023-10-06T08:47:23.042Z"
   },
   {
    "duration": 35,
    "start_time": "2023-10-06T08:47:23.128Z"
   },
   {
    "duration": 71,
    "start_time": "2023-10-06T08:47:23.165Z"
   },
   {
    "duration": 48,
    "start_time": "2023-10-06T08:47:23.238Z"
   },
   {
    "duration": 33,
    "start_time": "2023-10-06T08:47:23.288Z"
   },
   {
    "duration": 58,
    "start_time": "2023-10-06T08:47:23.323Z"
   },
   {
    "duration": 54,
    "start_time": "2023-10-06T08:47:23.382Z"
   },
   {
    "duration": 34,
    "start_time": "2023-10-06T08:47:23.438Z"
   },
   {
    "duration": 84,
    "start_time": "2023-10-06T08:47:23.473Z"
   },
   {
    "duration": 40,
    "start_time": "2023-10-06T08:47:23.560Z"
   },
   {
    "duration": 77,
    "start_time": "2023-10-06T08:47:23.602Z"
   },
   {
    "duration": 36,
    "start_time": "2023-10-06T08:47:23.681Z"
   },
   {
    "duration": 122,
    "start_time": "2023-10-06T08:47:23.718Z"
   },
   {
    "duration": 112,
    "start_time": "2023-10-06T08:47:23.842Z"
   },
   {
    "duration": 354,
    "start_time": "2023-10-06T08:47:23.956Z"
   },
   {
    "duration": 97,
    "start_time": "2023-10-06T08:47:24.312Z"
   },
   {
    "duration": 4,
    "start_time": "2023-10-06T08:47:24.411Z"
   },
   {
    "duration": 24,
    "start_time": "2023-10-06T08:47:24.417Z"
   },
   {
    "duration": 27,
    "start_time": "2023-10-06T08:47:24.443Z"
   },
   {
    "duration": 218,
    "start_time": "2023-10-06T08:47:24.472Z"
   },
   {
    "duration": 326,
    "start_time": "2023-10-06T08:47:24.692Z"
   },
   {
    "duration": 4,
    "start_time": "2023-10-06T08:47:25.019Z"
   },
   {
    "duration": 49,
    "start_time": "2023-10-06T08:47:25.024Z"
   },
   {
    "duration": 185,
    "start_time": "2023-10-06T08:47:25.074Z"
   },
   {
    "duration": 165,
    "start_time": "2023-10-06T08:47:25.260Z"
   },
   {
    "duration": 187,
    "start_time": "2023-10-06T08:47:25.426Z"
   },
   {
    "duration": 202,
    "start_time": "2023-10-06T08:47:25.614Z"
   },
   {
    "duration": 149,
    "start_time": "2023-10-06T08:47:25.817Z"
   },
   {
    "duration": 30,
    "start_time": "2023-10-06T08:47:25.968Z"
   },
   {
    "duration": 35,
    "start_time": "2023-10-06T08:47:25.999Z"
   },
   {
    "duration": 60,
    "start_time": "2023-10-06T08:47:26.036Z"
   },
   {
    "duration": 23,
    "start_time": "2023-10-06T08:47:26.098Z"
   },
   {
    "duration": 193,
    "start_time": "2023-10-06T08:47:26.122Z"
   },
   {
    "duration": 9,
    "start_time": "2023-10-06T08:47:26.317Z"
   },
   {
    "duration": 190,
    "start_time": "2023-10-06T08:47:26.328Z"
   },
   {
    "duration": 7,
    "start_time": "2023-10-06T08:47:26.520Z"
   },
   {
    "duration": 286,
    "start_time": "2023-10-06T08:47:26.531Z"
   },
   {
    "duration": 267,
    "start_time": "2023-10-06T08:47:26.819Z"
   },
   {
    "duration": 8,
    "start_time": "2023-10-06T08:47:27.088Z"
   },
   {
    "duration": 240,
    "start_time": "2023-10-06T08:47:27.098Z"
   },
   {
    "duration": 15,
    "start_time": "2023-10-06T08:47:27.340Z"
   },
   {
    "duration": 227,
    "start_time": "2023-10-06T08:47:27.357Z"
   },
   {
    "duration": 4,
    "start_time": "2023-10-06T08:47:27.585Z"
   },
   {
    "duration": 35,
    "start_time": "2023-10-06T08:47:27.591Z"
   },
   {
    "duration": 73,
    "start_time": "2023-10-06T08:47:27.627Z"
   },
   {
    "duration": 15,
    "start_time": "2023-10-06T08:47:27.701Z"
   },
   {
    "duration": 32,
    "start_time": "2023-10-06T08:47:27.717Z"
   },
   {
    "duration": 46,
    "start_time": "2023-10-06T08:47:27.751Z"
   },
   {
    "duration": 18,
    "start_time": "2023-10-06T08:47:27.799Z"
   },
   {
    "duration": 33,
    "start_time": "2023-10-06T08:47:27.818Z"
   },
   {
    "duration": 46,
    "start_time": "2023-10-06T08:47:27.852Z"
   },
   {
    "duration": 26,
    "start_time": "2023-10-06T08:47:27.900Z"
   },
   {
    "duration": 34,
    "start_time": "2023-10-06T08:47:27.927Z"
   },
   {
    "duration": 27,
    "start_time": "2023-10-06T08:47:27.962Z"
   },
   {
    "duration": 34,
    "start_time": "2023-10-06T08:47:27.990Z"
   },
   {
    "duration": 105,
    "start_time": "2023-10-06T08:47:28.026Z"
   },
   {
    "duration": 4,
    "start_time": "2023-10-06T08:47:28.133Z"
   },
   {
    "duration": 387,
    "start_time": "2023-10-06T08:47:28.138Z"
   },
   {
    "duration": 5,
    "start_time": "2023-10-06T08:47:28.526Z"
   },
   {
    "duration": 1562,
    "start_time": "2023-10-06T08:47:28.532Z"
   },
   {
    "duration": 1874,
    "start_time": "2023-10-06T08:50:19.891Z"
   },
   {
    "duration": 1316,
    "start_time": "2023-10-06T08:53:07.411Z"
   },
   {
    "duration": 125,
    "start_time": "2023-10-06T08:53:53.415Z"
   },
   {
    "duration": 1150,
    "start_time": "2023-10-06T20:54:29.840Z"
   },
   {
    "duration": 94,
    "start_time": "2023-10-06T20:54:31.951Z"
   },
   {
    "duration": 8,
    "start_time": "2023-10-06T20:54:40.101Z"
   },
   {
    "duration": 1151,
    "start_time": "2023-10-06T20:55:02.458Z"
   },
   {
    "duration": 96,
    "start_time": "2023-10-06T20:55:03.611Z"
   },
   {
    "duration": 14,
    "start_time": "2023-10-06T20:55:03.709Z"
   },
   {
    "duration": 111,
    "start_time": "2023-10-06T20:55:03.725Z"
   },
   {
    "duration": 12,
    "start_time": "2023-10-06T20:55:03.838Z"
   },
   {
    "duration": 61,
    "start_time": "2023-10-06T20:55:03.851Z"
   },
   {
    "duration": 10,
    "start_time": "2023-10-06T20:55:03.914Z"
   },
   {
    "duration": 24,
    "start_time": "2023-10-06T20:55:03.925Z"
   },
   {
    "duration": 8,
    "start_time": "2023-10-06T20:55:03.950Z"
   },
   {
    "duration": 9,
    "start_time": "2023-10-06T20:55:03.960Z"
   },
   {
    "duration": 13,
    "start_time": "2023-10-06T20:55:03.971Z"
   },
   {
    "duration": 25,
    "start_time": "2023-10-06T20:55:03.985Z"
   },
   {
    "duration": 17,
    "start_time": "2023-10-06T20:55:04.012Z"
   },
   {
    "duration": 35,
    "start_time": "2023-10-06T20:55:04.030Z"
   },
   {
    "duration": 43,
    "start_time": "2023-10-06T20:55:04.067Z"
   },
   {
    "duration": 25,
    "start_time": "2023-10-06T20:55:04.111Z"
   },
   {
    "duration": 36,
    "start_time": "2023-10-06T20:55:04.138Z"
   },
   {
    "duration": 137,
    "start_time": "2023-10-06T20:55:04.176Z"
   },
   {
    "duration": 64,
    "start_time": "2023-10-06T20:55:04.315Z"
   },
   {
    "duration": 352,
    "start_time": "2023-10-06T20:55:04.381Z"
   },
   {
    "duration": 125,
    "start_time": "2023-10-06T20:55:04.743Z"
   },
   {
    "duration": 302,
    "start_time": "2023-10-06T20:55:04.869Z"
   },
   {
    "duration": 104,
    "start_time": "2023-10-06T20:55:05.173Z"
   },
   {
    "duration": 50,
    "start_time": "2023-10-06T20:55:05.279Z"
   },
   {
    "duration": 78,
    "start_time": "2023-10-06T20:55:05.330Z"
   },
   {
    "duration": 133,
    "start_time": "2023-10-06T20:55:05.410Z"
   },
   {
    "duration": 319,
    "start_time": "2023-10-06T20:55:05.545Z"
   },
   {
    "duration": 339,
    "start_time": "2023-10-06T20:55:05.868Z"
   },
   {
    "duration": 4,
    "start_time": "2023-10-06T20:55:06.209Z"
   },
   {
    "duration": 34,
    "start_time": "2023-10-06T20:55:06.215Z"
   },
   {
    "duration": 209,
    "start_time": "2023-10-06T20:55:06.251Z"
   },
   {
    "duration": 4,
    "start_time": "2023-10-06T20:55:06.462Z"
   },
   {
    "duration": 70,
    "start_time": "2023-10-06T20:55:06.468Z"
   },
   {
    "duration": 364,
    "start_time": "2023-10-06T20:55:06.539Z"
   },
   {
    "duration": 118,
    "start_time": "2023-10-06T20:55:06.905Z"
   },
   {
    "duration": 38,
    "start_time": "2023-10-06T20:55:07.025Z"
   },
   {
    "duration": 14,
    "start_time": "2023-10-06T20:55:07.065Z"
   },
   {
    "duration": 28,
    "start_time": "2023-10-06T20:55:07.081Z"
   },
   {
    "duration": 12,
    "start_time": "2023-10-06T20:55:07.111Z"
   },
   {
    "duration": 255,
    "start_time": "2023-10-06T20:55:07.125Z"
   },
   {
    "duration": 8,
    "start_time": "2023-10-06T20:55:07.381Z"
   },
   {
    "duration": 164,
    "start_time": "2023-10-06T20:55:07.444Z"
   },
   {
    "duration": 8,
    "start_time": "2023-10-06T20:55:07.609Z"
   },
   {
    "duration": 246,
    "start_time": "2023-10-06T20:55:07.619Z"
   },
   {
    "duration": 195,
    "start_time": "2023-10-06T20:55:07.866Z"
   },
   {
    "duration": 8,
    "start_time": "2023-10-06T20:55:08.063Z"
   },
   {
    "duration": 227,
    "start_time": "2023-10-06T20:55:08.073Z"
   },
   {
    "duration": 7,
    "start_time": "2023-10-06T20:55:08.302Z"
   },
   {
    "duration": 340,
    "start_time": "2023-10-06T20:55:08.311Z"
   },
   {
    "duration": 3,
    "start_time": "2023-10-06T20:55:08.653Z"
   },
   {
    "duration": 17,
    "start_time": "2023-10-06T20:55:08.658Z"
   },
   {
    "duration": 31,
    "start_time": "2023-10-06T20:55:08.677Z"
   },
   {
    "duration": 36,
    "start_time": "2023-10-06T20:55:08.709Z"
   },
   {
    "duration": 11,
    "start_time": "2023-10-06T20:55:08.746Z"
   },
   {
    "duration": 17,
    "start_time": "2023-10-06T20:55:08.759Z"
   },
   {
    "duration": 4,
    "start_time": "2023-10-06T20:55:08.777Z"
   },
   {
    "duration": 16,
    "start_time": "2023-10-06T20:55:08.783Z"
   },
   {
    "duration": 6,
    "start_time": "2023-10-06T20:55:08.800Z"
   },
   {
    "duration": 27,
    "start_time": "2023-10-06T20:55:08.807Z"
   },
   {
    "duration": 25,
    "start_time": "2023-10-06T20:55:08.835Z"
   },
   {
    "duration": 23,
    "start_time": "2023-10-06T20:55:08.862Z"
   },
   {
    "duration": 14,
    "start_time": "2023-10-06T20:55:08.886Z"
   },
   {
    "duration": 94,
    "start_time": "2023-10-06T20:55:08.902Z"
   },
   {
    "duration": 4,
    "start_time": "2023-10-06T20:55:08.998Z"
   },
   {
    "duration": 365,
    "start_time": "2023-10-06T20:55:09.004Z"
   },
   {
    "duration": 5,
    "start_time": "2023-10-06T20:55:09.370Z"
   },
   {
    "duration": 1682,
    "start_time": "2023-10-06T20:55:09.377Z"
   },
   {
    "duration": 263,
    "start_time": "2023-10-06T20:59:38.312Z"
   },
   {
    "duration": 412,
    "start_time": "2023-10-06T20:59:53.441Z"
   },
   {
    "duration": 159,
    "start_time": "2023-10-06T21:03:39.843Z"
   },
   {
    "duration": 261,
    "start_time": "2023-10-06T21:03:52.484Z"
   },
   {
    "duration": 345,
    "start_time": "2023-10-06T21:05:25.728Z"
   },
   {
    "duration": 443,
    "start_time": "2023-10-06T21:06:43.073Z"
   },
   {
    "duration": 460,
    "start_time": "2023-10-06T21:06:54.369Z"
   },
   {
    "duration": 297,
    "start_time": "2023-10-06T21:07:01.508Z"
   },
   {
    "duration": 350,
    "start_time": "2023-10-06T21:07:17.924Z"
   },
   {
    "duration": 6,
    "start_time": "2023-10-06T21:14:40.925Z"
   },
   {
    "duration": 1153,
    "start_time": "2023-10-06T21:23:19.461Z"
   },
   {
    "duration": 37,
    "start_time": "2023-10-06T21:23:20.616Z"
   },
   {
    "duration": 11,
    "start_time": "2023-10-06T21:23:20.655Z"
   },
   {
    "duration": 45,
    "start_time": "2023-10-06T21:23:20.668Z"
   },
   {
    "duration": 12,
    "start_time": "2023-10-06T21:23:20.715Z"
   },
   {
    "duration": 33,
    "start_time": "2023-10-06T21:23:20.728Z"
   },
   {
    "duration": 17,
    "start_time": "2023-10-06T21:23:20.763Z"
   },
   {
    "duration": 17,
    "start_time": "2023-10-06T21:23:20.782Z"
   },
   {
    "duration": 6,
    "start_time": "2023-10-06T21:23:20.800Z"
   },
   {
    "duration": 9,
    "start_time": "2023-10-06T21:23:20.808Z"
   },
   {
    "duration": 20,
    "start_time": "2023-10-06T21:23:20.819Z"
   },
   {
    "duration": 41,
    "start_time": "2023-10-06T21:23:20.841Z"
   },
   {
    "duration": 7,
    "start_time": "2023-10-06T21:23:20.883Z"
   },
   {
    "duration": 30,
    "start_time": "2023-10-06T21:23:20.892Z"
   },
   {
    "duration": 11,
    "start_time": "2023-10-06T21:23:20.924Z"
   },
   {
    "duration": 47,
    "start_time": "2023-10-06T21:23:20.936Z"
   },
   {
    "duration": 10,
    "start_time": "2023-10-06T21:23:20.984Z"
   },
   {
    "duration": 132,
    "start_time": "2023-10-06T21:23:20.996Z"
   },
   {
    "duration": 53,
    "start_time": "2023-10-06T21:23:21.130Z"
   },
   {
    "duration": 246,
    "start_time": "2023-10-06T21:23:21.185Z"
   },
   {
    "duration": 165,
    "start_time": "2023-10-06T21:23:21.432Z"
   },
   {
    "duration": 139,
    "start_time": "2023-10-06T21:23:21.599Z"
   },
   {
    "duration": 293,
    "start_time": "2023-10-06T21:23:21.740Z"
   },
   {
    "duration": 102,
    "start_time": "2023-10-06T21:23:22.043Z"
   },
   {
    "duration": 4,
    "start_time": "2023-10-06T21:23:22.147Z"
   },
   {
    "duration": 18,
    "start_time": "2023-10-06T21:23:22.153Z"
   },
   {
    "duration": 9,
    "start_time": "2023-10-06T21:23:22.172Z"
   },
   {
    "duration": 297,
    "start_time": "2023-10-06T21:23:22.185Z"
   },
   {
    "duration": 328,
    "start_time": "2023-10-06T21:23:22.484Z"
   },
   {
    "duration": 5,
    "start_time": "2023-10-06T21:23:22.814Z"
   },
   {
    "duration": 9,
    "start_time": "2023-10-06T21:23:22.820Z"
   },
   {
    "duration": 238,
    "start_time": "2023-10-06T21:23:22.843Z"
   },
   {
    "duration": 5,
    "start_time": "2023-10-06T21:23:23.082Z"
   },
   {
    "duration": 22,
    "start_time": "2023-10-06T21:23:23.088Z"
   },
   {
    "duration": 175,
    "start_time": "2023-10-06T21:23:23.111Z"
   },
   {
    "duration": 116,
    "start_time": "2023-10-06T21:23:23.288Z"
   },
   {
    "duration": 25,
    "start_time": "2023-10-06T21:23:23.405Z"
   },
   {
    "duration": 25,
    "start_time": "2023-10-06T21:23:23.431Z"
   },
   {
    "duration": 21,
    "start_time": "2023-10-06T21:23:23.457Z"
   },
   {
    "duration": 23,
    "start_time": "2023-10-06T21:23:23.480Z"
   },
   {
    "duration": 170,
    "start_time": "2023-10-06T21:23:23.504Z"
   },
   {
    "duration": 8,
    "start_time": "2023-10-06T21:23:23.676Z"
   },
   {
    "duration": 198,
    "start_time": "2023-10-06T21:23:23.686Z"
   },
   {
    "duration": 7,
    "start_time": "2023-10-06T21:23:23.886Z"
   },
   {
    "duration": 239,
    "start_time": "2023-10-06T21:23:23.895Z"
   },
   {
    "duration": 177,
    "start_time": "2023-10-06T21:23:24.136Z"
   },
   {
    "duration": 8,
    "start_time": "2023-10-06T21:23:24.315Z"
   },
   {
    "duration": 213,
    "start_time": "2023-10-06T21:23:24.324Z"
   },
   {
    "duration": 12,
    "start_time": "2023-10-06T21:23:24.539Z"
   },
   {
    "duration": 241,
    "start_time": "2023-10-06T21:23:24.553Z"
   },
   {
    "duration": 3,
    "start_time": "2023-10-06T21:23:24.795Z"
   },
   {
    "duration": 37,
    "start_time": "2023-10-06T21:23:24.800Z"
   },
   {
    "duration": 61,
    "start_time": "2023-10-06T21:23:24.839Z"
   },
   {
    "duration": 15,
    "start_time": "2023-10-06T21:23:24.902Z"
   },
   {
    "duration": 29,
    "start_time": "2023-10-06T21:23:24.918Z"
   },
   {
    "duration": 22,
    "start_time": "2023-10-06T21:23:24.949Z"
   },
   {
    "duration": 4,
    "start_time": "2023-10-06T21:23:24.973Z"
   },
   {
    "duration": 26,
    "start_time": "2023-10-06T21:23:24.978Z"
   },
   {
    "duration": 20,
    "start_time": "2023-10-06T21:23:25.005Z"
   },
   {
    "duration": 25,
    "start_time": "2023-10-06T21:23:25.027Z"
   },
   {
    "duration": 20,
    "start_time": "2023-10-06T21:23:25.054Z"
   },
   {
    "duration": 33,
    "start_time": "2023-10-06T21:23:25.076Z"
   },
   {
    "duration": 25,
    "start_time": "2023-10-06T21:23:25.111Z"
   },
   {
    "duration": 10,
    "start_time": "2023-10-06T21:23:25.137Z"
   },
   {
    "duration": 86,
    "start_time": "2023-10-06T21:23:25.149Z"
   },
   {
    "duration": 5,
    "start_time": "2023-10-06T21:23:25.244Z"
   },
   {
    "duration": 358,
    "start_time": "2023-10-06T21:23:25.251Z"
   },
   {
    "duration": 5,
    "start_time": "2023-10-06T21:23:25.611Z"
   },
   {
    "duration": 1655,
    "start_time": "2023-10-06T21:23:25.617Z"
   }
  ],
  "kernelspec": {
   "display_name": "Python 3 (ipykernel)",
   "language": "python",
   "name": "python3"
  },
  "language_info": {
   "codemirror_mode": {
    "name": "ipython",
    "version": 3
   },
   "file_extension": ".py",
   "mimetype": "text/x-python",
   "name": "python",
   "nbconvert_exporter": "python",
   "pygments_lexer": "ipython3",
   "version": "3.11.4"
  },
  "toc": {
   "base_numbering": 1,
   "nav_menu": {
    "height": "146.656px",
    "width": "287.99px"
   },
   "number_sections": true,
   "sideBar": true,
   "skip_h1_title": true,
   "title_cell": "Table of Contents",
   "title_sidebar": "Contents",
   "toc_cell": true,
   "toc_position": {
    "height": "calc(100% - 180px)",
    "left": "10px",
    "top": "150px",
    "width": "165px"
   },
   "toc_section_display": false,
   "toc_window_display": false
  }
 },
 "nbformat": 4,
 "nbformat_minor": 5
}
